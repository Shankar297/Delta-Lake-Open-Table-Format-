{
 "cells": [
  {
   "cell_type": "markdown",
   "metadata": {
    "application/vnd.databricks.v1+cell": {
     "cellMetadata": {},
     "inputWidgets": {},
     "nuid": "1659f3a9-5565-442b-8deb-ee62a3bcd0a9",
     "showTitle": false,
     "tableResultSettingsMap": {},
     "title": ""
    }
   },
   "source": [
    "# Open Table Format"
   ]
  },
  {
   "cell_type": "markdown",
   "metadata": {
    "application/vnd.databricks.v1+cell": {
     "cellMetadata": {},
     "inputWidgets": {},
     "nuid": "f3211ed4-dd25-4243-9453-968442268aaf",
     "showTitle": false,
     "tableResultSettingsMap": {},
     "title": ""
    }
   },
   "source": [
    "## DATA READING CSV"
   ]
  },
  {
   "cell_type": "code",
   "execution_count": 0,
   "metadata": {
    "application/vnd.databricks.v1+cell": {
     "cellMetadata": {
      "byteLimit": 2048000,
      "rowLimit": 10000
     },
     "inputWidgets": {},
     "nuid": "5da2df8a-eb48-42f8-917e-f732084091da",
     "showTitle": false,
     "tableResultSettingsMap": {},
     "title": ""
    }
   },
   "outputs": [
    {
     "output_type": "display_data",
     "data": {
      "text/html": [
       "<style scoped>\n",
       "  .table-result-container {\n",
       "    max-height: 300px;\n",
       "    overflow: auto;\n",
       "  }\n",
       "  table, th, td {\n",
       "    border: 1px solid black;\n",
       "    border-collapse: collapse;\n",
       "  }\n",
       "  th, td {\n",
       "    padding: 5px;\n",
       "  }\n",
       "  th {\n",
       "    text-align: left;\n",
       "  }\n",
       "</style><div class='table-result-container'><table class='table-result'><thead style='background-color: white'><tr><th>Branch_ID</th><th>Dealer_ID</th><th>Model_ID</th><th>Revenue</th><th>Units_Sold</th><th>Date_ID</th><th>Month</th><th>Year</th><th>BranchName</th><th>DealerName</th><th>Product_Name</th><th>Date</th><th>ReturnFlag</th></tr></thead><tbody><tr><td>BR1625</td><td>DLR0083</td><td>Che-M43</td><td>5608623</td><td>3</td><td>DT01151</td><td>2</td><td>2020</td><td>Ranger Motors</td><td>Honda India Motors</td><td>Chevrolet</td><td>2/25/2020 0:00</td><td>1</td></tr><tr><td>BR1630</td><td>DLR0250</td><td>Mah-M170</td><td>4796736</td><td>1</td><td>DT01139</td><td>2</td><td>2020</td><td>Ranger Motors</td><td>Aixam-Mega (including Arola) Motors</td><td>Mahindra</td><td>2/13/2020 0:00</td><td>1</td></tr><tr><td>BR1635</td><td>DLR0084</td><td>Che-M44</td><td>7473819</td><td>3</td><td>DT01152</td><td>2</td><td>2020</td><td>Reliant Motors</td><td>Hudson Motors</td><td>Chevrolet</td><td>2/26/2020 0:00</td><td>1</td></tr><tr><td>BR1640</td><td>DLR0251</td><td>Mah-M171</td><td>19794014</td><td>2</td><td>DT01140</td><td>2</td><td>2020</td><td>Reliant Motors</td><td>Alfa Romeo Motors</td><td>Mahindra</td><td>2/14/2020 0:00</td><td>1</td></tr><tr><td>BR1655</td><td>DLR0086</td><td>Che-M46</td><td>15077118</td><td>2</td><td>DT01154</td><td>2</td><td>2020</td><td>Rivian Motors</td><td>Hummer Motors</td><td>Chevrolet</td><td>2/28/2020 0:00</td><td>1</td></tr><tr><td>BR1660</td><td>DLR0253</td><td>Mah-M173</td><td>1134198</td><td>2</td><td>DT01142</td><td>2</td><td>2020</td><td>Rivian Motors</td><td>Alvis Motors</td><td>Mahindra</td><td>2/16/2020 0:00</td><td>1</td></tr><tr><td>BR1665</td><td>DLR0087</td><td>Che-M47</td><td>7622398</td><td>1</td><td>DT01155</td><td>2</td><td>2020</td><td>Rolls-Royce Motors</td><td>Hyundai Motors</td><td>Chevrolet</td><td>2/29/2020 0:00</td><td>1</td></tr><tr><td>BR1670</td><td>DLR0254</td><td>Mah-M174</td><td>6473726</td><td>1</td><td>DT01143</td><td>2</td><td>2020</td><td>Rolls-Royce Motors</td><td>AMC, Eagle Motors</td><td>Mahindra</td><td>2/17/2020 0:00</td><td>1</td></tr><tr><td>BR1680</td><td>DLR0255</td><td>Mah-M175</td><td>10287849</td><td>3</td><td>DT01144</td><td>2</td><td>2020</td><td>Saab Motors</td><td>Anadol Motors</td><td>Mahindra</td><td>2/18/2020 0:00</td><td>1</td></tr><tr><td>BR1685</td><td>DLR0089</td><td>Che-M49</td><td>2232010</td><td>1</td><td>DT01157</td><td>3</td><td>2020</td><td>SAIC Motor Motors</td><td>Infiniti Motors</td><td>Chevrolet</td><td>3/2/2020 0:00</td><td>1</td></tr><tr><td>BR1690</td><td>DLR0256</td><td>Mah-M176</td><td>9633912</td><td>2</td><td>DT01145</td><td>2</td><td>2020</td><td>SAIC Motor Motors</td><td>Ariel Motors</td><td>Mahindra</td><td>2/19/2020 0:00</td><td>1</td></tr><tr><td>BR1700</td><td>DLR0257</td><td>Mah-M177</td><td>3198540</td><td>3</td><td>DT01146</td><td>2</td><td>2020</td><td>Saleen Motors</td><td>ARO Motors</td><td>Mahindra</td><td>2/20/2020 0:00</td><td>1</td></tr><tr><td>BR1710</td><td>DLR0258</td><td>Mah-M178</td><td>8638572</td><td>2</td><td>DT01147</td><td>2</td><td>2020</td><td>Samsung Motors</td><td>null</td><td>Mahindra</td><td>2/21/2020 0:00</td><td>1</td></tr><tr><td>BR1715</td><td>DLR0092</td><td>GMC-M52</td><td>10283534</td><td>2</td><td>DT01160</td><td>3</td><td>2020</td><td>San Motors</td><td>Isdera Motors</td><td>GMC</td><td>3/5/2020 0:00</td><td>1</td></tr><tr><td>BR1720</td><td>DLR0259</td><td>Tat-M179</td><td>2656204</td><td>2</td><td>DT01148</td><td>2</td><td>2020</td><td>San Motors</td><td>Asia Motors Motors</td><td>Tata</td><td>2/22/2020 0:00</td><td>1</td></tr><tr><td>BR1725</td><td>DLR0093</td><td>GMC-M53</td><td>3508984</td><td>1</td><td>DT01161</td><td>3</td><td>2020</td><td>Santa Matilde Motors</td><td>Iso Motors</td><td>GMC</td><td>3/6/2020 0:00</td><td>1</td></tr><tr><td>BR1735</td><td>DLR0094</td><td>GMC-M54</td><td>8238429</td><td>3</td><td>DT01162</td><td>3</td><td>2020</td><td>Santana Motors</td><td>Isotta Fraschini Motors</td><td>GMC</td><td>3/7/2020 0:00</td><td>1</td></tr><tr><td>BR1745</td><td>DLR0095</td><td>GMC-M55</td><td>19930602</td><td>2</td><td>DT01163</td><td>3</td><td>2020</td><td>Saturn Motors</td><td>Isuzu Motors</td><td>GMC</td><td>3/8/2020 0:00</td><td>1</td></tr><tr><td>BR1750</td><td>DLR0262</td><td>Tat-M182</td><td>10592974</td><td>2</td><td>DT01151</td><td>2</td><td>2020</td><td>Saturn Motors</td><td>Autobianchi Motors</td><td>Tata</td><td>2/25/2020 0:00</td><td>1</td></tr><tr><td>BR1755</td><td>DLR0096</td><td>GMC-M56</td><td>19774090</td><td>2</td><td>DT01164</td><td>3</td><td>2020</td><td>Scion Motors</td><td>Iveco Motors</td><td>GMC</td><td>3/9/2020 0:00</td><td>1</td></tr><tr><td>BR1765</td><td>DLR0097</td><td>GMC-M57</td><td>16250655</td><td>3</td><td>DT01165</td><td>3</td><td>2020</td><td>Seat Motors</td><td>Jaguar Motors</td><td>GMC</td><td>3/10/2020 0:00</td><td>1</td></tr><tr><td>BR1770</td><td>DLR0264</td><td>Tat-M184</td><td>8789076</td><td>2</td><td>DT01153</td><td>2</td><td>2020</td><td>Seat Motors</td><td>Auverland Motors</td><td>Tata</td><td>2/27/2020 0:00</td><td>1</td></tr><tr><td>BR1780</td><td>DLR0265</td><td>Tat-M185</td><td>5907291</td><td>1</td><td>DT01154</td><td>2</td><td>2020</td><td>Shelby SuperCars Motors</td><td>Bentley Motors</td><td>Tata</td><td>2/28/2020 0:00</td><td>1</td></tr><tr><td>BR1785</td><td>DLR0099</td><td>Acu-M59</td><td>8656704</td><td>3</td><td>DT01167</td><td>3</td><td>2020</td><td>Simca Motors</td><td>Jensen Motors</td><td>Acura</td><td>3/12/2020 0:00</td><td>1</td></tr><tr><td>BR1795</td><td>DLR0100</td><td>Acu-M60</td><td>3338625</td><td>3</td><td>DT01168</td><td>3</td><td>2020</td><td>Simca do Brasil Motors</td><td>JPX Motors</td><td>Acura</td><td>3/13/2020 0:00</td><td>1</td></tr><tr><td>BR1800</td><td>DLR0267</td><td>Tat-M187</td><td>6558027</td><td>3</td><td>DT01156</td><td>3</td><td>2020</td><td>Simca do Brasil Motors</td><td>BMW Motors</td><td>Tata</td><td>3/1/2020 0:00</td><td>1</td></tr><tr><td>BR1805</td><td>DLR0101</td><td>Acu-M61</td><td>6868940</td><td>1</td><td>DT01169</td><td>3</td><td>2020</td><td>Singer Motors</td><td>Kia Motors</td><td>Acura</td><td>3/14/2020 0:00</td><td>1</td></tr><tr><td>BR1815</td><td>DLR0102</td><td>Acu-M62</td><td>9592556</td><td>1</td><td>DT01170</td><td>3</td><td>2020</td><td>Skoda Motors</td><td>Koenigsegg Motors</td><td>Acura</td><td>3/15/2020 0:00</td><td>1</td></tr><tr><td>BR1820</td><td>DLR0002</td><td>Tat-M189</td><td>2847247</td><td>1</td><td>DT01158</td><td>3</td><td>2020</td><td>Skoda Motors</td><td>Acura Motors</td><td>Tata</td><td>3/3/2020 0:00</td><td>1</td></tr><tr><td>BR1830</td><td>DLR0003</td><td>Tat-M190</td><td>8462551</td><td>1</td><td>DT01159</td><td>3</td><td>2020</td><td>Smart Motors</td><td>Aixam-Mega (including Arola) Motors</td><td>Tata</td><td>3/4/2020 0:00</td><td>1</td></tr><tr><td>BR1835</td><td>DLR0104</td><td>Hon-M64</td><td>18031704</td><td>2</td><td>DT01172</td><td>3</td><td>2020</td><td>Spyker Motors</td><td>Lada Motors</td><td>Honda</td><td>3/17/2020 0:00</td><td>1</td></tr><tr><td>BR1840</td><td>DLR0004</td><td>Tat-M191</td><td>14824880</td><td>2</td><td>DT01160</td><td>3</td><td>2020</td><td>Spyker Motors</td><td>Alfa Romeo Motors</td><td>Tata</td><td>3/5/2020 0:00</td><td>1</td></tr><tr><td>BR1845</td><td>DLR0105</td><td>Hon-M65</td><td>19645278</td><td>3</td><td>DT01173</td><td>3</td><td>2020</td><td>SsangYong Motors</td><td>Lamborghini Motors</td><td>Honda</td><td>3/18/2020 0:00</td><td>1</td></tr><tr><td>BR1855</td><td>DLR0106</td><td>Hon-M66</td><td>12924729</td><td>3</td><td>DT01174</td><td>3</td><td>2020</td><td>Standard-Triumph Motors</td><td>Lancia Motors</td><td>Honda</td><td>3/19/2020 0:00</td><td>1</td></tr><tr><td>BR1860</td><td>DLR0006</td><td>Tat-M193</td><td>19782228</td><td>3</td><td>DT01162</td><td>3</td><td>2020</td><td>Standard-Triumph Motors</td><td>Alvis Motors</td><td>Tata</td><td>3/7/2020 0:00</td><td>1</td></tr><tr><td>BR1865</td><td>DLR0107</td><td>Hon-M67</td><td>17791749</td><td>3</td><td>DT01175</td><td>3</td><td>2020</td><td>Studebaker Motors</td><td>Land Rover Motors</td><td>Honda</td><td>3/20/2020 0:00</td><td>1</td></tr><tr><td>BR1875</td><td>DLR0108</td><td>Hon-M68</td><td>2569118</td><td>2</td><td>DT01176</td><td>3</td><td>2020</td><td>Subaru Motors</td><td>Lexus Motors</td><td>Honda</td><td>3/21/2020 0:00</td><td>1</td></tr><tr><td>BR1880</td><td>DLR0008</td><td>Toy-M195</td><td>9541679</td><td>1</td><td>DT01164</td><td>3</td><td>2020</td><td>Subaru Motors</td><td>Anadol Motors</td><td>Toyota</td><td>3/9/2020 0:00</td><td>1</td></tr><tr><td>BR1895</td><td>DLR0110</td><td>Hon-M70</td><td>13877574</td><td>2</td><td>DT01178</td><td>3</td><td>2020</td><td>Suzuki Motors</td><td>Lincoln Motors</td><td>Honda</td><td>3/23/2020 0:00</td><td>1</td></tr><tr><td>BR1905</td><td>DLR0111</td><td>Hon-M71</td><td>26277687</td><td>3</td><td>DT01179</td><td>3</td><td>2020</td><td>Tata Motors</td><td>Lotus Motors</td><td>Honda</td><td>3/24/2020 0:00</td><td>1</td></tr><tr><td>BR1910</td><td>DLR0011</td><td>Toy-M198</td><td>9387408</td><td>2</td><td>DT01167</td><td>3</td><td>2020</td><td>Tata Motors</td><td>Artega Motors</td><td>Toyota</td><td>3/12/2020 0:00</td><td>1</td></tr><tr><td>BR1915</td><td>DLR0112</td><td>Hyu-M72</td><td>2145815</td><td>1</td><td>DT01180</td><td>3</td><td>2020</td><td>Tatra Motors</td><td>LTI Motors</td><td>Hyundai</td><td>3/25/2020 0:00</td><td>1</td></tr><tr><td>BR1920</td><td>DLR0012</td><td>Toy-M199</td><td>8137212</td><td>2</td><td>DT01168</td><td>3</td><td>2020</td><td>Tatra Motors</td><td>Asia Motors Motors</td><td>Toyota</td><td>3/13/2020 0:00</td><td>1</td></tr><tr><td>BR1925</td><td>DLR0113</td><td>Hyu-M73</td><td>7259016</td><td>2</td><td>DT01181</td><td>3</td><td>2020</td><td>Tazzari Motors</td><td>LuAZ Motors</td><td>Hyundai</td><td>3/26/2020 0:00</td><td>1</td></tr><tr><td>BR1930</td><td>DLR0013</td><td>Toy-M200</td><td>27872751</td><td>3</td><td>DT01169</td><td>3</td><td>2020</td><td>Tazzari Motors</td><td>Aston Martin Motors</td><td>Toyota</td><td>3/14/2020 0:00</td><td>1</td></tr><tr><td>BR1935</td><td>DLR0114</td><td>Hyu-M74</td><td>1988116</td><td>2</td><td>DT01182</td><td>3</td><td>2020</td><td>Tesla Motors</td><td>Lynx Motors</td><td>Hyundai</td><td>3/27/2020 0:00</td><td>1</td></tr><tr><td>BR1940</td><td>DLR0014</td><td>Toy-M201</td><td>8464536</td><td>2</td><td>DT01170</td><td>3</td><td>2020</td><td>Tesla Motors</td><td>Audi Motors</td><td>Toyota</td><td>3/15/2020 0:00</td><td>1</td></tr><tr><td>BR1945</td><td>DLR0115</td><td>Hyu-M75</td><td>15778162</td><td>2</td><td>DT01183</td><td>3</td><td>2020</td><td>Tornado Motors</td><td>Mahindra Motors</td><td>Hyundai</td><td>3/28/2020 0:00</td><td>1</td></tr><tr><td>BR1955</td><td>DLR0116</td><td>Kia-M76</td><td>2167212</td><td>3</td><td>DT01184</td><td>3</td><td>2020</td><td>Toyota Motors</td><td>Marcos Motors</td><td>Kia</td><td>3/29/2020 0:00</td><td>1</td></tr><tr><td>BR1960</td><td>DLR0016</td><td>Toy-M203</td><td>4420992</td><td>1</td><td>DT01172</td><td>3</td><td>2020</td><td>Toyota Motors</td><td>Auto-Union Motors</td><td>Toyota</td><td>3/17/2020 0:00</td><td>1</td></tr><tr><td>BR1965</td><td>DLR0117</td><td>Kia-M77</td><td>9918502</td><td>2</td><td>DT01185</td><td>3</td><td>2020</td><td>Toyota India Motors</td><td>Marlin Motors</td><td>Kia</td><td>3/30/2020 0:00</td><td>1</td></tr><tr><td>BR1975</td><td>DLR0118</td><td>Kia-M78</td><td>12487035</td><td>3</td><td>DT01186</td><td>3</td><td>2020</td><td>Turner Motors</td><td>Maruti Motors</td><td>Kia</td><td>3/31/2020 0:00</td><td>1</td></tr><tr><td>BR1980</td><td>DLR0018</td><td>Toy-M205</td><td>18797763</td><td>3</td><td>DT01174</td><td>3</td><td>2020</td><td>Turner Motors</td><td>Bentley Motors</td><td>Toyota</td><td>3/19/2020 0:00</td><td>1</td></tr><tr><td>BR1985</td><td>DLR0119</td><td>Inf-M79</td><td>1185524</td><td>2</td><td>DT01187</td><td>4</td><td>2020</td><td>TVR Motors</td><td>Maserati Motors</td><td>Infiniti</td><td>4/1/2020 0:00</td><td>1</td></tr><tr><td>BR1990</td><td>DLR0019</td><td>Toy-M206</td><td>16819923</td><td>3</td><td>DT01175</td><td>3</td><td>2020</td><td>TVR Motors</td><td>Bitter Motors</td><td>Toyota</td><td>3/20/2020 0:00</td><td>1</td></tr><tr><td>BR2000</td><td>DLR0020</td><td>Ren-M207</td><td>26641407</td><td>3</td><td>DT01176</td><td>3</td><td>2020</td><td>UAZ Motors</td><td>BMW Motors</td><td>Renault</td><td>3/21/2020 0:00</td><td>1</td></tr><tr><td>BR2005</td><td>DLR0121</td><td>Nis-M81</td><td>29104182</td><td>3</td><td>DT01189</td><td>4</td><td>2020</td><td>Vauxhall Motors</td><td>Matra (including Deutsch-Bonnet, René Bonnet) Motors</td><td>Nissan</td><td>4/3/2020 0:00</td><td>1</td></tr><tr><td>BR2025</td><td>DLR0123</td><td>Nis-M83</td><td>6607616</td><td>1</td><td>DT01191</td><td>4</td><td>2020</td><td>Volkswagen Motors</td><td>Mazzanti Motors</td><td>Nissan</td><td>4/5/2020 0:00</td><td>1</td></tr><tr><td>BR2030</td><td>DLR0023</td><td>Ren-M210</td><td>29245743</td><td>3</td><td>DT01179</td><td>3</td><td>2020</td><td>Volkswagen Motors</td><td>Bristol Motors</td><td>Renault</td><td>3/24/2020 0:00</td><td>1</td></tr><tr><td>BR2035</td><td>DLR0124</td><td>Nis-M84</td><td>11136476</td><td>2</td><td>DT01192</td><td>4</td><td>2020</td><td>Volkswagen do Brasil Motors</td><td>McLaren Motors</td><td>Nissan</td><td>4/6/2020 0:00</td><td>1</td></tr><tr><td>BR2040</td><td>DLR0024</td><td>Ren-M211</td><td>1362898</td><td>1</td><td>DT01180</td><td>3</td><td>2020</td><td>Volkswagen do Brasil Motors</td><td>British Leyland Motors</td><td>Renault</td><td>3/25/2020 0:00</td><td>1</td></tr><tr><td>BR2045</td><td>DLR0125</td><td>Nis-M85</td><td>8087798</td><td>2</td><td>DT01193</td><td>4</td><td>2020</td><td>Volkswagen South Africa Motors</td><td>Mercedes-Benz (including Maybach) Motors</td><td>Nissan</td><td>4/7/2020 0:00</td><td>1</td></tr><tr><td>BR2050</td><td>DLR0025</td><td>Kia-M212</td><td>24546006</td><td>3</td><td>DT01181</td><td>3</td><td>2020</td><td>Volkswagen South Africa Motors</td><td>Austin-Healey Motors</td><td>Kia</td><td>3/26/2020 0:00</td><td>1</td></tr><tr><td>BR2060</td><td>DLR0026</td><td>Kia-M213</td><td>2493076</td><td>1</td><td>DT01182</td><td>3</td><td>2020</td><td>Volvo Motors</td><td>Austin, Rover Motors</td><td>Kia</td><td>3/27/2020 0:00</td><td>1</td></tr><tr><td>BR2065</td><td>DLR0127</td><td>Nis-M87</td><td>5761937</td><td>1</td><td>DT01195</td><td>4</td><td>2020</td><td>Westfield Motors</td><td>Merkur Motors</td><td>Nissan</td><td>4/9/2020 0:00</td><td>1</td></tr><tr><td>BR2070</td><td>DLR0027</td><td>Kia-M214</td><td>8376524</td><td>1</td><td>DT01183</td><td>3</td><td>2020</td><td>Westfield Motors</td><td>Bugatti Motors</td><td>Kia</td><td>3/28/2020 0:00</td><td>1</td></tr><tr><td>BR2075</td><td>DLR0128</td><td>Nis-M88</td><td>5248404</td><td>2</td><td>DT01196</td><td>4</td><td>2020</td><td>Wiesmann Motors</td><td>Messerschmitt Motors</td><td>Nissan</td><td>4/10/2020 0:00</td><td>1</td></tr><tr><td>BR2080</td><td>DLR0028</td><td>Hon-M215</td><td>7528299</td><td>1</td><td>DT01184</td><td>3</td><td>2020</td><td>Wiesmann Motors</td><td>Buick Motors</td><td>Honda</td><td>3/29/2020 0:00</td><td>1</td></tr><tr><td>BR2085</td><td>DLR0129</td><td>Nis-M89</td><td>8997126</td><td>3</td><td>DT01197</td><td>4</td><td>2020</td><td>Zastava Motors</td><td>Mia Motors</td><td>Nissan</td><td>4/11/2020 0:00</td><td>1</td></tr><tr><td>BR2090</td><td>DLR0029</td><td>Hon-M216</td><td>1297858</td><td>1</td><td>DT01185</td><td>3</td><td>2020</td><td>Zastava Motors</td><td>Bytom Motors</td><td>Honda</td><td>3/30/2020 0:00</td><td>1</td></tr><tr><td>BR2095</td><td>DLR0130</td><td>Riv-M90</td><td>14384055</td><td>3</td><td>DT01198</td><td>4</td><td>2020</td><td>ZAZ Motors</td><td>Micro Motors</td><td>Rivian</td><td>4/12/2020 0:00</td><td>1</td></tr><tr><td>BR2100</td><td>DLR0030</td><td>Hon-M217</td><td>1794492</td><td>1</td><td>DT01186</td><td>3</td><td>2020</td><td>ZAZ Motors</td><td>Cadillac Motors</td><td>Honda</td><td>3/31/2020 0:00</td><td>1</td></tr><tr><td>BR2105</td><td>DLR0131</td><td>Riv-M91</td><td>9851706</td><td>3</td><td>DT01199</td><td>4</td><td>2020</td><td>ZIL Motors</td><td>Mini Motors</td><td>Rivian</td><td>4/13/2020 0:00</td><td>1</td></tr><tr><td>BR2110</td><td>DLR0031</td><td>Hon-M218</td><td>7084610</td><td>1</td><td>DT01187</td><td>4</td><td>2020</td><td>ZIL Motors</td><td>Caterham Motors</td><td>Honda</td><td>4/1/2020 0:00</td><td>1</td></tr><tr><td>BR2115</td><td>DLR0132</td><td>Sub-M92</td><td>18425982</td><td>2</td><td>DT01200</td><td>4</td><td>2020</td><td>Audi Motors</td><td>Mitsubishi Motors</td><td>Subaru</td><td>4/14/2020 0:00</td><td>1</td></tr><tr><td>BR2125</td><td>DLR0133</td><td>Sub-M93</td><td>8790030</td><td>1</td><td>DT01201</td><td>4</td><td>2020</td><td>DKW Motors</td><td>Monica Motors</td><td>Subaru</td><td>4/15/2020 0:00</td><td>1</td></tr><tr><td>BR2130</td><td>DLR0033</td><td>Hon-M220</td><td>2203758</td><td>1</td><td>DT01189</td><td>4</td><td>2020</td><td>DKW Motors</td><td>Chevrolet Motors</td><td>Honda</td><td>4/3/2020 0:00</td><td>1</td></tr><tr><td>BR2135</td><td>DLR0134</td><td>Sub-M94</td><td>8253262</td><td>2</td><td>DT01202</td><td>4</td><td>2020</td><td>Horch Motors</td><td>Monteverdi Motors</td><td>Subaru</td><td>4/16/2020 0:00</td><td>1</td></tr><tr><td>BR2140</td><td>DLR0034</td><td>For-M221</td><td>18982494</td><td>3</td><td>DT01190</td><td>4</td><td>2020</td><td>Horch Motors</td><td>Chevrolet India Motors</td><td>Ford</td><td>4/4/2020 0:00</td><td>1</td></tr><tr><td>BR2150</td><td>DLR0035</td><td>For-M222</td><td>1010235</td><td>3</td><td>DT01191</td><td>4</td><td>2020</td><td>Wanderer Motors</td><td>Chrysler Motors</td><td>Ford</td><td>4/5/2020 0:00</td><td>1</td></tr><tr><td>BR2155</td><td>DLR0136</td><td>Tes-M96</td><td>11171496</td><td>3</td><td>DT01204</td><td>4</td><td>2020</td><td>Maybach  Motors</td><td>Moskwitch Motors</td><td>Tesla</td><td>4/18/2020 0:00</td><td>1</td></tr><tr><td>BR2160</td><td>DLR0036</td><td>For-M223</td><td>4417448</td><td>2</td><td>DT01192</td><td>4</td><td>2020</td><td>Maybach  Motors</td><td>Chrysler Europe Motors</td><td>Ford</td><td>4/6/2020 0:00</td><td>1</td></tr><tr><td>BR2165</td><td>DLR0137</td><td>Tes-M97</td><td>26413749</td><td>3</td><td>DT01205</td><td>4</td><td>2020</td><td>Izh  Motors</td><td>Nash Motors</td><td>Tesla</td><td>4/19/2020 0:00</td><td>1</td></tr><tr><td>BR2170</td><td>DLR0037</td><td>For-M224</td><td>1229389</td><td>1</td><td>DT01193</td><td>4</td><td>2020</td><td>Izh  Motors</td><td>Citroën Motors</td><td>Ford</td><td>4/7/2020 0:00</td><td>1</td></tr><tr><td>BR2175</td><td>DLR0138</td><td>Tes-M98</td><td>8877463</td><td>1</td><td>DT01206</td><td>4</td><td>2020</td><td>Lagonda  Motors</td><td>Naza Motors</td><td>Tesla</td><td>4/20/2020 0:00</td><td>1</td></tr><tr><td>BR2180</td><td>DLR0038</td><td>For-M225</td><td>10562268</td><td>3</td><td>DT01194</td><td>4</td><td>2020</td><td>Lagonda  Motors</td><td>Cizeta-Moroder Motors</td><td>Ford</td><td>4/8/2020 0:00</td><td>1</td></tr><tr><td>BR2185</td><td>DLR0139</td><td>Lex-M99</td><td>20577474</td><td>3</td><td>DT01207</td><td>4</td><td>2020</td><td>MG  Motors</td><td>Nissan Motors</td><td>Lexus</td><td>4/21/2020 0:00</td><td>1</td></tr><tr><td>BR2190</td><td>DLR0039</td><td>For-M226</td><td>13949298</td><td>2</td><td>DT01195</td><td>4</td><td>2020</td><td>MG  Motors</td><td>Dacia Motors</td><td>Ford</td><td>4/9/2020 0:00</td><td>1</td></tr><tr><td>BR2195</td><td>DLR0140</td><td>Toy-M100</td><td>15681306</td><td>2</td><td>DT01208</td><td>4</td><td>2020</td><td>Morris  Motors</td><td>Nissan India Motors</td><td>Toyota</td><td>4/22/2020 0:00</td><td>1</td></tr><tr><td>BR2200</td><td>DLR0040</td><td>Aud-M227</td><td>8881768</td><td>1</td><td>DT01196</td><td>4</td><td>2020</td><td>Morris  Motors</td><td>Daewoo, Saehan, Chevrolet Korea Motors</td><td>Audi</td><td>4/10/2020 0:00</td><td>1</td></tr><tr><td>BR2210</td><td>DLR0041</td><td>Aud-M228</td><td>14143962</td><td>2</td><td>DT01197</td><td>4</td><td>2020</td><td>Austin  Motors</td><td>DAF Motors</td><td>Audi</td><td>4/11/2020 0:00</td><td>1</td></tr><tr><td>BR2220</td><td>DLR0042</td><td>Aud-M229</td><td>5651109</td><td>3</td><td>DT01198</td><td>4</td><td>2020</td><td>Riley  Motors</td><td>Daihatsu Motors</td><td>Audi</td><td>4/12/2020 0:00</td><td>1</td></tr><tr><td>BR2225</td><td>DLR0143</td><td>Toy-M103</td><td>9042719</td><td>1</td><td>DT01211</td><td>4</td><td>2020</td><td>Wolseley  Motors</td><td>Oldsmobile Motors</td><td>Toyota</td><td>4/25/2020 0:00</td><td>1</td></tr><tr><td>BR2230</td><td>DLR0043</td><td>Aud-M230</td><td>18718750</td><td>2</td><td>DT01199</td><td>4</td><td>2020</td><td>Wolseley  Motors</td><td>Daimler Motors</td><td>Audi</td><td>4/13/2020 0:00</td><td>1</td></tr><tr><td>BR2240</td><td>DLR0044</td><td>Aud-M231</td><td>19955415</td><td>3</td><td>DT01200</td><td>4</td><td>2020</td><td>Standard  Motors</td><td>null</td><td>Audi</td><td>4/14/2020 0:00</td><td>1</td></tr><tr><td>BR2245</td><td>DLR0145</td><td>Toy-M105</td><td>8064714</td><td>2</td><td>DT01213</td><td>4</td><td>2020</td><td>Talbot  Motors</td><td>Opel Motors</td><td>Toyota</td><td>4/27/2020 0:00</td><td>1</td></tr><tr><td>BR2250</td><td>DLR0045</td><td>Aud-M232</td><td>1853412</td><td>2</td><td>DT01201</td><td>4</td><td>2020</td><td>Talbot  Motors</td><td>Delahaye Motors</td><td>Audi</td><td>4/15/2020 0:00</td><td>1</td></tr><tr><td>BR2260</td><td>DLR0046</td><td>Aud-M233</td><td>226386</td><td>2</td><td>DT01202</td><td>4</td><td>2020</td><td>Das Motors</td><td>DeLorean Motors</td><td>Audi</td><td>4/16/2020 0:00</td><td>1</td></tr><tr><td>BR2270</td><td>DLR0047</td><td>Aud-M234</td><td>7358930</td><td>2</td><td>DT01203</td><td>4</td><td>2020</td><td>Ramani Motors</td><td>DeSoto Motors</td><td>Audi</td><td>4/17/2020 0:00</td><td>1</td></tr><tr><td>BR2275</td><td>DLR0148</td><td>Vol-M108</td><td>17151476</td><td>2</td><td>DT01216</td><td>4</td><td>2020</td><td>Deccan Motors</td><td>Panhard Motors</td><td>Volkswagen</td><td>4/30/2020 0:00</td><td>1</td></tr></tbody></table></div>"
      ]
     },
     "metadata": {
      "application/vnd.databricks.v1+output": {
       "addedWidgets": {},
       "aggData": [],
       "aggError": "",
       "aggOverflow": false,
       "aggSchema": [],
       "aggSeriesLimitReached": false,
       "aggType": "",
       "arguments": {},
       "columnCustomDisplayInfos": {},
       "data": [
        [
         "BR1625",
         "DLR0083",
         "Che-M43",
         5608623,
         3,
         "DT01151",
         2,
         2020,
         "Ranger Motors",
         "Honda India Motors",
         "Chevrolet",
         "2/25/2020 0:00",
         1
        ],
        [
         "BR1630",
         "DLR0250",
         "Mah-M170",
         4796736,
         1,
         "DT01139",
         2,
         2020,
         "Ranger Motors",
         "Aixam-Mega (including Arola) Motors",
         "Mahindra",
         "2/13/2020 0:00",
         1
        ],
        [
         "BR1635",
         "DLR0084",
         "Che-M44",
         7473819,
         3,
         "DT01152",
         2,
         2020,
         "Reliant Motors",
         "Hudson Motors",
         "Chevrolet",
         "2/26/2020 0:00",
         1
        ],
        [
         "BR1640",
         "DLR0251",
         "Mah-M171",
         19794014,
         2,
         "DT01140",
         2,
         2020,
         "Reliant Motors",
         "Alfa Romeo Motors",
         "Mahindra",
         "2/14/2020 0:00",
         1
        ],
        [
         "BR1655",
         "DLR0086",
         "Che-M46",
         15077118,
         2,
         "DT01154",
         2,
         2020,
         "Rivian Motors",
         "Hummer Motors",
         "Chevrolet",
         "2/28/2020 0:00",
         1
        ],
        [
         "BR1660",
         "DLR0253",
         "Mah-M173",
         1134198,
         2,
         "DT01142",
         2,
         2020,
         "Rivian Motors",
         "Alvis Motors",
         "Mahindra",
         "2/16/2020 0:00",
         1
        ],
        [
         "BR1665",
         "DLR0087",
         "Che-M47",
         7622398,
         1,
         "DT01155",
         2,
         2020,
         "Rolls-Royce Motors",
         "Hyundai Motors",
         "Chevrolet",
         "2/29/2020 0:00",
         1
        ],
        [
         "BR1670",
         "DLR0254",
         "Mah-M174",
         6473726,
         1,
         "DT01143",
         2,
         2020,
         "Rolls-Royce Motors",
         "AMC, Eagle Motors",
         "Mahindra",
         "2/17/2020 0:00",
         1
        ],
        [
         "BR1680",
         "DLR0255",
         "Mah-M175",
         10287849,
         3,
         "DT01144",
         2,
         2020,
         "Saab Motors",
         "Anadol Motors",
         "Mahindra",
         "2/18/2020 0:00",
         1
        ],
        [
         "BR1685",
         "DLR0089",
         "Che-M49",
         2232010,
         1,
         "DT01157",
         3,
         2020,
         "SAIC Motor Motors",
         "Infiniti Motors",
         "Chevrolet",
         "3/2/2020 0:00",
         1
        ],
        [
         "BR1690",
         "DLR0256",
         "Mah-M176",
         9633912,
         2,
         "DT01145",
         2,
         2020,
         "SAIC Motor Motors",
         "Ariel Motors",
         "Mahindra",
         "2/19/2020 0:00",
         1
        ],
        [
         "BR1700",
         "DLR0257",
         "Mah-M177",
         3198540,
         3,
         "DT01146",
         2,
         2020,
         "Saleen Motors",
         "ARO Motors",
         "Mahindra",
         "2/20/2020 0:00",
         1
        ],
        [
         "BR1710",
         "DLR0258",
         "Mah-M178",
         8638572,
         2,
         "DT01147",
         2,
         2020,
         "Samsung Motors",
         null,
         "Mahindra",
         "2/21/2020 0:00",
         1
        ],
        [
         "BR1715",
         "DLR0092",
         "GMC-M52",
         10283534,
         2,
         "DT01160",
         3,
         2020,
         "San Motors",
         "Isdera Motors",
         "GMC",
         "3/5/2020 0:00",
         1
        ],
        [
         "BR1720",
         "DLR0259",
         "Tat-M179",
         2656204,
         2,
         "DT01148",
         2,
         2020,
         "San Motors",
         "Asia Motors Motors",
         "Tata",
         "2/22/2020 0:00",
         1
        ],
        [
         "BR1725",
         "DLR0093",
         "GMC-M53",
         3508984,
         1,
         "DT01161",
         3,
         2020,
         "Santa Matilde Motors",
         "Iso Motors",
         "GMC",
         "3/6/2020 0:00",
         1
        ],
        [
         "BR1735",
         "DLR0094",
         "GMC-M54",
         8238429,
         3,
         "DT01162",
         3,
         2020,
         "Santana Motors",
         "Isotta Fraschini Motors",
         "GMC",
         "3/7/2020 0:00",
         1
        ],
        [
         "BR1745",
         "DLR0095",
         "GMC-M55",
         19930602,
         2,
         "DT01163",
         3,
         2020,
         "Saturn Motors",
         "Isuzu Motors",
         "GMC",
         "3/8/2020 0:00",
         1
        ],
        [
         "BR1750",
         "DLR0262",
         "Tat-M182",
         10592974,
         2,
         "DT01151",
         2,
         2020,
         "Saturn Motors",
         "Autobianchi Motors",
         "Tata",
         "2/25/2020 0:00",
         1
        ],
        [
         "BR1755",
         "DLR0096",
         "GMC-M56",
         19774090,
         2,
         "DT01164",
         3,
         2020,
         "Scion Motors",
         "Iveco Motors",
         "GMC",
         "3/9/2020 0:00",
         1
        ],
        [
         "BR1765",
         "DLR0097",
         "GMC-M57",
         16250655,
         3,
         "DT01165",
         3,
         2020,
         "Seat Motors",
         "Jaguar Motors",
         "GMC",
         "3/10/2020 0:00",
         1
        ],
        [
         "BR1770",
         "DLR0264",
         "Tat-M184",
         8789076,
         2,
         "DT01153",
         2,
         2020,
         "Seat Motors",
         "Auverland Motors",
         "Tata",
         "2/27/2020 0:00",
         1
        ],
        [
         "BR1780",
         "DLR0265",
         "Tat-M185",
         5907291,
         1,
         "DT01154",
         2,
         2020,
         "Shelby SuperCars Motors",
         "Bentley Motors",
         "Tata",
         "2/28/2020 0:00",
         1
        ],
        [
         "BR1785",
         "DLR0099",
         "Acu-M59",
         8656704,
         3,
         "DT01167",
         3,
         2020,
         "Simca Motors",
         "Jensen Motors",
         "Acura",
         "3/12/2020 0:00",
         1
        ],
        [
         "BR1795",
         "DLR0100",
         "Acu-M60",
         3338625,
         3,
         "DT01168",
         3,
         2020,
         "Simca do Brasil Motors",
         "JPX Motors",
         "Acura",
         "3/13/2020 0:00",
         1
        ],
        [
         "BR1800",
         "DLR0267",
         "Tat-M187",
         6558027,
         3,
         "DT01156",
         3,
         2020,
         "Simca do Brasil Motors",
         "BMW Motors",
         "Tata",
         "3/1/2020 0:00",
         1
        ],
        [
         "BR1805",
         "DLR0101",
         "Acu-M61",
         6868940,
         1,
         "DT01169",
         3,
         2020,
         "Singer Motors",
         "Kia Motors",
         "Acura",
         "3/14/2020 0:00",
         1
        ],
        [
         "BR1815",
         "DLR0102",
         "Acu-M62",
         9592556,
         1,
         "DT01170",
         3,
         2020,
         "Skoda Motors",
         "Koenigsegg Motors",
         "Acura",
         "3/15/2020 0:00",
         1
        ],
        [
         "BR1820",
         "DLR0002",
         "Tat-M189",
         2847247,
         1,
         "DT01158",
         3,
         2020,
         "Skoda Motors",
         "Acura Motors",
         "Tata",
         "3/3/2020 0:00",
         1
        ],
        [
         "BR1830",
         "DLR0003",
         "Tat-M190",
         8462551,
         1,
         "DT01159",
         3,
         2020,
         "Smart Motors",
         "Aixam-Mega (including Arola) Motors",
         "Tata",
         "3/4/2020 0:00",
         1
        ],
        [
         "BR1835",
         "DLR0104",
         "Hon-M64",
         18031704,
         2,
         "DT01172",
         3,
         2020,
         "Spyker Motors",
         "Lada Motors",
         "Honda",
         "3/17/2020 0:00",
         1
        ],
        [
         "BR1840",
         "DLR0004",
         "Tat-M191",
         14824880,
         2,
         "DT01160",
         3,
         2020,
         "Spyker Motors",
         "Alfa Romeo Motors",
         "Tata",
         "3/5/2020 0:00",
         1
        ],
        [
         "BR1845",
         "DLR0105",
         "Hon-M65",
         19645278,
         3,
         "DT01173",
         3,
         2020,
         "SsangYong Motors",
         "Lamborghini Motors",
         "Honda",
         "3/18/2020 0:00",
         1
        ],
        [
         "BR1855",
         "DLR0106",
         "Hon-M66",
         12924729,
         3,
         "DT01174",
         3,
         2020,
         "Standard-Triumph Motors",
         "Lancia Motors",
         "Honda",
         "3/19/2020 0:00",
         1
        ],
        [
         "BR1860",
         "DLR0006",
         "Tat-M193",
         19782228,
         3,
         "DT01162",
         3,
         2020,
         "Standard-Triumph Motors",
         "Alvis Motors",
         "Tata",
         "3/7/2020 0:00",
         1
        ],
        [
         "BR1865",
         "DLR0107",
         "Hon-M67",
         17791749,
         3,
         "DT01175",
         3,
         2020,
         "Studebaker Motors",
         "Land Rover Motors",
         "Honda",
         "3/20/2020 0:00",
         1
        ],
        [
         "BR1875",
         "DLR0108",
         "Hon-M68",
         2569118,
         2,
         "DT01176",
         3,
         2020,
         "Subaru Motors",
         "Lexus Motors",
         "Honda",
         "3/21/2020 0:00",
         1
        ],
        [
         "BR1880",
         "DLR0008",
         "Toy-M195",
         9541679,
         1,
         "DT01164",
         3,
         2020,
         "Subaru Motors",
         "Anadol Motors",
         "Toyota",
         "3/9/2020 0:00",
         1
        ],
        [
         "BR1895",
         "DLR0110",
         "Hon-M70",
         13877574,
         2,
         "DT01178",
         3,
         2020,
         "Suzuki Motors",
         "Lincoln Motors",
         "Honda",
         "3/23/2020 0:00",
         1
        ],
        [
         "BR1905",
         "DLR0111",
         "Hon-M71",
         26277687,
         3,
         "DT01179",
         3,
         2020,
         "Tata Motors",
         "Lotus Motors",
         "Honda",
         "3/24/2020 0:00",
         1
        ],
        [
         "BR1910",
         "DLR0011",
         "Toy-M198",
         9387408,
         2,
         "DT01167",
         3,
         2020,
         "Tata Motors",
         "Artega Motors",
         "Toyota",
         "3/12/2020 0:00",
         1
        ],
        [
         "BR1915",
         "DLR0112",
         "Hyu-M72",
         2145815,
         1,
         "DT01180",
         3,
         2020,
         "Tatra Motors",
         "LTI Motors",
         "Hyundai",
         "3/25/2020 0:00",
         1
        ],
        [
         "BR1920",
         "DLR0012",
         "Toy-M199",
         8137212,
         2,
         "DT01168",
         3,
         2020,
         "Tatra Motors",
         "Asia Motors Motors",
         "Toyota",
         "3/13/2020 0:00",
         1
        ],
        [
         "BR1925",
         "DLR0113",
         "Hyu-M73",
         7259016,
         2,
         "DT01181",
         3,
         2020,
         "Tazzari Motors",
         "LuAZ Motors",
         "Hyundai",
         "3/26/2020 0:00",
         1
        ],
        [
         "BR1930",
         "DLR0013",
         "Toy-M200",
         27872751,
         3,
         "DT01169",
         3,
         2020,
         "Tazzari Motors",
         "Aston Martin Motors",
         "Toyota",
         "3/14/2020 0:00",
         1
        ],
        [
         "BR1935",
         "DLR0114",
         "Hyu-M74",
         1988116,
         2,
         "DT01182",
         3,
         2020,
         "Tesla Motors",
         "Lynx Motors",
         "Hyundai",
         "3/27/2020 0:00",
         1
        ],
        [
         "BR1940",
         "DLR0014",
         "Toy-M201",
         8464536,
         2,
         "DT01170",
         3,
         2020,
         "Tesla Motors",
         "Audi Motors",
         "Toyota",
         "3/15/2020 0:00",
         1
        ],
        [
         "BR1945",
         "DLR0115",
         "Hyu-M75",
         15778162,
         2,
         "DT01183",
         3,
         2020,
         "Tornado Motors",
         "Mahindra Motors",
         "Hyundai",
         "3/28/2020 0:00",
         1
        ],
        [
         "BR1955",
         "DLR0116",
         "Kia-M76",
         2167212,
         3,
         "DT01184",
         3,
         2020,
         "Toyota Motors",
         "Marcos Motors",
         "Kia",
         "3/29/2020 0:00",
         1
        ],
        [
         "BR1960",
         "DLR0016",
         "Toy-M203",
         4420992,
         1,
         "DT01172",
         3,
         2020,
         "Toyota Motors",
         "Auto-Union Motors",
         "Toyota",
         "3/17/2020 0:00",
         1
        ],
        [
         "BR1965",
         "DLR0117",
         "Kia-M77",
         9918502,
         2,
         "DT01185",
         3,
         2020,
         "Toyota India Motors",
         "Marlin Motors",
         "Kia",
         "3/30/2020 0:00",
         1
        ],
        [
         "BR1975",
         "DLR0118",
         "Kia-M78",
         12487035,
         3,
         "DT01186",
         3,
         2020,
         "Turner Motors",
         "Maruti Motors",
         "Kia",
         "3/31/2020 0:00",
         1
        ],
        [
         "BR1980",
         "DLR0018",
         "Toy-M205",
         18797763,
         3,
         "DT01174",
         3,
         2020,
         "Turner Motors",
         "Bentley Motors",
         "Toyota",
         "3/19/2020 0:00",
         1
        ],
        [
         "BR1985",
         "DLR0119",
         "Inf-M79",
         1185524,
         2,
         "DT01187",
         4,
         2020,
         "TVR Motors",
         "Maserati Motors",
         "Infiniti",
         "4/1/2020 0:00",
         1
        ],
        [
         "BR1990",
         "DLR0019",
         "Toy-M206",
         16819923,
         3,
         "DT01175",
         3,
         2020,
         "TVR Motors",
         "Bitter Motors",
         "Toyota",
         "3/20/2020 0:00",
         1
        ],
        [
         "BR2000",
         "DLR0020",
         "Ren-M207",
         26641407,
         3,
         "DT01176",
         3,
         2020,
         "UAZ Motors",
         "BMW Motors",
         "Renault",
         "3/21/2020 0:00",
         1
        ],
        [
         "BR2005",
         "DLR0121",
         "Nis-M81",
         29104182,
         3,
         "DT01189",
         4,
         2020,
         "Vauxhall Motors",
         "Matra (including Deutsch-Bonnet, René Bonnet) Motors",
         "Nissan",
         "4/3/2020 0:00",
         1
        ],
        [
         "BR2025",
         "DLR0123",
         "Nis-M83",
         6607616,
         1,
         "DT01191",
         4,
         2020,
         "Volkswagen Motors",
         "Mazzanti Motors",
         "Nissan",
         "4/5/2020 0:00",
         1
        ],
        [
         "BR2030",
         "DLR0023",
         "Ren-M210",
         29245743,
         3,
         "DT01179",
         3,
         2020,
         "Volkswagen Motors",
         "Bristol Motors",
         "Renault",
         "3/24/2020 0:00",
         1
        ],
        [
         "BR2035",
         "DLR0124",
         "Nis-M84",
         11136476,
         2,
         "DT01192",
         4,
         2020,
         "Volkswagen do Brasil Motors",
         "McLaren Motors",
         "Nissan",
         "4/6/2020 0:00",
         1
        ],
        [
         "BR2040",
         "DLR0024",
         "Ren-M211",
         1362898,
         1,
         "DT01180",
         3,
         2020,
         "Volkswagen do Brasil Motors",
         "British Leyland Motors",
         "Renault",
         "3/25/2020 0:00",
         1
        ],
        [
         "BR2045",
         "DLR0125",
         "Nis-M85",
         8087798,
         2,
         "DT01193",
         4,
         2020,
         "Volkswagen South Africa Motors",
         "Mercedes-Benz (including Maybach) Motors",
         "Nissan",
         "4/7/2020 0:00",
         1
        ],
        [
         "BR2050",
         "DLR0025",
         "Kia-M212",
         24546006,
         3,
         "DT01181",
         3,
         2020,
         "Volkswagen South Africa Motors",
         "Austin-Healey Motors",
         "Kia",
         "3/26/2020 0:00",
         1
        ],
        [
         "BR2060",
         "DLR0026",
         "Kia-M213",
         2493076,
         1,
         "DT01182",
         3,
         2020,
         "Volvo Motors",
         "Austin, Rover Motors",
         "Kia",
         "3/27/2020 0:00",
         1
        ],
        [
         "BR2065",
         "DLR0127",
         "Nis-M87",
         5761937,
         1,
         "DT01195",
         4,
         2020,
         "Westfield Motors",
         "Merkur Motors",
         "Nissan",
         "4/9/2020 0:00",
         1
        ],
        [
         "BR2070",
         "DLR0027",
         "Kia-M214",
         8376524,
         1,
         "DT01183",
         3,
         2020,
         "Westfield Motors",
         "Bugatti Motors",
         "Kia",
         "3/28/2020 0:00",
         1
        ],
        [
         "BR2075",
         "DLR0128",
         "Nis-M88",
         5248404,
         2,
         "DT01196",
         4,
         2020,
         "Wiesmann Motors",
         "Messerschmitt Motors",
         "Nissan",
         "4/10/2020 0:00",
         1
        ],
        [
         "BR2080",
         "DLR0028",
         "Hon-M215",
         7528299,
         1,
         "DT01184",
         3,
         2020,
         "Wiesmann Motors",
         "Buick Motors",
         "Honda",
         "3/29/2020 0:00",
         1
        ],
        [
         "BR2085",
         "DLR0129",
         "Nis-M89",
         8997126,
         3,
         "DT01197",
         4,
         2020,
         "Zastava Motors",
         "Mia Motors",
         "Nissan",
         "4/11/2020 0:00",
         1
        ],
        [
         "BR2090",
         "DLR0029",
         "Hon-M216",
         1297858,
         1,
         "DT01185",
         3,
         2020,
         "Zastava Motors",
         "Bytom Motors",
         "Honda",
         "3/30/2020 0:00",
         1
        ],
        [
         "BR2095",
         "DLR0130",
         "Riv-M90",
         14384055,
         3,
         "DT01198",
         4,
         2020,
         "ZAZ Motors",
         "Micro Motors",
         "Rivian",
         "4/12/2020 0:00",
         1
        ],
        [
         "BR2100",
         "DLR0030",
         "Hon-M217",
         1794492,
         1,
         "DT01186",
         3,
         2020,
         "ZAZ Motors",
         "Cadillac Motors",
         "Honda",
         "3/31/2020 0:00",
         1
        ],
        [
         "BR2105",
         "DLR0131",
         "Riv-M91",
         9851706,
         3,
         "DT01199",
         4,
         2020,
         "ZIL Motors",
         "Mini Motors",
         "Rivian",
         "4/13/2020 0:00",
         1
        ],
        [
         "BR2110",
         "DLR0031",
         "Hon-M218",
         7084610,
         1,
         "DT01187",
         4,
         2020,
         "ZIL Motors",
         "Caterham Motors",
         "Honda",
         "4/1/2020 0:00",
         1
        ],
        [
         "BR2115",
         "DLR0132",
         "Sub-M92",
         18425982,
         2,
         "DT01200",
         4,
         2020,
         "Audi Motors",
         "Mitsubishi Motors",
         "Subaru",
         "4/14/2020 0:00",
         1
        ],
        [
         "BR2125",
         "DLR0133",
         "Sub-M93",
         8790030,
         1,
         "DT01201",
         4,
         2020,
         "DKW Motors",
         "Monica Motors",
         "Subaru",
         "4/15/2020 0:00",
         1
        ],
        [
         "BR2130",
         "DLR0033",
         "Hon-M220",
         2203758,
         1,
         "DT01189",
         4,
         2020,
         "DKW Motors",
         "Chevrolet Motors",
         "Honda",
         "4/3/2020 0:00",
         1
        ],
        [
         "BR2135",
         "DLR0134",
         "Sub-M94",
         8253262,
         2,
         "DT01202",
         4,
         2020,
         "Horch Motors",
         "Monteverdi Motors",
         "Subaru",
         "4/16/2020 0:00",
         1
        ],
        [
         "BR2140",
         "DLR0034",
         "For-M221",
         18982494,
         3,
         "DT01190",
         4,
         2020,
         "Horch Motors",
         "Chevrolet India Motors",
         "Ford",
         "4/4/2020 0:00",
         1
        ],
        [
         "BR2150",
         "DLR0035",
         "For-M222",
         1010235,
         3,
         "DT01191",
         4,
         2020,
         "Wanderer Motors",
         "Chrysler Motors",
         "Ford",
         "4/5/2020 0:00",
         1
        ],
        [
         "BR2155",
         "DLR0136",
         "Tes-M96",
         11171496,
         3,
         "DT01204",
         4,
         2020,
         "Maybach  Motors",
         "Moskwitch Motors",
         "Tesla",
         "4/18/2020 0:00",
         1
        ],
        [
         "BR2160",
         "DLR0036",
         "For-M223",
         4417448,
         2,
         "DT01192",
         4,
         2020,
         "Maybach  Motors",
         "Chrysler Europe Motors",
         "Ford",
         "4/6/2020 0:00",
         1
        ],
        [
         "BR2165",
         "DLR0137",
         "Tes-M97",
         26413749,
         3,
         "DT01205",
         4,
         2020,
         "Izh  Motors",
         "Nash Motors",
         "Tesla",
         "4/19/2020 0:00",
         1
        ],
        [
         "BR2170",
         "DLR0037",
         "For-M224",
         1229389,
         1,
         "DT01193",
         4,
         2020,
         "Izh  Motors",
         "Citroën Motors",
         "Ford",
         "4/7/2020 0:00",
         1
        ],
        [
         "BR2175",
         "DLR0138",
         "Tes-M98",
         8877463,
         1,
         "DT01206",
         4,
         2020,
         "Lagonda  Motors",
         "Naza Motors",
         "Tesla",
         "4/20/2020 0:00",
         1
        ],
        [
         "BR2180",
         "DLR0038",
         "For-M225",
         10562268,
         3,
         "DT01194",
         4,
         2020,
         "Lagonda  Motors",
         "Cizeta-Moroder Motors",
         "Ford",
         "4/8/2020 0:00",
         1
        ],
        [
         "BR2185",
         "DLR0139",
         "Lex-M99",
         20577474,
         3,
         "DT01207",
         4,
         2020,
         "MG  Motors",
         "Nissan Motors",
         "Lexus",
         "4/21/2020 0:00",
         1
        ],
        [
         "BR2190",
         "DLR0039",
         "For-M226",
         13949298,
         2,
         "DT01195",
         4,
         2020,
         "MG  Motors",
         "Dacia Motors",
         "Ford",
         "4/9/2020 0:00",
         1
        ],
        [
         "BR2195",
         "DLR0140",
         "Toy-M100",
         15681306,
         2,
         "DT01208",
         4,
         2020,
         "Morris  Motors",
         "Nissan India Motors",
         "Toyota",
         "4/22/2020 0:00",
         1
        ],
        [
         "BR2200",
         "DLR0040",
         "Aud-M227",
         8881768,
         1,
         "DT01196",
         4,
         2020,
         "Morris  Motors",
         "Daewoo, Saehan, Chevrolet Korea Motors",
         "Audi",
         "4/10/2020 0:00",
         1
        ],
        [
         "BR2210",
         "DLR0041",
         "Aud-M228",
         14143962,
         2,
         "DT01197",
         4,
         2020,
         "Austin  Motors",
         "DAF Motors",
         "Audi",
         "4/11/2020 0:00",
         1
        ],
        [
         "BR2220",
         "DLR0042",
         "Aud-M229",
         5651109,
         3,
         "DT01198",
         4,
         2020,
         "Riley  Motors",
         "Daihatsu Motors",
         "Audi",
         "4/12/2020 0:00",
         1
        ],
        [
         "BR2225",
         "DLR0143",
         "Toy-M103",
         9042719,
         1,
         "DT01211",
         4,
         2020,
         "Wolseley  Motors",
         "Oldsmobile Motors",
         "Toyota",
         "4/25/2020 0:00",
         1
        ],
        [
         "BR2230",
         "DLR0043",
         "Aud-M230",
         18718750,
         2,
         "DT01199",
         4,
         2020,
         "Wolseley  Motors",
         "Daimler Motors",
         "Audi",
         "4/13/2020 0:00",
         1
        ],
        [
         "BR2240",
         "DLR0044",
         "Aud-M231",
         19955415,
         3,
         "DT01200",
         4,
         2020,
         "Standard  Motors",
         null,
         "Audi",
         "4/14/2020 0:00",
         1
        ],
        [
         "BR2245",
         "DLR0145",
         "Toy-M105",
         8064714,
         2,
         "DT01213",
         4,
         2020,
         "Talbot  Motors",
         "Opel Motors",
         "Toyota",
         "4/27/2020 0:00",
         1
        ],
        [
         "BR2250",
         "DLR0045",
         "Aud-M232",
         1853412,
         2,
         "DT01201",
         4,
         2020,
         "Talbot  Motors",
         "Delahaye Motors",
         "Audi",
         "4/15/2020 0:00",
         1
        ],
        [
         "BR2260",
         "DLR0046",
         "Aud-M233",
         226386,
         2,
         "DT01202",
         4,
         2020,
         "Das Motors",
         "DeLorean Motors",
         "Audi",
         "4/16/2020 0:00",
         1
        ],
        [
         "BR2270",
         "DLR0047",
         "Aud-M234",
         7358930,
         2,
         "DT01203",
         4,
         2020,
         "Ramani Motors",
         "DeSoto Motors",
         "Audi",
         "4/17/2020 0:00",
         1
        ],
        [
         "BR2275",
         "DLR0148",
         "Vol-M108",
         17151476,
         2,
         "DT01216",
         4,
         2020,
         "Deccan Motors",
         "Panhard Motors",
         "Volkswagen",
         "4/30/2020 0:00",
         1
        ]
       ],
       "datasetInfos": [],
       "dbfsResultPath": null,
       "isJsonSchema": true,
       "metadata": {},
       "overflow": false,
       "plotOptions": {
        "customPlotOptions": {},
        "displayType": "table",
        "pivotAggregation": null,
        "pivotColumns": null,
        "xColumns": null,
        "yColumns": null
       },
       "removedWidgets": [],
       "schema": [
        {
         "metadata": "{}",
         "name": "Branch_ID",
         "type": "\"string\""
        },
        {
         "metadata": "{}",
         "name": "Dealer_ID",
         "type": "\"string\""
        },
        {
         "metadata": "{}",
         "name": "Model_ID",
         "type": "\"string\""
        },
        {
         "metadata": "{}",
         "name": "Revenue",
         "type": "\"integer\""
        },
        {
         "metadata": "{}",
         "name": "Units_Sold",
         "type": "\"integer\""
        },
        {
         "metadata": "{}",
         "name": "Date_ID",
         "type": "\"string\""
        },
        {
         "metadata": "{}",
         "name": "Month",
         "type": "\"integer\""
        },
        {
         "metadata": "{}",
         "name": "Year",
         "type": "\"integer\""
        },
        {
         "metadata": "{}",
         "name": "BranchName",
         "type": "\"string\""
        },
        {
         "metadata": "{}",
         "name": "DealerName",
         "type": "\"string\""
        },
        {
         "metadata": "{}",
         "name": "Product_Name",
         "type": "\"string\""
        },
        {
         "metadata": "{}",
         "name": "Date",
         "type": "\"string\""
        },
        {
         "metadata": "{}",
         "name": "ReturnFlag",
         "type": "\"integer\""
        }
       ],
       "type": "table"
      }
     },
     "output_type": "display_data"
    }
   ],
   "source": [
    "df = spark.read.format(\"csv\") \\\n",
    "        .option(\"header\", True) \\\n",
    "        .option(\"inferschema\", True) \\\n",
    "        .load(\"/FileStore/tables/OpentableFormat/rawdata/sales_data_third.csv\")\n",
    "display(df)\n",
    "\n"
   ]
  },
  {
   "cell_type": "code",
   "execution_count": 0,
   "metadata": {
    "application/vnd.databricks.v1+cell": {
     "cellMetadata": {
      "byteLimit": 2048000,
      "rowLimit": 10000
     },
     "inputWidgets": {},
     "nuid": "b0259654-9c70-4a50-b66a-94549fd6ca9b",
     "showTitle": false,
     "tableResultSettingsMap": {},
     "title": ""
    }
   },
   "outputs": [],
   "source": [
    "df.write.format(\"delta\") \\\n",
    "    .option(\"path\", \"/FileStore/tables/OpentableFormat/sinkdata/sales_data\") \\\n",
    "    .save()"
   ]
  },
  {
   "cell_type": "code",
   "execution_count": 0,
   "metadata": {
    "application/vnd.databricks.v1+cell": {
     "cellMetadata": {
      "byteLimit": 2048000,
      "rowLimit": 10000
     },
     "inputWidgets": {},
     "nuid": "8278f8d3-5886-4af8-b959-8b312c460876",
     "showTitle": false,
     "tableResultSettingsMap": {},
     "title": ""
    }
   },
   "outputs": [
    {
     "output_type": "display_data",
     "data": {
      "text/html": [
       "<style scoped>\n",
       "  .table-result-container {\n",
       "    max-height: 300px;\n",
       "    overflow: auto;\n",
       "  }\n",
       "  table, th, td {\n",
       "    border: 1px solid black;\n",
       "    border-collapse: collapse;\n",
       "  }\n",
       "  th, td {\n",
       "    padding: 5px;\n",
       "  }\n",
       "  th {\n",
       "    text-align: left;\n",
       "  }\n",
       "</style><div class='table-result-container'><table class='table-result'><thead style='background-color: white'><tr><th>path</th><th>name</th><th>size</th><th>modificationTime</th></tr></thead><tbody><tr><td>dbfs:/FileStore/tables/OpentableFormat/sinkdata/first_delta_table/_delta_log/.s3-optimization-0</td><td>.s3-optimization-0</td><td>0</td><td>1742969767000</td></tr><tr><td>dbfs:/FileStore/tables/OpentableFormat/sinkdata/first_delta_table/_delta_log/.s3-optimization-1</td><td>.s3-optimization-1</td><td>0</td><td>1742969767000</td></tr><tr><td>dbfs:/FileStore/tables/OpentableFormat/sinkdata/first_delta_table/_delta_log/.s3-optimization-2</td><td>.s3-optimization-2</td><td>0</td><td>1742969767000</td></tr><tr><td>dbfs:/FileStore/tables/OpentableFormat/sinkdata/first_delta_table/_delta_log/00000000000000000000.crc</td><td>00000000000000000000.crc</td><td>2028</td><td>1742969771000</td></tr><tr><td>dbfs:/FileStore/tables/OpentableFormat/sinkdata/first_delta_table/_delta_log/00000000000000000000.json</td><td>00000000000000000000.json</td><td>998</td><td>1742969767000</td></tr><tr><td>dbfs:/FileStore/tables/OpentableFormat/sinkdata/first_delta_table/_delta_log/00000000000000000001.crc</td><td>00000000000000000001.crc</td><td>2551</td><td>1742970094000</td></tr><tr><td>dbfs:/FileStore/tables/OpentableFormat/sinkdata/first_delta_table/_delta_log/00000000000000000001.json</td><td>00000000000000000001.json</td><td>1044</td><td>1742970091000</td></tr><tr><td>dbfs:/FileStore/tables/OpentableFormat/sinkdata/first_delta_table/_delta_log/00000000000000000002.crc</td><td>00000000000000000002.crc</td><td>3069</td><td>1742970179000</td></tr><tr><td>dbfs:/FileStore/tables/OpentableFormat/sinkdata/first_delta_table/_delta_log/00000000000000000002.json</td><td>00000000000000000002.json</td><td>1044</td><td>1742970175000</td></tr><tr><td>dbfs:/FileStore/tables/OpentableFormat/sinkdata/first_delta_table/_delta_log/00000000000000000003.crc</td><td>00000000000000000003.crc</td><td>3587</td><td>1742971273000</td></tr><tr><td>dbfs:/FileStore/tables/OpentableFormat/sinkdata/first_delta_table/_delta_log/00000000000000000003.json</td><td>00000000000000000003.json</td><td>1044</td><td>1742971270000</td></tr><tr><td>dbfs:/FileStore/tables/OpentableFormat/sinkdata/first_delta_table/_delta_log/00000000000000000004.crc</td><td>00000000000000000004.crc</td><td>4105</td><td>1742971280000</td></tr><tr><td>dbfs:/FileStore/tables/OpentableFormat/sinkdata/first_delta_table/_delta_log/00000000000000000004.json</td><td>00000000000000000004.json</td><td>1044</td><td>1742971277000</td></tr><tr><td>dbfs:/FileStore/tables/OpentableFormat/sinkdata/first_delta_table/_delta_log/00000000000000000005.crc</td><td>00000000000000000005.crc</td><td>4623</td><td>1742971285000</td></tr><tr><td>dbfs:/FileStore/tables/OpentableFormat/sinkdata/first_delta_table/_delta_log/00000000000000000005.json</td><td>00000000000000000005.json</td><td>1044</td><td>1742971283000</td></tr><tr><td>dbfs:/FileStore/tables/OpentableFormat/sinkdata/first_delta_table/_delta_log/00000000000000000006.crc</td><td>00000000000000000006.crc</td><td>5141</td><td>1742971290000</td></tr><tr><td>dbfs:/FileStore/tables/OpentableFormat/sinkdata/first_delta_table/_delta_log/00000000000000000006.json</td><td>00000000000000000006.json</td><td>1044</td><td>1742971289000</td></tr><tr><td>dbfs:/FileStore/tables/OpentableFormat/sinkdata/first_delta_table/_delta_log/00000000000000000007.crc</td><td>00000000000000000007.crc</td><td>5659</td><td>1742971296000</td></tr><tr><td>dbfs:/FileStore/tables/OpentableFormat/sinkdata/first_delta_table/_delta_log/00000000000000000007.json</td><td>00000000000000000007.json</td><td>1044</td><td>1742971294000</td></tr><tr><td>dbfs:/FileStore/tables/OpentableFormat/sinkdata/first_delta_table/_delta_log/00000000000000000008.crc</td><td>00000000000000000008.crc</td><td>6177</td><td>1742971301000</td></tr><tr><td>dbfs:/FileStore/tables/OpentableFormat/sinkdata/first_delta_table/_delta_log/00000000000000000008.json</td><td>00000000000000000008.json</td><td>1044</td><td>1742971299000</td></tr><tr><td>dbfs:/FileStore/tables/OpentableFormat/sinkdata/first_delta_table/_delta_log/00000000000000000009.crc</td><td>00000000000000000009.crc</td><td>6695</td><td>1742971306000</td></tr><tr><td>dbfs:/FileStore/tables/OpentableFormat/sinkdata/first_delta_table/_delta_log/00000000000000000009.json</td><td>00000000000000000009.json</td><td>1044</td><td>1742971304000</td></tr><tr><td>dbfs:/FileStore/tables/OpentableFormat/sinkdata/first_delta_table/_delta_log/00000000000000000010.checkpoint.parquet</td><td>00000000000000000010.checkpoint.parquet</td><td>19647</td><td>1742971313000</td></tr><tr><td>dbfs:/FileStore/tables/OpentableFormat/sinkdata/first_delta_table/_delta_log/00000000000000000010.crc</td><td>00000000000000000010.crc</td><td>7217</td><td>1742971312000</td></tr><tr><td>dbfs:/FileStore/tables/OpentableFormat/sinkdata/first_delta_table/_delta_log/00000000000000000010.json</td><td>00000000000000000010.json</td><td>1044</td><td>1742971310000</td></tr><tr><td>dbfs:/FileStore/tables/OpentableFormat/sinkdata/first_delta_table/_delta_log/00000000000000000011.crc</td><td>00000000000000000011.crc</td><td>7735</td><td>1742971323000</td></tr><tr><td>dbfs:/FileStore/tables/OpentableFormat/sinkdata/first_delta_table/_delta_log/00000000000000000011.json</td><td>00000000000000000011.json</td><td>1045</td><td>1742971319000</td></tr><tr><td>dbfs:/FileStore/tables/OpentableFormat/sinkdata/first_delta_table/_delta_log/00000000000000000012.crc</td><td>00000000000000000012.crc</td><td>8253</td><td>1742971327000</td></tr><tr><td>dbfs:/FileStore/tables/OpentableFormat/sinkdata/first_delta_table/_delta_log/00000000000000000012.json</td><td>00000000000000000012.json</td><td>1045</td><td>1742971325000</td></tr><tr><td>dbfs:/FileStore/tables/OpentableFormat/sinkdata/first_delta_table/_delta_log/_last_checkpoint</td><td>_last_checkpoint</td><td>5264</td><td>1742971314000</td></tr></tbody></table></div>"
      ]
     },
     "metadata": {
      "application/vnd.databricks.v1+output": {
       "addedWidgets": {},
       "aggData": [],
       "aggError": "",
       "aggOverflow": false,
       "aggSchema": [],
       "aggSeriesLimitReached": false,
       "aggType": "",
       "arguments": {},
       "columnCustomDisplayInfos": {},
       "data": [
        [
         "dbfs:/FileStore/tables/OpentableFormat/sinkdata/first_delta_table/_delta_log/.s3-optimization-0",
         ".s3-optimization-0",
         0,
         1742969767000
        ],
        [
         "dbfs:/FileStore/tables/OpentableFormat/sinkdata/first_delta_table/_delta_log/.s3-optimization-1",
         ".s3-optimization-1",
         0,
         1742969767000
        ],
        [
         "dbfs:/FileStore/tables/OpentableFormat/sinkdata/first_delta_table/_delta_log/.s3-optimization-2",
         ".s3-optimization-2",
         0,
         1742969767000
        ],
        [
         "dbfs:/FileStore/tables/OpentableFormat/sinkdata/first_delta_table/_delta_log/00000000000000000000.crc",
         "00000000000000000000.crc",
         2028,
         1742969771000
        ],
        [
         "dbfs:/FileStore/tables/OpentableFormat/sinkdata/first_delta_table/_delta_log/00000000000000000000.json",
         "00000000000000000000.json",
         998,
         1742969767000
        ],
        [
         "dbfs:/FileStore/tables/OpentableFormat/sinkdata/first_delta_table/_delta_log/00000000000000000001.crc",
         "00000000000000000001.crc",
         2551,
         1742970094000
        ],
        [
         "dbfs:/FileStore/tables/OpentableFormat/sinkdata/first_delta_table/_delta_log/00000000000000000001.json",
         "00000000000000000001.json",
         1044,
         1742970091000
        ],
        [
         "dbfs:/FileStore/tables/OpentableFormat/sinkdata/first_delta_table/_delta_log/00000000000000000002.crc",
         "00000000000000000002.crc",
         3069,
         1742970179000
        ],
        [
         "dbfs:/FileStore/tables/OpentableFormat/sinkdata/first_delta_table/_delta_log/00000000000000000002.json",
         "00000000000000000002.json",
         1044,
         1742970175000
        ],
        [
         "dbfs:/FileStore/tables/OpentableFormat/sinkdata/first_delta_table/_delta_log/00000000000000000003.crc",
         "00000000000000000003.crc",
         3587,
         1742971273000
        ],
        [
         "dbfs:/FileStore/tables/OpentableFormat/sinkdata/first_delta_table/_delta_log/00000000000000000003.json",
         "00000000000000000003.json",
         1044,
         1742971270000
        ],
        [
         "dbfs:/FileStore/tables/OpentableFormat/sinkdata/first_delta_table/_delta_log/00000000000000000004.crc",
         "00000000000000000004.crc",
         4105,
         1742971280000
        ],
        [
         "dbfs:/FileStore/tables/OpentableFormat/sinkdata/first_delta_table/_delta_log/00000000000000000004.json",
         "00000000000000000004.json",
         1044,
         1742971277000
        ],
        [
         "dbfs:/FileStore/tables/OpentableFormat/sinkdata/first_delta_table/_delta_log/00000000000000000005.crc",
         "00000000000000000005.crc",
         4623,
         1742971285000
        ],
        [
         "dbfs:/FileStore/tables/OpentableFormat/sinkdata/first_delta_table/_delta_log/00000000000000000005.json",
         "00000000000000000005.json",
         1044,
         1742971283000
        ],
        [
         "dbfs:/FileStore/tables/OpentableFormat/sinkdata/first_delta_table/_delta_log/00000000000000000006.crc",
         "00000000000000000006.crc",
         5141,
         1742971290000
        ],
        [
         "dbfs:/FileStore/tables/OpentableFormat/sinkdata/first_delta_table/_delta_log/00000000000000000006.json",
         "00000000000000000006.json",
         1044,
         1742971289000
        ],
        [
         "dbfs:/FileStore/tables/OpentableFormat/sinkdata/first_delta_table/_delta_log/00000000000000000007.crc",
         "00000000000000000007.crc",
         5659,
         1742971296000
        ],
        [
         "dbfs:/FileStore/tables/OpentableFormat/sinkdata/first_delta_table/_delta_log/00000000000000000007.json",
         "00000000000000000007.json",
         1044,
         1742971294000
        ],
        [
         "dbfs:/FileStore/tables/OpentableFormat/sinkdata/first_delta_table/_delta_log/00000000000000000008.crc",
         "00000000000000000008.crc",
         6177,
         1742971301000
        ],
        [
         "dbfs:/FileStore/tables/OpentableFormat/sinkdata/first_delta_table/_delta_log/00000000000000000008.json",
         "00000000000000000008.json",
         1044,
         1742971299000
        ],
        [
         "dbfs:/FileStore/tables/OpentableFormat/sinkdata/first_delta_table/_delta_log/00000000000000000009.crc",
         "00000000000000000009.crc",
         6695,
         1742971306000
        ],
        [
         "dbfs:/FileStore/tables/OpentableFormat/sinkdata/first_delta_table/_delta_log/00000000000000000009.json",
         "00000000000000000009.json",
         1044,
         1742971304000
        ],
        [
         "dbfs:/FileStore/tables/OpentableFormat/sinkdata/first_delta_table/_delta_log/00000000000000000010.checkpoint.parquet",
         "00000000000000000010.checkpoint.parquet",
         19647,
         1742971313000
        ],
        [
         "dbfs:/FileStore/tables/OpentableFormat/sinkdata/first_delta_table/_delta_log/00000000000000000010.crc",
         "00000000000000000010.crc",
         7217,
         1742971312000
        ],
        [
         "dbfs:/FileStore/tables/OpentableFormat/sinkdata/first_delta_table/_delta_log/00000000000000000010.json",
         "00000000000000000010.json",
         1044,
         1742971310000
        ],
        [
         "dbfs:/FileStore/tables/OpentableFormat/sinkdata/first_delta_table/_delta_log/00000000000000000011.crc",
         "00000000000000000011.crc",
         7735,
         1742971323000
        ],
        [
         "dbfs:/FileStore/tables/OpentableFormat/sinkdata/first_delta_table/_delta_log/00000000000000000011.json",
         "00000000000000000011.json",
         1045,
         1742971319000
        ],
        [
         "dbfs:/FileStore/tables/OpentableFormat/sinkdata/first_delta_table/_delta_log/00000000000000000012.crc",
         "00000000000000000012.crc",
         8253,
         1742971327000
        ],
        [
         "dbfs:/FileStore/tables/OpentableFormat/sinkdata/first_delta_table/_delta_log/00000000000000000012.json",
         "00000000000000000012.json",
         1045,
         1742971325000
        ],
        [
         "dbfs:/FileStore/tables/OpentableFormat/sinkdata/first_delta_table/_delta_log/_last_checkpoint",
         "_last_checkpoint",
         5264,
         1742971314000
        ]
       ],
       "datasetInfos": [],
       "dbfsResultPath": null,
       "isJsonSchema": true,
       "metadata": {
        "isDbfsCommandResult": false
       },
       "overflow": false,
       "plotOptions": {
        "customPlotOptions": {},
        "displayType": "table",
        "pivotAggregation": null,
        "pivotColumns": null,
        "xColumns": null,
        "yColumns": null
       },
       "removedWidgets": [],
       "schema": [
        {
         "metadata": "{}",
         "name": "path",
         "type": "\"string\""
        },
        {
         "metadata": "{}",
         "name": "name",
         "type": "\"string\""
        },
        {
         "metadata": "{}",
         "name": "size",
         "type": "\"long\""
        },
        {
         "metadata": "{}",
         "name": "modificationTime",
         "type": "\"long\""
        }
       ],
       "type": "table"
      }
     },
     "output_type": "display_data"
    }
   ],
   "source": [
    "%fs\n",
    "ls /FileStore/tables/OpentableFormat/sinkdata/first_delta_table/_delta_log/"
   ]
  },
  {
   "cell_type": "code",
   "execution_count": 0,
   "metadata": {
    "application/vnd.databricks.v1+cell": {
     "cellMetadata": {
      "byteLimit": 2048000,
      "rowLimit": 10000
     },
     "inputWidgets": {},
     "nuid": "e8ab471c-9dfc-486f-88ac-1b2977bef2a3",
     "showTitle": false,
     "tableResultSettingsMap": {},
     "title": ""
    }
   },
   "outputs": [
    {
     "output_type": "display_data",
     "data": {
      "text/html": [
       "<style scoped>\n",
       "  .ansiout {\n",
       "    display: block;\n",
       "    unicode-bidi: embed;\n",
       "    white-space: pre-wrap;\n",
       "    word-wrap: break-word;\n",
       "    word-break: break-all;\n",
       "    font-family: \"Menlo\", \"Monaco\", \"Consolas\", \"Ubuntu Mono\", \"Source Code Pro\", monospace;\n",
       "    font-size: 13px;\n",
       "    color: #555;\n",
       "    margin-left: 4px;\n",
       "    line-height: 19px;\n",
       "  }\n",
       "</style>\n",
       "<div class=\"ansiout\">{&quot;commitInfo&quot;:{&quot;timestamp&quot;:1742968226085,&quot;userId&quot;:&quot;702181498026089&quot;,&quot;userName&quot;:&quot;shankarwagh297@gmail.com&quot;,&quot;operation&quot;:&quot;WRITE&quot;,&quot;operationParameters&quot;:{&quot;mode&quot;:&quot;ErrorIfExists&quot;,&quot;partitionBy&quot;:&quot;[]&quot;},&quot;notebook&quot;:{&quot;notebookId&quot;:&quot;1262503834636755&quot;},&quot;clusterId&quot;:&quot;0326-051930-d3czotdy&quot;,&quot;isolationLevel&quot;:&quot;WriteSerializable&quot;,&quot;isBlindAppend&quot;:true,&quot;operationMetrics&quot;:{&quot;numFiles&quot;:&quot;1&quot;,&quot;numOutputRows&quot;:&quot;100&quot;,&quot;numOutputBytes&quot;:&quot;8735&quot;},&quot;engineInfo&quot;:&quot;Databricks-Runtime/12.2.x-scala2.12&quot;,&quot;txnId&quot;:&quot;95509a76-cd54-474f-a2fc-9d97b76ec78b&quot;}}\n",
       "{&quot;protocol&quot;:{&quot;minReaderVersion&quot;:1,&quot;minWriterVersion&quot;:2}}\n",
       "{&quot;metaData&quot;:{&quot;id&quot;:&quot;14333b34-d4e9-4dcd-85e7-d071da25014e&quot;,&quot;format&quot;:{&quot;provider&quot;:&quot;parquet&quot;,&quot;options&quot;:{}},&quot;schemaString&quot;:&quot;{\\&quot;type\\&quot;:\\&quot;struct\\&quot;,\\&quot;fields\\&quot;:[{\\&quot;name\\&quot;:\\&quot;Branch_ID\\&quot;,\\&quot;type\\&quot;:\\&quot;string\\&quot;,\\&quot;nullable\\&quot;:true,\\&quot;metadata\\&quot;:{}},{\\&quot;name\\&quot;:\\&quot;Dealer_ID\\&quot;,\\&quot;type\\&quot;:\\&quot;string\\&quot;,\\&quot;nullable\\&quot;:true,\\&quot;metadata\\&quot;:{}},{\\&quot;name\\&quot;:\\&quot;Model_ID\\&quot;,\\&quot;type\\&quot;:\\&quot;string\\&quot;,\\&quot;nullable\\&quot;:true,\\&quot;metadata\\&quot;:{}},{\\&quot;name\\&quot;:\\&quot;Revenue\\&quot;,\\&quot;type\\&quot;:\\&quot;integer\\&quot;,\\&quot;nullable\\&quot;:true,\\&quot;metadata\\&quot;:{}},{\\&quot;name\\&quot;:\\&quot;Units_Sold\\&quot;,\\&quot;type\\&quot;:\\&quot;integer\\&quot;,\\&quot;nullable\\&quot;:true,\\&quot;metadata\\&quot;:{}},{\\&quot;name\\&quot;:\\&quot;Date_ID\\&quot;,\\&quot;type\\&quot;:\\&quot;string\\&quot;,\\&quot;nullable\\&quot;:true,\\&quot;metadata\\&quot;:{}},{\\&quot;name\\&quot;:\\&quot;Month\\&quot;,\\&quot;type\\&quot;:\\&quot;integer\\&quot;,\\&quot;nullable\\&quot;:true,\\&quot;metadata\\&quot;:{}},{\\&quot;name\\&quot;:\\&quot;Year\\&quot;,\\&quot;type\\&quot;:\\&quot;integer\\&quot;,\\&quot;nullable\\&quot;:true,\\&quot;metadata\\&quot;:{}},{\\&quot;name\\&quot;:\\&quot;BranchName\\&quot;,\\&quot;type\\&quot;:\\&quot;string\\&quot;,\\&quot;nullable\\&quot;:true,\\&quot;metadata\\&quot;:{}},{\\&quot;name\\&quot;:\\&quot;DealerName\\&quot;,\\&quot;type\\&quot;:\\&quot;string\\&quot;,\\&quot;nullable\\&quot;:true,\\&quot;metadata\\&quot;:{}},{\\&quot;name\\&quot;:\\&quot;Product_Name\\&quot;,\\&quot;type\\&quot;:\\&quot;string\\&quot;,\\&quot;nullable\\&quot;:true,\\&quot;metadata\\&quot;:{}},{\\&quot;name\\&quot;:\\&quot;Date\\&quot;,\\&quot;type\\&quot;:\\&quot;string\\&quot;,\\&quot;nullable\\&quot;:true,\\&quot;metadata\\&quot;:{}},{\\&quot;name\\&quot;:\\&quot;ReturnFlag\\&quot;,\\&quot;type\\&quot;:\\&quot;integer\\&quot;,\\&quot;nullable\\&quot;:true,\\&quot;metadata\\&quot;:{}}]}&quot;,&quot;partitionColumns&quot;:[],&quot;configuration&quot;:{},&quot;createdTime&quot;:1742968219168}}\n",
       "{&quot;add&quot;:{&quot;path&quot;:&quot;part-00000-1fce398e-c9ba-4a6d-b47f-637855c964bd-c000.snappy.parquet&quot;,&quot;partitionValues&quot;:{},&quot;size&quot;:8735,&quot;modificationTime&quot;:1742968225000,&quot;dataChange&quot;:true,&quot;stats&quot;:&quot;{\\&quot;numRecords\\&quot;:100,\\&quot;minValues\\&quot;:{\\&quot;Branch_ID\\&quot;:\\&quot;BR1625\\&quot;,\\&quot;Dealer_ID\\&quot;:\\&quot;DLR0002\\&quot;,\\&quot;Model_ID\\&quot;:\\&quot;Acu-M59\\&quot;,\\&quot;Revenue\\&quot;:226386,\\&quot;Units_Sold\\&quot;:1,\\&quot;Date_ID\\&quot;:\\&quot;DT01139\\&quot;,\\&quot;Month\\&quot;:2,\\&quot;Year\\&quot;:2020,\\&quot;BranchName\\&quot;:\\&quot;Audi Motors\\&quot;,\\&quot;DealerName\\&quot;:\\&quot;AMC, Eagle Motors\\&quot;,\\&quot;Product_Name\\&quot;:\\&quot;Acura\\&quot;,\\&quot;Date\\&quot;:\\&quot;2/13/2020 0:00\\&quot;,\\&quot;ReturnFlag\\&quot;:1},\\&quot;maxValues\\&quot;:{\\&quot;Branch_ID\\&quot;:\\&quot;BR2275\\&quot;,\\&quot;Dealer_ID\\&quot;:\\&quot;DLR0267\\&quot;,\\&quot;Model_ID\\&quot;:\\&quot;Vol-M108\\&quot;,\\&quot;Revenue\\&quot;:29245743,\\&quot;Units_Sold\\&quot;:3,\\&quot;Date_ID\\&quot;:\\&quot;DT01216\\&quot;,\\&quot;Month\\&quot;:4,\\&quot;Year\\&quot;:2020,\\&quot;BranchName\\&quot;:\\&quot;Zastava Motors\\&quot;,\\&quot;DealerName\\&quot;:\\&quot;Panhard Motors\\&quot;,\\&quot;Product_Name\\&quot;:\\&quot;Volkswagen\\&quot;,\\&quot;Date\\&quot;:\\&quot;4/9/2020 0:00\\&quot;,\\&quot;ReturnFlag\\&quot;:1},\\&quot;nullCount\\&quot;:{\\&quot;Branch_ID\\&quot;:0,\\&quot;Dealer_ID\\&quot;:0,\\&quot;Model_ID\\&quot;:0,\\&quot;Revenue\\&quot;:0,\\&quot;Units_Sold\\&quot;:0,\\&quot;Date_ID\\&quot;:0,\\&quot;Month\\&quot;:0,\\&quot;Year\\&quot;:0,\\&quot;BranchName\\&quot;:0,\\&quot;DealerName\\&quot;:2,\\&quot;Product_Name\\&quot;:0,\\&quot;Date\\&quot;:0,\\&quot;ReturnFlag\\&quot;:0}}&quot;,&quot;tags&quot;:{&quot;INSERTION_TIME&quot;:&quot;1742968225000000&quot;,&quot;MIN_INSERTION_TIME&quot;:&quot;1742968225000000&quot;,&quot;MAX_INSERTION_TIME&quot;:&quot;1742968225000000&quot;,&quot;OPTIMIZE_TARGET_SIZE&quot;:&quot;268435456&quot;}}}\n",
       "</div>"
      ]
     },
     "metadata": {
      "application/vnd.databricks.v1+output": {
       "addedWidgets": {},
       "arguments": {},
       "data": "<div class=\"ansiout\">{&quot;commitInfo&quot;:{&quot;timestamp&quot;:1742968226085,&quot;userId&quot;:&quot;702181498026089&quot;,&quot;userName&quot;:&quot;shankarwagh297@gmail.com&quot;,&quot;operation&quot;:&quot;WRITE&quot;,&quot;operationParameters&quot;:{&quot;mode&quot;:&quot;ErrorIfExists&quot;,&quot;partitionBy&quot;:&quot;[]&quot;},&quot;notebook&quot;:{&quot;notebookId&quot;:&quot;1262503834636755&quot;},&quot;clusterId&quot;:&quot;0326-051930-d3czotdy&quot;,&quot;isolationLevel&quot;:&quot;WriteSerializable&quot;,&quot;isBlindAppend&quot;:true,&quot;operationMetrics&quot;:{&quot;numFiles&quot;:&quot;1&quot;,&quot;numOutputRows&quot;:&quot;100&quot;,&quot;numOutputBytes&quot;:&quot;8735&quot;},&quot;engineInfo&quot;:&quot;Databricks-Runtime/12.2.x-scala2.12&quot;,&quot;txnId&quot;:&quot;95509a76-cd54-474f-a2fc-9d97b76ec78b&quot;}}\n{&quot;protocol&quot;:{&quot;minReaderVersion&quot;:1,&quot;minWriterVersion&quot;:2}}\n{&quot;metaData&quot;:{&quot;id&quot;:&quot;14333b34-d4e9-4dcd-85e7-d071da25014e&quot;,&quot;format&quot;:{&quot;provider&quot;:&quot;parquet&quot;,&quot;options&quot;:{}},&quot;schemaString&quot;:&quot;{\\&quot;type\\&quot;:\\&quot;struct\\&quot;,\\&quot;fields\\&quot;:[{\\&quot;name\\&quot;:\\&quot;Branch_ID\\&quot;,\\&quot;type\\&quot;:\\&quot;string\\&quot;,\\&quot;nullable\\&quot;:true,\\&quot;metadata\\&quot;:{}},{\\&quot;name\\&quot;:\\&quot;Dealer_ID\\&quot;,\\&quot;type\\&quot;:\\&quot;string\\&quot;,\\&quot;nullable\\&quot;:true,\\&quot;metadata\\&quot;:{}},{\\&quot;name\\&quot;:\\&quot;Model_ID\\&quot;,\\&quot;type\\&quot;:\\&quot;string\\&quot;,\\&quot;nullable\\&quot;:true,\\&quot;metadata\\&quot;:{}},{\\&quot;name\\&quot;:\\&quot;Revenue\\&quot;,\\&quot;type\\&quot;:\\&quot;integer\\&quot;,\\&quot;nullable\\&quot;:true,\\&quot;metadata\\&quot;:{}},{\\&quot;name\\&quot;:\\&quot;Units_Sold\\&quot;,\\&quot;type\\&quot;:\\&quot;integer\\&quot;,\\&quot;nullable\\&quot;:true,\\&quot;metadata\\&quot;:{}},{\\&quot;name\\&quot;:\\&quot;Date_ID\\&quot;,\\&quot;type\\&quot;:\\&quot;string\\&quot;,\\&quot;nullable\\&quot;:true,\\&quot;metadata\\&quot;:{}},{\\&quot;name\\&quot;:\\&quot;Month\\&quot;,\\&quot;type\\&quot;:\\&quot;integer\\&quot;,\\&quot;nullable\\&quot;:true,\\&quot;metadata\\&quot;:{}},{\\&quot;name\\&quot;:\\&quot;Year\\&quot;,\\&quot;type\\&quot;:\\&quot;integer\\&quot;,\\&quot;nullable\\&quot;:true,\\&quot;metadata\\&quot;:{}},{\\&quot;name\\&quot;:\\&quot;BranchName\\&quot;,\\&quot;type\\&quot;:\\&quot;string\\&quot;,\\&quot;nullable\\&quot;:true,\\&quot;metadata\\&quot;:{}},{\\&quot;name\\&quot;:\\&quot;DealerName\\&quot;,\\&quot;type\\&quot;:\\&quot;string\\&quot;,\\&quot;nullable\\&quot;:true,\\&quot;metadata\\&quot;:{}},{\\&quot;name\\&quot;:\\&quot;Product_Name\\&quot;,\\&quot;type\\&quot;:\\&quot;string\\&quot;,\\&quot;nullable\\&quot;:true,\\&quot;metadata\\&quot;:{}},{\\&quot;name\\&quot;:\\&quot;Date\\&quot;,\\&quot;type\\&quot;:\\&quot;string\\&quot;,\\&quot;nullable\\&quot;:true,\\&quot;metadata\\&quot;:{}},{\\&quot;name\\&quot;:\\&quot;ReturnFlag\\&quot;,\\&quot;type\\&quot;:\\&quot;integer\\&quot;,\\&quot;nullable\\&quot;:true,\\&quot;metadata\\&quot;:{}}]}&quot;,&quot;partitionColumns&quot;:[],&quot;configuration&quot;:{},&quot;createdTime&quot;:1742968219168}}\n{&quot;add&quot;:{&quot;path&quot;:&quot;part-00000-1fce398e-c9ba-4a6d-b47f-637855c964bd-c000.snappy.parquet&quot;,&quot;partitionValues&quot;:{},&quot;size&quot;:8735,&quot;modificationTime&quot;:1742968225000,&quot;dataChange&quot;:true,&quot;stats&quot;:&quot;{\\&quot;numRecords\\&quot;:100,\\&quot;minValues\\&quot;:{\\&quot;Branch_ID\\&quot;:\\&quot;BR1625\\&quot;,\\&quot;Dealer_ID\\&quot;:\\&quot;DLR0002\\&quot;,\\&quot;Model_ID\\&quot;:\\&quot;Acu-M59\\&quot;,\\&quot;Revenue\\&quot;:226386,\\&quot;Units_Sold\\&quot;:1,\\&quot;Date_ID\\&quot;:\\&quot;DT01139\\&quot;,\\&quot;Month\\&quot;:2,\\&quot;Year\\&quot;:2020,\\&quot;BranchName\\&quot;:\\&quot;Audi Motors\\&quot;,\\&quot;DealerName\\&quot;:\\&quot;AMC, Eagle Motors\\&quot;,\\&quot;Product_Name\\&quot;:\\&quot;Acura\\&quot;,\\&quot;Date\\&quot;:\\&quot;2/13/2020 0:00\\&quot;,\\&quot;ReturnFlag\\&quot;:1},\\&quot;maxValues\\&quot;:{\\&quot;Branch_ID\\&quot;:\\&quot;BR2275\\&quot;,\\&quot;Dealer_ID\\&quot;:\\&quot;DLR0267\\&quot;,\\&quot;Model_ID\\&quot;:\\&quot;Vol-M108\\&quot;,\\&quot;Revenue\\&quot;:29245743,\\&quot;Units_Sold\\&quot;:3,\\&quot;Date_ID\\&quot;:\\&quot;DT01216\\&quot;,\\&quot;Month\\&quot;:4,\\&quot;Year\\&quot;:2020,\\&quot;BranchName\\&quot;:\\&quot;Zastava Motors\\&quot;,\\&quot;DealerName\\&quot;:\\&quot;Panhard Motors\\&quot;,\\&quot;Product_Name\\&quot;:\\&quot;Volkswagen\\&quot;,\\&quot;Date\\&quot;:\\&quot;4/9/2020 0:00\\&quot;,\\&quot;ReturnFlag\\&quot;:1},\\&quot;nullCount\\&quot;:{\\&quot;Branch_ID\\&quot;:0,\\&quot;Dealer_ID\\&quot;:0,\\&quot;Model_ID\\&quot;:0,\\&quot;Revenue\\&quot;:0,\\&quot;Units_Sold\\&quot;:0,\\&quot;Date_ID\\&quot;:0,\\&quot;Month\\&quot;:0,\\&quot;Year\\&quot;:0,\\&quot;BranchName\\&quot;:0,\\&quot;DealerName\\&quot;:2,\\&quot;Product_Name\\&quot;:0,\\&quot;Date\\&quot;:0,\\&quot;ReturnFlag\\&quot;:0}}&quot;,&quot;tags&quot;:{&quot;INSERTION_TIME&quot;:&quot;1742968225000000&quot;,&quot;MIN_INSERTION_TIME&quot;:&quot;1742968225000000&quot;,&quot;MAX_INSERTION_TIME&quot;:&quot;1742968225000000&quot;,&quot;OPTIMIZE_TARGET_SIZE&quot;:&quot;268435456&quot;}}}\n</div>",
       "datasetInfos": [],
       "metadata": {
        "isDbfsCommandResult": false
       },
       "removedWidgets": [],
       "type": "html"
      }
     },
     "output_type": "display_data"
    }
   ],
   "source": [
    "%fs head dbfs:/FileStore/tables/OpentableFormat/sinkdata/sales_data/_delta_log/00000000000000000000.json"
   ]
  },
  {
   "cell_type": "code",
   "execution_count": 0,
   "metadata": {
    "application/vnd.databricks.v1+cell": {
     "cellMetadata": {
      "byteLimit": 2048000,
      "rowLimit": 10000
     },
     "inputWidgets": {},
     "nuid": "c02ef657-4c88-4746-8a12-732bf9eacf0a",
     "showTitle": false,
     "tableResultSettingsMap": {},
     "title": ""
    }
   },
   "outputs": [
    {
     "output_type": "display_data",
     "data": {
      "text/html": [
       "<style scoped>\n",
       "  .ansiout {\n",
       "    display: block;\n",
       "    unicode-bidi: embed;\n",
       "    white-space: pre-wrap;\n",
       "    word-wrap: break-word;\n",
       "    word-break: break-all;\n",
       "    font-family: \"Menlo\", \"Monaco\", \"Consolas\", \"Ubuntu Mono\", \"Source Code Pro\", monospace;\n",
       "    font-size: 13px;\n",
       "    color: #555;\n",
       "    margin-left: 4px;\n",
       "    line-height: 19px;\n",
       "  }\n",
       "</style>\n",
       "<div class=\"ansiout\">{&quot;commitInfo&quot;:{&quot;timestamp&quot;:1742970174621,&quot;userId&quot;:&quot;702181498026089&quot;,&quot;userName&quot;:&quot;shankarwagh297@gmail.com&quot;,&quot;operation&quot;:&quot;WRITE&quot;,&quot;operationParameters&quot;:{&quot;mode&quot;:&quot;Append&quot;,&quot;partitionBy&quot;:&quot;[]&quot;},&quot;notebook&quot;:{&quot;notebookId&quot;:&quot;1262503834636755&quot;},&quot;clusterId&quot;:&quot;0326-051930-d3czotdy&quot;,&quot;readVersion&quot;:1,&quot;isolationLevel&quot;:&quot;WriteSerializable&quot;,&quot;isBlindAppend&quot;:true,&quot;operationMetrics&quot;:{&quot;numFiles&quot;:&quot;1&quot;,&quot;numOutputRows&quot;:&quot;2&quot;,&quot;numOutputBytes&quot;:&quot;1062&quot;},&quot;engineInfo&quot;:&quot;Databricks-Runtime/12.2.x-scala2.12&quot;,&quot;txnId&quot;:&quot;91da1ab8-3c37-46b4-aa30-40680ff356c8&quot;}}\n",
       "{&quot;add&quot;:{&quot;path&quot;:&quot;part-00000-dae6aaac-1291-47c1-96a8-34ec697a33dd-c000.snappy.parquet&quot;,&quot;partitionValues&quot;:{},&quot;size&quot;:1062,&quot;modificationTime&quot;:1742970175000,&quot;dataChange&quot;:true,&quot;stats&quot;:&quot;{\\&quot;numRecords\\&quot;:2,\\&quot;minValues\\&quot;:{\\&quot;id\\&quot;:1,\\&quot;name\\&quot;:\\&quot;AA\\&quot;,\\&quot;salary\\&quot;:100.0},\\&quot;maxValues\\&quot;:{\\&quot;id\\&quot;:2,\\&quot;name\\&quot;:\\&quot;BB\\&quot;,\\&quot;salary\\&quot;:200.0},\\&quot;nullCount\\&quot;:{\\&quot;id\\&quot;:0,\\&quot;name\\&quot;:0,\\&quot;salary\\&quot;:0}}&quot;,&quot;tags&quot;:{&quot;INSERTION_TIME&quot;:&quot;1742970175000000&quot;,&quot;MIN_INSERTION_TIME&quot;:&quot;1742970175000000&quot;,&quot;MAX_INSERTION_TIME&quot;:&quot;1742970175000000&quot;,&quot;OPTIMIZE_TARGET_SIZE&quot;:&quot;268435456&quot;}}}\n",
       "</div>"
      ]
     },
     "metadata": {
      "application/vnd.databricks.v1+output": {
       "addedWidgets": {},
       "arguments": {},
       "data": "<div class=\"ansiout\">{&quot;commitInfo&quot;:{&quot;timestamp&quot;:1742970174621,&quot;userId&quot;:&quot;702181498026089&quot;,&quot;userName&quot;:&quot;shankarwagh297@gmail.com&quot;,&quot;operation&quot;:&quot;WRITE&quot;,&quot;operationParameters&quot;:{&quot;mode&quot;:&quot;Append&quot;,&quot;partitionBy&quot;:&quot;[]&quot;},&quot;notebook&quot;:{&quot;notebookId&quot;:&quot;1262503834636755&quot;},&quot;clusterId&quot;:&quot;0326-051930-d3czotdy&quot;,&quot;readVersion&quot;:1,&quot;isolationLevel&quot;:&quot;WriteSerializable&quot;,&quot;isBlindAppend&quot;:true,&quot;operationMetrics&quot;:{&quot;numFiles&quot;:&quot;1&quot;,&quot;numOutputRows&quot;:&quot;2&quot;,&quot;numOutputBytes&quot;:&quot;1062&quot;},&quot;engineInfo&quot;:&quot;Databricks-Runtime/12.2.x-scala2.12&quot;,&quot;txnId&quot;:&quot;91da1ab8-3c37-46b4-aa30-40680ff356c8&quot;}}\n{&quot;add&quot;:{&quot;path&quot;:&quot;part-00000-dae6aaac-1291-47c1-96a8-34ec697a33dd-c000.snappy.parquet&quot;,&quot;partitionValues&quot;:{},&quot;size&quot;:1062,&quot;modificationTime&quot;:1742970175000,&quot;dataChange&quot;:true,&quot;stats&quot;:&quot;{\\&quot;numRecords\\&quot;:2,\\&quot;minValues\\&quot;:{\\&quot;id\\&quot;:1,\\&quot;name\\&quot;:\\&quot;AA\\&quot;,\\&quot;salary\\&quot;:100.0},\\&quot;maxValues\\&quot;:{\\&quot;id\\&quot;:2,\\&quot;name\\&quot;:\\&quot;BB\\&quot;,\\&quot;salary\\&quot;:200.0},\\&quot;nullCount\\&quot;:{\\&quot;id\\&quot;:0,\\&quot;name\\&quot;:0,\\&quot;salary\\&quot;:0}}&quot;,&quot;tags&quot;:{&quot;INSERTION_TIME&quot;:&quot;1742970175000000&quot;,&quot;MIN_INSERTION_TIME&quot;:&quot;1742970175000000&quot;,&quot;MAX_INSERTION_TIME&quot;:&quot;1742970175000000&quot;,&quot;OPTIMIZE_TARGET_SIZE&quot;:&quot;268435456&quot;}}}\n</div>",
       "datasetInfos": [],
       "metadata": {
        "isDbfsCommandResult": false
       },
       "removedWidgets": [],
       "type": "html"
      }
     },
     "output_type": "display_data"
    }
   ],
   "source": [
    "%fs head dbfs:/FileStore/tables/OpentableFormat/sinkdata/first_delta_table/_delta_log/00000000000000000002.json"
   ]
  },
  {
   "cell_type": "code",
   "execution_count": 0,
   "metadata": {
    "application/vnd.databricks.v1+cell": {
     "cellMetadata": {
      "byteLimit": 2048000,
      "rowLimit": 10000
     },
     "inputWidgets": {},
     "nuid": "5d7d8762-ae72-430a-adec-49401386831a",
     "showTitle": false,
     "tableResultSettingsMap": {},
     "title": ""
    }
   },
   "outputs": [
    {
     "output_type": "display_data",
     "data": {
      "text/html": [
       "<style scoped>\n",
       "  .table-result-container {\n",
       "    max-height: 300px;\n",
       "    overflow: auto;\n",
       "  }\n",
       "  table, th, td {\n",
       "    border: 1px solid black;\n",
       "    border-collapse: collapse;\n",
       "  }\n",
       "  th, td {\n",
       "    padding: 5px;\n",
       "  }\n",
       "  th {\n",
       "    text-align: left;\n",
       "  }\n",
       "</style><div class='table-result-container'><table class='table-result'><thead style='background-color: white'><tr><th>path</th><th>name</th><th>size</th><th>modificationTime</th></tr></thead><tbody><tr><td>dbfs:/FileStore/tables/OpentableFormat/sinkdata/first_delta_table/</td><td>first_delta_table/</td><td>0</td><td>0</td></tr><tr><td>dbfs:/FileStore/tables/OpentableFormat/sinkdata/sales_data/</td><td>sales_data/</td><td>0</td><td>0</td></tr></tbody></table></div>"
      ]
     },
     "metadata": {
      "application/vnd.databricks.v1+output": {
       "addedWidgets": {},
       "aggData": [],
       "aggError": "",
       "aggOverflow": false,
       "aggSchema": [],
       "aggSeriesLimitReached": false,
       "aggType": "",
       "arguments": {},
       "columnCustomDisplayInfos": {},
       "data": [
        [
         "dbfs:/FileStore/tables/OpentableFormat/sinkdata/first_delta_table/",
         "first_delta_table/",
         0,
         0
        ],
        [
         "dbfs:/FileStore/tables/OpentableFormat/sinkdata/sales_data/",
         "sales_data/",
         0,
         0
        ]
       ],
       "datasetInfos": [],
       "dbfsResultPath": null,
       "isJsonSchema": true,
       "metadata": {
        "isDbfsCommandResult": false
       },
       "overflow": false,
       "plotOptions": {
        "customPlotOptions": {},
        "displayType": "table",
        "pivotAggregation": null,
        "pivotColumns": null,
        "xColumns": null,
        "yColumns": null
       },
       "removedWidgets": [],
       "schema": [
        {
         "metadata": "{}",
         "name": "path",
         "type": "\"string\""
        },
        {
         "metadata": "{}",
         "name": "name",
         "type": "\"string\""
        },
        {
         "metadata": "{}",
         "name": "size",
         "type": "\"long\""
        },
        {
         "metadata": "{}",
         "name": "modificationTime",
         "type": "\"long\""
        }
       ],
       "type": "table"
      }
     },
     "output_type": "display_data"
    }
   ],
   "source": [
    "%fs\n",
    "ls /FileStore/tables/OpentableFormat/sinkdata"
   ]
  },
  {
   "cell_type": "code",
   "execution_count": 0,
   "metadata": {
    "application/vnd.databricks.v1+cell": {
     "cellMetadata": {
      "byteLimit": 2048000,
      "rowLimit": 10000
     },
     "inputWidgets": {},
     "nuid": "a1f73379-0883-49a1-83a0-21c0b51274c5",
     "showTitle": false,
     "tableResultSettingsMap": {},
     "title": ""
    }
   },
   "outputs": [
    {
     "output_type": "display_data",
     "data": {
      "text/html": [
       "<style scoped>\n",
       "  .table-result-container {\n",
       "    max-height: 300px;\n",
       "    overflow: auto;\n",
       "  }\n",
       "  table, th, td {\n",
       "    border: 1px solid black;\n",
       "    border-collapse: collapse;\n",
       "  }\n",
       "  th, td {\n",
       "    padding: 5px;\n",
       "  }\n",
       "  th {\n",
       "    text-align: left;\n",
       "  }\n",
       "</style><div class='table-result-container'><table class='table-result'><thead style='background-color: white'><tr><th>add</th><th>commitInfo</th><th>metaData</th><th>protocol</th></tr></thead><tbody><tr><td>null</td><td>List(0326-051930-d3czotdy, Databricks-Runtime/12.2.x-scala2.12, true, WriteSerializable, List(1262503834636755), WRITE, List(1, 8735, 100), List(ErrorIfExists, []), 1742968226085, 95509a76-cd54-474f-a2fc-9d97b76ec78b, 702181498026089, shankarwagh297@gmail.com)</td><td>null</td><td>null</td></tr><tr><td>null</td><td>null</td><td>null</td><td>List(1, 2)</td></tr><tr><td>null</td><td>null</td><td>List(1742968219168, List(parquet), 14333b34-d4e9-4dcd-85e7-d071da25014e, List(), {\"type\":\"struct\",\"fields\":[{\"name\":\"Branch_ID\",\"type\":\"string\",\"nullable\":true,\"metadata\":{}},{\"name\":\"Dealer_ID\",\"type\":\"string\",\"nullable\":true,\"metadata\":{}},{\"name\":\"Model_ID\",\"type\":\"string\",\"nullable\":true,\"metadata\":{}},{\"name\":\"Revenue\",\"type\":\"integer\",\"nullable\":true,\"metadata\":{}},{\"name\":\"Units_Sold\",\"type\":\"integer\",\"nullable\":true,\"metadata\":{}},{\"name\":\"Date_ID\",\"type\":\"string\",\"nullable\":true,\"metadata\":{}},{\"name\":\"Month\",\"type\":\"integer\",\"nullable\":true,\"metadata\":{}},{\"name\":\"Year\",\"type\":\"integer\",\"nullable\":true,\"metadata\":{}},{\"name\":\"BranchName\",\"type\":\"string\",\"nullable\":true,\"metadata\":{}},{\"name\":\"DealerName\",\"type\":\"string\",\"nullable\":true,\"metadata\":{}},{\"name\":\"Product_Name\",\"type\":\"string\",\"nullable\":true,\"metadata\":{}},{\"name\":\"Date\",\"type\":\"string\",\"nullable\":true,\"metadata\":{}},{\"name\":\"ReturnFlag\",\"type\":\"integer\",\"nullable\":true,\"metadata\":{}}]})</td><td>null</td></tr><tr><td>List(true, 1742968225000, part-00000-1fce398e-c9ba-4a6d-b47f-637855c964bd-c000.snappy.parquet, 8735, {\"numRecords\":100,\"minValues\":{\"Branch_ID\":\"BR1625\",\"Dealer_ID\":\"DLR0002\",\"Model_ID\":\"Acu-M59\",\"Revenue\":226386,\"Units_Sold\":1,\"Date_ID\":\"DT01139\",\"Month\":2,\"Year\":2020,\"BranchName\":\"Audi Motors\",\"DealerName\":\"AMC, Eagle Motors\",\"Product_Name\":\"Acura\",\"Date\":\"2/13/2020 0:00\",\"ReturnFlag\":1},\"maxValues\":{\"Branch_ID\":\"BR2275\",\"Dealer_ID\":\"DLR0267\",\"Model_ID\":\"Vol-M108\",\"Revenue\":29245743,\"Units_Sold\":3,\"Date_ID\":\"DT01216\",\"Month\":4,\"Year\":2020,\"BranchName\":\"Zastava Motors\",\"DealerName\":\"Panhard Motors\",\"Product_Name\":\"Volkswagen\",\"Date\":\"4/9/2020 0:00\",\"ReturnFlag\":1},\"nullCount\":{\"Branch_ID\":0,\"Dealer_ID\":0,\"Model_ID\":0,\"Revenue\":0,\"Units_Sold\":0,\"Date_ID\":0,\"Month\":0,\"Year\":0,\"BranchName\":0,\"DealerName\":2,\"Product_Name\":0,\"Date\":0,\"ReturnFlag\":0}}, List(1742968225000000, 1742968225000000, 1742968225000000, 268435456))</td><td>null</td><td>null</td><td>null</td></tr></tbody></table></div>"
      ]
     },
     "metadata": {
      "application/vnd.databricks.v1+output": {
       "addedWidgets": {},
       "aggData": [],
       "aggError": "",
       "aggOverflow": false,
       "aggSchema": [],
       "aggSeriesLimitReached": false,
       "aggType": "",
       "arguments": {},
       "columnCustomDisplayInfos": {},
       "data": [
        [
         null,
         [
          "0326-051930-d3czotdy",
          "Databricks-Runtime/12.2.x-scala2.12",
          true,
          "WriteSerializable",
          [
           "1262503834636755"
          ],
          "WRITE",
          [
           "1",
           "8735",
           "100"
          ],
          [
           "ErrorIfExists",
           "[]"
          ],
          1742968226085,
          "95509a76-cd54-474f-a2fc-9d97b76ec78b",
          "702181498026089",
          "shankarwagh297@gmail.com"
         ],
         null,
         null
        ],
        [
         null,
         null,
         null,
         [
          1,
          2
         ]
        ],
        [
         null,
         null,
         [
          1742968219168,
          [
           "parquet"
          ],
          "14333b34-d4e9-4dcd-85e7-d071da25014e",
          [],
          "{\"type\":\"struct\",\"fields\":[{\"name\":\"Branch_ID\",\"type\":\"string\",\"nullable\":true,\"metadata\":{}},{\"name\":\"Dealer_ID\",\"type\":\"string\",\"nullable\":true,\"metadata\":{}},{\"name\":\"Model_ID\",\"type\":\"string\",\"nullable\":true,\"metadata\":{}},{\"name\":\"Revenue\",\"type\":\"integer\",\"nullable\":true,\"metadata\":{}},{\"name\":\"Units_Sold\",\"type\":\"integer\",\"nullable\":true,\"metadata\":{}},{\"name\":\"Date_ID\",\"type\":\"string\",\"nullable\":true,\"metadata\":{}},{\"name\":\"Month\",\"type\":\"integer\",\"nullable\":true,\"metadata\":{}},{\"name\":\"Year\",\"type\":\"integer\",\"nullable\":true,\"metadata\":{}},{\"name\":\"BranchName\",\"type\":\"string\",\"nullable\":true,\"metadata\":{}},{\"name\":\"DealerName\",\"type\":\"string\",\"nullable\":true,\"metadata\":{}},{\"name\":\"Product_Name\",\"type\":\"string\",\"nullable\":true,\"metadata\":{}},{\"name\":\"Date\",\"type\":\"string\",\"nullable\":true,\"metadata\":{}},{\"name\":\"ReturnFlag\",\"type\":\"integer\",\"nullable\":true,\"metadata\":{}}]}"
         ],
         null
        ],
        [
         [
          true,
          1742968225000,
          "part-00000-1fce398e-c9ba-4a6d-b47f-637855c964bd-c000.snappy.parquet",
          8735,
          "{\"numRecords\":100,\"minValues\":{\"Branch_ID\":\"BR1625\",\"Dealer_ID\":\"DLR0002\",\"Model_ID\":\"Acu-M59\",\"Revenue\":226386,\"Units_Sold\":1,\"Date_ID\":\"DT01139\",\"Month\":2,\"Year\":2020,\"BranchName\":\"Audi Motors\",\"DealerName\":\"AMC, Eagle Motors\",\"Product_Name\":\"Acura\",\"Date\":\"2/13/2020 0:00\",\"ReturnFlag\":1},\"maxValues\":{\"Branch_ID\":\"BR2275\",\"Dealer_ID\":\"DLR0267\",\"Model_ID\":\"Vol-M108\",\"Revenue\":29245743,\"Units_Sold\":3,\"Date_ID\":\"DT01216\",\"Month\":4,\"Year\":2020,\"BranchName\":\"Zastava Motors\",\"DealerName\":\"Panhard Motors\",\"Product_Name\":\"Volkswagen\",\"Date\":\"4/9/2020 0:00\",\"ReturnFlag\":1},\"nullCount\":{\"Branch_ID\":0,\"Dealer_ID\":0,\"Model_ID\":0,\"Revenue\":0,\"Units_Sold\":0,\"Date_ID\":0,\"Month\":0,\"Year\":0,\"BranchName\":0,\"DealerName\":2,\"Product_Name\":0,\"Date\":0,\"ReturnFlag\":0}}",
          [
           "1742968225000000",
           "1742968225000000",
           "1742968225000000",
           "268435456"
          ]
         ],
         null,
         null,
         null
        ]
       ],
       "datasetInfos": [],
       "dbfsResultPath": null,
       "isJsonSchema": true,
       "metadata": {},
       "overflow": false,
       "plotOptions": {
        "customPlotOptions": {},
        "displayType": "table",
        "pivotAggregation": null,
        "pivotColumns": null,
        "xColumns": null,
        "yColumns": null
       },
       "removedWidgets": [],
       "schema": [
        {
         "metadata": "{}",
         "name": "add",
         "type": "{\"type\":\"struct\",\"fields\":[{\"name\":\"dataChange\",\"type\":\"boolean\",\"nullable\":true,\"metadata\":{}},{\"name\":\"modificationTime\",\"type\":\"long\",\"nullable\":true,\"metadata\":{}},{\"name\":\"path\",\"type\":\"string\",\"nullable\":true,\"metadata\":{}},{\"name\":\"size\",\"type\":\"long\",\"nullable\":true,\"metadata\":{}},{\"name\":\"stats\",\"type\":\"string\",\"nullable\":true,\"metadata\":{}},{\"name\":\"tags\",\"type\":{\"type\":\"struct\",\"fields\":[{\"name\":\"INSERTION_TIME\",\"type\":\"string\",\"nullable\":true,\"metadata\":{}},{\"name\":\"MAX_INSERTION_TIME\",\"type\":\"string\",\"nullable\":true,\"metadata\":{}},{\"name\":\"MIN_INSERTION_TIME\",\"type\":\"string\",\"nullable\":true,\"metadata\":{}},{\"name\":\"OPTIMIZE_TARGET_SIZE\",\"type\":\"string\",\"nullable\":true,\"metadata\":{}}]},\"nullable\":true,\"metadata\":{}}]}"
        },
        {
         "metadata": "{}",
         "name": "commitInfo",
         "type": "{\"type\":\"struct\",\"fields\":[{\"name\":\"clusterId\",\"type\":\"string\",\"nullable\":true,\"metadata\":{}},{\"name\":\"engineInfo\",\"type\":\"string\",\"nullable\":true,\"metadata\":{}},{\"name\":\"isBlindAppend\",\"type\":\"boolean\",\"nullable\":true,\"metadata\":{}},{\"name\":\"isolationLevel\",\"type\":\"string\",\"nullable\":true,\"metadata\":{}},{\"name\":\"notebook\",\"type\":{\"type\":\"struct\",\"fields\":[{\"name\":\"notebookId\",\"type\":\"string\",\"nullable\":true,\"metadata\":{}}]},\"nullable\":true,\"metadata\":{}},{\"name\":\"operation\",\"type\":\"string\",\"nullable\":true,\"metadata\":{}},{\"name\":\"operationMetrics\",\"type\":{\"type\":\"struct\",\"fields\":[{\"name\":\"numFiles\",\"type\":\"string\",\"nullable\":true,\"metadata\":{}},{\"name\":\"numOutputBytes\",\"type\":\"string\",\"nullable\":true,\"metadata\":{}},{\"name\":\"numOutputRows\",\"type\":\"string\",\"nullable\":true,\"metadata\":{}}]},\"nullable\":true,\"metadata\":{}},{\"name\":\"operationParameters\",\"type\":{\"type\":\"struct\",\"fields\":[{\"name\":\"mode\",\"type\":\"string\",\"nullable\":true,\"metadata\":{}},{\"name\":\"partitionBy\",\"type\":\"string\",\"nullable\":true,\"metadata\":{}}]},\"nullable\":true,\"metadata\":{}},{\"name\":\"timestamp\",\"type\":\"long\",\"nullable\":true,\"metadata\":{}},{\"name\":\"txnId\",\"type\":\"string\",\"nullable\":true,\"metadata\":{}},{\"name\":\"userId\",\"type\":\"string\",\"nullable\":true,\"metadata\":{}},{\"name\":\"userName\",\"type\":\"string\",\"nullable\":true,\"metadata\":{}}]}"
        },
        {
         "metadata": "{}",
         "name": "metaData",
         "type": "{\"type\":\"struct\",\"fields\":[{\"name\":\"createdTime\",\"type\":\"long\",\"nullable\":true,\"metadata\":{}},{\"name\":\"format\",\"type\":{\"type\":\"struct\",\"fields\":[{\"name\":\"provider\",\"type\":\"string\",\"nullable\":true,\"metadata\":{}}]},\"nullable\":true,\"metadata\":{}},{\"name\":\"id\",\"type\":\"string\",\"nullable\":true,\"metadata\":{}},{\"name\":\"partitionColumns\",\"type\":{\"type\":\"array\",\"elementType\":\"string\",\"containsNull\":true},\"nullable\":true,\"metadata\":{}},{\"name\":\"schemaString\",\"type\":\"string\",\"nullable\":true,\"metadata\":{}}]}"
        },
        {
         "metadata": "{}",
         "name": "protocol",
         "type": "{\"type\":\"struct\",\"fields\":[{\"name\":\"minReaderVersion\",\"type\":\"long\",\"nullable\":true,\"metadata\":{}},{\"name\":\"minWriterVersion\",\"type\":\"long\",\"nullable\":true,\"metadata\":{}}]}"
        }
       ],
       "type": "table"
      }
     },
     "output_type": "display_data"
    }
   ],
   "source": [
    "df = spark.read.json(\"dbfs:/FileStore/tables/OpentableFormat/sinkdata/sales_data/_delta_log/00000000000000000000.json\")\n",
    "display(df)"
   ]
  },
  {
   "cell_type": "code",
   "execution_count": 0,
   "metadata": {
    "application/vnd.databricks.v1+cell": {
     "cellMetadata": {
      "byteLimit": 2048000,
      "implicitDf": true,
      "rowLimit": 10000
     },
     "inputWidgets": {},
     "nuid": "fa385741-9d30-45ce-8f5f-1913310bf71f",
     "showTitle": false,
     "tableResultSettingsMap": {},
     "title": ""
    }
   },
   "outputs": [
    {
     "output_type": "display_data",
     "data": {
      "text/html": [
       "<style scoped>\n",
       "  .table-result-container {\n",
       "    max-height: 300px;\n",
       "    overflow: auto;\n",
       "  }\n",
       "  table, th, td {\n",
       "    border: 1px solid black;\n",
       "    border-collapse: collapse;\n",
       "  }\n",
       "  th, td {\n",
       "    padding: 5px;\n",
       "  }\n",
       "  th {\n",
       "    text-align: left;\n",
       "  }\n",
       "</style><div class='table-result-container'><table class='table-result'><thead style='background-color: white'><tr></tr></thead><tbody></tbody></table></div>"
      ]
     },
     "metadata": {
      "application/vnd.databricks.v1+output": {
       "addedWidgets": {},
       "aggData": [],
       "aggError": "",
       "aggOverflow": false,
       "aggSchema": [],
       "aggSeriesLimitReached": false,
       "aggType": "",
       "arguments": {},
       "columnCustomDisplayInfos": {},
       "data": [],
       "datasetInfos": [],
       "dbfsResultPath": null,
       "isJsonSchema": true,
       "metadata": {},
       "overflow": false,
       "plotOptions": {
        "customPlotOptions": {},
        "displayType": "table",
        "pivotAggregation": null,
        "pivotColumns": null,
        "xColumns": null,
        "yColumns": null
       },
       "removedWidgets": [],
       "schema": [],
       "type": "table"
      }
     },
     "output_type": "display_data"
    }
   ],
   "source": [
    "%sql\n",
    "CREATE TABLE my_delta_table\n",
    "(\n",
    "  id INT,\n",
    "  name STRING,\n",
    "  salary DOUBLE\n",
    ")\n",
    "USING DELTA\n",
    "LOCATION \"dbfs:/FileStore/tables/OpentableFormat/sinkdata/first_delta_table\""
   ]
  },
  {
   "cell_type": "code",
   "execution_count": 0,
   "metadata": {
    "application/vnd.databricks.v1+cell": {
     "cellMetadata": {
      "byteLimit": 2048000,
      "implicitDf": true,
      "rowLimit": 10000
     },
     "inputWidgets": {},
     "nuid": "444da366-cc58-457e-ae08-6ec3c9622e88",
     "showTitle": false,
     "tableResultSettingsMap": {},
     "title": ""
    }
   },
   "outputs": [
    {
     "output_type": "display_data",
     "data": {
      "text/html": [
       "<style scoped>\n",
       "  .table-result-container {\n",
       "    max-height: 300px;\n",
       "    overflow: auto;\n",
       "  }\n",
       "  table, th, td {\n",
       "    border: 1px solid black;\n",
       "    border-collapse: collapse;\n",
       "  }\n",
       "  th, td {\n",
       "    padding: 5px;\n",
       "  }\n",
       "  th {\n",
       "    text-align: left;\n",
       "  }\n",
       "</style><div class='table-result-container'><table class='table-result'><thead style='background-color: white'><tr></tr></thead><tbody></tbody></table></div>"
      ]
     },
     "metadata": {
      "application/vnd.databricks.v1+output": {
       "addedWidgets": {},
       "aggData": [],
       "aggError": "",
       "aggOverflow": false,
       "aggSchema": [],
       "aggSeriesLimitReached": false,
       "aggType": "",
       "arguments": {},
       "columnCustomDisplayInfos": {},
       "data": [],
       "datasetInfos": [],
       "dbfsResultPath": null,
       "isJsonSchema": true,
       "metadata": {},
       "overflow": false,
       "plotOptions": {
        "customPlotOptions": {},
        "displayType": "table",
        "pivotAggregation": null,
        "pivotColumns": null,
        "xColumns": null,
        "yColumns": null
       },
       "removedWidgets": [],
       "schema": [],
       "type": "table"
      }
     },
     "output_type": "display_data"
    }
   ],
   "source": [
    "%sql\n",
    "CREATE SCHEMA bronze"
   ]
  },
  {
   "cell_type": "code",
   "execution_count": 0,
   "metadata": {
    "application/vnd.databricks.v1+cell": {
     "cellMetadata": {
      "byteLimit": 2048000,
      "implicitDf": true,
      "rowLimit": 10000
     },
     "collapsed": true,
     "inputWidgets": {},
     "nuid": "89fc91c3-23d8-43b1-b883-2115f8f4d999",
     "showTitle": false,
     "tableResultSettingsMap": {},
     "title": ""
    }
   },
   "outputs": [
    {
     "output_type": "display_data",
     "data": {
      "text/html": [
       "<style scoped>\n",
       "  .table-result-container {\n",
       "    max-height: 300px;\n",
       "    overflow: auto;\n",
       "  }\n",
       "  table, th, td {\n",
       "    border: 1px solid black;\n",
       "    border-collapse: collapse;\n",
       "  }\n",
       "  th, td {\n",
       "    padding: 5px;\n",
       "  }\n",
       "  th {\n",
       "    text-align: left;\n",
       "  }\n",
       "</style><div class='table-result-container'><table class='table-result'><thead style='background-color: white'><tr></tr></thead><tbody></tbody></table></div>"
      ]
     },
     "metadata": {
      "application/vnd.databricks.v1+output": {
       "addedWidgets": {},
       "aggData": [],
       "aggError": "",
       "aggOverflow": false,
       "aggSchema": [],
       "aggSeriesLimitReached": false,
       "aggType": "",
       "arguments": {},
       "columnCustomDisplayInfos": {},
       "data": [],
       "datasetInfos": [],
       "dbfsResultPath": null,
       "isJsonSchema": true,
       "metadata": {},
       "overflow": false,
       "plotOptions": {
        "customPlotOptions": {},
        "displayType": "table",
        "pivotAggregation": null,
        "pivotColumns": null,
        "xColumns": null,
        "yColumns": null
       },
       "removedWidgets": [],
       "schema": [],
       "type": "table"
      }
     },
     "output_type": "display_data"
    }
   ],
   "source": [
    "%sql\n",
    "CREATE TABLE bronze.my_delta_table\n",
    "(\n",
    "  id INT,\n",
    "  name STRING,\n",
    "  salary DOUBLE\n",
    ")\n",
    "USING DELTA\n",
    "LOCATION \"dbfs:/FileStore/tables/OpentableFormat/sinkdata/first_delta_table\""
   ]
  },
  {
   "cell_type": "code",
   "execution_count": 0,
   "metadata": {
    "application/vnd.databricks.v1+cell": {
     "cellMetadata": {
      "byteLimit": 2048000,
      "implicitDf": true,
      "rowLimit": 10000
     },
     "inputWidgets": {},
     "nuid": "70888f83-446c-445c-bb75-6edf43b30710",
     "showTitle": false,
     "tableResultSettingsMap": {},
     "title": ""
    }
   },
   "outputs": [
    {
     "output_type": "display_data",
     "data": {
      "text/html": [
       "<style scoped>\n",
       "  .table-result-container {\n",
       "    max-height: 300px;\n",
       "    overflow: auto;\n",
       "  }\n",
       "  table, th, td {\n",
       "    border: 1px solid black;\n",
       "    border-collapse: collapse;\n",
       "  }\n",
       "  th, td {\n",
       "    padding: 5px;\n",
       "  }\n",
       "  th {\n",
       "    text-align: left;\n",
       "  }\n",
       "</style><div class='table-result-container'><table class='table-result'><thead style='background-color: white'><tr><th>num_affected_rows</th><th>num_inserted_rows</th></tr></thead><tbody><tr><td>2</td><td>2</td></tr></tbody></table></div>"
      ]
     },
     "metadata": {
      "application/vnd.databricks.v1+output": {
       "addedWidgets": {},
       "aggData": [],
       "aggError": "",
       "aggOverflow": false,
       "aggSchema": [],
       "aggSeriesLimitReached": false,
       "aggType": "",
       "arguments": {},
       "columnCustomDisplayInfos": {},
       "data": [
        [
         2,
         2
        ]
       ],
       "datasetInfos": [],
       "dbfsResultPath": null,
       "isJsonSchema": true,
       "metadata": {},
       "overflow": false,
       "plotOptions": {
        "customPlotOptions": {},
        "displayType": "table",
        "pivotAggregation": null,
        "pivotColumns": null,
        "xColumns": null,
        "yColumns": null
       },
       "removedWidgets": [],
       "schema": [
        {
         "metadata": "{}",
         "name": "num_affected_rows",
         "type": "\"long\""
        },
        {
         "metadata": "{}",
         "name": "num_inserted_rows",
         "type": "\"long\""
        }
       ],
       "type": "table"
      }
     },
     "output_type": "display_data"
    }
   ],
   "source": [
    "%sql\n",
    "INSERT INTO bronze.my_delta_table\n",
    "VALUES (1, 'AA', 100), (2, 'BB', 200)"
   ]
  },
  {
   "cell_type": "code",
   "execution_count": 0,
   "metadata": {
    "application/vnd.databricks.v1+cell": {
     "cellMetadata": {
      "byteLimit": 2048000,
      "implicitDf": true,
      "rowLimit": 10000
     },
     "inputWidgets": {},
     "nuid": "e9af3ba9-c371-433a-a49b-c04150da08b9",
     "showTitle": false,
     "tableResultSettingsMap": {},
     "title": ""
    }
   },
   "outputs": [
    {
     "output_type": "display_data",
     "data": {
      "text/html": [
       "<style scoped>\n",
       "  .table-result-container {\n",
       "    max-height: 300px;\n",
       "    overflow: auto;\n",
       "  }\n",
       "  table, th, td {\n",
       "    border: 1px solid black;\n",
       "    border-collapse: collapse;\n",
       "  }\n",
       "  th, td {\n",
       "    padding: 5px;\n",
       "  }\n",
       "  th {\n",
       "    text-align: left;\n",
       "  }\n",
       "</style><div class='table-result-container'><table class='table-result'><thead style='background-color: white'><tr><th>id</th><th>name</th><th>salary</th></tr></thead><tbody><tr><td>1</td><td>AA</td><td>100.0</td></tr><tr><td>2</td><td>BB</td><td>200.0</td></tr></tbody></table></div>"
      ]
     },
     "metadata": {
      "application/vnd.databricks.v1+output": {
       "addedWidgets": {},
       "aggData": [],
       "aggError": "",
       "aggOverflow": false,
       "aggSchema": [],
       "aggSeriesLimitReached": false,
       "aggType": "",
       "arguments": {},
       "columnCustomDisplayInfos": {},
       "data": [
        [
         1,
         "AA",
         100.0
        ],
        [
         2,
         "BB",
         200.0
        ]
       ],
       "datasetInfos": [],
       "dbfsResultPath": null,
       "isJsonSchema": true,
       "metadata": {},
       "overflow": false,
       "plotOptions": {
        "customPlotOptions": {},
        "displayType": "table",
        "pivotAggregation": null,
        "pivotColumns": null,
        "xColumns": null,
        "yColumns": null
       },
       "removedWidgets": [],
       "schema": [
        {
         "metadata": "{}",
         "name": "id",
         "type": "\"integer\""
        },
        {
         "metadata": "{}",
         "name": "name",
         "type": "\"string\""
        },
        {
         "metadata": "{}",
         "name": "salary",
         "type": "\"double\""
        }
       ],
       "type": "table"
      }
     },
     "output_type": "display_data"
    }
   ],
   "source": [
    "%sql\n",
    "use catalog `hive_metastore`; select * from `bronze`.`my_delta_table` limit 100;"
   ]
  },
  {
   "cell_type": "code",
   "execution_count": 0,
   "metadata": {
    "application/vnd.databricks.v1+cell": {
     "cellMetadata": {
      "byteLimit": 2048000,
      "implicitDf": true,
      "rowLimit": 10000
     },
     "inputWidgets": {},
     "nuid": "738dcb77-ccc9-4dad-ae6c-9e7a25ebb55b",
     "showTitle": false,
     "tableResultSettingsMap": {},
     "title": ""
    }
   },
   "outputs": [
    {
     "output_type": "display_data",
     "data": {
      "text/html": [
       "<style scoped>\n",
       "  .table-result-container {\n",
       "    max-height: 300px;\n",
       "    overflow: auto;\n",
       "  }\n",
       "  table, th, td {\n",
       "    border: 1px solid black;\n",
       "    border-collapse: collapse;\n",
       "  }\n",
       "  th, td {\n",
       "    padding: 5px;\n",
       "  }\n",
       "  th {\n",
       "    text-align: left;\n",
       "  }\n",
       "</style><div class='table-result-container'><table class='table-result'><thead style='background-color: white'><tr><th>id</th><th>name</th><th>salary</th></tr></thead><tbody><tr><td>1</td><td>AA</td><td>100.0</td></tr><tr><td>2</td><td>BB</td><td>200.0</td></tr><tr><td>1</td><td>AA</td><td>100.0</td></tr><tr><td>2</td><td>BB</td><td>200.0</td></tr></tbody></table></div>"
      ]
     },
     "metadata": {
      "application/vnd.databricks.v1+output": {
       "addedWidgets": {},
       "aggData": [],
       "aggError": "",
       "aggOverflow": false,
       "aggSchema": [],
       "aggSeriesLimitReached": false,
       "aggType": "",
       "arguments": {},
       "columnCustomDisplayInfos": {},
       "data": [
        [
         1,
         "AA",
         100.0
        ],
        [
         2,
         "BB",
         200.0
        ],
        [
         1,
         "AA",
         100.0
        ],
        [
         2,
         "BB",
         200.0
        ]
       ],
       "datasetInfos": [],
       "dbfsResultPath": null,
       "isJsonSchema": true,
       "metadata": {},
       "overflow": false,
       "plotOptions": {
        "customPlotOptions": {},
        "displayType": "table",
        "pivotAggregation": null,
        "pivotColumns": null,
        "xColumns": null,
        "yColumns": null
       },
       "removedWidgets": [],
       "schema": [
        {
         "metadata": "{}",
         "name": "id",
         "type": "\"integer\""
        },
        {
         "metadata": "{}",
         "name": "name",
         "type": "\"string\""
        },
        {
         "metadata": "{}",
         "name": "salary",
         "type": "\"double\""
        }
       ],
       "type": "table"
      }
     },
     "output_type": "display_data"
    }
   ],
   "source": [
    "%sql\n",
    "SELECT * FROM my_delta_table"
   ]
  },
  {
   "cell_type": "code",
   "execution_count": 0,
   "metadata": {
    "application/vnd.databricks.v1+cell": {
     "cellMetadata": {
      "byteLimit": 2048000,
      "implicitDf": true,
      "rowLimit": 10000
     },
     "inputWidgets": {},
     "nuid": "8f95b583-5e74-42c8-847e-bba4c70a33ad",
     "showTitle": false,
     "tableResultSettingsMap": {},
     "title": ""
    }
   },
   "outputs": [
    {
     "output_type": "display_data",
     "data": {
      "text/html": [
       "<style scoped>\n",
       "  .table-result-container {\n",
       "    max-height: 300px;\n",
       "    overflow: auto;\n",
       "  }\n",
       "  table, th, td {\n",
       "    border: 1px solid black;\n",
       "    border-collapse: collapse;\n",
       "  }\n",
       "  th, td {\n",
       "    padding: 5px;\n",
       "  }\n",
       "  th {\n",
       "    text-align: left;\n",
       "  }\n",
       "</style><div class='table-result-container'><table class='table-result'><thead style='background-color: white'><tr><th>Branch_ID</th><th>Dealer_ID</th><th>Model_ID</th><th>Revenue</th><th>Units_Sold</th><th>Date_ID</th><th>Month</th><th>Year</th><th>BranchName</th><th>DealerName</th><th>Product_Name</th><th>Date</th><th>ReturnFlag</th></tr></thead><tbody><tr><td>BR1625</td><td>DLR0083</td><td>Che-M43</td><td>5608623</td><td>3</td><td>DT01151</td><td>2</td><td>2020</td><td>Ranger Motors</td><td>Honda India Motors</td><td>Chevrolet</td><td>2/25/2020 0:00</td><td>1</td></tr><tr><td>BR1630</td><td>DLR0250</td><td>Mah-M170</td><td>4796736</td><td>1</td><td>DT01139</td><td>2</td><td>2020</td><td>Ranger Motors</td><td>Aixam-Mega (including Arola) Motors</td><td>Mahindra</td><td>2/13/2020 0:00</td><td>1</td></tr><tr><td>BR1635</td><td>DLR0084</td><td>Che-M44</td><td>7473819</td><td>3</td><td>DT01152</td><td>2</td><td>2020</td><td>Reliant Motors</td><td>Hudson Motors</td><td>Chevrolet</td><td>2/26/2020 0:00</td><td>1</td></tr><tr><td>BR1640</td><td>DLR0251</td><td>Mah-M171</td><td>19794014</td><td>2</td><td>DT01140</td><td>2</td><td>2020</td><td>Reliant Motors</td><td>Alfa Romeo Motors</td><td>Mahindra</td><td>2/14/2020 0:00</td><td>1</td></tr><tr><td>BR1655</td><td>DLR0086</td><td>Che-M46</td><td>15077118</td><td>2</td><td>DT01154</td><td>2</td><td>2020</td><td>Rivian Motors</td><td>Hummer Motors</td><td>Chevrolet</td><td>2/28/2020 0:00</td><td>1</td></tr><tr><td>BR1660</td><td>DLR0253</td><td>Mah-M173</td><td>1134198</td><td>2</td><td>DT01142</td><td>2</td><td>2020</td><td>Rivian Motors</td><td>Alvis Motors</td><td>Mahindra</td><td>2/16/2020 0:00</td><td>1</td></tr><tr><td>BR1665</td><td>DLR0087</td><td>Che-M47</td><td>7622398</td><td>1</td><td>DT01155</td><td>2</td><td>2020</td><td>Rolls-Royce Motors</td><td>Hyundai Motors</td><td>Chevrolet</td><td>2/29/2020 0:00</td><td>1</td></tr><tr><td>BR1670</td><td>DLR0254</td><td>Mah-M174</td><td>6473726</td><td>1</td><td>DT01143</td><td>2</td><td>2020</td><td>Rolls-Royce Motors</td><td>AMC, Eagle Motors</td><td>Mahindra</td><td>2/17/2020 0:00</td><td>1</td></tr><tr><td>BR1680</td><td>DLR0255</td><td>Mah-M175</td><td>10287849</td><td>3</td><td>DT01144</td><td>2</td><td>2020</td><td>Saab Motors</td><td>Anadol Motors</td><td>Mahindra</td><td>2/18/2020 0:00</td><td>1</td></tr><tr><td>BR1685</td><td>DLR0089</td><td>Che-M49</td><td>2232010</td><td>1</td><td>DT01157</td><td>3</td><td>2020</td><td>SAIC Motor Motors</td><td>Infiniti Motors</td><td>Chevrolet</td><td>3/2/2020 0:00</td><td>1</td></tr><tr><td>BR1690</td><td>DLR0256</td><td>Mah-M176</td><td>9633912</td><td>2</td><td>DT01145</td><td>2</td><td>2020</td><td>SAIC Motor Motors</td><td>Ariel Motors</td><td>Mahindra</td><td>2/19/2020 0:00</td><td>1</td></tr><tr><td>BR1700</td><td>DLR0257</td><td>Mah-M177</td><td>3198540</td><td>3</td><td>DT01146</td><td>2</td><td>2020</td><td>Saleen Motors</td><td>ARO Motors</td><td>Mahindra</td><td>2/20/2020 0:00</td><td>1</td></tr><tr><td>BR1710</td><td>DLR0258</td><td>Mah-M178</td><td>8638572</td><td>2</td><td>DT01147</td><td>2</td><td>2020</td><td>Samsung Motors</td><td>null</td><td>Mahindra</td><td>2/21/2020 0:00</td><td>1</td></tr><tr><td>BR1715</td><td>DLR0092</td><td>GMC-M52</td><td>10283534</td><td>2</td><td>DT01160</td><td>3</td><td>2020</td><td>San Motors</td><td>Isdera Motors</td><td>GMC</td><td>3/5/2020 0:00</td><td>1</td></tr><tr><td>BR1720</td><td>DLR0259</td><td>Tat-M179</td><td>2656204</td><td>2</td><td>DT01148</td><td>2</td><td>2020</td><td>San Motors</td><td>Asia Motors Motors</td><td>Tata</td><td>2/22/2020 0:00</td><td>1</td></tr><tr><td>BR1725</td><td>DLR0093</td><td>GMC-M53</td><td>3508984</td><td>1</td><td>DT01161</td><td>3</td><td>2020</td><td>Santa Matilde Motors</td><td>Iso Motors</td><td>GMC</td><td>3/6/2020 0:00</td><td>1</td></tr><tr><td>BR1735</td><td>DLR0094</td><td>GMC-M54</td><td>8238429</td><td>3</td><td>DT01162</td><td>3</td><td>2020</td><td>Santana Motors</td><td>Isotta Fraschini Motors</td><td>GMC</td><td>3/7/2020 0:00</td><td>1</td></tr><tr><td>BR1745</td><td>DLR0095</td><td>GMC-M55</td><td>19930602</td><td>2</td><td>DT01163</td><td>3</td><td>2020</td><td>Saturn Motors</td><td>Isuzu Motors</td><td>GMC</td><td>3/8/2020 0:00</td><td>1</td></tr><tr><td>BR1750</td><td>DLR0262</td><td>Tat-M182</td><td>10592974</td><td>2</td><td>DT01151</td><td>2</td><td>2020</td><td>Saturn Motors</td><td>Autobianchi Motors</td><td>Tata</td><td>2/25/2020 0:00</td><td>1</td></tr><tr><td>BR1755</td><td>DLR0096</td><td>GMC-M56</td><td>19774090</td><td>2</td><td>DT01164</td><td>3</td><td>2020</td><td>Scion Motors</td><td>Iveco Motors</td><td>GMC</td><td>3/9/2020 0:00</td><td>1</td></tr><tr><td>BR1765</td><td>DLR0097</td><td>GMC-M57</td><td>16250655</td><td>3</td><td>DT01165</td><td>3</td><td>2020</td><td>Seat Motors</td><td>Jaguar Motors</td><td>GMC</td><td>3/10/2020 0:00</td><td>1</td></tr><tr><td>BR1770</td><td>DLR0264</td><td>Tat-M184</td><td>8789076</td><td>2</td><td>DT01153</td><td>2</td><td>2020</td><td>Seat Motors</td><td>Auverland Motors</td><td>Tata</td><td>2/27/2020 0:00</td><td>1</td></tr><tr><td>BR1780</td><td>DLR0265</td><td>Tat-M185</td><td>5907291</td><td>1</td><td>DT01154</td><td>2</td><td>2020</td><td>Shelby SuperCars Motors</td><td>Bentley Motors</td><td>Tata</td><td>2/28/2020 0:00</td><td>1</td></tr><tr><td>BR1785</td><td>DLR0099</td><td>Acu-M59</td><td>8656704</td><td>3</td><td>DT01167</td><td>3</td><td>2020</td><td>Simca Motors</td><td>Jensen Motors</td><td>Acura</td><td>3/12/2020 0:00</td><td>1</td></tr><tr><td>BR1795</td><td>DLR0100</td><td>Acu-M60</td><td>3338625</td><td>3</td><td>DT01168</td><td>3</td><td>2020</td><td>Simca do Brasil Motors</td><td>JPX Motors</td><td>Acura</td><td>3/13/2020 0:00</td><td>1</td></tr><tr><td>BR1800</td><td>DLR0267</td><td>Tat-M187</td><td>6558027</td><td>3</td><td>DT01156</td><td>3</td><td>2020</td><td>Simca do Brasil Motors</td><td>BMW Motors</td><td>Tata</td><td>3/1/2020 0:00</td><td>1</td></tr><tr><td>BR1805</td><td>DLR0101</td><td>Acu-M61</td><td>6868940</td><td>1</td><td>DT01169</td><td>3</td><td>2020</td><td>Singer Motors</td><td>Kia Motors</td><td>Acura</td><td>3/14/2020 0:00</td><td>1</td></tr><tr><td>BR1815</td><td>DLR0102</td><td>Acu-M62</td><td>9592556</td><td>1</td><td>DT01170</td><td>3</td><td>2020</td><td>Skoda Motors</td><td>Koenigsegg Motors</td><td>Acura</td><td>3/15/2020 0:00</td><td>1</td></tr><tr><td>BR1820</td><td>DLR0002</td><td>Tat-M189</td><td>2847247</td><td>1</td><td>DT01158</td><td>3</td><td>2020</td><td>Skoda Motors</td><td>Acura Motors</td><td>Tata</td><td>3/3/2020 0:00</td><td>1</td></tr><tr><td>BR1830</td><td>DLR0003</td><td>Tat-M190</td><td>8462551</td><td>1</td><td>DT01159</td><td>3</td><td>2020</td><td>Smart Motors</td><td>Aixam-Mega (including Arola) Motors</td><td>Tata</td><td>3/4/2020 0:00</td><td>1</td></tr><tr><td>BR1835</td><td>DLR0104</td><td>Hon-M64</td><td>18031704</td><td>2</td><td>DT01172</td><td>3</td><td>2020</td><td>Spyker Motors</td><td>Lada Motors</td><td>Honda</td><td>3/17/2020 0:00</td><td>1</td></tr><tr><td>BR1840</td><td>DLR0004</td><td>Tat-M191</td><td>14824880</td><td>2</td><td>DT01160</td><td>3</td><td>2020</td><td>Spyker Motors</td><td>Alfa Romeo Motors</td><td>Tata</td><td>3/5/2020 0:00</td><td>1</td></tr><tr><td>BR1845</td><td>DLR0105</td><td>Hon-M65</td><td>19645278</td><td>3</td><td>DT01173</td><td>3</td><td>2020</td><td>SsangYong Motors</td><td>Lamborghini Motors</td><td>Honda</td><td>3/18/2020 0:00</td><td>1</td></tr><tr><td>BR1855</td><td>DLR0106</td><td>Hon-M66</td><td>12924729</td><td>3</td><td>DT01174</td><td>3</td><td>2020</td><td>Standard-Triumph Motors</td><td>Lancia Motors</td><td>Honda</td><td>3/19/2020 0:00</td><td>1</td></tr><tr><td>BR1860</td><td>DLR0006</td><td>Tat-M193</td><td>19782228</td><td>3</td><td>DT01162</td><td>3</td><td>2020</td><td>Standard-Triumph Motors</td><td>Alvis Motors</td><td>Tata</td><td>3/7/2020 0:00</td><td>1</td></tr><tr><td>BR1865</td><td>DLR0107</td><td>Hon-M67</td><td>17791749</td><td>3</td><td>DT01175</td><td>3</td><td>2020</td><td>Studebaker Motors</td><td>Land Rover Motors</td><td>Honda</td><td>3/20/2020 0:00</td><td>1</td></tr><tr><td>BR1875</td><td>DLR0108</td><td>Hon-M68</td><td>2569118</td><td>2</td><td>DT01176</td><td>3</td><td>2020</td><td>Subaru Motors</td><td>Lexus Motors</td><td>Honda</td><td>3/21/2020 0:00</td><td>1</td></tr><tr><td>BR1880</td><td>DLR0008</td><td>Toy-M195</td><td>9541679</td><td>1</td><td>DT01164</td><td>3</td><td>2020</td><td>Subaru Motors</td><td>Anadol Motors</td><td>Toyota</td><td>3/9/2020 0:00</td><td>1</td></tr><tr><td>BR1895</td><td>DLR0110</td><td>Hon-M70</td><td>13877574</td><td>2</td><td>DT01178</td><td>3</td><td>2020</td><td>Suzuki Motors</td><td>Lincoln Motors</td><td>Honda</td><td>3/23/2020 0:00</td><td>1</td></tr><tr><td>BR1905</td><td>DLR0111</td><td>Hon-M71</td><td>26277687</td><td>3</td><td>DT01179</td><td>3</td><td>2020</td><td>Tata Motors</td><td>Lotus Motors</td><td>Honda</td><td>3/24/2020 0:00</td><td>1</td></tr><tr><td>BR1910</td><td>DLR0011</td><td>Toy-M198</td><td>9387408</td><td>2</td><td>DT01167</td><td>3</td><td>2020</td><td>Tata Motors</td><td>Artega Motors</td><td>Toyota</td><td>3/12/2020 0:00</td><td>1</td></tr><tr><td>BR1915</td><td>DLR0112</td><td>Hyu-M72</td><td>2145815</td><td>1</td><td>DT01180</td><td>3</td><td>2020</td><td>Tatra Motors</td><td>LTI Motors</td><td>Hyundai</td><td>3/25/2020 0:00</td><td>1</td></tr><tr><td>BR1920</td><td>DLR0012</td><td>Toy-M199</td><td>8137212</td><td>2</td><td>DT01168</td><td>3</td><td>2020</td><td>Tatra Motors</td><td>Asia Motors Motors</td><td>Toyota</td><td>3/13/2020 0:00</td><td>1</td></tr><tr><td>BR1925</td><td>DLR0113</td><td>Hyu-M73</td><td>7259016</td><td>2</td><td>DT01181</td><td>3</td><td>2020</td><td>Tazzari Motors</td><td>LuAZ Motors</td><td>Hyundai</td><td>3/26/2020 0:00</td><td>1</td></tr><tr><td>BR1930</td><td>DLR0013</td><td>Toy-M200</td><td>27872751</td><td>3</td><td>DT01169</td><td>3</td><td>2020</td><td>Tazzari Motors</td><td>Aston Martin Motors</td><td>Toyota</td><td>3/14/2020 0:00</td><td>1</td></tr><tr><td>BR1935</td><td>DLR0114</td><td>Hyu-M74</td><td>1988116</td><td>2</td><td>DT01182</td><td>3</td><td>2020</td><td>Tesla Motors</td><td>Lynx Motors</td><td>Hyundai</td><td>3/27/2020 0:00</td><td>1</td></tr><tr><td>BR1940</td><td>DLR0014</td><td>Toy-M201</td><td>8464536</td><td>2</td><td>DT01170</td><td>3</td><td>2020</td><td>Tesla Motors</td><td>Audi Motors</td><td>Toyota</td><td>3/15/2020 0:00</td><td>1</td></tr><tr><td>BR1945</td><td>DLR0115</td><td>Hyu-M75</td><td>15778162</td><td>2</td><td>DT01183</td><td>3</td><td>2020</td><td>Tornado Motors</td><td>Mahindra Motors</td><td>Hyundai</td><td>3/28/2020 0:00</td><td>1</td></tr><tr><td>BR1955</td><td>DLR0116</td><td>Kia-M76</td><td>2167212</td><td>3</td><td>DT01184</td><td>3</td><td>2020</td><td>Toyota Motors</td><td>Marcos Motors</td><td>Kia</td><td>3/29/2020 0:00</td><td>1</td></tr><tr><td>BR1960</td><td>DLR0016</td><td>Toy-M203</td><td>4420992</td><td>1</td><td>DT01172</td><td>3</td><td>2020</td><td>Toyota Motors</td><td>Auto-Union Motors</td><td>Toyota</td><td>3/17/2020 0:00</td><td>1</td></tr><tr><td>BR1965</td><td>DLR0117</td><td>Kia-M77</td><td>9918502</td><td>2</td><td>DT01185</td><td>3</td><td>2020</td><td>Toyota India Motors</td><td>Marlin Motors</td><td>Kia</td><td>3/30/2020 0:00</td><td>1</td></tr><tr><td>BR1975</td><td>DLR0118</td><td>Kia-M78</td><td>12487035</td><td>3</td><td>DT01186</td><td>3</td><td>2020</td><td>Turner Motors</td><td>Maruti Motors</td><td>Kia</td><td>3/31/2020 0:00</td><td>1</td></tr><tr><td>BR1980</td><td>DLR0018</td><td>Toy-M205</td><td>18797763</td><td>3</td><td>DT01174</td><td>3</td><td>2020</td><td>Turner Motors</td><td>Bentley Motors</td><td>Toyota</td><td>3/19/2020 0:00</td><td>1</td></tr><tr><td>BR1985</td><td>DLR0119</td><td>Inf-M79</td><td>1185524</td><td>2</td><td>DT01187</td><td>4</td><td>2020</td><td>TVR Motors</td><td>Maserati Motors</td><td>Infiniti</td><td>4/1/2020 0:00</td><td>1</td></tr><tr><td>BR1990</td><td>DLR0019</td><td>Toy-M206</td><td>16819923</td><td>3</td><td>DT01175</td><td>3</td><td>2020</td><td>TVR Motors</td><td>Bitter Motors</td><td>Toyota</td><td>3/20/2020 0:00</td><td>1</td></tr><tr><td>BR2000</td><td>DLR0020</td><td>Ren-M207</td><td>26641407</td><td>3</td><td>DT01176</td><td>3</td><td>2020</td><td>UAZ Motors</td><td>BMW Motors</td><td>Renault</td><td>3/21/2020 0:00</td><td>1</td></tr><tr><td>BR2005</td><td>DLR0121</td><td>Nis-M81</td><td>29104182</td><td>3</td><td>DT01189</td><td>4</td><td>2020</td><td>Vauxhall Motors</td><td>Matra (including Deutsch-Bonnet, René Bonnet) Motors</td><td>Nissan</td><td>4/3/2020 0:00</td><td>1</td></tr><tr><td>BR2025</td><td>DLR0123</td><td>Nis-M83</td><td>6607616</td><td>1</td><td>DT01191</td><td>4</td><td>2020</td><td>Volkswagen Motors</td><td>Mazzanti Motors</td><td>Nissan</td><td>4/5/2020 0:00</td><td>1</td></tr><tr><td>BR2030</td><td>DLR0023</td><td>Ren-M210</td><td>29245743</td><td>3</td><td>DT01179</td><td>3</td><td>2020</td><td>Volkswagen Motors</td><td>Bristol Motors</td><td>Renault</td><td>3/24/2020 0:00</td><td>1</td></tr><tr><td>BR2035</td><td>DLR0124</td><td>Nis-M84</td><td>11136476</td><td>2</td><td>DT01192</td><td>4</td><td>2020</td><td>Volkswagen do Brasil Motors</td><td>McLaren Motors</td><td>Nissan</td><td>4/6/2020 0:00</td><td>1</td></tr><tr><td>BR2040</td><td>DLR0024</td><td>Ren-M211</td><td>1362898</td><td>1</td><td>DT01180</td><td>3</td><td>2020</td><td>Volkswagen do Brasil Motors</td><td>British Leyland Motors</td><td>Renault</td><td>3/25/2020 0:00</td><td>1</td></tr><tr><td>BR2045</td><td>DLR0125</td><td>Nis-M85</td><td>8087798</td><td>2</td><td>DT01193</td><td>4</td><td>2020</td><td>Volkswagen South Africa Motors</td><td>Mercedes-Benz (including Maybach) Motors</td><td>Nissan</td><td>4/7/2020 0:00</td><td>1</td></tr><tr><td>BR2050</td><td>DLR0025</td><td>Kia-M212</td><td>24546006</td><td>3</td><td>DT01181</td><td>3</td><td>2020</td><td>Volkswagen South Africa Motors</td><td>Austin-Healey Motors</td><td>Kia</td><td>3/26/2020 0:00</td><td>1</td></tr><tr><td>BR2060</td><td>DLR0026</td><td>Kia-M213</td><td>2493076</td><td>1</td><td>DT01182</td><td>3</td><td>2020</td><td>Volvo Motors</td><td>Austin, Rover Motors</td><td>Kia</td><td>3/27/2020 0:00</td><td>1</td></tr><tr><td>BR2065</td><td>DLR0127</td><td>Nis-M87</td><td>5761937</td><td>1</td><td>DT01195</td><td>4</td><td>2020</td><td>Westfield Motors</td><td>Merkur Motors</td><td>Nissan</td><td>4/9/2020 0:00</td><td>1</td></tr><tr><td>BR2070</td><td>DLR0027</td><td>Kia-M214</td><td>8376524</td><td>1</td><td>DT01183</td><td>3</td><td>2020</td><td>Westfield Motors</td><td>Bugatti Motors</td><td>Kia</td><td>3/28/2020 0:00</td><td>1</td></tr><tr><td>BR2075</td><td>DLR0128</td><td>Nis-M88</td><td>5248404</td><td>2</td><td>DT01196</td><td>4</td><td>2020</td><td>Wiesmann Motors</td><td>Messerschmitt Motors</td><td>Nissan</td><td>4/10/2020 0:00</td><td>1</td></tr><tr><td>BR2080</td><td>DLR0028</td><td>Hon-M215</td><td>7528299</td><td>1</td><td>DT01184</td><td>3</td><td>2020</td><td>Wiesmann Motors</td><td>Buick Motors</td><td>Honda</td><td>3/29/2020 0:00</td><td>1</td></tr><tr><td>BR2085</td><td>DLR0129</td><td>Nis-M89</td><td>8997126</td><td>3</td><td>DT01197</td><td>4</td><td>2020</td><td>Zastava Motors</td><td>Mia Motors</td><td>Nissan</td><td>4/11/2020 0:00</td><td>1</td></tr><tr><td>BR2090</td><td>DLR0029</td><td>Hon-M216</td><td>1297858</td><td>1</td><td>DT01185</td><td>3</td><td>2020</td><td>Zastava Motors</td><td>Bytom Motors</td><td>Honda</td><td>3/30/2020 0:00</td><td>1</td></tr><tr><td>BR2095</td><td>DLR0130</td><td>Riv-M90</td><td>14384055</td><td>3</td><td>DT01198</td><td>4</td><td>2020</td><td>ZAZ Motors</td><td>Micro Motors</td><td>Rivian</td><td>4/12/2020 0:00</td><td>1</td></tr><tr><td>BR2100</td><td>DLR0030</td><td>Hon-M217</td><td>1794492</td><td>1</td><td>DT01186</td><td>3</td><td>2020</td><td>ZAZ Motors</td><td>Cadillac Motors</td><td>Honda</td><td>3/31/2020 0:00</td><td>1</td></tr><tr><td>BR2105</td><td>DLR0131</td><td>Riv-M91</td><td>9851706</td><td>3</td><td>DT01199</td><td>4</td><td>2020</td><td>ZIL Motors</td><td>Mini Motors</td><td>Rivian</td><td>4/13/2020 0:00</td><td>1</td></tr><tr><td>BR2110</td><td>DLR0031</td><td>Hon-M218</td><td>7084610</td><td>1</td><td>DT01187</td><td>4</td><td>2020</td><td>ZIL Motors</td><td>Caterham Motors</td><td>Honda</td><td>4/1/2020 0:00</td><td>1</td></tr><tr><td>BR2115</td><td>DLR0132</td><td>Sub-M92</td><td>18425982</td><td>2</td><td>DT01200</td><td>4</td><td>2020</td><td>Audi Motors</td><td>Mitsubishi Motors</td><td>Subaru</td><td>4/14/2020 0:00</td><td>1</td></tr><tr><td>BR2125</td><td>DLR0133</td><td>Sub-M93</td><td>8790030</td><td>1</td><td>DT01201</td><td>4</td><td>2020</td><td>DKW Motors</td><td>Monica Motors</td><td>Subaru</td><td>4/15/2020 0:00</td><td>1</td></tr><tr><td>BR2130</td><td>DLR0033</td><td>Hon-M220</td><td>2203758</td><td>1</td><td>DT01189</td><td>4</td><td>2020</td><td>DKW Motors</td><td>Chevrolet Motors</td><td>Honda</td><td>4/3/2020 0:00</td><td>1</td></tr><tr><td>BR2135</td><td>DLR0134</td><td>Sub-M94</td><td>8253262</td><td>2</td><td>DT01202</td><td>4</td><td>2020</td><td>Horch Motors</td><td>Monteverdi Motors</td><td>Subaru</td><td>4/16/2020 0:00</td><td>1</td></tr><tr><td>BR2140</td><td>DLR0034</td><td>For-M221</td><td>18982494</td><td>3</td><td>DT01190</td><td>4</td><td>2020</td><td>Horch Motors</td><td>Chevrolet India Motors</td><td>Ford</td><td>4/4/2020 0:00</td><td>1</td></tr><tr><td>BR2150</td><td>DLR0035</td><td>For-M222</td><td>1010235</td><td>3</td><td>DT01191</td><td>4</td><td>2020</td><td>Wanderer Motors</td><td>Chrysler Motors</td><td>Ford</td><td>4/5/2020 0:00</td><td>1</td></tr><tr><td>BR2155</td><td>DLR0136</td><td>Tes-M96</td><td>11171496</td><td>3</td><td>DT01204</td><td>4</td><td>2020</td><td>Maybach  Motors</td><td>Moskwitch Motors</td><td>Tesla</td><td>4/18/2020 0:00</td><td>1</td></tr><tr><td>BR2160</td><td>DLR0036</td><td>For-M223</td><td>4417448</td><td>2</td><td>DT01192</td><td>4</td><td>2020</td><td>Maybach  Motors</td><td>Chrysler Europe Motors</td><td>Ford</td><td>4/6/2020 0:00</td><td>1</td></tr><tr><td>BR2165</td><td>DLR0137</td><td>Tes-M97</td><td>26413749</td><td>3</td><td>DT01205</td><td>4</td><td>2020</td><td>Izh  Motors</td><td>Nash Motors</td><td>Tesla</td><td>4/19/2020 0:00</td><td>1</td></tr><tr><td>BR2170</td><td>DLR0037</td><td>For-M224</td><td>1229389</td><td>1</td><td>DT01193</td><td>4</td><td>2020</td><td>Izh  Motors</td><td>Citroën Motors</td><td>Ford</td><td>4/7/2020 0:00</td><td>1</td></tr><tr><td>BR2175</td><td>DLR0138</td><td>Tes-M98</td><td>8877463</td><td>1</td><td>DT01206</td><td>4</td><td>2020</td><td>Lagonda  Motors</td><td>Naza Motors</td><td>Tesla</td><td>4/20/2020 0:00</td><td>1</td></tr><tr><td>BR2180</td><td>DLR0038</td><td>For-M225</td><td>10562268</td><td>3</td><td>DT01194</td><td>4</td><td>2020</td><td>Lagonda  Motors</td><td>Cizeta-Moroder Motors</td><td>Ford</td><td>4/8/2020 0:00</td><td>1</td></tr><tr><td>BR2185</td><td>DLR0139</td><td>Lex-M99</td><td>20577474</td><td>3</td><td>DT01207</td><td>4</td><td>2020</td><td>MG  Motors</td><td>Nissan Motors</td><td>Lexus</td><td>4/21/2020 0:00</td><td>1</td></tr><tr><td>BR2190</td><td>DLR0039</td><td>For-M226</td><td>13949298</td><td>2</td><td>DT01195</td><td>4</td><td>2020</td><td>MG  Motors</td><td>Dacia Motors</td><td>Ford</td><td>4/9/2020 0:00</td><td>1</td></tr><tr><td>BR2195</td><td>DLR0140</td><td>Toy-M100</td><td>15681306</td><td>2</td><td>DT01208</td><td>4</td><td>2020</td><td>Morris  Motors</td><td>Nissan India Motors</td><td>Toyota</td><td>4/22/2020 0:00</td><td>1</td></tr><tr><td>BR2200</td><td>DLR0040</td><td>Aud-M227</td><td>8881768</td><td>1</td><td>DT01196</td><td>4</td><td>2020</td><td>Morris  Motors</td><td>Daewoo, Saehan, Chevrolet Korea Motors</td><td>Audi</td><td>4/10/2020 0:00</td><td>1</td></tr><tr><td>BR2210</td><td>DLR0041</td><td>Aud-M228</td><td>14143962</td><td>2</td><td>DT01197</td><td>4</td><td>2020</td><td>Austin  Motors</td><td>DAF Motors</td><td>Audi</td><td>4/11/2020 0:00</td><td>1</td></tr><tr><td>BR2220</td><td>DLR0042</td><td>Aud-M229</td><td>5651109</td><td>3</td><td>DT01198</td><td>4</td><td>2020</td><td>Riley  Motors</td><td>Daihatsu Motors</td><td>Audi</td><td>4/12/2020 0:00</td><td>1</td></tr><tr><td>BR2225</td><td>DLR0143</td><td>Toy-M103</td><td>9042719</td><td>1</td><td>DT01211</td><td>4</td><td>2020</td><td>Wolseley  Motors</td><td>Oldsmobile Motors</td><td>Toyota</td><td>4/25/2020 0:00</td><td>1</td></tr><tr><td>BR2230</td><td>DLR0043</td><td>Aud-M230</td><td>18718750</td><td>2</td><td>DT01199</td><td>4</td><td>2020</td><td>Wolseley  Motors</td><td>Daimler Motors</td><td>Audi</td><td>4/13/2020 0:00</td><td>1</td></tr><tr><td>BR2240</td><td>DLR0044</td><td>Aud-M231</td><td>19955415</td><td>3</td><td>DT01200</td><td>4</td><td>2020</td><td>Standard  Motors</td><td>null</td><td>Audi</td><td>4/14/2020 0:00</td><td>1</td></tr><tr><td>BR2245</td><td>DLR0145</td><td>Toy-M105</td><td>8064714</td><td>2</td><td>DT01213</td><td>4</td><td>2020</td><td>Talbot  Motors</td><td>Opel Motors</td><td>Toyota</td><td>4/27/2020 0:00</td><td>1</td></tr><tr><td>BR2250</td><td>DLR0045</td><td>Aud-M232</td><td>1853412</td><td>2</td><td>DT01201</td><td>4</td><td>2020</td><td>Talbot  Motors</td><td>Delahaye Motors</td><td>Audi</td><td>4/15/2020 0:00</td><td>1</td></tr><tr><td>BR2260</td><td>DLR0046</td><td>Aud-M233</td><td>226386</td><td>2</td><td>DT01202</td><td>4</td><td>2020</td><td>Das Motors</td><td>DeLorean Motors</td><td>Audi</td><td>4/16/2020 0:00</td><td>1</td></tr><tr><td>BR2270</td><td>DLR0047</td><td>Aud-M234</td><td>7358930</td><td>2</td><td>DT01203</td><td>4</td><td>2020</td><td>Ramani Motors</td><td>DeSoto Motors</td><td>Audi</td><td>4/17/2020 0:00</td><td>1</td></tr><tr><td>BR2275</td><td>DLR0148</td><td>Vol-M108</td><td>17151476</td><td>2</td><td>DT01216</td><td>4</td><td>2020</td><td>Deccan Motors</td><td>Panhard Motors</td><td>Volkswagen</td><td>4/30/2020 0:00</td><td>1</td></tr></tbody></table></div>"
      ]
     },
     "metadata": {
      "application/vnd.databricks.v1+output": {
       "addedWidgets": {},
       "aggData": [],
       "aggError": "",
       "aggOverflow": false,
       "aggSchema": [],
       "aggSeriesLimitReached": false,
       "aggType": "",
       "arguments": {},
       "columnCustomDisplayInfos": {},
       "data": [
        [
         "BR1625",
         "DLR0083",
         "Che-M43",
         5608623,
         3,
         "DT01151",
         2,
         2020,
         "Ranger Motors",
         "Honda India Motors",
         "Chevrolet",
         "2/25/2020 0:00",
         1
        ],
        [
         "BR1630",
         "DLR0250",
         "Mah-M170",
         4796736,
         1,
         "DT01139",
         2,
         2020,
         "Ranger Motors",
         "Aixam-Mega (including Arola) Motors",
         "Mahindra",
         "2/13/2020 0:00",
         1
        ],
        [
         "BR1635",
         "DLR0084",
         "Che-M44",
         7473819,
         3,
         "DT01152",
         2,
         2020,
         "Reliant Motors",
         "Hudson Motors",
         "Chevrolet",
         "2/26/2020 0:00",
         1
        ],
        [
         "BR1640",
         "DLR0251",
         "Mah-M171",
         19794014,
         2,
         "DT01140",
         2,
         2020,
         "Reliant Motors",
         "Alfa Romeo Motors",
         "Mahindra",
         "2/14/2020 0:00",
         1
        ],
        [
         "BR1655",
         "DLR0086",
         "Che-M46",
         15077118,
         2,
         "DT01154",
         2,
         2020,
         "Rivian Motors",
         "Hummer Motors",
         "Chevrolet",
         "2/28/2020 0:00",
         1
        ],
        [
         "BR1660",
         "DLR0253",
         "Mah-M173",
         1134198,
         2,
         "DT01142",
         2,
         2020,
         "Rivian Motors",
         "Alvis Motors",
         "Mahindra",
         "2/16/2020 0:00",
         1
        ],
        [
         "BR1665",
         "DLR0087",
         "Che-M47",
         7622398,
         1,
         "DT01155",
         2,
         2020,
         "Rolls-Royce Motors",
         "Hyundai Motors",
         "Chevrolet",
         "2/29/2020 0:00",
         1
        ],
        [
         "BR1670",
         "DLR0254",
         "Mah-M174",
         6473726,
         1,
         "DT01143",
         2,
         2020,
         "Rolls-Royce Motors",
         "AMC, Eagle Motors",
         "Mahindra",
         "2/17/2020 0:00",
         1
        ],
        [
         "BR1680",
         "DLR0255",
         "Mah-M175",
         10287849,
         3,
         "DT01144",
         2,
         2020,
         "Saab Motors",
         "Anadol Motors",
         "Mahindra",
         "2/18/2020 0:00",
         1
        ],
        [
         "BR1685",
         "DLR0089",
         "Che-M49",
         2232010,
         1,
         "DT01157",
         3,
         2020,
         "SAIC Motor Motors",
         "Infiniti Motors",
         "Chevrolet",
         "3/2/2020 0:00",
         1
        ],
        [
         "BR1690",
         "DLR0256",
         "Mah-M176",
         9633912,
         2,
         "DT01145",
         2,
         2020,
         "SAIC Motor Motors",
         "Ariel Motors",
         "Mahindra",
         "2/19/2020 0:00",
         1
        ],
        [
         "BR1700",
         "DLR0257",
         "Mah-M177",
         3198540,
         3,
         "DT01146",
         2,
         2020,
         "Saleen Motors",
         "ARO Motors",
         "Mahindra",
         "2/20/2020 0:00",
         1
        ],
        [
         "BR1710",
         "DLR0258",
         "Mah-M178",
         8638572,
         2,
         "DT01147",
         2,
         2020,
         "Samsung Motors",
         null,
         "Mahindra",
         "2/21/2020 0:00",
         1
        ],
        [
         "BR1715",
         "DLR0092",
         "GMC-M52",
         10283534,
         2,
         "DT01160",
         3,
         2020,
         "San Motors",
         "Isdera Motors",
         "GMC",
         "3/5/2020 0:00",
         1
        ],
        [
         "BR1720",
         "DLR0259",
         "Tat-M179",
         2656204,
         2,
         "DT01148",
         2,
         2020,
         "San Motors",
         "Asia Motors Motors",
         "Tata",
         "2/22/2020 0:00",
         1
        ],
        [
         "BR1725",
         "DLR0093",
         "GMC-M53",
         3508984,
         1,
         "DT01161",
         3,
         2020,
         "Santa Matilde Motors",
         "Iso Motors",
         "GMC",
         "3/6/2020 0:00",
         1
        ],
        [
         "BR1735",
         "DLR0094",
         "GMC-M54",
         8238429,
         3,
         "DT01162",
         3,
         2020,
         "Santana Motors",
         "Isotta Fraschini Motors",
         "GMC",
         "3/7/2020 0:00",
         1
        ],
        [
         "BR1745",
         "DLR0095",
         "GMC-M55",
         19930602,
         2,
         "DT01163",
         3,
         2020,
         "Saturn Motors",
         "Isuzu Motors",
         "GMC",
         "3/8/2020 0:00",
         1
        ],
        [
         "BR1750",
         "DLR0262",
         "Tat-M182",
         10592974,
         2,
         "DT01151",
         2,
         2020,
         "Saturn Motors",
         "Autobianchi Motors",
         "Tata",
         "2/25/2020 0:00",
         1
        ],
        [
         "BR1755",
         "DLR0096",
         "GMC-M56",
         19774090,
         2,
         "DT01164",
         3,
         2020,
         "Scion Motors",
         "Iveco Motors",
         "GMC",
         "3/9/2020 0:00",
         1
        ],
        [
         "BR1765",
         "DLR0097",
         "GMC-M57",
         16250655,
         3,
         "DT01165",
         3,
         2020,
         "Seat Motors",
         "Jaguar Motors",
         "GMC",
         "3/10/2020 0:00",
         1
        ],
        [
         "BR1770",
         "DLR0264",
         "Tat-M184",
         8789076,
         2,
         "DT01153",
         2,
         2020,
         "Seat Motors",
         "Auverland Motors",
         "Tata",
         "2/27/2020 0:00",
         1
        ],
        [
         "BR1780",
         "DLR0265",
         "Tat-M185",
         5907291,
         1,
         "DT01154",
         2,
         2020,
         "Shelby SuperCars Motors",
         "Bentley Motors",
         "Tata",
         "2/28/2020 0:00",
         1
        ],
        [
         "BR1785",
         "DLR0099",
         "Acu-M59",
         8656704,
         3,
         "DT01167",
         3,
         2020,
         "Simca Motors",
         "Jensen Motors",
         "Acura",
         "3/12/2020 0:00",
         1
        ],
        [
         "BR1795",
         "DLR0100",
         "Acu-M60",
         3338625,
         3,
         "DT01168",
         3,
         2020,
         "Simca do Brasil Motors",
         "JPX Motors",
         "Acura",
         "3/13/2020 0:00",
         1
        ],
        [
         "BR1800",
         "DLR0267",
         "Tat-M187",
         6558027,
         3,
         "DT01156",
         3,
         2020,
         "Simca do Brasil Motors",
         "BMW Motors",
         "Tata",
         "3/1/2020 0:00",
         1
        ],
        [
         "BR1805",
         "DLR0101",
         "Acu-M61",
         6868940,
         1,
         "DT01169",
         3,
         2020,
         "Singer Motors",
         "Kia Motors",
         "Acura",
         "3/14/2020 0:00",
         1
        ],
        [
         "BR1815",
         "DLR0102",
         "Acu-M62",
         9592556,
         1,
         "DT01170",
         3,
         2020,
         "Skoda Motors",
         "Koenigsegg Motors",
         "Acura",
         "3/15/2020 0:00",
         1
        ],
        [
         "BR1820",
         "DLR0002",
         "Tat-M189",
         2847247,
         1,
         "DT01158",
         3,
         2020,
         "Skoda Motors",
         "Acura Motors",
         "Tata",
         "3/3/2020 0:00",
         1
        ],
        [
         "BR1830",
         "DLR0003",
         "Tat-M190",
         8462551,
         1,
         "DT01159",
         3,
         2020,
         "Smart Motors",
         "Aixam-Mega (including Arola) Motors",
         "Tata",
         "3/4/2020 0:00",
         1
        ],
        [
         "BR1835",
         "DLR0104",
         "Hon-M64",
         18031704,
         2,
         "DT01172",
         3,
         2020,
         "Spyker Motors",
         "Lada Motors",
         "Honda",
         "3/17/2020 0:00",
         1
        ],
        [
         "BR1840",
         "DLR0004",
         "Tat-M191",
         14824880,
         2,
         "DT01160",
         3,
         2020,
         "Spyker Motors",
         "Alfa Romeo Motors",
         "Tata",
         "3/5/2020 0:00",
         1
        ],
        [
         "BR1845",
         "DLR0105",
         "Hon-M65",
         19645278,
         3,
         "DT01173",
         3,
         2020,
         "SsangYong Motors",
         "Lamborghini Motors",
         "Honda",
         "3/18/2020 0:00",
         1
        ],
        [
         "BR1855",
         "DLR0106",
         "Hon-M66",
         12924729,
         3,
         "DT01174",
         3,
         2020,
         "Standard-Triumph Motors",
         "Lancia Motors",
         "Honda",
         "3/19/2020 0:00",
         1
        ],
        [
         "BR1860",
         "DLR0006",
         "Tat-M193",
         19782228,
         3,
         "DT01162",
         3,
         2020,
         "Standard-Triumph Motors",
         "Alvis Motors",
         "Tata",
         "3/7/2020 0:00",
         1
        ],
        [
         "BR1865",
         "DLR0107",
         "Hon-M67",
         17791749,
         3,
         "DT01175",
         3,
         2020,
         "Studebaker Motors",
         "Land Rover Motors",
         "Honda",
         "3/20/2020 0:00",
         1
        ],
        [
         "BR1875",
         "DLR0108",
         "Hon-M68",
         2569118,
         2,
         "DT01176",
         3,
         2020,
         "Subaru Motors",
         "Lexus Motors",
         "Honda",
         "3/21/2020 0:00",
         1
        ],
        [
         "BR1880",
         "DLR0008",
         "Toy-M195",
         9541679,
         1,
         "DT01164",
         3,
         2020,
         "Subaru Motors",
         "Anadol Motors",
         "Toyota",
         "3/9/2020 0:00",
         1
        ],
        [
         "BR1895",
         "DLR0110",
         "Hon-M70",
         13877574,
         2,
         "DT01178",
         3,
         2020,
         "Suzuki Motors",
         "Lincoln Motors",
         "Honda",
         "3/23/2020 0:00",
         1
        ],
        [
         "BR1905",
         "DLR0111",
         "Hon-M71",
         26277687,
         3,
         "DT01179",
         3,
         2020,
         "Tata Motors",
         "Lotus Motors",
         "Honda",
         "3/24/2020 0:00",
         1
        ],
        [
         "BR1910",
         "DLR0011",
         "Toy-M198",
         9387408,
         2,
         "DT01167",
         3,
         2020,
         "Tata Motors",
         "Artega Motors",
         "Toyota",
         "3/12/2020 0:00",
         1
        ],
        [
         "BR1915",
         "DLR0112",
         "Hyu-M72",
         2145815,
         1,
         "DT01180",
         3,
         2020,
         "Tatra Motors",
         "LTI Motors",
         "Hyundai",
         "3/25/2020 0:00",
         1
        ],
        [
         "BR1920",
         "DLR0012",
         "Toy-M199",
         8137212,
         2,
         "DT01168",
         3,
         2020,
         "Tatra Motors",
         "Asia Motors Motors",
         "Toyota",
         "3/13/2020 0:00",
         1
        ],
        [
         "BR1925",
         "DLR0113",
         "Hyu-M73",
         7259016,
         2,
         "DT01181",
         3,
         2020,
         "Tazzari Motors",
         "LuAZ Motors",
         "Hyundai",
         "3/26/2020 0:00",
         1
        ],
        [
         "BR1930",
         "DLR0013",
         "Toy-M200",
         27872751,
         3,
         "DT01169",
         3,
         2020,
         "Tazzari Motors",
         "Aston Martin Motors",
         "Toyota",
         "3/14/2020 0:00",
         1
        ],
        [
         "BR1935",
         "DLR0114",
         "Hyu-M74",
         1988116,
         2,
         "DT01182",
         3,
         2020,
         "Tesla Motors",
         "Lynx Motors",
         "Hyundai",
         "3/27/2020 0:00",
         1
        ],
        [
         "BR1940",
         "DLR0014",
         "Toy-M201",
         8464536,
         2,
         "DT01170",
         3,
         2020,
         "Tesla Motors",
         "Audi Motors",
         "Toyota",
         "3/15/2020 0:00",
         1
        ],
        [
         "BR1945",
         "DLR0115",
         "Hyu-M75",
         15778162,
         2,
         "DT01183",
         3,
         2020,
         "Tornado Motors",
         "Mahindra Motors",
         "Hyundai",
         "3/28/2020 0:00",
         1
        ],
        [
         "BR1955",
         "DLR0116",
         "Kia-M76",
         2167212,
         3,
         "DT01184",
         3,
         2020,
         "Toyota Motors",
         "Marcos Motors",
         "Kia",
         "3/29/2020 0:00",
         1
        ],
        [
         "BR1960",
         "DLR0016",
         "Toy-M203",
         4420992,
         1,
         "DT01172",
         3,
         2020,
         "Toyota Motors",
         "Auto-Union Motors",
         "Toyota",
         "3/17/2020 0:00",
         1
        ],
        [
         "BR1965",
         "DLR0117",
         "Kia-M77",
         9918502,
         2,
         "DT01185",
         3,
         2020,
         "Toyota India Motors",
         "Marlin Motors",
         "Kia",
         "3/30/2020 0:00",
         1
        ],
        [
         "BR1975",
         "DLR0118",
         "Kia-M78",
         12487035,
         3,
         "DT01186",
         3,
         2020,
         "Turner Motors",
         "Maruti Motors",
         "Kia",
         "3/31/2020 0:00",
         1
        ],
        [
         "BR1980",
         "DLR0018",
         "Toy-M205",
         18797763,
         3,
         "DT01174",
         3,
         2020,
         "Turner Motors",
         "Bentley Motors",
         "Toyota",
         "3/19/2020 0:00",
         1
        ],
        [
         "BR1985",
         "DLR0119",
         "Inf-M79",
         1185524,
         2,
         "DT01187",
         4,
         2020,
         "TVR Motors",
         "Maserati Motors",
         "Infiniti",
         "4/1/2020 0:00",
         1
        ],
        [
         "BR1990",
         "DLR0019",
         "Toy-M206",
         16819923,
         3,
         "DT01175",
         3,
         2020,
         "TVR Motors",
         "Bitter Motors",
         "Toyota",
         "3/20/2020 0:00",
         1
        ],
        [
         "BR2000",
         "DLR0020",
         "Ren-M207",
         26641407,
         3,
         "DT01176",
         3,
         2020,
         "UAZ Motors",
         "BMW Motors",
         "Renault",
         "3/21/2020 0:00",
         1
        ],
        [
         "BR2005",
         "DLR0121",
         "Nis-M81",
         29104182,
         3,
         "DT01189",
         4,
         2020,
         "Vauxhall Motors",
         "Matra (including Deutsch-Bonnet, René Bonnet) Motors",
         "Nissan",
         "4/3/2020 0:00",
         1
        ],
        [
         "BR2025",
         "DLR0123",
         "Nis-M83",
         6607616,
         1,
         "DT01191",
         4,
         2020,
         "Volkswagen Motors",
         "Mazzanti Motors",
         "Nissan",
         "4/5/2020 0:00",
         1
        ],
        [
         "BR2030",
         "DLR0023",
         "Ren-M210",
         29245743,
         3,
         "DT01179",
         3,
         2020,
         "Volkswagen Motors",
         "Bristol Motors",
         "Renault",
         "3/24/2020 0:00",
         1
        ],
        [
         "BR2035",
         "DLR0124",
         "Nis-M84",
         11136476,
         2,
         "DT01192",
         4,
         2020,
         "Volkswagen do Brasil Motors",
         "McLaren Motors",
         "Nissan",
         "4/6/2020 0:00",
         1
        ],
        [
         "BR2040",
         "DLR0024",
         "Ren-M211",
         1362898,
         1,
         "DT01180",
         3,
         2020,
         "Volkswagen do Brasil Motors",
         "British Leyland Motors",
         "Renault",
         "3/25/2020 0:00",
         1
        ],
        [
         "BR2045",
         "DLR0125",
         "Nis-M85",
         8087798,
         2,
         "DT01193",
         4,
         2020,
         "Volkswagen South Africa Motors",
         "Mercedes-Benz (including Maybach) Motors",
         "Nissan",
         "4/7/2020 0:00",
         1
        ],
        [
         "BR2050",
         "DLR0025",
         "Kia-M212",
         24546006,
         3,
         "DT01181",
         3,
         2020,
         "Volkswagen South Africa Motors",
         "Austin-Healey Motors",
         "Kia",
         "3/26/2020 0:00",
         1
        ],
        [
         "BR2060",
         "DLR0026",
         "Kia-M213",
         2493076,
         1,
         "DT01182",
         3,
         2020,
         "Volvo Motors",
         "Austin, Rover Motors",
         "Kia",
         "3/27/2020 0:00",
         1
        ],
        [
         "BR2065",
         "DLR0127",
         "Nis-M87",
         5761937,
         1,
         "DT01195",
         4,
         2020,
         "Westfield Motors",
         "Merkur Motors",
         "Nissan",
         "4/9/2020 0:00",
         1
        ],
        [
         "BR2070",
         "DLR0027",
         "Kia-M214",
         8376524,
         1,
         "DT01183",
         3,
         2020,
         "Westfield Motors",
         "Bugatti Motors",
         "Kia",
         "3/28/2020 0:00",
         1
        ],
        [
         "BR2075",
         "DLR0128",
         "Nis-M88",
         5248404,
         2,
         "DT01196",
         4,
         2020,
         "Wiesmann Motors",
         "Messerschmitt Motors",
         "Nissan",
         "4/10/2020 0:00",
         1
        ],
        [
         "BR2080",
         "DLR0028",
         "Hon-M215",
         7528299,
         1,
         "DT01184",
         3,
         2020,
         "Wiesmann Motors",
         "Buick Motors",
         "Honda",
         "3/29/2020 0:00",
         1
        ],
        [
         "BR2085",
         "DLR0129",
         "Nis-M89",
         8997126,
         3,
         "DT01197",
         4,
         2020,
         "Zastava Motors",
         "Mia Motors",
         "Nissan",
         "4/11/2020 0:00",
         1
        ],
        [
         "BR2090",
         "DLR0029",
         "Hon-M216",
         1297858,
         1,
         "DT01185",
         3,
         2020,
         "Zastava Motors",
         "Bytom Motors",
         "Honda",
         "3/30/2020 0:00",
         1
        ],
        [
         "BR2095",
         "DLR0130",
         "Riv-M90",
         14384055,
         3,
         "DT01198",
         4,
         2020,
         "ZAZ Motors",
         "Micro Motors",
         "Rivian",
         "4/12/2020 0:00",
         1
        ],
        [
         "BR2100",
         "DLR0030",
         "Hon-M217",
         1794492,
         1,
         "DT01186",
         3,
         2020,
         "ZAZ Motors",
         "Cadillac Motors",
         "Honda",
         "3/31/2020 0:00",
         1
        ],
        [
         "BR2105",
         "DLR0131",
         "Riv-M91",
         9851706,
         3,
         "DT01199",
         4,
         2020,
         "ZIL Motors",
         "Mini Motors",
         "Rivian",
         "4/13/2020 0:00",
         1
        ],
        [
         "BR2110",
         "DLR0031",
         "Hon-M218",
         7084610,
         1,
         "DT01187",
         4,
         2020,
         "ZIL Motors",
         "Caterham Motors",
         "Honda",
         "4/1/2020 0:00",
         1
        ],
        [
         "BR2115",
         "DLR0132",
         "Sub-M92",
         18425982,
         2,
         "DT01200",
         4,
         2020,
         "Audi Motors",
         "Mitsubishi Motors",
         "Subaru",
         "4/14/2020 0:00",
         1
        ],
        [
         "BR2125",
         "DLR0133",
         "Sub-M93",
         8790030,
         1,
         "DT01201",
         4,
         2020,
         "DKW Motors",
         "Monica Motors",
         "Subaru",
         "4/15/2020 0:00",
         1
        ],
        [
         "BR2130",
         "DLR0033",
         "Hon-M220",
         2203758,
         1,
         "DT01189",
         4,
         2020,
         "DKW Motors",
         "Chevrolet Motors",
         "Honda",
         "4/3/2020 0:00",
         1
        ],
        [
         "BR2135",
         "DLR0134",
         "Sub-M94",
         8253262,
         2,
         "DT01202",
         4,
         2020,
         "Horch Motors",
         "Monteverdi Motors",
         "Subaru",
         "4/16/2020 0:00",
         1
        ],
        [
         "BR2140",
         "DLR0034",
         "For-M221",
         18982494,
         3,
         "DT01190",
         4,
         2020,
         "Horch Motors",
         "Chevrolet India Motors",
         "Ford",
         "4/4/2020 0:00",
         1
        ],
        [
         "BR2150",
         "DLR0035",
         "For-M222",
         1010235,
         3,
         "DT01191",
         4,
         2020,
         "Wanderer Motors",
         "Chrysler Motors",
         "Ford",
         "4/5/2020 0:00",
         1
        ],
        [
         "BR2155",
         "DLR0136",
         "Tes-M96",
         11171496,
         3,
         "DT01204",
         4,
         2020,
         "Maybach  Motors",
         "Moskwitch Motors",
         "Tesla",
         "4/18/2020 0:00",
         1
        ],
        [
         "BR2160",
         "DLR0036",
         "For-M223",
         4417448,
         2,
         "DT01192",
         4,
         2020,
         "Maybach  Motors",
         "Chrysler Europe Motors",
         "Ford",
         "4/6/2020 0:00",
         1
        ],
        [
         "BR2165",
         "DLR0137",
         "Tes-M97",
         26413749,
         3,
         "DT01205",
         4,
         2020,
         "Izh  Motors",
         "Nash Motors",
         "Tesla",
         "4/19/2020 0:00",
         1
        ],
        [
         "BR2170",
         "DLR0037",
         "For-M224",
         1229389,
         1,
         "DT01193",
         4,
         2020,
         "Izh  Motors",
         "Citroën Motors",
         "Ford",
         "4/7/2020 0:00",
         1
        ],
        [
         "BR2175",
         "DLR0138",
         "Tes-M98",
         8877463,
         1,
         "DT01206",
         4,
         2020,
         "Lagonda  Motors",
         "Naza Motors",
         "Tesla",
         "4/20/2020 0:00",
         1
        ],
        [
         "BR2180",
         "DLR0038",
         "For-M225",
         10562268,
         3,
         "DT01194",
         4,
         2020,
         "Lagonda  Motors",
         "Cizeta-Moroder Motors",
         "Ford",
         "4/8/2020 0:00",
         1
        ],
        [
         "BR2185",
         "DLR0139",
         "Lex-M99",
         20577474,
         3,
         "DT01207",
         4,
         2020,
         "MG  Motors",
         "Nissan Motors",
         "Lexus",
         "4/21/2020 0:00",
         1
        ],
        [
         "BR2190",
         "DLR0039",
         "For-M226",
         13949298,
         2,
         "DT01195",
         4,
         2020,
         "MG  Motors",
         "Dacia Motors",
         "Ford",
         "4/9/2020 0:00",
         1
        ],
        [
         "BR2195",
         "DLR0140",
         "Toy-M100",
         15681306,
         2,
         "DT01208",
         4,
         2020,
         "Morris  Motors",
         "Nissan India Motors",
         "Toyota",
         "4/22/2020 0:00",
         1
        ],
        [
         "BR2200",
         "DLR0040",
         "Aud-M227",
         8881768,
         1,
         "DT01196",
         4,
         2020,
         "Morris  Motors",
         "Daewoo, Saehan, Chevrolet Korea Motors",
         "Audi",
         "4/10/2020 0:00",
         1
        ],
        [
         "BR2210",
         "DLR0041",
         "Aud-M228",
         14143962,
         2,
         "DT01197",
         4,
         2020,
         "Austin  Motors",
         "DAF Motors",
         "Audi",
         "4/11/2020 0:00",
         1
        ],
        [
         "BR2220",
         "DLR0042",
         "Aud-M229",
         5651109,
         3,
         "DT01198",
         4,
         2020,
         "Riley  Motors",
         "Daihatsu Motors",
         "Audi",
         "4/12/2020 0:00",
         1
        ],
        [
         "BR2225",
         "DLR0143",
         "Toy-M103",
         9042719,
         1,
         "DT01211",
         4,
         2020,
         "Wolseley  Motors",
         "Oldsmobile Motors",
         "Toyota",
         "4/25/2020 0:00",
         1
        ],
        [
         "BR2230",
         "DLR0043",
         "Aud-M230",
         18718750,
         2,
         "DT01199",
         4,
         2020,
         "Wolseley  Motors",
         "Daimler Motors",
         "Audi",
         "4/13/2020 0:00",
         1
        ],
        [
         "BR2240",
         "DLR0044",
         "Aud-M231",
         19955415,
         3,
         "DT01200",
         4,
         2020,
         "Standard  Motors",
         null,
         "Audi",
         "4/14/2020 0:00",
         1
        ],
        [
         "BR2245",
         "DLR0145",
         "Toy-M105",
         8064714,
         2,
         "DT01213",
         4,
         2020,
         "Talbot  Motors",
         "Opel Motors",
         "Toyota",
         "4/27/2020 0:00",
         1
        ],
        [
         "BR2250",
         "DLR0045",
         "Aud-M232",
         1853412,
         2,
         "DT01201",
         4,
         2020,
         "Talbot  Motors",
         "Delahaye Motors",
         "Audi",
         "4/15/2020 0:00",
         1
        ],
        [
         "BR2260",
         "DLR0046",
         "Aud-M233",
         226386,
         2,
         "DT01202",
         4,
         2020,
         "Das Motors",
         "DeLorean Motors",
         "Audi",
         "4/16/2020 0:00",
         1
        ],
        [
         "BR2270",
         "DLR0047",
         "Aud-M234",
         7358930,
         2,
         "DT01203",
         4,
         2020,
         "Ramani Motors",
         "DeSoto Motors",
         "Audi",
         "4/17/2020 0:00",
         1
        ],
        [
         "BR2275",
         "DLR0148",
         "Vol-M108",
         17151476,
         2,
         "DT01216",
         4,
         2020,
         "Deccan Motors",
         "Panhard Motors",
         "Volkswagen",
         "4/30/2020 0:00",
         1
        ]
       ],
       "datasetInfos": [],
       "dbfsResultPath": null,
       "isJsonSchema": true,
       "metadata": {},
       "overflow": false,
       "plotOptions": {
        "customPlotOptions": {},
        "displayType": "table",
        "pivotAggregation": null,
        "pivotColumns": null,
        "xColumns": null,
        "yColumns": null
       },
       "removedWidgets": [],
       "schema": [
        {
         "metadata": "{}",
         "name": "Branch_ID",
         "type": "\"string\""
        },
        {
         "metadata": "{}",
         "name": "Dealer_ID",
         "type": "\"string\""
        },
        {
         "metadata": "{}",
         "name": "Model_ID",
         "type": "\"string\""
        },
        {
         "metadata": "{}",
         "name": "Revenue",
         "type": "\"integer\""
        },
        {
         "metadata": "{}",
         "name": "Units_Sold",
         "type": "\"integer\""
        },
        {
         "metadata": "{}",
         "name": "Date_ID",
         "type": "\"string\""
        },
        {
         "metadata": "{}",
         "name": "Month",
         "type": "\"integer\""
        },
        {
         "metadata": "{}",
         "name": "Year",
         "type": "\"integer\""
        },
        {
         "metadata": "{}",
         "name": "BranchName",
         "type": "\"string\""
        },
        {
         "metadata": "{}",
         "name": "DealerName",
         "type": "\"string\""
        },
        {
         "metadata": "{}",
         "name": "Product_Name",
         "type": "\"string\""
        },
        {
         "metadata": "{}",
         "name": "Date",
         "type": "\"string\""
        },
        {
         "metadata": "{}",
         "name": "ReturnFlag",
         "type": "\"integer\""
        }
       ],
       "type": "table"
      }
     },
     "output_type": "display_data"
    }
   ],
   "source": [
    "%sql\n",
    "select * from delta.`/FileStore/tables/OpentableFormat/sinkdata/sales_data`"
   ]
  },
  {
   "cell_type": "code",
   "execution_count": 0,
   "metadata": {
    "application/vnd.databricks.v1+cell": {
     "cellMetadata": {
      "byteLimit": 2048000,
      "implicitDf": true,
      "rowLimit": 10000
     },
     "inputWidgets": {},
     "nuid": "6f60e5cc-d4da-4297-8e70-ade52fe6da65",
     "showTitle": false,
     "tableResultSettingsMap": {},
     "title": ""
    }
   },
   "outputs": [
    {
     "output_type": "display_data",
     "data": {
      "text/html": [
       "<style scoped>\n",
       "  .table-result-container {\n",
       "    max-height: 300px;\n",
       "    overflow: auto;\n",
       "  }\n",
       "  table, th, td {\n",
       "    border: 1px solid black;\n",
       "    border-collapse: collapse;\n",
       "  }\n",
       "  th, td {\n",
       "    padding: 5px;\n",
       "  }\n",
       "  th {\n",
       "    text-align: left;\n",
       "  }\n",
       "</style><div class='table-result-container'><table class='table-result'><thead style='background-color: white'><tr></tr></thead><tbody></tbody></table></div>"
      ]
     },
     "metadata": {
      "application/vnd.databricks.v1+output": {
       "addedWidgets": {},
       "aggData": [],
       "aggError": "",
       "aggOverflow": false,
       "aggSchema": [],
       "aggSeriesLimitReached": false,
       "aggType": "",
       "arguments": {},
       "columnCustomDisplayInfos": {},
       "data": [],
       "datasetInfos": [],
       "dbfsResultPath": null,
       "isJsonSchema": true,
       "metadata": {},
       "overflow": false,
       "plotOptions": {
        "customPlotOptions": {},
        "displayType": "table",
        "pivotAggregation": null,
        "pivotColumns": null,
        "xColumns": null,
        "yColumns": null
       },
       "removedWidgets": [],
       "schema": [],
       "type": "table"
      }
     },
     "output_type": "display_data"
    }
   ],
   "source": [
    "%sql\n",
    "CREATE TABLE bronze.my_delta_table2\n",
    "(\n",
    "  id INT,\n",
    "  name STRING,\n",
    "  salary DOUBLE\n",
    ")\n",
    "USING DELTA\n",
    "LOCATION \"dbfs:/FileStore/tables/OpentableFormat/sinkdata/my_delta_table2\""
   ]
  },
  {
   "cell_type": "code",
   "execution_count": 0,
   "metadata": {
    "application/vnd.databricks.v1+cell": {
     "cellMetadata": {
      "byteLimit": 2048000,
      "implicitDf": true,
      "rowLimit": 10000
     },
     "inputWidgets": {},
     "nuid": "b5aaafb4-20a4-4e1e-a5e4-2d433aca2b47",
     "showTitle": false,
     "tableResultSettingsMap": {},
     "title": ""
    }
   },
   "outputs": [
    {
     "output_type": "display_data",
     "data": {
      "text/html": [
       "<style scoped>\n",
       "  .table-result-container {\n",
       "    max-height: 300px;\n",
       "    overflow: auto;\n",
       "  }\n",
       "  table, th, td {\n",
       "    border: 1px solid black;\n",
       "    border-collapse: collapse;\n",
       "  }\n",
       "  th, td {\n",
       "    padding: 5px;\n",
       "  }\n",
       "  th {\n",
       "    text-align: left;\n",
       "  }\n",
       "</style><div class='table-result-container'><table class='table-result'><thead style='background-color: white'><tr></tr></thead><tbody></tbody></table></div>"
      ]
     },
     "metadata": {
      "application/vnd.databricks.v1+output": {
       "addedWidgets": {},
       "aggData": [],
       "aggError": "",
       "aggOverflow": false,
       "aggSchema": [],
       "aggSeriesLimitReached": false,
       "aggType": "",
       "arguments": {},
       "columnCustomDisplayInfos": {},
       "data": [],
       "datasetInfos": [],
       "dbfsResultPath": null,
       "isJsonSchema": true,
       "metadata": {},
       "overflow": false,
       "plotOptions": {
        "customPlotOptions": {},
        "displayType": "table",
        "pivotAggregation": null,
        "pivotColumns": null,
        "xColumns": null,
        "yColumns": null
       },
       "removedWidgets": [],
       "schema": [],
       "type": "table"
      }
     },
     "output_type": "display_data"
    }
   ],
   "source": [
    "%sql\n",
    "ALTER TABLE bronze.my_delta_table2 SET TBLPROPERTIES ('delta.enableDeletionVectors' = false);"
   ]
  },
  {
   "cell_type": "code",
   "execution_count": 0,
   "metadata": {
    "application/vnd.databricks.v1+cell": {
     "cellMetadata": {
      "byteLimit": 2048000,
      "implicitDf": true,
      "rowLimit": 10000
     },
     "inputWidgets": {},
     "nuid": "4b133c81-047e-4b92-993f-621c6987d114",
     "showTitle": false,
     "tableResultSettingsMap": {},
     "title": ""
    }
   },
   "outputs": [
    {
     "output_type": "display_data",
     "data": {
      "text/html": [
       "<style scoped>\n",
       "  .table-result-container {\n",
       "    max-height: 300px;\n",
       "    overflow: auto;\n",
       "  }\n",
       "  table, th, td {\n",
       "    border: 1px solid black;\n",
       "    border-collapse: collapse;\n",
       "  }\n",
       "  th, td {\n",
       "    padding: 5px;\n",
       "  }\n",
       "  th {\n",
       "    text-align: left;\n",
       "  }\n",
       "</style><div class='table-result-container'><table class='table-result'><thead style='background-color: white'><tr><th>num_affected_rows</th><th>num_inserted_rows</th></tr></thead><tbody><tr><td>2</td><td>2</td></tr></tbody></table></div>"
      ]
     },
     "metadata": {
      "application/vnd.databricks.v1+output": {
       "addedWidgets": {},
       "aggData": [],
       "aggError": "",
       "aggOverflow": false,
       "aggSchema": [],
       "aggSeriesLimitReached": false,
       "aggType": "",
       "arguments": {},
       "columnCustomDisplayInfos": {},
       "data": [
        [
         2,
         2
        ]
       ],
       "datasetInfos": [],
       "dbfsResultPath": null,
       "isJsonSchema": true,
       "metadata": {},
       "overflow": false,
       "plotOptions": {
        "customPlotOptions": {},
        "displayType": "table",
        "pivotAggregation": null,
        "pivotColumns": null,
        "xColumns": null,
        "yColumns": null
       },
       "removedWidgets": [],
       "schema": [
        {
         "metadata": "{}",
         "name": "num_affected_rows",
         "type": "\"long\""
        },
        {
         "metadata": "{}",
         "name": "num_inserted_rows",
         "type": "\"long\""
        }
       ],
       "type": "table"
      }
     },
     "output_type": "display_data"
    }
   ],
   "source": [
    "%sql\n",
    "INSERT INTO bronze.my_delta_table2\n",
    "VALUES (1, 'AA', 100), (2, 'BB', 200)"
   ]
  },
  {
   "cell_type": "code",
   "execution_count": 0,
   "metadata": {
    "application/vnd.databricks.v1+cell": {
     "cellMetadata": {
      "byteLimit": 2048000,
      "rowLimit": 10000
     },
     "inputWidgets": {},
     "nuid": "8f99f728-0bac-447b-9df9-5d5abeb9de3e",
     "showTitle": false,
     "tableResultSettingsMap": {},
     "title": ""
    }
   },
   "outputs": [
    {
     "output_type": "display_data",
     "data": {
      "text/html": [
       "<style scoped>\n",
       "  .table-result-container {\n",
       "    max-height: 300px;\n",
       "    overflow: auto;\n",
       "  }\n",
       "  table, th, td {\n",
       "    border: 1px solid black;\n",
       "    border-collapse: collapse;\n",
       "  }\n",
       "  th, td {\n",
       "    padding: 5px;\n",
       "  }\n",
       "  th {\n",
       "    text-align: left;\n",
       "  }\n",
       "</style><div class='table-result-container'><table class='table-result'><thead style='background-color: white'><tr><th>path</th><th>name</th><th>size</th><th>modificationTime</th></tr></thead><tbody><tr><td>dbfs:/FileStore/tables/OpentableFormat/sinkdata/my_delta_table2/_delta_log/.s3-optimization-0</td><td>.s3-optimization-0</td><td>0</td><td>1742971522000</td></tr><tr><td>dbfs:/FileStore/tables/OpentableFormat/sinkdata/my_delta_table2/_delta_log/.s3-optimization-1</td><td>.s3-optimization-1</td><td>0</td><td>1742971522000</td></tr><tr><td>dbfs:/FileStore/tables/OpentableFormat/sinkdata/my_delta_table2/_delta_log/.s3-optimization-2</td><td>.s3-optimization-2</td><td>0</td><td>1742971522000</td></tr><tr><td>dbfs:/FileStore/tables/OpentableFormat/sinkdata/my_delta_table2/_delta_log/00000000000000000000.crc</td><td>00000000000000000000.crc</td><td>2028</td><td>1742971524000</td></tr><tr><td>dbfs:/FileStore/tables/OpentableFormat/sinkdata/my_delta_table2/_delta_log/00000000000000000000.json</td><td>00000000000000000000.json</td><td>998</td><td>1742971522000</td></tr><tr><td>dbfs:/FileStore/tables/OpentableFormat/sinkdata/my_delta_table2/_delta_log/00000000000000000001.crc</td><td>00000000000000000001.crc</td><td>2065</td><td>1742971603000</td></tr><tr><td>dbfs:/FileStore/tables/OpentableFormat/sinkdata/my_delta_table2/_delta_log/00000000000000000001.json</td><td>00000000000000000001.json</td><td>982</td><td>1742971601000</td></tr><tr><td>dbfs:/FileStore/tables/OpentableFormat/sinkdata/my_delta_table2/_delta_log/00000000000000000002.crc</td><td>00000000000000000002.crc</td><td>2588</td><td>1742971677000</td></tr><tr><td>dbfs:/FileStore/tables/OpentableFormat/sinkdata/my_delta_table2/_delta_log/00000000000000000002.json</td><td>00000000000000000002.json</td><td>1044</td><td>1742971675000</td></tr></tbody></table></div>"
      ]
     },
     "metadata": {
      "application/vnd.databricks.v1+output": {
       "addedWidgets": {},
       "aggData": [],
       "aggError": "",
       "aggOverflow": false,
       "aggSchema": [],
       "aggSeriesLimitReached": false,
       "aggType": "",
       "arguments": {},
       "columnCustomDisplayInfos": {},
       "data": [
        [
         "dbfs:/FileStore/tables/OpentableFormat/sinkdata/my_delta_table2/_delta_log/.s3-optimization-0",
         ".s3-optimization-0",
         0,
         1742971522000
        ],
        [
         "dbfs:/FileStore/tables/OpentableFormat/sinkdata/my_delta_table2/_delta_log/.s3-optimization-1",
         ".s3-optimization-1",
         0,
         1742971522000
        ],
        [
         "dbfs:/FileStore/tables/OpentableFormat/sinkdata/my_delta_table2/_delta_log/.s3-optimization-2",
         ".s3-optimization-2",
         0,
         1742971522000
        ],
        [
         "dbfs:/FileStore/tables/OpentableFormat/sinkdata/my_delta_table2/_delta_log/00000000000000000000.crc",
         "00000000000000000000.crc",
         2028,
         1742971524000
        ],
        [
         "dbfs:/FileStore/tables/OpentableFormat/sinkdata/my_delta_table2/_delta_log/00000000000000000000.json",
         "00000000000000000000.json",
         998,
         1742971522000
        ],
        [
         "dbfs:/FileStore/tables/OpentableFormat/sinkdata/my_delta_table2/_delta_log/00000000000000000001.crc",
         "00000000000000000001.crc",
         2065,
         1742971603000
        ],
        [
         "dbfs:/FileStore/tables/OpentableFormat/sinkdata/my_delta_table2/_delta_log/00000000000000000001.json",
         "00000000000000000001.json",
         982,
         1742971601000
        ],
        [
         "dbfs:/FileStore/tables/OpentableFormat/sinkdata/my_delta_table2/_delta_log/00000000000000000002.crc",
         "00000000000000000002.crc",
         2588,
         1742971677000
        ],
        [
         "dbfs:/FileStore/tables/OpentableFormat/sinkdata/my_delta_table2/_delta_log/00000000000000000002.json",
         "00000000000000000002.json",
         1044,
         1742971675000
        ]
       ],
       "datasetInfos": [],
       "dbfsResultPath": null,
       "isJsonSchema": true,
       "metadata": {
        "isDbfsCommandResult": false
       },
       "overflow": false,
       "plotOptions": {
        "customPlotOptions": {},
        "displayType": "table",
        "pivotAggregation": null,
        "pivotColumns": null,
        "xColumns": null,
        "yColumns": null
       },
       "removedWidgets": [],
       "schema": [
        {
         "metadata": "{}",
         "name": "path",
         "type": "\"string\""
        },
        {
         "metadata": "{}",
         "name": "name",
         "type": "\"string\""
        },
        {
         "metadata": "{}",
         "name": "size",
         "type": "\"long\""
        },
        {
         "metadata": "{}",
         "name": "modificationTime",
         "type": "\"long\""
        }
       ],
       "type": "table"
      }
     },
     "output_type": "display_data"
    }
   ],
   "source": [
    "%fs\n",
    "ls /FileStore/tables/OpentableFormat/sinkdata/my_delta_table2/_delta_log/"
   ]
  },
  {
   "cell_type": "code",
   "execution_count": 0,
   "metadata": {
    "application/vnd.databricks.v1+cell": {
     "cellMetadata": {
      "byteLimit": 2048000,
      "implicitDf": true,
      "rowLimit": 10000
     },
     "inputWidgets": {},
     "nuid": "2ab39569-112e-4f2c-8bbf-2bb05021f13f",
     "showTitle": false,
     "tableResultSettingsMap": {},
     "title": ""
    }
   },
   "outputs": [
    {
     "output_type": "display_data",
     "data": {
      "text/html": [
       "<style scoped>\n",
       "  .table-result-container {\n",
       "    max-height: 300px;\n",
       "    overflow: auto;\n",
       "  }\n",
       "  table, th, td {\n",
       "    border: 1px solid black;\n",
       "    border-collapse: collapse;\n",
       "  }\n",
       "  th, td {\n",
       "    padding: 5px;\n",
       "  }\n",
       "  th {\n",
       "    text-align: left;\n",
       "  }\n",
       "</style><div class='table-result-container'><table class='table-result'><thead style='background-color: white'><tr><th>num_affected_rows</th></tr></thead><tbody><tr><td>1</td></tr></tbody></table></div>"
      ]
     },
     "metadata": {
      "application/vnd.databricks.v1+output": {
       "addedWidgets": {},
       "aggData": [],
       "aggError": "",
       "aggOverflow": false,
       "aggSchema": [],
       "aggSeriesLimitReached": false,
       "aggType": "",
       "arguments": {},
       "columnCustomDisplayInfos": {},
       "data": [
        [
         1
        ]
       ],
       "datasetInfos": [],
       "dbfsResultPath": null,
       "isJsonSchema": true,
       "metadata": {},
       "overflow": false,
       "plotOptions": {
        "customPlotOptions": {},
        "displayType": "table",
        "pivotAggregation": null,
        "pivotColumns": null,
        "xColumns": null,
        "yColumns": null
       },
       "removedWidgets": [],
       "schema": [
        {
         "metadata": "{}",
         "name": "num_affected_rows",
         "type": "\"long\""
        }
       ],
       "type": "table"
      }
     },
     "output_type": "display_data"
    }
   ],
   "source": [
    "%sql\n",
    "UPDATE bronze.my_delta_table2\n",
    "SET name = 'zz' where id = 2"
   ]
  },
  {
   "cell_type": "code",
   "execution_count": 0,
   "metadata": {
    "application/vnd.databricks.v1+cell": {
     "cellMetadata": {
      "byteLimit": 2048000,
      "rowLimit": 10000
     },
     "inputWidgets": {},
     "nuid": "5eb807f1-6b5b-490b-af17-7b8f5c35643f",
     "showTitle": false,
     "tableResultSettingsMap": {},
     "title": ""
    }
   },
   "outputs": [
    {
     "output_type": "display_data",
     "data": {
      "text/html": [
       "<style scoped>\n",
       "  .table-result-container {\n",
       "    max-height: 300px;\n",
       "    overflow: auto;\n",
       "  }\n",
       "  table, th, td {\n",
       "    border: 1px solid black;\n",
       "    border-collapse: collapse;\n",
       "  }\n",
       "  th, td {\n",
       "    padding: 5px;\n",
       "  }\n",
       "  th {\n",
       "    text-align: left;\n",
       "  }\n",
       "</style><div class='table-result-container'><table class='table-result'><thead style='background-color: white'><tr><th>path</th><th>name</th><th>size</th><th>modificationTime</th></tr></thead><tbody><tr><td>dbfs:/FileStore/tables/OpentableFormat/sinkdata/my_delta_table2/_delta_log/</td><td>_delta_log/</td><td>0</td><td>0</td></tr><tr><td>dbfs:/FileStore/tables/OpentableFormat/sinkdata/my_delta_table2/part-00000-5235b42f-bf41-46dc-9943-b6808cbadc60-c000.snappy.parquet</td><td>part-00000-5235b42f-bf41-46dc-9943-b6808cbadc60-c000.snappy.parquet</td><td>1062</td><td>1742971888000</td></tr><tr><td>dbfs:/FileStore/tables/OpentableFormat/sinkdata/my_delta_table2/part-00000-d81a390f-dd10-4d10-94aa-5238fab7fdf1-c000.snappy.parquet</td><td>part-00000-d81a390f-dd10-4d10-94aa-5238fab7fdf1-c000.snappy.parquet</td><td>1062</td><td>1742971675000</td></tr></tbody></table></div>"
      ]
     },
     "metadata": {
      "application/vnd.databricks.v1+output": {
       "addedWidgets": {},
       "aggData": [],
       "aggError": "",
       "aggOverflow": false,
       "aggSchema": [],
       "aggSeriesLimitReached": false,
       "aggType": "",
       "arguments": {},
       "columnCustomDisplayInfos": {},
       "data": [
        [
         "dbfs:/FileStore/tables/OpentableFormat/sinkdata/my_delta_table2/_delta_log/",
         "_delta_log/",
         0,
         0
        ],
        [
         "dbfs:/FileStore/tables/OpentableFormat/sinkdata/my_delta_table2/part-00000-5235b42f-bf41-46dc-9943-b6808cbadc60-c000.snappy.parquet",
         "part-00000-5235b42f-bf41-46dc-9943-b6808cbadc60-c000.snappy.parquet",
         1062,
         1742971888000
        ],
        [
         "dbfs:/FileStore/tables/OpentableFormat/sinkdata/my_delta_table2/part-00000-d81a390f-dd10-4d10-94aa-5238fab7fdf1-c000.snappy.parquet",
         "part-00000-d81a390f-dd10-4d10-94aa-5238fab7fdf1-c000.snappy.parquet",
         1062,
         1742971675000
        ]
       ],
       "datasetInfos": [],
       "dbfsResultPath": null,
       "isJsonSchema": true,
       "metadata": {
        "isDbfsCommandResult": false
       },
       "overflow": false,
       "plotOptions": {
        "customPlotOptions": {},
        "displayType": "table",
        "pivotAggregation": null,
        "pivotColumns": null,
        "xColumns": null,
        "yColumns": null
       },
       "removedWidgets": [],
       "schema": [
        {
         "metadata": "{}",
         "name": "path",
         "type": "\"string\""
        },
        {
         "metadata": "{}",
         "name": "name",
         "type": "\"string\""
        },
        {
         "metadata": "{}",
         "name": "size",
         "type": "\"long\""
        },
        {
         "metadata": "{}",
         "name": "modificationTime",
         "type": "\"long\""
        }
       ],
       "type": "table"
      }
     },
     "output_type": "display_data"
    }
   ],
   "source": [
    "%fs\n",
    "ls /FileStore/tables/OpentableFormat/sinkdata/my_delta_table2/"
   ]
  },
  {
   "cell_type": "code",
   "execution_count": 0,
   "metadata": {
    "application/vnd.databricks.v1+cell": {
     "cellMetadata": {
      "byteLimit": 2048000,
      "rowLimit": 10000
     },
     "inputWidgets": {},
     "nuid": "8bf1ad10-d25b-4c8e-a59d-38b76277202b",
     "showTitle": false,
     "tableResultSettingsMap": {},
     "title": ""
    }
   },
   "outputs": [
    {
     "output_type": "display_data",
     "data": {
      "text/html": [
       "<style scoped>\n",
       "  .table-result-container {\n",
       "    max-height: 300px;\n",
       "    overflow: auto;\n",
       "  }\n",
       "  table, th, td {\n",
       "    border: 1px solid black;\n",
       "    border-collapse: collapse;\n",
       "  }\n",
       "  th, td {\n",
       "    padding: 5px;\n",
       "  }\n",
       "  th {\n",
       "    text-align: left;\n",
       "  }\n",
       "</style><div class='table-result-container'><table class='table-result'><thead style='background-color: white'><tr><th>path</th><th>name</th><th>size</th><th>modificationTime</th></tr></thead><tbody><tr><td>dbfs:/FileStore/tables/OpentableFormat/sinkdata/my_delta_table2/_delta_log/.s3-optimization-0</td><td>.s3-optimization-0</td><td>0</td><td>1742971522000</td></tr><tr><td>dbfs:/FileStore/tables/OpentableFormat/sinkdata/my_delta_table2/_delta_log/.s3-optimization-1</td><td>.s3-optimization-1</td><td>0</td><td>1742971522000</td></tr><tr><td>dbfs:/FileStore/tables/OpentableFormat/sinkdata/my_delta_table2/_delta_log/.s3-optimization-2</td><td>.s3-optimization-2</td><td>0</td><td>1742971522000</td></tr><tr><td>dbfs:/FileStore/tables/OpentableFormat/sinkdata/my_delta_table2/_delta_log/00000000000000000000.crc</td><td>00000000000000000000.crc</td><td>2028</td><td>1742971524000</td></tr><tr><td>dbfs:/FileStore/tables/OpentableFormat/sinkdata/my_delta_table2/_delta_log/00000000000000000000.json</td><td>00000000000000000000.json</td><td>998</td><td>1742971522000</td></tr><tr><td>dbfs:/FileStore/tables/OpentableFormat/sinkdata/my_delta_table2/_delta_log/00000000000000000001.crc</td><td>00000000000000000001.crc</td><td>2065</td><td>1742971603000</td></tr><tr><td>dbfs:/FileStore/tables/OpentableFormat/sinkdata/my_delta_table2/_delta_log/00000000000000000001.json</td><td>00000000000000000001.json</td><td>982</td><td>1742971601000</td></tr><tr><td>dbfs:/FileStore/tables/OpentableFormat/sinkdata/my_delta_table2/_delta_log/00000000000000000002.crc</td><td>00000000000000000002.crc</td><td>2588</td><td>1742971677000</td></tr><tr><td>dbfs:/FileStore/tables/OpentableFormat/sinkdata/my_delta_table2/_delta_log/00000000000000000002.json</td><td>00000000000000000002.json</td><td>1044</td><td>1742971675000</td></tr><tr><td>dbfs:/FileStore/tables/OpentableFormat/sinkdata/my_delta_table2/_delta_log/00000000000000000003.crc</td><td>00000000000000000003.crc</td><td>2588</td><td>1742971891000</td></tr><tr><td>dbfs:/FileStore/tables/OpentableFormat/sinkdata/my_delta_table2/_delta_log/00000000000000000003.json</td><td>00000000000000000003.json</td><td>1637</td><td>1742971888000</td></tr></tbody></table></div>"
      ]
     },
     "metadata": {
      "application/vnd.databricks.v1+output": {
       "addedWidgets": {},
       "aggData": [],
       "aggError": "",
       "aggOverflow": false,
       "aggSchema": [],
       "aggSeriesLimitReached": false,
       "aggType": "",
       "arguments": {},
       "columnCustomDisplayInfos": {},
       "data": [
        [
         "dbfs:/FileStore/tables/OpentableFormat/sinkdata/my_delta_table2/_delta_log/.s3-optimization-0",
         ".s3-optimization-0",
         0,
         1742971522000
        ],
        [
         "dbfs:/FileStore/tables/OpentableFormat/sinkdata/my_delta_table2/_delta_log/.s3-optimization-1",
         ".s3-optimization-1",
         0,
         1742971522000
        ],
        [
         "dbfs:/FileStore/tables/OpentableFormat/sinkdata/my_delta_table2/_delta_log/.s3-optimization-2",
         ".s3-optimization-2",
         0,
         1742971522000
        ],
        [
         "dbfs:/FileStore/tables/OpentableFormat/sinkdata/my_delta_table2/_delta_log/00000000000000000000.crc",
         "00000000000000000000.crc",
         2028,
         1742971524000
        ],
        [
         "dbfs:/FileStore/tables/OpentableFormat/sinkdata/my_delta_table2/_delta_log/00000000000000000000.json",
         "00000000000000000000.json",
         998,
         1742971522000
        ],
        [
         "dbfs:/FileStore/tables/OpentableFormat/sinkdata/my_delta_table2/_delta_log/00000000000000000001.crc",
         "00000000000000000001.crc",
         2065,
         1742971603000
        ],
        [
         "dbfs:/FileStore/tables/OpentableFormat/sinkdata/my_delta_table2/_delta_log/00000000000000000001.json",
         "00000000000000000001.json",
         982,
         1742971601000
        ],
        [
         "dbfs:/FileStore/tables/OpentableFormat/sinkdata/my_delta_table2/_delta_log/00000000000000000002.crc",
         "00000000000000000002.crc",
         2588,
         1742971677000
        ],
        [
         "dbfs:/FileStore/tables/OpentableFormat/sinkdata/my_delta_table2/_delta_log/00000000000000000002.json",
         "00000000000000000002.json",
         1044,
         1742971675000
        ],
        [
         "dbfs:/FileStore/tables/OpentableFormat/sinkdata/my_delta_table2/_delta_log/00000000000000000003.crc",
         "00000000000000000003.crc",
         2588,
         1742971891000
        ],
        [
         "dbfs:/FileStore/tables/OpentableFormat/sinkdata/my_delta_table2/_delta_log/00000000000000000003.json",
         "00000000000000000003.json",
         1637,
         1742971888000
        ]
       ],
       "datasetInfos": [],
       "dbfsResultPath": null,
       "isJsonSchema": true,
       "metadata": {
        "isDbfsCommandResult": false
       },
       "overflow": false,
       "plotOptions": {
        "customPlotOptions": {},
        "displayType": "table",
        "pivotAggregation": null,
        "pivotColumns": null,
        "xColumns": null,
        "yColumns": null
       },
       "removedWidgets": [],
       "schema": [
        {
         "metadata": "{}",
         "name": "path",
         "type": "\"string\""
        },
        {
         "metadata": "{}",
         "name": "name",
         "type": "\"string\""
        },
        {
         "metadata": "{}",
         "name": "size",
         "type": "\"long\""
        },
        {
         "metadata": "{}",
         "name": "modificationTime",
         "type": "\"long\""
        }
       ],
       "type": "table"
      }
     },
     "output_type": "display_data"
    }
   ],
   "source": [
    "%fs\n",
    "ls /FileStore/tables/OpentableFormat/sinkdata/my_delta_table2/_delta_log"
   ]
  },
  {
   "cell_type": "code",
   "execution_count": 0,
   "metadata": {
    "application/vnd.databricks.v1+cell": {
     "cellMetadata": {
      "byteLimit": 2048000,
      "rowLimit": 10000
     },
     "inputWidgets": {},
     "nuid": "fd65dc83-e71d-4f10-8574-2c6a330e010d",
     "showTitle": false,
     "tableResultSettingsMap": {},
     "title": ""
    }
   },
   "outputs": [
    {
     "output_type": "display_data",
     "data": {
      "text/html": [
       "<style scoped>\n",
       "  .table-result-container {\n",
       "    max-height: 300px;\n",
       "    overflow: auto;\n",
       "  }\n",
       "  table, th, td {\n",
       "    border: 1px solid black;\n",
       "    border-collapse: collapse;\n",
       "  }\n",
       "  th, td {\n",
       "    padding: 5px;\n",
       "  }\n",
       "  th {\n",
       "    text-align: left;\n",
       "  }\n",
       "</style><div class='table-result-container'><table class='table-result'><thead style='background-color: white'><tr><th>add</th><th>commitInfo</th><th>remove</th></tr></thead><tbody><tr><td>null</td><td>List(0326-051930-d3czotdy, Databricks-Runtime/12.2.x-scala2.12, false, WriteSerializable, List(1262503834636755), UPDATE, List(3083, 1062, 0, 1, 1, 0, 0, 1062, 1, 1, 1204, 1859), List([\"(id#10687 = 2)\"]), 2, 1742971887423, 743b70a8-5f7a-474b-b405-f315d63caad0, 702181498026089, shankarwagh297@gmail.com)</td><td>null</td></tr><tr><td>null</td><td>null</td><td>List(true, 1742971887394, true, part-00000-d81a390f-dd10-4d10-94aa-5238fab7fdf1-c000.snappy.parquet, 1062, List(1742971675000000, 1742971675000000, 1742971675000000, 268435456))</td></tr><tr><td>List(true, 1742971888000, part-00000-5235b42f-bf41-46dc-9943-b6808cbadc60-c000.snappy.parquet, 1062, {\"numRecords\":2,\"minValues\":{\"id\":1,\"name\":\"AA\",\"salary\":100.0},\"maxValues\":{\"id\":2,\"name\":\"zz\",\"salary\":200.0},\"nullCount\":{\"id\":0,\"name\":0,\"salary\":0}}, List(1742971675000000, 1742971675000000, 1742971675000000, 268435456))</td><td>null</td><td>null</td></tr></tbody></table></div>"
      ]
     },
     "metadata": {
      "application/vnd.databricks.v1+output": {
       "addedWidgets": {},
       "aggData": [],
       "aggError": "",
       "aggOverflow": false,
       "aggSchema": [],
       "aggSeriesLimitReached": false,
       "aggType": "",
       "arguments": {},
       "columnCustomDisplayInfos": {},
       "data": [
        [
         null,
         [
          "0326-051930-d3czotdy",
          "Databricks-Runtime/12.2.x-scala2.12",
          false,
          "WriteSerializable",
          [
           "1262503834636755"
          ],
          "UPDATE",
          [
           "3083",
           "1062",
           "0",
           "1",
           "1",
           "0",
           "0",
           "1062",
           "1",
           "1",
           "1204",
           "1859"
          ],
          [
           "[\"(id#10687 = 2)\"]"
          ],
          2,
          1742971887423,
          "743b70a8-5f7a-474b-b405-f315d63caad0",
          "702181498026089",
          "shankarwagh297@gmail.com"
         ],
         null
        ],
        [
         null,
         null,
         [
          true,
          1742971887394,
          true,
          "part-00000-d81a390f-dd10-4d10-94aa-5238fab7fdf1-c000.snappy.parquet",
          1062,
          [
           "1742971675000000",
           "1742971675000000",
           "1742971675000000",
           "268435456"
          ]
         ]
        ],
        [
         [
          true,
          1742971888000,
          "part-00000-5235b42f-bf41-46dc-9943-b6808cbadc60-c000.snappy.parquet",
          1062,
          "{\"numRecords\":2,\"minValues\":{\"id\":1,\"name\":\"AA\",\"salary\":100.0},\"maxValues\":{\"id\":2,\"name\":\"zz\",\"salary\":200.0},\"nullCount\":{\"id\":0,\"name\":0,\"salary\":0}}",
          [
           "1742971675000000",
           "1742971675000000",
           "1742971675000000",
           "268435456"
          ]
         ],
         null,
         null
        ]
       ],
       "datasetInfos": [],
       "dbfsResultPath": null,
       "isJsonSchema": true,
       "metadata": {},
       "overflow": false,
       "plotOptions": {
        "customPlotOptions": {},
        "displayType": "table",
        "pivotAggregation": null,
        "pivotColumns": null,
        "xColumns": null,
        "yColumns": null
       },
       "removedWidgets": [],
       "schema": [
        {
         "metadata": "{}",
         "name": "add",
         "type": "{\"type\":\"struct\",\"fields\":[{\"name\":\"dataChange\",\"type\":\"boolean\",\"nullable\":true,\"metadata\":{}},{\"name\":\"modificationTime\",\"type\":\"long\",\"nullable\":true,\"metadata\":{}},{\"name\":\"path\",\"type\":\"string\",\"nullable\":true,\"metadata\":{}},{\"name\":\"size\",\"type\":\"long\",\"nullable\":true,\"metadata\":{}},{\"name\":\"stats\",\"type\":\"string\",\"nullable\":true,\"metadata\":{}},{\"name\":\"tags\",\"type\":{\"type\":\"struct\",\"fields\":[{\"name\":\"INSERTION_TIME\",\"type\":\"string\",\"nullable\":true,\"metadata\":{}},{\"name\":\"MAX_INSERTION_TIME\",\"type\":\"string\",\"nullable\":true,\"metadata\":{}},{\"name\":\"MIN_INSERTION_TIME\",\"type\":\"string\",\"nullable\":true,\"metadata\":{}},{\"name\":\"OPTIMIZE_TARGET_SIZE\",\"type\":\"string\",\"nullable\":true,\"metadata\":{}}]},\"nullable\":true,\"metadata\":{}}]}"
        },
        {
         "metadata": "{}",
         "name": "commitInfo",
         "type": "{\"type\":\"struct\",\"fields\":[{\"name\":\"clusterId\",\"type\":\"string\",\"nullable\":true,\"metadata\":{}},{\"name\":\"engineInfo\",\"type\":\"string\",\"nullable\":true,\"metadata\":{}},{\"name\":\"isBlindAppend\",\"type\":\"boolean\",\"nullable\":true,\"metadata\":{}},{\"name\":\"isolationLevel\",\"type\":\"string\",\"nullable\":true,\"metadata\":{}},{\"name\":\"notebook\",\"type\":{\"type\":\"struct\",\"fields\":[{\"name\":\"notebookId\",\"type\":\"string\",\"nullable\":true,\"metadata\":{}}]},\"nullable\":true,\"metadata\":{}},{\"name\":\"operation\",\"type\":\"string\",\"nullable\":true,\"metadata\":{}},{\"name\":\"operationMetrics\",\"type\":{\"type\":\"struct\",\"fields\":[{\"name\":\"executionTimeMs\",\"type\":\"string\",\"nullable\":true,\"metadata\":{}},{\"name\":\"numAddedBytes\",\"type\":\"string\",\"nullable\":true,\"metadata\":{}},{\"name\":\"numAddedChangeFiles\",\"type\":\"string\",\"nullable\":true,\"metadata\":{}},{\"name\":\"numAddedFiles\",\"type\":\"string\",\"nullable\":true,\"metadata\":{}},{\"name\":\"numCopiedRows\",\"type\":\"string\",\"nullable\":true,\"metadata\":{}},{\"name\":\"numDeletionVectorsAdded\",\"type\":\"string\",\"nullable\":true,\"metadata\":{}},{\"name\":\"numDeletionVectorsRemoved\",\"type\":\"string\",\"nullable\":true,\"metadata\":{}},{\"name\":\"numRemovedBytes\",\"type\":\"string\",\"nullable\":true,\"metadata\":{}},{\"name\":\"numRemovedFiles\",\"type\":\"string\",\"nullable\":true,\"metadata\":{}},{\"name\":\"numUpdatedRows\",\"type\":\"string\",\"nullable\":true,\"metadata\":{}},{\"name\":\"rewriteTimeMs\",\"type\":\"string\",\"nullable\":true,\"metadata\":{}},{\"name\":\"scanTimeMs\",\"type\":\"string\",\"nullable\":true,\"metadata\":{}}]},\"nullable\":true,\"metadata\":{}},{\"name\":\"operationParameters\",\"type\":{\"type\":\"struct\",\"fields\":[{\"name\":\"predicate\",\"type\":\"string\",\"nullable\":true,\"metadata\":{}}]},\"nullable\":true,\"metadata\":{}},{\"name\":\"readVersion\",\"type\":\"long\",\"nullable\":true,\"metadata\":{}},{\"name\":\"timestamp\",\"type\":\"long\",\"nullable\":true,\"metadata\":{}},{\"name\":\"txnId\",\"type\":\"string\",\"nullable\":true,\"metadata\":{}},{\"name\":\"userId\",\"type\":\"string\",\"nullable\":true,\"metadata\":{}},{\"name\":\"userName\",\"type\":\"string\",\"nullable\":true,\"metadata\":{}}]}"
        },
        {
         "metadata": "{}",
         "name": "remove",
         "type": "{\"type\":\"struct\",\"fields\":[{\"name\":\"dataChange\",\"type\":\"boolean\",\"nullable\":true,\"metadata\":{}},{\"name\":\"deletionTimestamp\",\"type\":\"long\",\"nullable\":true,\"metadata\":{}},{\"name\":\"extendedFileMetadata\",\"type\":\"boolean\",\"nullable\":true,\"metadata\":{}},{\"name\":\"path\",\"type\":\"string\",\"nullable\":true,\"metadata\":{}},{\"name\":\"size\",\"type\":\"long\",\"nullable\":true,\"metadata\":{}},{\"name\":\"tags\",\"type\":{\"type\":\"struct\",\"fields\":[{\"name\":\"INSERTION_TIME\",\"type\":\"string\",\"nullable\":true,\"metadata\":{}},{\"name\":\"MAX_INSERTION_TIME\",\"type\":\"string\",\"nullable\":true,\"metadata\":{}},{\"name\":\"MIN_INSERTION_TIME\",\"type\":\"string\",\"nullable\":true,\"metadata\":{}},{\"name\":\"OPTIMIZE_TARGET_SIZE\",\"type\":\"string\",\"nullable\":true,\"metadata\":{}}]},\"nullable\":true,\"metadata\":{}}]}"
        }
       ],
       "type": "table"
      }
     },
     "output_type": "display_data"
    }
   ],
   "source": [
    "df = spark.read.json(\"dbfs:/FileStore/tables/OpentableFormat/sinkdata/my_delta_table2/_delta_log/00000000000000000003.json\")\n",
    "display(df)"
   ]
  },
  {
   "cell_type": "code",
   "execution_count": 0,
   "metadata": {
    "application/vnd.databricks.v1+cell": {
     "cellMetadata": {
      "byteLimit": 2048000,
      "implicitDf": true,
      "rowLimit": 10000
     },
     "inputWidgets": {},
     "nuid": "7edfaacc-546f-42a9-8907-f7226fc76911",
     "showTitle": true,
     "tableResultSettingsMap": {},
     "title": "e"
    }
   },
   "outputs": [
    {
     "output_type": "display_data",
     "data": {
      "text/html": [
       "<style scoped>\n",
       "  .table-result-container {\n",
       "    max-height: 300px;\n",
       "    overflow: auto;\n",
       "  }\n",
       "  table, th, td {\n",
       "    border: 1px solid black;\n",
       "    border-collapse: collapse;\n",
       "  }\n",
       "  th, td {\n",
       "    padding: 5px;\n",
       "  }\n",
       "  th {\n",
       "    text-align: left;\n",
       "  }\n",
       "</style><div class='table-result-container'><table class='table-result'><thead style='background-color: white'><tr><th>num_affected_rows</th></tr></thead><tbody><tr><td>1</td></tr></tbody></table></div>"
      ]
     },
     "metadata": {
      "application/vnd.databricks.v1+output": {
       "addedWidgets": {},
       "aggData": [],
       "aggError": "",
       "aggOverflow": false,
       "aggSchema": [],
       "aggSeriesLimitReached": false,
       "aggType": "",
       "arguments": {},
       "columnCustomDisplayInfos": {},
       "data": [
        [
         1
        ]
       ],
       "datasetInfos": [],
       "dbfsResultPath": null,
       "isJsonSchema": true,
       "metadata": {},
       "overflow": false,
       "plotOptions": {
        "customPlotOptions": {},
        "displayType": "table",
        "pivotAggregation": null,
        "pivotColumns": null,
        "xColumns": null,
        "yColumns": null
       },
       "removedWidgets": [],
       "schema": [
        {
         "metadata": "{}",
         "name": "num_affected_rows",
         "type": "\"long\""
        }
       ],
       "type": "table"
      }
     },
     "output_type": "display_data"
    }
   ],
   "source": [
    "%sql\n",
    "DELETE from bronze.my_delta_table2\n",
    "where id = 2"
   ]
  },
  {
   "cell_type": "code",
   "execution_count": 0,
   "metadata": {
    "application/vnd.databricks.v1+cell": {
     "cellMetadata": {
      "byteLimit": 2048000,
      "rowLimit": 10000
     },
     "inputWidgets": {},
     "nuid": "e34622cd-9066-40da-868f-421b88c40a40",
     "showTitle": false,
     "tableResultSettingsMap": {},
     "title": ""
    }
   },
   "outputs": [
    {
     "output_type": "display_data",
     "data": {
      "text/html": [
       "<style scoped>\n",
       "  .table-result-container {\n",
       "    max-height: 300px;\n",
       "    overflow: auto;\n",
       "  }\n",
       "  table, th, td {\n",
       "    border: 1px solid black;\n",
       "    border-collapse: collapse;\n",
       "  }\n",
       "  th, td {\n",
       "    padding: 5px;\n",
       "  }\n",
       "  th {\n",
       "    text-align: left;\n",
       "  }\n",
       "</style><div class='table-result-container'><table class='table-result'><thead style='background-color: white'><tr><th>path</th><th>name</th><th>size</th><th>modificationTime</th></tr></thead><tbody><tr><td>dbfs:/FileStore/tables/OpentableFormat/sinkdata/my_delta_table2/_delta_log/</td><td>_delta_log/</td><td>0</td><td>0</td></tr><tr><td>dbfs:/FileStore/tables/OpentableFormat/sinkdata/my_delta_table2/part-00000-5235b42f-bf41-46dc-9943-b6808cbadc60-c000.snappy.parquet</td><td>part-00000-5235b42f-bf41-46dc-9943-b6808cbadc60-c000.snappy.parquet</td><td>1062</td><td>1742971888000</td></tr><tr><td>dbfs:/FileStore/tables/OpentableFormat/sinkdata/my_delta_table2/part-00000-8ae36447-81d5-401d-8974-500272d29dd4-c000.snappy.parquet</td><td>part-00000-8ae36447-81d5-401d-8974-500272d29dd4-c000.snappy.parquet</td><td>1052</td><td>1742972726000</td></tr><tr><td>dbfs:/FileStore/tables/OpentableFormat/sinkdata/my_delta_table2/part-00000-d81a390f-dd10-4d10-94aa-5238fab7fdf1-c000.snappy.parquet</td><td>part-00000-d81a390f-dd10-4d10-94aa-5238fab7fdf1-c000.snappy.parquet</td><td>1062</td><td>1742971675000</td></tr></tbody></table></div>"
      ]
     },
     "metadata": {
      "application/vnd.databricks.v1+output": {
       "addedWidgets": {},
       "aggData": [],
       "aggError": "",
       "aggOverflow": false,
       "aggSchema": [],
       "aggSeriesLimitReached": false,
       "aggType": "",
       "arguments": {},
       "columnCustomDisplayInfos": {},
       "data": [
        [
         "dbfs:/FileStore/tables/OpentableFormat/sinkdata/my_delta_table2/_delta_log/",
         "_delta_log/",
         0,
         0
        ],
        [
         "dbfs:/FileStore/tables/OpentableFormat/sinkdata/my_delta_table2/part-00000-5235b42f-bf41-46dc-9943-b6808cbadc60-c000.snappy.parquet",
         "part-00000-5235b42f-bf41-46dc-9943-b6808cbadc60-c000.snappy.parquet",
         1062,
         1742971888000
        ],
        [
         "dbfs:/FileStore/tables/OpentableFormat/sinkdata/my_delta_table2/part-00000-8ae36447-81d5-401d-8974-500272d29dd4-c000.snappy.parquet",
         "part-00000-8ae36447-81d5-401d-8974-500272d29dd4-c000.snappy.parquet",
         1052,
         1742972726000
        ],
        [
         "dbfs:/FileStore/tables/OpentableFormat/sinkdata/my_delta_table2/part-00000-d81a390f-dd10-4d10-94aa-5238fab7fdf1-c000.snappy.parquet",
         "part-00000-d81a390f-dd10-4d10-94aa-5238fab7fdf1-c000.snappy.parquet",
         1062,
         1742971675000
        ]
       ],
       "datasetInfos": [],
       "dbfsResultPath": null,
       "isJsonSchema": true,
       "metadata": {
        "isDbfsCommandResult": false
       },
       "overflow": false,
       "plotOptions": {
        "customPlotOptions": {},
        "displayType": "table",
        "pivotAggregation": null,
        "pivotColumns": null,
        "xColumns": null,
        "yColumns": null
       },
       "removedWidgets": [],
       "schema": [
        {
         "metadata": "{}",
         "name": "path",
         "type": "\"string\""
        },
        {
         "metadata": "{}",
         "name": "name",
         "type": "\"string\""
        },
        {
         "metadata": "{}",
         "name": "size",
         "type": "\"long\""
        },
        {
         "metadata": "{}",
         "name": "modificationTime",
         "type": "\"long\""
        }
       ],
       "type": "table"
      }
     },
     "output_type": "display_data"
    }
   ],
   "source": [
    "%fs\n",
    "ls dbfs:/FileStore/tables/OpentableFormat/sinkdata/my_delta_table2/"
   ]
  },
  {
   "cell_type": "code",
   "execution_count": 0,
   "metadata": {
    "application/vnd.databricks.v1+cell": {
     "cellMetadata": {
      "byteLimit": 2048000,
      "rowLimit": 10000
     },
     "inputWidgets": {},
     "nuid": "0e8268fa-76ca-4429-bc5f-54613a3a39e5",
     "showTitle": false,
     "tableResultSettingsMap": {},
     "title": ""
    }
   },
   "outputs": [
    {
     "output_type": "display_data",
     "data": {
      "text/html": [
       "<style scoped>\n",
       "  .table-result-container {\n",
       "    max-height: 300px;\n",
       "    overflow: auto;\n",
       "  }\n",
       "  table, th, td {\n",
       "    border: 1px solid black;\n",
       "    border-collapse: collapse;\n",
       "  }\n",
       "  th, td {\n",
       "    padding: 5px;\n",
       "  }\n",
       "  th {\n",
       "    text-align: left;\n",
       "  }\n",
       "</style><div class='table-result-container'><table class='table-result'><thead style='background-color: white'><tr><th>path</th><th>name</th><th>size</th><th>modificationTime</th></tr></thead><tbody><tr><td>dbfs:/FileStore/tables/OpentableFormat/sinkdata/my_delta_table2/_delta_log/.s3-optimization-0</td><td>.s3-optimization-0</td><td>0</td><td>1742971522000</td></tr><tr><td>dbfs:/FileStore/tables/OpentableFormat/sinkdata/my_delta_table2/_delta_log/.s3-optimization-1</td><td>.s3-optimization-1</td><td>0</td><td>1742971522000</td></tr><tr><td>dbfs:/FileStore/tables/OpentableFormat/sinkdata/my_delta_table2/_delta_log/.s3-optimization-2</td><td>.s3-optimization-2</td><td>0</td><td>1742971522000</td></tr><tr><td>dbfs:/FileStore/tables/OpentableFormat/sinkdata/my_delta_table2/_delta_log/00000000000000000000.crc</td><td>00000000000000000000.crc</td><td>2028</td><td>1742971524000</td></tr><tr><td>dbfs:/FileStore/tables/OpentableFormat/sinkdata/my_delta_table2/_delta_log/00000000000000000000.json</td><td>00000000000000000000.json</td><td>998</td><td>1742971522000</td></tr><tr><td>dbfs:/FileStore/tables/OpentableFormat/sinkdata/my_delta_table2/_delta_log/00000000000000000001.crc</td><td>00000000000000000001.crc</td><td>2065</td><td>1742971603000</td></tr><tr><td>dbfs:/FileStore/tables/OpentableFormat/sinkdata/my_delta_table2/_delta_log/00000000000000000001.json</td><td>00000000000000000001.json</td><td>982</td><td>1742971601000</td></tr><tr><td>dbfs:/FileStore/tables/OpentableFormat/sinkdata/my_delta_table2/_delta_log/00000000000000000002.crc</td><td>00000000000000000002.crc</td><td>2588</td><td>1742971677000</td></tr><tr><td>dbfs:/FileStore/tables/OpentableFormat/sinkdata/my_delta_table2/_delta_log/00000000000000000002.json</td><td>00000000000000000002.json</td><td>1044</td><td>1742971675000</td></tr><tr><td>dbfs:/FileStore/tables/OpentableFormat/sinkdata/my_delta_table2/_delta_log/00000000000000000003.crc</td><td>00000000000000000003.crc</td><td>2588</td><td>1742971891000</td></tr><tr><td>dbfs:/FileStore/tables/OpentableFormat/sinkdata/my_delta_table2/_delta_log/00000000000000000003.json</td><td>00000000000000000003.json</td><td>1637</td><td>1742971888000</td></tr><tr><td>dbfs:/FileStore/tables/OpentableFormat/sinkdata/my_delta_table2/_delta_log/00000000000000000004.crc</td><td>00000000000000000004.crc</td><td>2588</td><td>1742972728000</td></tr><tr><td>dbfs:/FileStore/tables/OpentableFormat/sinkdata/my_delta_table2/_delta_log/00000000000000000004.json</td><td>00000000000000000004.json</td><td>1636</td><td>1742972726000</td></tr></tbody></table></div>"
      ]
     },
     "metadata": {
      "application/vnd.databricks.v1+output": {
       "addedWidgets": {},
       "aggData": [],
       "aggError": "",
       "aggOverflow": false,
       "aggSchema": [],
       "aggSeriesLimitReached": false,
       "aggType": "",
       "arguments": {},
       "columnCustomDisplayInfos": {},
       "data": [
        [
         "dbfs:/FileStore/tables/OpentableFormat/sinkdata/my_delta_table2/_delta_log/.s3-optimization-0",
         ".s3-optimization-0",
         0,
         1742971522000
        ],
        [
         "dbfs:/FileStore/tables/OpentableFormat/sinkdata/my_delta_table2/_delta_log/.s3-optimization-1",
         ".s3-optimization-1",
         0,
         1742971522000
        ],
        [
         "dbfs:/FileStore/tables/OpentableFormat/sinkdata/my_delta_table2/_delta_log/.s3-optimization-2",
         ".s3-optimization-2",
         0,
         1742971522000
        ],
        [
         "dbfs:/FileStore/tables/OpentableFormat/sinkdata/my_delta_table2/_delta_log/00000000000000000000.crc",
         "00000000000000000000.crc",
         2028,
         1742971524000
        ],
        [
         "dbfs:/FileStore/tables/OpentableFormat/sinkdata/my_delta_table2/_delta_log/00000000000000000000.json",
         "00000000000000000000.json",
         998,
         1742971522000
        ],
        [
         "dbfs:/FileStore/tables/OpentableFormat/sinkdata/my_delta_table2/_delta_log/00000000000000000001.crc",
         "00000000000000000001.crc",
         2065,
         1742971603000
        ],
        [
         "dbfs:/FileStore/tables/OpentableFormat/sinkdata/my_delta_table2/_delta_log/00000000000000000001.json",
         "00000000000000000001.json",
         982,
         1742971601000
        ],
        [
         "dbfs:/FileStore/tables/OpentableFormat/sinkdata/my_delta_table2/_delta_log/00000000000000000002.crc",
         "00000000000000000002.crc",
         2588,
         1742971677000
        ],
        [
         "dbfs:/FileStore/tables/OpentableFormat/sinkdata/my_delta_table2/_delta_log/00000000000000000002.json",
         "00000000000000000002.json",
         1044,
         1742971675000
        ],
        [
         "dbfs:/FileStore/tables/OpentableFormat/sinkdata/my_delta_table2/_delta_log/00000000000000000003.crc",
         "00000000000000000003.crc",
         2588,
         1742971891000
        ],
        [
         "dbfs:/FileStore/tables/OpentableFormat/sinkdata/my_delta_table2/_delta_log/00000000000000000003.json",
         "00000000000000000003.json",
         1637,
         1742971888000
        ],
        [
         "dbfs:/FileStore/tables/OpentableFormat/sinkdata/my_delta_table2/_delta_log/00000000000000000004.crc",
         "00000000000000000004.crc",
         2588,
         1742972728000
        ],
        [
         "dbfs:/FileStore/tables/OpentableFormat/sinkdata/my_delta_table2/_delta_log/00000000000000000004.json",
         "00000000000000000004.json",
         1636,
         1742972726000
        ]
       ],
       "datasetInfos": [],
       "dbfsResultPath": null,
       "isJsonSchema": true,
       "metadata": {
        "isDbfsCommandResult": false
       },
       "overflow": false,
       "plotOptions": {
        "customPlotOptions": {},
        "displayType": "table",
        "pivotAggregation": null,
        "pivotColumns": null,
        "xColumns": null,
        "yColumns": null
       },
       "removedWidgets": [],
       "schema": [
        {
         "metadata": "{}",
         "name": "path",
         "type": "\"string\""
        },
        {
         "metadata": "{}",
         "name": "name",
         "type": "\"string\""
        },
        {
         "metadata": "{}",
         "name": "size",
         "type": "\"long\""
        },
        {
         "metadata": "{}",
         "name": "modificationTime",
         "type": "\"long\""
        }
       ],
       "type": "table"
      }
     },
     "output_type": "display_data"
    }
   ],
   "source": [
    "%fs\n",
    "ls dbfs:/FileStore/tables/OpentableFormat/sinkdata/my_delta_table2/_delta_log"
   ]
  },
  {
   "cell_type": "code",
   "execution_count": 0,
   "metadata": {
    "application/vnd.databricks.v1+cell": {
     "cellMetadata": {
      "byteLimit": 2048000,
      "rowLimit": 10000
     },
     "inputWidgets": {},
     "nuid": "3bea74b0-a695-449f-80cd-0f05065f793a",
     "showTitle": false,
     "tableResultSettingsMap": {},
     "title": ""
    }
   },
   "outputs": [
    {
     "output_type": "display_data",
     "data": {
      "text/html": [
       "<style scoped>\n",
       "  .table-result-container {\n",
       "    max-height: 300px;\n",
       "    overflow: auto;\n",
       "  }\n",
       "  table, th, td {\n",
       "    border: 1px solid black;\n",
       "    border-collapse: collapse;\n",
       "  }\n",
       "  th, td {\n",
       "    padding: 5px;\n",
       "  }\n",
       "  th {\n",
       "    text-align: left;\n",
       "  }\n",
       "</style><div class='table-result-container'><table class='table-result'><thead style='background-color: white'><tr><th>add</th><th>commitInfo</th><th>remove</th></tr></thead><tbody><tr><td>null</td><td>List(0326-051930-d3czotdy, Databricks-Runtime/12.2.x-scala2.12, false, WriteSerializable, List(1262503834636755), DELETE, List(2631, 1052, 0, 1, 1, 1, 0, 0, 1062, 1, 980, 1648), List([\"(id#11401 = 2)\"]), 3, 1742972725612, c1a00ec8-91c9-41e4-a23c-329ace085046, 702181498026089, shankarwagh297@gmail.com)</td><td>null</td></tr><tr><td>null</td><td>null</td><td>List(true, 1742972725606, true, part-00000-5235b42f-bf41-46dc-9943-b6808cbadc60-c000.snappy.parquet, 1062, List(1742971675000000, 1742971675000000, 1742971675000000, 268435456))</td></tr><tr><td>List(true, 1742972726000, part-00000-8ae36447-81d5-401d-8974-500272d29dd4-c000.snappy.parquet, 1052, {\"numRecords\":1,\"minValues\":{\"id\":1,\"name\":\"AA\",\"salary\":100.0},\"maxValues\":{\"id\":1,\"name\":\"AA\",\"salary\":100.0},\"nullCount\":{\"id\":0,\"name\":0,\"salary\":0}}, List(1742971675000000, 1742971675000000, 1742971675000000, 268435456))</td><td>null</td><td>null</td></tr></tbody></table></div>"
      ]
     },
     "metadata": {
      "application/vnd.databricks.v1+output": {
       "addedWidgets": {},
       "aggData": [],
       "aggError": "",
       "aggOverflow": false,
       "aggSchema": [],
       "aggSeriesLimitReached": false,
       "aggType": "",
       "arguments": {},
       "columnCustomDisplayInfos": {},
       "data": [
        [
         null,
         [
          "0326-051930-d3czotdy",
          "Databricks-Runtime/12.2.x-scala2.12",
          false,
          "WriteSerializable",
          [
           "1262503834636755"
          ],
          "DELETE",
          [
           "2631",
           "1052",
           "0",
           "1",
           "1",
           "1",
           "0",
           "0",
           "1062",
           "1",
           "980",
           "1648"
          ],
          [
           "[\"(id#11401 = 2)\"]"
          ],
          3,
          1742972725612,
          "c1a00ec8-91c9-41e4-a23c-329ace085046",
          "702181498026089",
          "shankarwagh297@gmail.com"
         ],
         null
        ],
        [
         null,
         null,
         [
          true,
          1742972725606,
          true,
          "part-00000-5235b42f-bf41-46dc-9943-b6808cbadc60-c000.snappy.parquet",
          1062,
          [
           "1742971675000000",
           "1742971675000000",
           "1742971675000000",
           "268435456"
          ]
         ]
        ],
        [
         [
          true,
          1742972726000,
          "part-00000-8ae36447-81d5-401d-8974-500272d29dd4-c000.snappy.parquet",
          1052,
          "{\"numRecords\":1,\"minValues\":{\"id\":1,\"name\":\"AA\",\"salary\":100.0},\"maxValues\":{\"id\":1,\"name\":\"AA\",\"salary\":100.0},\"nullCount\":{\"id\":0,\"name\":0,\"salary\":0}}",
          [
           "1742971675000000",
           "1742971675000000",
           "1742971675000000",
           "268435456"
          ]
         ],
         null,
         null
        ]
       ],
       "datasetInfos": [],
       "dbfsResultPath": null,
       "isJsonSchema": true,
       "metadata": {},
       "overflow": false,
       "plotOptions": {
        "customPlotOptions": {},
        "displayType": "table",
        "pivotAggregation": null,
        "pivotColumns": null,
        "xColumns": null,
        "yColumns": null
       },
       "removedWidgets": [],
       "schema": [
        {
         "metadata": "{}",
         "name": "add",
         "type": "{\"type\":\"struct\",\"fields\":[{\"name\":\"dataChange\",\"type\":\"boolean\",\"nullable\":true,\"metadata\":{}},{\"name\":\"modificationTime\",\"type\":\"long\",\"nullable\":true,\"metadata\":{}},{\"name\":\"path\",\"type\":\"string\",\"nullable\":true,\"metadata\":{}},{\"name\":\"size\",\"type\":\"long\",\"nullable\":true,\"metadata\":{}},{\"name\":\"stats\",\"type\":\"string\",\"nullable\":true,\"metadata\":{}},{\"name\":\"tags\",\"type\":{\"type\":\"struct\",\"fields\":[{\"name\":\"INSERTION_TIME\",\"type\":\"string\",\"nullable\":true,\"metadata\":{}},{\"name\":\"MAX_INSERTION_TIME\",\"type\":\"string\",\"nullable\":true,\"metadata\":{}},{\"name\":\"MIN_INSERTION_TIME\",\"type\":\"string\",\"nullable\":true,\"metadata\":{}},{\"name\":\"OPTIMIZE_TARGET_SIZE\",\"type\":\"string\",\"nullable\":true,\"metadata\":{}}]},\"nullable\":true,\"metadata\":{}}]}"
        },
        {
         "metadata": "{}",
         "name": "commitInfo",
         "type": "{\"type\":\"struct\",\"fields\":[{\"name\":\"clusterId\",\"type\":\"string\",\"nullable\":true,\"metadata\":{}},{\"name\":\"engineInfo\",\"type\":\"string\",\"nullable\":true,\"metadata\":{}},{\"name\":\"isBlindAppend\",\"type\":\"boolean\",\"nullable\":true,\"metadata\":{}},{\"name\":\"isolationLevel\",\"type\":\"string\",\"nullable\":true,\"metadata\":{}},{\"name\":\"notebook\",\"type\":{\"type\":\"struct\",\"fields\":[{\"name\":\"notebookId\",\"type\":\"string\",\"nullable\":true,\"metadata\":{}}]},\"nullable\":true,\"metadata\":{}},{\"name\":\"operation\",\"type\":\"string\",\"nullable\":true,\"metadata\":{}},{\"name\":\"operationMetrics\",\"type\":{\"type\":\"struct\",\"fields\":[{\"name\":\"executionTimeMs\",\"type\":\"string\",\"nullable\":true,\"metadata\":{}},{\"name\":\"numAddedBytes\",\"type\":\"string\",\"nullable\":true,\"metadata\":{}},{\"name\":\"numAddedChangeFiles\",\"type\":\"string\",\"nullable\":true,\"metadata\":{}},{\"name\":\"numAddedFiles\",\"type\":\"string\",\"nullable\":true,\"metadata\":{}},{\"name\":\"numCopiedRows\",\"type\":\"string\",\"nullable\":true,\"metadata\":{}},{\"name\":\"numDeletedRows\",\"type\":\"string\",\"nullable\":true,\"metadata\":{}},{\"name\":\"numDeletionVectorsAdded\",\"type\":\"string\",\"nullable\":true,\"metadata\":{}},{\"name\":\"numDeletionVectorsRemoved\",\"type\":\"string\",\"nullable\":true,\"metadata\":{}},{\"name\":\"numRemovedBytes\",\"type\":\"string\",\"nullable\":true,\"metadata\":{}},{\"name\":\"numRemovedFiles\",\"type\":\"string\",\"nullable\":true,\"metadata\":{}},{\"name\":\"rewriteTimeMs\",\"type\":\"string\",\"nullable\":true,\"metadata\":{}},{\"name\":\"scanTimeMs\",\"type\":\"string\",\"nullable\":true,\"metadata\":{}}]},\"nullable\":true,\"metadata\":{}},{\"name\":\"operationParameters\",\"type\":{\"type\":\"struct\",\"fields\":[{\"name\":\"predicate\",\"type\":\"string\",\"nullable\":true,\"metadata\":{}}]},\"nullable\":true,\"metadata\":{}},{\"name\":\"readVersion\",\"type\":\"long\",\"nullable\":true,\"metadata\":{}},{\"name\":\"timestamp\",\"type\":\"long\",\"nullable\":true,\"metadata\":{}},{\"name\":\"txnId\",\"type\":\"string\",\"nullable\":true,\"metadata\":{}},{\"name\":\"userId\",\"type\":\"string\",\"nullable\":true,\"metadata\":{}},{\"name\":\"userName\",\"type\":\"string\",\"nullable\":true,\"metadata\":{}}]}"
        },
        {
         "metadata": "{}",
         "name": "remove",
         "type": "{\"type\":\"struct\",\"fields\":[{\"name\":\"dataChange\",\"type\":\"boolean\",\"nullable\":true,\"metadata\":{}},{\"name\":\"deletionTimestamp\",\"type\":\"long\",\"nullable\":true,\"metadata\":{}},{\"name\":\"extendedFileMetadata\",\"type\":\"boolean\",\"nullable\":true,\"metadata\":{}},{\"name\":\"path\",\"type\":\"string\",\"nullable\":true,\"metadata\":{}},{\"name\":\"size\",\"type\":\"long\",\"nullable\":true,\"metadata\":{}},{\"name\":\"tags\",\"type\":{\"type\":\"struct\",\"fields\":[{\"name\":\"INSERTION_TIME\",\"type\":\"string\",\"nullable\":true,\"metadata\":{}},{\"name\":\"MAX_INSERTION_TIME\",\"type\":\"string\",\"nullable\":true,\"metadata\":{}},{\"name\":\"MIN_INSERTION_TIME\",\"type\":\"string\",\"nullable\":true,\"metadata\":{}},{\"name\":\"OPTIMIZE_TARGET_SIZE\",\"type\":\"string\",\"nullable\":true,\"metadata\":{}}]},\"nullable\":true,\"metadata\":{}}]}"
        }
       ],
       "type": "table"
      }
     },
     "output_type": "display_data"
    }
   ],
   "source": [
    "df = spark.read.json(\"dbfs:/FileStore/tables/OpentableFormat/sinkdata/my_delta_table2/_delta_log/00000000000000000004.json\")\n",
    "display(df)"
   ]
  },
  {
   "cell_type": "code",
   "execution_count": 0,
   "metadata": {
    "application/vnd.databricks.v1+cell": {
     "cellMetadata": {},
     "inputWidgets": {},
     "nuid": "90f8aa96-4b03-43f5-9373-5eee81d3b571",
     "showTitle": false,
     "tableResultSettingsMap": {},
     "title": ""
    }
   },
   "outputs": [],
   "source": [
    "%sql\n",
    "DESCRIBE HISTORY bronze.my_delta_table2"
   ]
  },
  {
   "cell_type": "markdown",
   "metadata": {
    "application/vnd.databricks.v1+cell": {
     "cellMetadata": {},
     "inputWidgets": {},
     "nuid": "9391c812-bbe1-45c8-a750-11f41239d01c",
     "showTitle": false,
     "tableResultSettingsMap": {},
     "title": ""
    }
   },
   "source": [
    "# Time Travel"
   ]
  },
  {
   "cell_type": "code",
   "execution_count": 0,
   "metadata": {
    "application/vnd.databricks.v1+cell": {
     "cellMetadata": {
      "byteLimit": 2048000,
      "implicitDf": true,
      "rowLimit": 10000
     },
     "inputWidgets": {},
     "nuid": "e14d58cf-d53e-4a87-98b1-92574f3f5105",
     "showTitle": false,
     "tableResultSettingsMap": {},
     "title": ""
    }
   },
   "outputs": [
    {
     "output_type": "display_data",
     "data": {
      "text/html": [
       "<style scoped>\n",
       "  .table-result-container {\n",
       "    max-height: 300px;\n",
       "    overflow: auto;\n",
       "  }\n",
       "  table, th, td {\n",
       "    border: 1px solid black;\n",
       "    border-collapse: collapse;\n",
       "  }\n",
       "  th, td {\n",
       "    padding: 5px;\n",
       "  }\n",
       "  th {\n",
       "    text-align: left;\n",
       "  }\n",
       "</style><div class='table-result-container'><table class='table-result'><thead style='background-color: white'><tr><th>id</th><th>name</th><th>salary</th></tr></thead><tbody><tr><td>1</td><td>AA</td><td>100.0</td></tr></tbody></table></div>"
      ]
     },
     "metadata": {
      "application/vnd.databricks.v1+output": {
       "addedWidgets": {},
       "aggData": [],
       "aggError": "",
       "aggOverflow": false,
       "aggSchema": [],
       "aggSeriesLimitReached": false,
       "aggType": "",
       "arguments": {},
       "columnCustomDisplayInfos": {},
       "data": [
        [
         1,
         "AA",
         100.0
        ]
       ],
       "datasetInfos": [],
       "dbfsResultPath": null,
       "isJsonSchema": true,
       "metadata": {},
       "overflow": false,
       "plotOptions": {
        "customPlotOptions": {},
        "displayType": "table",
        "pivotAggregation": null,
        "pivotColumns": null,
        "xColumns": null,
        "yColumns": null
       },
       "removedWidgets": [],
       "schema": [
        {
         "metadata": "{}",
         "name": "id",
         "type": "\"integer\""
        },
        {
         "metadata": "{}",
         "name": "name",
         "type": "\"string\""
        },
        {
         "metadata": "{}",
         "name": "salary",
         "type": "\"double\""
        }
       ],
       "type": "table"
      }
     },
     "output_type": "display_data"
    }
   ],
   "source": [
    "%sql\n",
    "SELECT * FROM bronze.my_delta_table2"
   ]
  },
  {
   "cell_type": "code",
   "execution_count": 0,
   "metadata": {
    "application/vnd.databricks.v1+cell": {
     "cellMetadata": {
      "byteLimit": 2048000,
      "implicitDf": true,
      "rowLimit": 10000
     },
     "inputWidgets": {},
     "nuid": "3d59b3e5-f575-4b5c-9295-fb19ae2e2f2b",
     "showTitle": false,
     "tableResultSettingsMap": {},
     "title": ""
    }
   },
   "outputs": [
    {
     "output_type": "display_data",
     "data": {
      "text/html": [
       "<style scoped>\n",
       "  .table-result-container {\n",
       "    max-height: 300px;\n",
       "    overflow: auto;\n",
       "  }\n",
       "  table, th, td {\n",
       "    border: 1px solid black;\n",
       "    border-collapse: collapse;\n",
       "  }\n",
       "  th, td {\n",
       "    padding: 5px;\n",
       "  }\n",
       "  th {\n",
       "    text-align: left;\n",
       "  }\n",
       "</style><div class='table-result-container'><table class='table-result'><thead style='background-color: white'><tr><th>id</th><th>name</th><th>salary</th></tr></thead><tbody><tr><td>1</td><td>AA</td><td>100.0</td></tr><tr><td>2</td><td>zz</td><td>200.0</td></tr></tbody></table></div>"
      ]
     },
     "metadata": {
      "application/vnd.databricks.v1+output": {
       "addedWidgets": {},
       "aggData": [],
       "aggError": "",
       "aggOverflow": false,
       "aggSchema": [],
       "aggSeriesLimitReached": false,
       "aggType": "",
       "arguments": {},
       "columnCustomDisplayInfos": {},
       "data": [
        [
         1,
         "AA",
         100.0
        ],
        [
         2,
         "zz",
         200.0
        ]
       ],
       "datasetInfos": [],
       "dbfsResultPath": null,
       "isJsonSchema": true,
       "metadata": {},
       "overflow": false,
       "plotOptions": {
        "customPlotOptions": {},
        "displayType": "table",
        "pivotAggregation": null,
        "pivotColumns": null,
        "xColumns": null,
        "yColumns": null
       },
       "removedWidgets": [],
       "schema": [
        {
         "metadata": "{}",
         "name": "id",
         "type": "\"integer\""
        },
        {
         "metadata": "{}",
         "name": "name",
         "type": "\"string\""
        },
        {
         "metadata": "{}",
         "name": "salary",
         "type": "\"double\""
        }
       ],
       "type": "table"
      }
     },
     "output_type": "display_data"
    }
   ],
   "source": [
    "%sql\n",
    "SELECT * FROM bronze.my_delta_table2 VERSION AS OF 3"
   ]
  },
  {
   "cell_type": "code",
   "execution_count": 0,
   "metadata": {
    "application/vnd.databricks.v1+cell": {
     "cellMetadata": {
      "byteLimit": 2048000,
      "implicitDf": true,
      "rowLimit": 10000
     },
     "inputWidgets": {},
     "nuid": "97398bd7-31db-4061-abfb-5fbc1709b874",
     "showTitle": false,
     "tableResultSettingsMap": {},
     "title": ""
    }
   },
   "outputs": [
    {
     "output_type": "display_data",
     "data": {
      "text/html": [
       "<style scoped>\n",
       "  .table-result-container {\n",
       "    max-height: 300px;\n",
       "    overflow: auto;\n",
       "  }\n",
       "  table, th, td {\n",
       "    border: 1px solid black;\n",
       "    border-collapse: collapse;\n",
       "  }\n",
       "  th, td {\n",
       "    padding: 5px;\n",
       "  }\n",
       "  th {\n",
       "    text-align: left;\n",
       "  }\n",
       "</style><div class='table-result-container'><table class='table-result'><thead style='background-color: white'><tr><th>id</th><th>name</th><th>salary</th></tr></thead><tbody><tr><td>1</td><td>AA</td><td>100.0</td></tr><tr><td>2</td><td>BB</td><td>200.0</td></tr></tbody></table></div>"
      ]
     },
     "metadata": {
      "application/vnd.databricks.v1+output": {
       "addedWidgets": {},
       "aggData": [],
       "aggError": "",
       "aggOverflow": false,
       "aggSchema": [],
       "aggSeriesLimitReached": false,
       "aggType": "",
       "arguments": {},
       "columnCustomDisplayInfos": {},
       "data": [
        [
         1,
         "AA",
         100.0
        ],
        [
         2,
         "BB",
         200.0
        ]
       ],
       "datasetInfos": [],
       "dbfsResultPath": null,
       "isJsonSchema": true,
       "metadata": {},
       "overflow": false,
       "plotOptions": {
        "customPlotOptions": {},
        "displayType": "table",
        "pivotAggregation": null,
        "pivotColumns": null,
        "xColumns": null,
        "yColumns": null
       },
       "removedWidgets": [],
       "schema": [
        {
         "metadata": "{}",
         "name": "id",
         "type": "\"integer\""
        },
        {
         "metadata": "{}",
         "name": "name",
         "type": "\"string\""
        },
        {
         "metadata": "{}",
         "name": "salary",
         "type": "\"double\""
        }
       ],
       "type": "table"
      }
     },
     "output_type": "display_data"
    }
   ],
   "source": [
    "%sql\n",
    "SELECT * FROM bronze.my_delta_table2 VERSION AS OF 2"
   ]
  },
  {
   "cell_type": "markdown",
   "metadata": {
    "application/vnd.databricks.v1+cell": {
     "cellMetadata": {},
     "inputWidgets": {},
     "nuid": "228afbe8-94b5-4a70-a7d1-9f3cc0f17c9e",
     "showTitle": false,
     "tableResultSettingsMap": {},
     "title": ""
    }
   },
   "source": [
    "# VACUUM\n",
    "deletion of unused files"
   ]
  },
  {
   "cell_type": "code",
   "execution_count": 0,
   "metadata": {
    "application/vnd.databricks.v1+cell": {
     "cellMetadata": {
      "byteLimit": 2048000,
      "implicitDf": true,
      "rowLimit": 10000
     },
     "inputWidgets": {},
     "nuid": "dc0def3e-5322-43f9-ac68-c1a7ea7b7ccf",
     "showTitle": false,
     "tableResultSettingsMap": {},
     "title": ""
    }
   },
   "outputs": [
    {
     "output_type": "display_data",
     "data": {
      "text/html": [
       "<style scoped>\n",
       "  .table-result-container {\n",
       "    max-height: 300px;\n",
       "    overflow: auto;\n",
       "  }\n",
       "  table, th, td {\n",
       "    border: 1px solid black;\n",
       "    border-collapse: collapse;\n",
       "  }\n",
       "  th, td {\n",
       "    padding: 5px;\n",
       "  }\n",
       "  th {\n",
       "    text-align: left;\n",
       "  }\n",
       "</style><div class='table-result-container'><table class='table-result'><thead style='background-color: white'><tr><th>path</th></tr></thead><tbody><tr><td>dbfs:/FileStore/tables/OpentableFormat/sinkdata/my_delta_table2</td></tr></tbody></table></div>"
      ]
     },
     "metadata": {
      "application/vnd.databricks.v1+output": {
       "addedWidgets": {},
       "aggData": [],
       "aggError": "",
       "aggOverflow": false,
       "aggSchema": [],
       "aggSeriesLimitReached": false,
       "aggType": "",
       "arguments": {},
       "columnCustomDisplayInfos": {},
       "data": [
        [
         "dbfs:/FileStore/tables/OpentableFormat/sinkdata/my_delta_table2"
        ]
       ],
       "datasetInfos": [],
       "dbfsResultPath": null,
       "isJsonSchema": true,
       "metadata": {},
       "overflow": false,
       "plotOptions": {
        "customPlotOptions": {},
        "displayType": "table",
        "pivotAggregation": null,
        "pivotColumns": null,
        "xColumns": null,
        "yColumns": null
       },
       "removedWidgets": [],
       "schema": [
        {
         "metadata": "{}",
         "name": "path",
         "type": "\"string\""
        }
       ],
       "type": "table"
      }
     },
     "output_type": "display_data"
    }
   ],
   "source": [
    "%sql\n",
    "VACUUM bronze.my_delta_table2 DRY RUN; --showing file which have to delete"
   ]
  },
  {
   "cell_type": "code",
   "execution_count": 0,
   "metadata": {
    "application/vnd.databricks.v1+cell": {
     "cellMetadata": {
      "byteLimit": 2048000,
      "implicitDf": true,
      "rowLimit": 10000
     },
     "inputWidgets": {},
     "nuid": "10299c66-30ba-424c-beff-1dedafa53258",
     "showTitle": false,
     "tableResultSettingsMap": {},
     "title": ""
    }
   },
   "outputs": [
    {
     "output_type": "display_data",
     "data": {
      "text/html": [
       "<style scoped>\n",
       "  .table-result-container {\n",
       "    max-height: 300px;\n",
       "    overflow: auto;\n",
       "  }\n",
       "  table, th, td {\n",
       "    border: 1px solid black;\n",
       "    border-collapse: collapse;\n",
       "  }\n",
       "  th, td {\n",
       "    padding: 5px;\n",
       "  }\n",
       "  th {\n",
       "    text-align: left;\n",
       "  }\n",
       "</style><div class='table-result-container'><table class='table-result'><thead style='background-color: white'><tr><th>key</th><th>value</th></tr></thead><tbody><tr><td>spark.databricks.delta.retentionDurationCheck.enabled</td><td>false</td></tr></tbody></table></div>"
      ]
     },
     "metadata": {
      "application/vnd.databricks.v1+output": {
       "addedWidgets": {},
       "aggData": [],
       "aggError": "",
       "aggOverflow": false,
       "aggSchema": [],
       "aggSeriesLimitReached": false,
       "aggType": "",
       "arguments": {},
       "columnCustomDisplayInfos": {},
       "data": [
        [
         "spark.databricks.delta.retentionDurationCheck.enabled",
         "false"
        ]
       ],
       "datasetInfos": [],
       "dbfsResultPath": null,
       "isJsonSchema": true,
       "metadata": {},
       "overflow": false,
       "plotOptions": {
        "customPlotOptions": {},
        "displayType": "table",
        "pivotAggregation": null,
        "pivotColumns": null,
        "xColumns": null,
        "yColumns": null
       },
       "removedWidgets": [],
       "schema": [
        {
         "metadata": "{}",
         "name": "key",
         "type": "\"string\""
        },
        {
         "metadata": "{}",
         "name": "value",
         "type": "\"string\""
        }
       ],
       "type": "table"
      }
     },
     "output_type": "display_data"
    }
   ],
   "source": [
    "%sql\n",
    "\n",
    "SET spark.databricks.delta.retentionDurationCheck.enabled = false"
   ]
  },
  {
   "cell_type": "code",
   "execution_count": 0,
   "metadata": {
    "application/vnd.databricks.v1+cell": {
     "cellMetadata": {
      "byteLimit": 2048000,
      "implicitDf": true,
      "rowLimit": 10000
     },
     "inputWidgets": {},
     "nuid": "2a65f807-1064-4044-bc2b-90f1c9cd2d5a",
     "showTitle": false,
     "tableResultSettingsMap": {},
     "title": ""
    }
   },
   "outputs": [
    {
     "output_type": "display_data",
     "data": {
      "text/html": [
       "<style scoped>\n",
       "  .table-result-container {\n",
       "    max-height: 300px;\n",
       "    overflow: auto;\n",
       "  }\n",
       "  table, th, td {\n",
       "    border: 1px solid black;\n",
       "    border-collapse: collapse;\n",
       "  }\n",
       "  th, td {\n",
       "    padding: 5px;\n",
       "  }\n",
       "  th {\n",
       "    text-align: left;\n",
       "  }\n",
       "</style><div class='table-result-container'><table class='table-result'><thead style='background-color: white'><tr><th>path</th></tr></thead><tbody><tr><td>dbfs:/FileStore/tables/OpentableFormat/sinkdata/my_delta_table2/part-00000-d81a390f-dd10-4d10-94aa-5238fab7fdf1-c000.snappy.parquet</td></tr><tr><td>dbfs:/FileStore/tables/OpentableFormat/sinkdata/my_delta_table2/part-00000-5235b42f-bf41-46dc-9943-b6808cbadc60-c000.snappy.parquet</td></tr></tbody></table></div>"
      ]
     },
     "metadata": {
      "application/vnd.databricks.v1+output": {
       "addedWidgets": {},
       "aggData": [],
       "aggError": "",
       "aggOverflow": false,
       "aggSchema": [],
       "aggSeriesLimitReached": false,
       "aggType": "",
       "arguments": {},
       "columnCustomDisplayInfos": {},
       "data": [
        [
         "dbfs:/FileStore/tables/OpentableFormat/sinkdata/my_delta_table2/part-00000-d81a390f-dd10-4d10-94aa-5238fab7fdf1-c000.snappy.parquet"
        ],
        [
         "dbfs:/FileStore/tables/OpentableFormat/sinkdata/my_delta_table2/part-00000-5235b42f-bf41-46dc-9943-b6808cbadc60-c000.snappy.parquet"
        ]
       ],
       "datasetInfos": [],
       "dbfsResultPath": null,
       "isJsonSchema": true,
       "metadata": {},
       "overflow": false,
       "plotOptions": {
        "customPlotOptions": {},
        "displayType": "table",
        "pivotAggregation": null,
        "pivotColumns": null,
        "xColumns": null,
        "yColumns": null
       },
       "removedWidgets": [],
       "schema": [
        {
         "metadata": "{}",
         "name": "path",
         "type": "\"string\""
        }
       ],
       "type": "table"
      }
     },
     "output_type": "display_data"
    }
   ],
   "source": [
    "%sql\n",
    "VACUUM bronze.my_delta_table2 RETAIN 0 HOURS DRY RUN; --very risky command\n"
   ]
  },
  {
   "cell_type": "code",
   "execution_count": 0,
   "metadata": {
    "application/vnd.databricks.v1+cell": {
     "cellMetadata": {},
     "inputWidgets": {},
     "nuid": "82a435e4-8e5e-4994-81fc-6ed9f28a5ec6",
     "showTitle": false,
     "tableResultSettingsMap": {},
     "title": ""
    }
   },
   "outputs": [],
   "source": []
  },
  {
   "cell_type": "code",
   "execution_count": 0,
   "metadata": {
    "application/vnd.databricks.v1+cell": {
     "cellMetadata": {
      "byteLimit": 2048000,
      "rowLimit": 10000
     },
     "inputWidgets": {},
     "nuid": "5ba03009-f892-455b-877b-709223526821",
     "showTitle": false,
     "tableResultSettingsMap": {},
     "title": ""
    }
   },
   "outputs": [],
   "source": [
    "df = spark.read.format(\"csv\") \\\n",
    "        .option(\"header\", True) \\\n",
    "        .option(\"inferschema\", True) \\\n",
    "        .load(\"/FileStore/tables/OpentableFormat/rawdata/sales_data_first.csv\")\n",
    "# display(df)\n",
    "\n"
   ]
  },
  {
   "cell_type": "code",
   "execution_count": 0,
   "metadata": {
    "application/vnd.databricks.v1+cell": {
     "cellMetadata": {
      "byteLimit": 2048000,
      "rowLimit": 10000
     },
     "inputWidgets": {},
     "nuid": "430a8568-6ff3-4412-b937-323894a4855b",
     "showTitle": false,
     "tableResultSettingsMap": {},
     "title": ""
    }
   },
   "outputs": [],
   "source": [
    "df.write.format(\"delta\") \\\n",
    "    .mode(\"append\") \\\n",
    "    .option(\"path\", \"/FileStore/tables/OpentableFormat/sinkdata/sales_data\") \\\n",
    "    .save()"
   ]
  },
  {
   "cell_type": "code",
   "execution_count": 0,
   "metadata": {
    "application/vnd.databricks.v1+cell": {
     "cellMetadata": {
      "byteLimit": 2048000,
      "rowLimit": 10000
     },
     "inputWidgets": {},
     "nuid": "cf639f37-999d-4c94-9ae5-fa8a0d85f4d4",
     "showTitle": false,
     "tableResultSettingsMap": {},
     "title": ""
    }
   },
   "outputs": [],
   "source": [
    "# if we get schema mismatched error then we can use merge schema option\n",
    "df.write.format(\"delta\") \\\n",
    "    .mode(\"append\") \\\n",
    "    .option(\"mergeSchema\", \"true\") \\\n",
    "    .option(\"path\", \"/FileStore/tables/OpentableFormat/sinkdata/sales_data\") \\\n",
    "    .save()"
   ]
  },
  {
   "cell_type": "code",
   "execution_count": 0,
   "metadata": {
    "application/vnd.databricks.v1+cell": {
     "cellMetadata": {
      "byteLimit": 2048000,
      "implicitDf": true,
      "rowLimit": 10000
     },
     "inputWidgets": {},
     "nuid": "a26eb221-a7d5-4ed2-83a3-d7fe5422a54d",
     "showTitle": false,
     "tableResultSettingsMap": {},
     "title": ""
    }
   },
   "outputs": [
    {
     "output_type": "display_data",
     "data": {
      "text/html": [
       "<style scoped>\n",
       "  .table-result-container {\n",
       "    max-height: 300px;\n",
       "    overflow: auto;\n",
       "  }\n",
       "  table, th, td {\n",
       "    border: 1px solid black;\n",
       "    border-collapse: collapse;\n",
       "  }\n",
       "  th, td {\n",
       "    padding: 5px;\n",
       "  }\n",
       "  th {\n",
       "    text-align: left;\n",
       "  }\n",
       "</style><div class='table-result-container'><table class='table-result'><thead style='background-color: white'><tr></tr></thead><tbody></tbody></table></div>"
      ]
     },
     "metadata": {
      "application/vnd.databricks.v1+output": {
       "addedWidgets": {},
       "aggData": [],
       "aggError": "",
       "aggOverflow": false,
       "aggSchema": [],
       "aggSeriesLimitReached": false,
       "aggType": "",
       "arguments": {},
       "columnCustomDisplayInfos": {},
       "data": [],
       "datasetInfos": [],
       "dbfsResultPath": null,
       "isJsonSchema": true,
       "metadata": {},
       "overflow": false,
       "plotOptions": {
        "customPlotOptions": {},
        "displayType": "table",
        "pivotAggregation": null,
        "pivotColumns": null,
        "xColumns": null,
        "yColumns": null
       },
       "removedWidgets": [],
       "schema": [],
       "type": "table"
      }
     },
     "output_type": "display_data"
    }
   ],
   "source": [
    "%sql\n",
    "ALTER TABLE bronze.my_delta_table2\n",
    "ADD COLUMN flag INT"
   ]
  },
  {
   "cell_type": "code",
   "execution_count": 0,
   "metadata": {
    "application/vnd.databricks.v1+cell": {
     "cellMetadata": {
      "byteLimit": 2048000,
      "implicitDf": true,
      "rowLimit": 10000
     },
     "inputWidgets": {},
     "nuid": "39af1171-ba63-417b-abb6-db91e5c5e636",
     "showTitle": false,
     "tableResultSettingsMap": {},
     "title": ""
    }
   },
   "outputs": [
    {
     "output_type": "display_data",
     "data": {
      "text/html": [
       "<style scoped>\n",
       "  .table-result-container {\n",
       "    max-height: 300px;\n",
       "    overflow: auto;\n",
       "  }\n",
       "  table, th, td {\n",
       "    border: 1px solid black;\n",
       "    border-collapse: collapse;\n",
       "  }\n",
       "  th, td {\n",
       "    padding: 5px;\n",
       "  }\n",
       "  th {\n",
       "    text-align: left;\n",
       "  }\n",
       "</style><div class='table-result-container'><table class='table-result'><thead style='background-color: white'><tr><th>id</th><th>name</th><th>salary</th><th>flag</th></tr></thead><tbody><tr><td>1</td><td>AA</td><td>100.0</td><td>null</td></tr></tbody></table></div>"
      ]
     },
     "metadata": {
      "application/vnd.databricks.v1+output": {
       "addedWidgets": {},
       "aggData": [],
       "aggError": "",
       "aggOverflow": false,
       "aggSchema": [],
       "aggSeriesLimitReached": false,
       "aggType": "",
       "arguments": {},
       "columnCustomDisplayInfos": {},
       "data": [
        [
         1,
         "AA",
         100.0,
         null
        ]
       ],
       "datasetInfos": [],
       "dbfsResultPath": null,
       "isJsonSchema": true,
       "metadata": {},
       "overflow": false,
       "plotOptions": {
        "customPlotOptions": {},
        "displayType": "table",
        "pivotAggregation": null,
        "pivotColumns": null,
        "xColumns": null,
        "yColumns": null
       },
       "removedWidgets": [],
       "schema": [
        {
         "metadata": "{}",
         "name": "id",
         "type": "\"integer\""
        },
        {
         "metadata": "{}",
         "name": "name",
         "type": "\"string\""
        },
        {
         "metadata": "{}",
         "name": "salary",
         "type": "\"double\""
        },
        {
         "metadata": "{}",
         "name": "flag",
         "type": "\"integer\""
        }
       ],
       "type": "table"
      }
     },
     "output_type": "display_data"
    }
   ],
   "source": [
    "%sql\n",
    "select * from bronze.my_delta_table2"
   ]
  },
  {
   "cell_type": "code",
   "execution_count": 0,
   "metadata": {
    "application/vnd.databricks.v1+cell": {
     "cellMetadata": {
      "byteLimit": 2048000,
      "rowLimit": 10000
     },
     "inputWidgets": {},
     "nuid": "6672bd63-6b73-4548-8be1-9b7e599c2536",
     "showTitle": false,
     "tableResultSettingsMap": {},
     "title": ""
    }
   },
   "outputs": [
    {
     "output_type": "display_data",
     "data": {
      "text/html": [
       "<style scoped>\n",
       "  .table-result-container {\n",
       "    max-height: 300px;\n",
       "    overflow: auto;\n",
       "  }\n",
       "  table, th, td {\n",
       "    border: 1px solid black;\n",
       "    border-collapse: collapse;\n",
       "  }\n",
       "  th, td {\n",
       "    padding: 5px;\n",
       "  }\n",
       "  th {\n",
       "    text-align: left;\n",
       "  }\n",
       "</style><div class='table-result-container'><table class='table-result'><thead style='background-color: white'><tr><th>path</th><th>name</th><th>size</th><th>modificationTime</th></tr></thead><tbody><tr><td>dbfs:/FileStore/tables/OpentableFormat/sinkdata/my_delta_table2/_delta_log/.s3-optimization-0</td><td>.s3-optimization-0</td><td>0</td><td>1742971522000</td></tr><tr><td>dbfs:/FileStore/tables/OpentableFormat/sinkdata/my_delta_table2/_delta_log/.s3-optimization-1</td><td>.s3-optimization-1</td><td>0</td><td>1742971522000</td></tr><tr><td>dbfs:/FileStore/tables/OpentableFormat/sinkdata/my_delta_table2/_delta_log/.s3-optimization-2</td><td>.s3-optimization-2</td><td>0</td><td>1742971522000</td></tr><tr><td>dbfs:/FileStore/tables/OpentableFormat/sinkdata/my_delta_table2/_delta_log/00000000000000000000.crc</td><td>00000000000000000000.crc</td><td>2028</td><td>1742971524000</td></tr><tr><td>dbfs:/FileStore/tables/OpentableFormat/sinkdata/my_delta_table2/_delta_log/00000000000000000000.json</td><td>00000000000000000000.json</td><td>998</td><td>1742971522000</td></tr><tr><td>dbfs:/FileStore/tables/OpentableFormat/sinkdata/my_delta_table2/_delta_log/00000000000000000001.crc</td><td>00000000000000000001.crc</td><td>2065</td><td>1742971603000</td></tr><tr><td>dbfs:/FileStore/tables/OpentableFormat/sinkdata/my_delta_table2/_delta_log/00000000000000000001.json</td><td>00000000000000000001.json</td><td>982</td><td>1742971601000</td></tr><tr><td>dbfs:/FileStore/tables/OpentableFormat/sinkdata/my_delta_table2/_delta_log/00000000000000000002.crc</td><td>00000000000000000002.crc</td><td>2588</td><td>1742971677000</td></tr><tr><td>dbfs:/FileStore/tables/OpentableFormat/sinkdata/my_delta_table2/_delta_log/00000000000000000002.json</td><td>00000000000000000002.json</td><td>1044</td><td>1742971675000</td></tr><tr><td>dbfs:/FileStore/tables/OpentableFormat/sinkdata/my_delta_table2/_delta_log/00000000000000000003.crc</td><td>00000000000000000003.crc</td><td>2588</td><td>1742971891000</td></tr><tr><td>dbfs:/FileStore/tables/OpentableFormat/sinkdata/my_delta_table2/_delta_log/00000000000000000003.json</td><td>00000000000000000003.json</td><td>1637</td><td>1742971888000</td></tr><tr><td>dbfs:/FileStore/tables/OpentableFormat/sinkdata/my_delta_table2/_delta_log/00000000000000000004.crc</td><td>00000000000000000004.crc</td><td>2588</td><td>1742972728000</td></tr><tr><td>dbfs:/FileStore/tables/OpentableFormat/sinkdata/my_delta_table2/_delta_log/00000000000000000004.json</td><td>00000000000000000004.json</td><td>1636</td><td>1742972726000</td></tr><tr><td>dbfs:/FileStore/tables/OpentableFormat/sinkdata/my_delta_table2/_delta_log/00000000000000000005.crc</td><td>00000000000000000005.crc</td><td>2132</td><td>1742977573000</td></tr><tr><td>dbfs:/FileStore/tables/OpentableFormat/sinkdata/my_delta_table2/_delta_log/00000000000000000005.json</td><td>00000000000000000005.json</td><td>1094</td><td>1742977572000</td></tr></tbody></table></div>"
      ]
     },
     "metadata": {
      "application/vnd.databricks.v1+output": {
       "addedWidgets": {},
       "aggData": [],
       "aggError": "",
       "aggOverflow": false,
       "aggSchema": [],
       "aggSeriesLimitReached": false,
       "aggType": "",
       "arguments": {},
       "columnCustomDisplayInfos": {},
       "data": [
        [
         "dbfs:/FileStore/tables/OpentableFormat/sinkdata/my_delta_table2/_delta_log/.s3-optimization-0",
         ".s3-optimization-0",
         0,
         1742971522000
        ],
        [
         "dbfs:/FileStore/tables/OpentableFormat/sinkdata/my_delta_table2/_delta_log/.s3-optimization-1",
         ".s3-optimization-1",
         0,
         1742971522000
        ],
        [
         "dbfs:/FileStore/tables/OpentableFormat/sinkdata/my_delta_table2/_delta_log/.s3-optimization-2",
         ".s3-optimization-2",
         0,
         1742971522000
        ],
        [
         "dbfs:/FileStore/tables/OpentableFormat/sinkdata/my_delta_table2/_delta_log/00000000000000000000.crc",
         "00000000000000000000.crc",
         2028,
         1742971524000
        ],
        [
         "dbfs:/FileStore/tables/OpentableFormat/sinkdata/my_delta_table2/_delta_log/00000000000000000000.json",
         "00000000000000000000.json",
         998,
         1742971522000
        ],
        [
         "dbfs:/FileStore/tables/OpentableFormat/sinkdata/my_delta_table2/_delta_log/00000000000000000001.crc",
         "00000000000000000001.crc",
         2065,
         1742971603000
        ],
        [
         "dbfs:/FileStore/tables/OpentableFormat/sinkdata/my_delta_table2/_delta_log/00000000000000000001.json",
         "00000000000000000001.json",
         982,
         1742971601000
        ],
        [
         "dbfs:/FileStore/tables/OpentableFormat/sinkdata/my_delta_table2/_delta_log/00000000000000000002.crc",
         "00000000000000000002.crc",
         2588,
         1742971677000
        ],
        [
         "dbfs:/FileStore/tables/OpentableFormat/sinkdata/my_delta_table2/_delta_log/00000000000000000002.json",
         "00000000000000000002.json",
         1044,
         1742971675000
        ],
        [
         "dbfs:/FileStore/tables/OpentableFormat/sinkdata/my_delta_table2/_delta_log/00000000000000000003.crc",
         "00000000000000000003.crc",
         2588,
         1742971891000
        ],
        [
         "dbfs:/FileStore/tables/OpentableFormat/sinkdata/my_delta_table2/_delta_log/00000000000000000003.json",
         "00000000000000000003.json",
         1637,
         1742971888000
        ],
        [
         "dbfs:/FileStore/tables/OpentableFormat/sinkdata/my_delta_table2/_delta_log/00000000000000000004.crc",
         "00000000000000000004.crc",
         2588,
         1742972728000
        ],
        [
         "dbfs:/FileStore/tables/OpentableFormat/sinkdata/my_delta_table2/_delta_log/00000000000000000004.json",
         "00000000000000000004.json",
         1636,
         1742972726000
        ],
        [
         "dbfs:/FileStore/tables/OpentableFormat/sinkdata/my_delta_table2/_delta_log/00000000000000000005.crc",
         "00000000000000000005.crc",
         2132,
         1742977573000
        ],
        [
         "dbfs:/FileStore/tables/OpentableFormat/sinkdata/my_delta_table2/_delta_log/00000000000000000005.json",
         "00000000000000000005.json",
         1094,
         1742977572000
        ]
       ],
       "datasetInfos": [],
       "dbfsResultPath": null,
       "isJsonSchema": true,
       "metadata": {
        "isDbfsCommandResult": false
       },
       "overflow": false,
       "plotOptions": {
        "customPlotOptions": {},
        "displayType": "table",
        "pivotAggregation": null,
        "pivotColumns": null,
        "xColumns": null,
        "yColumns": null
       },
       "removedWidgets": [],
       "schema": [
        {
         "metadata": "{}",
         "name": "path",
         "type": "\"string\""
        },
        {
         "metadata": "{}",
         "name": "name",
         "type": "\"string\""
        },
        {
         "metadata": "{}",
         "name": "size",
         "type": "\"long\""
        },
        {
         "metadata": "{}",
         "name": "modificationTime",
         "type": "\"long\""
        }
       ],
       "type": "table"
      }
     },
     "output_type": "display_data"
    }
   ],
   "source": [
    "%fs\n",
    "ls dbfs:/FileStore/tables/OpentableFormat/sinkdata/my_delta_table2/_delta_log"
   ]
  },
  {
   "cell_type": "code",
   "execution_count": 0,
   "metadata": {
    "application/vnd.databricks.v1+cell": {
     "cellMetadata": {
      "byteLimit": 2048000,
      "rowLimit": 10000
     },
     "inputWidgets": {},
     "nuid": "2662c2a8-1d23-4fbd-9cc1-64b447ef4cd1",
     "showTitle": false,
     "tableResultSettingsMap": {},
     "title": ""
    }
   },
   "outputs": [
    {
     "output_type": "display_data",
     "data": {
      "text/html": [
       "<style scoped>\n",
       "  .table-result-container {\n",
       "    max-height: 300px;\n",
       "    overflow: auto;\n",
       "  }\n",
       "  table, th, td {\n",
       "    border: 1px solid black;\n",
       "    border-collapse: collapse;\n",
       "  }\n",
       "  th, td {\n",
       "    padding: 5px;\n",
       "  }\n",
       "  th {\n",
       "    text-align: left;\n",
       "  }\n",
       "</style><div class='table-result-container'><table class='table-result'><thead style='background-color: white'><tr><th>commitInfo</th><th>metaData</th></tr></thead><tbody><tr><td>List(0326-051930-d3czotdy, Databricks-Runtime/12.2.x-scala2.12, true, WriteSerializable, List(1262503834636755), ADD COLUMNS, List([{\"column\":{\"name\":\"flag\",\"type\":\"integer\",\"nullable\":true,\"metadata\":{}}}]), 4, 1742977571148, c4886234-3196-4962-80ca-5eb43e29ca97, 702181498026089, shankarwagh297@gmail.com)</td><td>null</td></tr><tr><td>null</td><td>List(List(false), 1742971521179, List(parquet), 8e21f8ce-a595-4209-93f4-1d14991759f5, List(), {\"type\":\"struct\",\"fields\":[{\"name\":\"id\",\"type\":\"integer\",\"nullable\":true,\"metadata\":{}},{\"name\":\"name\",\"type\":\"string\",\"nullable\":true,\"metadata\":{}},{\"name\":\"salary\",\"type\":\"double\",\"nullable\":true,\"metadata\":{}},{\"name\":\"flag\",\"type\":\"integer\",\"nullable\":true,\"metadata\":{}}]})</td></tr></tbody></table></div>"
      ]
     },
     "metadata": {
      "application/vnd.databricks.v1+output": {
       "addedWidgets": {},
       "aggData": [],
       "aggError": "",
       "aggOverflow": false,
       "aggSchema": [],
       "aggSeriesLimitReached": false,
       "aggType": "",
       "arguments": {},
       "columnCustomDisplayInfos": {},
       "data": [
        [
         [
          "0326-051930-d3czotdy",
          "Databricks-Runtime/12.2.x-scala2.12",
          true,
          "WriteSerializable",
          [
           "1262503834636755"
          ],
          "ADD COLUMNS",
          [
           "[{\"column\":{\"name\":\"flag\",\"type\":\"integer\",\"nullable\":true,\"metadata\":{}}}]"
          ],
          4,
          1742977571148,
          "c4886234-3196-4962-80ca-5eb43e29ca97",
          "702181498026089",
          "shankarwagh297@gmail.com"
         ],
         null
        ],
        [
         null,
         [
          [
           "false"
          ],
          1742971521179,
          [
           "parquet"
          ],
          "8e21f8ce-a595-4209-93f4-1d14991759f5",
          [],
          "{\"type\":\"struct\",\"fields\":[{\"name\":\"id\",\"type\":\"integer\",\"nullable\":true,\"metadata\":{}},{\"name\":\"name\",\"type\":\"string\",\"nullable\":true,\"metadata\":{}},{\"name\":\"salary\",\"type\":\"double\",\"nullable\":true,\"metadata\":{}},{\"name\":\"flag\",\"type\":\"integer\",\"nullable\":true,\"metadata\":{}}]}"
         ]
        ]
       ],
       "datasetInfos": [],
       "dbfsResultPath": null,
       "isJsonSchema": true,
       "metadata": {},
       "overflow": false,
       "plotOptions": {
        "customPlotOptions": {},
        "displayType": "table",
        "pivotAggregation": null,
        "pivotColumns": null,
        "xColumns": null,
        "yColumns": null
       },
       "removedWidgets": [],
       "schema": [
        {
         "metadata": "{}",
         "name": "commitInfo",
         "type": "{\"type\":\"struct\",\"fields\":[{\"name\":\"clusterId\",\"type\":\"string\",\"nullable\":true,\"metadata\":{}},{\"name\":\"engineInfo\",\"type\":\"string\",\"nullable\":true,\"metadata\":{}},{\"name\":\"isBlindAppend\",\"type\":\"boolean\",\"nullable\":true,\"metadata\":{}},{\"name\":\"isolationLevel\",\"type\":\"string\",\"nullable\":true,\"metadata\":{}},{\"name\":\"notebook\",\"type\":{\"type\":\"struct\",\"fields\":[{\"name\":\"notebookId\",\"type\":\"string\",\"nullable\":true,\"metadata\":{}}]},\"nullable\":true,\"metadata\":{}},{\"name\":\"operation\",\"type\":\"string\",\"nullable\":true,\"metadata\":{}},{\"name\":\"operationParameters\",\"type\":{\"type\":\"struct\",\"fields\":[{\"name\":\"columns\",\"type\":\"string\",\"nullable\":true,\"metadata\":{}}]},\"nullable\":true,\"metadata\":{}},{\"name\":\"readVersion\",\"type\":\"long\",\"nullable\":true,\"metadata\":{}},{\"name\":\"timestamp\",\"type\":\"long\",\"nullable\":true,\"metadata\":{}},{\"name\":\"txnId\",\"type\":\"string\",\"nullable\":true,\"metadata\":{}},{\"name\":\"userId\",\"type\":\"string\",\"nullable\":true,\"metadata\":{}},{\"name\":\"userName\",\"type\":\"string\",\"nullable\":true,\"metadata\":{}}]}"
        },
        {
         "metadata": "{}",
         "name": "metaData",
         "type": "{\"type\":\"struct\",\"fields\":[{\"name\":\"configuration\",\"type\":{\"type\":\"struct\",\"fields\":[{\"name\":\"delta.enableDeletionVectors\",\"type\":\"string\",\"nullable\":true,\"metadata\":{}}]},\"nullable\":true,\"metadata\":{}},{\"name\":\"createdTime\",\"type\":\"long\",\"nullable\":true,\"metadata\":{}},{\"name\":\"format\",\"type\":{\"type\":\"struct\",\"fields\":[{\"name\":\"provider\",\"type\":\"string\",\"nullable\":true,\"metadata\":{}}]},\"nullable\":true,\"metadata\":{}},{\"name\":\"id\",\"type\":\"string\",\"nullable\":true,\"metadata\":{}},{\"name\":\"partitionColumns\",\"type\":{\"type\":\"array\",\"elementType\":\"string\",\"containsNull\":true},\"nullable\":true,\"metadata\":{}},{\"name\":\"schemaString\",\"type\":\"string\",\"nullable\":true,\"metadata\":{}}]}"
        }
       ],
       "type": "table"
      }
     },
     "output_type": "display_data"
    }
   ],
   "source": [
    "df = spark.read.json(\"dbfs:/FileStore/tables/OpentableFormat/sinkdata/my_delta_table2/_delta_log/00000000000000000005.json\")\n",
    "display(df)"
   ]
  },
  {
   "cell_type": "code",
   "execution_count": 0,
   "metadata": {
    "application/vnd.databricks.v1+cell": {
     "cellMetadata": {
      "byteLimit": 2048000,
      "implicitDf": true,
      "rowLimit": 10000
     },
     "inputWidgets": {},
     "nuid": "71ef5398-eab3-4d4d-a50c-c4d1c3bce5ff",
     "showTitle": false,
     "tableResultSettingsMap": {},
     "title": ""
    }
   },
   "outputs": [
    {
     "output_type": "display_data",
     "data": {
      "text/html": [
       "<style scoped>\n",
       "  .table-result-container {\n",
       "    max-height: 300px;\n",
       "    overflow: auto;\n",
       "  }\n",
       "  table, th, td {\n",
       "    border: 1px solid black;\n",
       "    border-collapse: collapse;\n",
       "  }\n",
       "  th, td {\n",
       "    padding: 5px;\n",
       "  }\n",
       "  th {\n",
       "    text-align: left;\n",
       "  }\n",
       "</style><div class='table-result-container'><table class='table-result'><thead style='background-color: white'><tr></tr></thead><tbody></tbody></table></div>"
      ]
     },
     "metadata": {
      "application/vnd.databricks.v1+output": {
       "addedWidgets": {},
       "aggData": [],
       "aggError": "",
       "aggOverflow": false,
       "aggSchema": [],
       "aggSeriesLimitReached": false,
       "aggType": "",
       "arguments": {},
       "columnCustomDisplayInfos": {},
       "data": [],
       "datasetInfos": [],
       "dbfsResultPath": null,
       "isJsonSchema": true,
       "metadata": {},
       "overflow": false,
       "plotOptions": {
        "customPlotOptions": {},
        "displayType": "table",
        "pivotAggregation": null,
        "pivotColumns": null,
        "xColumns": null,
        "yColumns": null
       },
       "removedWidgets": [],
       "schema": [],
       "type": "table"
      }
     },
     "output_type": "display_data"
    }
   ],
   "source": [
    "%sql\n",
    "ALTER TABLE bronze.my_delta_table2\n",
    "ALTER COLUMN id AFTER name"
   ]
  },
  {
   "cell_type": "code",
   "execution_count": 0,
   "metadata": {
    "application/vnd.databricks.v1+cell": {
     "cellMetadata": {
      "byteLimit": 2048000,
      "implicitDf": true,
      "rowLimit": 10000
     },
     "inputWidgets": {},
     "nuid": "21b67dab-72d4-4ba5-8ad1-4bdba23cd47c",
     "showTitle": false,
     "tableResultSettingsMap": {},
     "title": ""
    }
   },
   "outputs": [
    {
     "output_type": "display_data",
     "data": {
      "text/html": [
       "<style scoped>\n",
       "  .table-result-container {\n",
       "    max-height: 300px;\n",
       "    overflow: auto;\n",
       "  }\n",
       "  table, th, td {\n",
       "    border: 1px solid black;\n",
       "    border-collapse: collapse;\n",
       "  }\n",
       "  th, td {\n",
       "    padding: 5px;\n",
       "  }\n",
       "  th {\n",
       "    text-align: left;\n",
       "  }\n",
       "</style><div class='table-result-container'><table class='table-result'><thead style='background-color: white'><tr><th>name</th><th>id</th><th>salary</th><th>flag</th></tr></thead><tbody><tr><td>AA</td><td>1</td><td>100.0</td><td>null</td></tr></tbody></table></div>"
      ]
     },
     "metadata": {
      "application/vnd.databricks.v1+output": {
       "addedWidgets": {},
       "aggData": [],
       "aggError": "",
       "aggOverflow": false,
       "aggSchema": [],
       "aggSeriesLimitReached": false,
       "aggType": "",
       "arguments": {},
       "columnCustomDisplayInfos": {},
       "data": [
        [
         "AA",
         1,
         100.0,
         null
        ]
       ],
       "datasetInfos": [],
       "dbfsResultPath": null,
       "isJsonSchema": true,
       "metadata": {},
       "overflow": false,
       "plotOptions": {
        "customPlotOptions": {},
        "displayType": "table",
        "pivotAggregation": null,
        "pivotColumns": null,
        "xColumns": null,
        "yColumns": null
       },
       "removedWidgets": [],
       "schema": [
        {
         "metadata": "{}",
         "name": "name",
         "type": "\"string\""
        },
        {
         "metadata": "{}",
         "name": "id",
         "type": "\"integer\""
        },
        {
         "metadata": "{}",
         "name": "salary",
         "type": "\"double\""
        },
        {
         "metadata": "{}",
         "name": "flag",
         "type": "\"integer\""
        }
       ],
       "type": "table"
      }
     },
     "output_type": "display_data"
    }
   ],
   "source": [
    "%sql\n",
    "select * from bronze.my_delta_table2"
   ]
  },
  {
   "cell_type": "code",
   "execution_count": 0,
   "metadata": {
    "application/vnd.databricks.v1+cell": {
     "cellMetadata": {
      "byteLimit": 2048000,
      "rowLimit": 10000
     },
     "inputWidgets": {},
     "nuid": "6b3d1e51-37cb-4ab2-a4d1-5af1955b2812",
     "showTitle": false,
     "tableResultSettingsMap": {},
     "title": ""
    }
   },
   "outputs": [
    {
     "output_type": "display_data",
     "data": {
      "text/html": [
       "<style scoped>\n",
       "  .table-result-container {\n",
       "    max-height: 300px;\n",
       "    overflow: auto;\n",
       "  }\n",
       "  table, th, td {\n",
       "    border: 1px solid black;\n",
       "    border-collapse: collapse;\n",
       "  }\n",
       "  th, td {\n",
       "    padding: 5px;\n",
       "  }\n",
       "  th {\n",
       "    text-align: left;\n",
       "  }\n",
       "</style><div class='table-result-container'><table class='table-result'><thead style='background-color: white'><tr><th>commitInfo</th><th>metaData</th></tr></thead><tbody><tr><td>List(0326-051930-d3czotdy, Databricks-Runtime/12.2.x-scala2.12, true, WriteSerializable, List(1262503834636755), CHANGE COLUMN, List({\"name\":\"id\",\"type\":\"integer\",\"nullable\":true,\"metadata\":{}}, AFTER name), 5, 1742977826611, bd1dcf46-57a0-4725-8ba5-1eb0153fb217, 702181498026089, shankarwagh297@gmail.com)</td><td>null</td></tr><tr><td>null</td><td>List(List(false), 1742971521179, List(parquet), 8e21f8ce-a595-4209-93f4-1d14991759f5, List(), {\"type\":\"struct\",\"fields\":[{\"name\":\"name\",\"type\":\"string\",\"nullable\":true,\"metadata\":{}},{\"name\":\"id\",\"type\":\"integer\",\"nullable\":true,\"metadata\":{}},{\"name\":\"salary\",\"type\":\"double\",\"nullable\":true,\"metadata\":{}},{\"name\":\"flag\",\"type\":\"integer\",\"nullable\":true,\"metadata\":{}}]})</td></tr></tbody></table></div>"
      ]
     },
     "metadata": {
      "application/vnd.databricks.v1+output": {
       "addedWidgets": {},
       "aggData": [],
       "aggError": "",
       "aggOverflow": false,
       "aggSchema": [],
       "aggSeriesLimitReached": false,
       "aggType": "",
       "arguments": {},
       "columnCustomDisplayInfos": {},
       "data": [
        [
         [
          "0326-051930-d3czotdy",
          "Databricks-Runtime/12.2.x-scala2.12",
          true,
          "WriteSerializable",
          [
           "1262503834636755"
          ],
          "CHANGE COLUMN",
          [
           "{\"name\":\"id\",\"type\":\"integer\",\"nullable\":true,\"metadata\":{}}",
           "AFTER name"
          ],
          5,
          1742977826611,
          "bd1dcf46-57a0-4725-8ba5-1eb0153fb217",
          "702181498026089",
          "shankarwagh297@gmail.com"
         ],
         null
        ],
        [
         null,
         [
          [
           "false"
          ],
          1742971521179,
          [
           "parquet"
          ],
          "8e21f8ce-a595-4209-93f4-1d14991759f5",
          [],
          "{\"type\":\"struct\",\"fields\":[{\"name\":\"name\",\"type\":\"string\",\"nullable\":true,\"metadata\":{}},{\"name\":\"id\",\"type\":\"integer\",\"nullable\":true,\"metadata\":{}},{\"name\":\"salary\",\"type\":\"double\",\"nullable\":true,\"metadata\":{}},{\"name\":\"flag\",\"type\":\"integer\",\"nullable\":true,\"metadata\":{}}]}"
         ]
        ]
       ],
       "datasetInfos": [],
       "dbfsResultPath": null,
       "isJsonSchema": true,
       "metadata": {},
       "overflow": false,
       "plotOptions": {
        "customPlotOptions": {},
        "displayType": "table",
        "pivotAggregation": null,
        "pivotColumns": null,
        "xColumns": null,
        "yColumns": null
       },
       "removedWidgets": [],
       "schema": [
        {
         "metadata": "{}",
         "name": "commitInfo",
         "type": "{\"type\":\"struct\",\"fields\":[{\"name\":\"clusterId\",\"type\":\"string\",\"nullable\":true,\"metadata\":{}},{\"name\":\"engineInfo\",\"type\":\"string\",\"nullable\":true,\"metadata\":{}},{\"name\":\"isBlindAppend\",\"type\":\"boolean\",\"nullable\":true,\"metadata\":{}},{\"name\":\"isolationLevel\",\"type\":\"string\",\"nullable\":true,\"metadata\":{}},{\"name\":\"notebook\",\"type\":{\"type\":\"struct\",\"fields\":[{\"name\":\"notebookId\",\"type\":\"string\",\"nullable\":true,\"metadata\":{}}]},\"nullable\":true,\"metadata\":{}},{\"name\":\"operation\",\"type\":\"string\",\"nullable\":true,\"metadata\":{}},{\"name\":\"operationParameters\",\"type\":{\"type\":\"struct\",\"fields\":[{\"name\":\"column\",\"type\":\"string\",\"nullable\":true,\"metadata\":{}},{\"name\":\"position\",\"type\":\"string\",\"nullable\":true,\"metadata\":{}}]},\"nullable\":true,\"metadata\":{}},{\"name\":\"readVersion\",\"type\":\"long\",\"nullable\":true,\"metadata\":{}},{\"name\":\"timestamp\",\"type\":\"long\",\"nullable\":true,\"metadata\":{}},{\"name\":\"txnId\",\"type\":\"string\",\"nullable\":true,\"metadata\":{}},{\"name\":\"userId\",\"type\":\"string\",\"nullable\":true,\"metadata\":{}},{\"name\":\"userName\",\"type\":\"string\",\"nullable\":true,\"metadata\":{}}]}"
        },
        {
         "metadata": "{}",
         "name": "metaData",
         "type": "{\"type\":\"struct\",\"fields\":[{\"name\":\"configuration\",\"type\":{\"type\":\"struct\",\"fields\":[{\"name\":\"delta.enableDeletionVectors\",\"type\":\"string\",\"nullable\":true,\"metadata\":{}}]},\"nullable\":true,\"metadata\":{}},{\"name\":\"createdTime\",\"type\":\"long\",\"nullable\":true,\"metadata\":{}},{\"name\":\"format\",\"type\":{\"type\":\"struct\",\"fields\":[{\"name\":\"provider\",\"type\":\"string\",\"nullable\":true,\"metadata\":{}}]},\"nullable\":true,\"metadata\":{}},{\"name\":\"id\",\"type\":\"string\",\"nullable\":true,\"metadata\":{}},{\"name\":\"partitionColumns\",\"type\":{\"type\":\"array\",\"elementType\":\"string\",\"containsNull\":true},\"nullable\":true,\"metadata\":{}},{\"name\":\"schemaString\",\"type\":\"string\",\"nullable\":true,\"metadata\":{}}]}"
        }
       ],
       "type": "table"
      }
     },
     "output_type": "display_data"
    }
   ],
   "source": [
    "df = spark.read.json(\"dbfs:/FileStore/tables/OpentableFormat/sinkdata/my_delta_table2/_delta_log/00000000000000000006.json\")\n",
    "display(df)"
   ]
  },
  {
   "cell_type": "code",
   "execution_count": 0,
   "metadata": {
    "application/vnd.databricks.v1+cell": {
     "cellMetadata": {
      "byteLimit": 2048000,
      "implicitDf": true,
      "rowLimit": 10000
     },
     "inputWidgets": {},
     "nuid": "f28d5df3-1275-423e-8078-cda525cb2f84",
     "showTitle": false,
     "tableResultSettingsMap": {},
     "title": ""
    }
   },
   "outputs": [
    {
     "output_type": "display_data",
     "data": {
      "text/plain": [
       "\u001B[0;31m---------------------------------------------------------------------------\u001B[0m\n",
       "\u001B[0;31mAnalysisException\u001B[0m                         Traceback (most recent call last)\n",
       "File \u001B[0;32m<command-1262503834636818>:7\u001B[0m\n",
       "\u001B[1;32m      5\u001B[0m     display(df)\n",
       "\u001B[1;32m      6\u001B[0m     \u001B[38;5;28;01mreturn\u001B[39;00m df\n",
       "\u001B[0;32m----> 7\u001B[0m   _sqldf \u001B[38;5;241m=\u001B[39m \u001B[43m____databricks_percent_sql\u001B[49m\u001B[43m(\u001B[49m\u001B[43m)\u001B[49m\n",
       "\u001B[1;32m      8\u001B[0m \u001B[38;5;28;01mfinally\u001B[39;00m:\n",
       "\u001B[1;32m      9\u001B[0m   \u001B[38;5;28;01mdel\u001B[39;00m ____databricks_percent_sql\n",
       "\n",
       "File \u001B[0;32m<command-1262503834636818>:4\u001B[0m, in \u001B[0;36m____databricks_percent_sql\u001B[0;34m()\u001B[0m\n",
       "\u001B[1;32m      2\u001B[0m \u001B[38;5;28;01mdef\u001B[39;00m \u001B[38;5;21m____databricks_percent_sql\u001B[39m():\n",
       "\u001B[1;32m      3\u001B[0m   \u001B[38;5;28;01mimport\u001B[39;00m \u001B[38;5;21;01mbase64\u001B[39;00m\n",
       "\u001B[0;32m----> 4\u001B[0m   df \u001B[38;5;241m=\u001B[39m \u001B[43mspark\u001B[49m\u001B[38;5;241;43m.\u001B[39;49m\u001B[43msql\u001B[49m\u001B[43m(\u001B[49m\u001B[43mbase64\u001B[49m\u001B[38;5;241;43m.\u001B[39;49m\u001B[43mstandard_b64decode\u001B[49m\u001B[43m(\u001B[49m\u001B[38;5;124;43m\"\u001B[39;49m\u001B[38;5;124;43mQUxURVIgVEFCTEUgYnJvbnplLm15X2RlbHRhX3RhYmxlMgpEUk9QIENPTFVNTiBmbGFn\u001B[39;49m\u001B[38;5;124;43m\"\u001B[39;49m\u001B[43m)\u001B[49m\u001B[38;5;241;43m.\u001B[39;49m\u001B[43mdecode\u001B[49m\u001B[43m(\u001B[49m\u001B[43m)\u001B[49m\u001B[43m)\u001B[49m\n",
       "\u001B[1;32m      5\u001B[0m   display(df)\n",
       "\u001B[1;32m      6\u001B[0m   \u001B[38;5;28;01mreturn\u001B[39;00m df\n",
       "\n",
       "File \u001B[0;32m/databricks/spark/python/pyspark/instrumentation_utils.py:48\u001B[0m, in \u001B[0;36m_wrap_function.<locals>.wrapper\u001B[0;34m(*args, **kwargs)\u001B[0m\n",
       "\u001B[1;32m     46\u001B[0m start \u001B[38;5;241m=\u001B[39m time\u001B[38;5;241m.\u001B[39mperf_counter()\n",
       "\u001B[1;32m     47\u001B[0m \u001B[38;5;28;01mtry\u001B[39;00m:\n",
       "\u001B[0;32m---> 48\u001B[0m     res \u001B[38;5;241m=\u001B[39m \u001B[43mfunc\u001B[49m\u001B[43m(\u001B[49m\u001B[38;5;241;43m*\u001B[39;49m\u001B[43margs\u001B[49m\u001B[43m,\u001B[49m\u001B[43m \u001B[49m\u001B[38;5;241;43m*\u001B[39;49m\u001B[38;5;241;43m*\u001B[39;49m\u001B[43mkwargs\u001B[49m\u001B[43m)\u001B[49m\n",
       "\u001B[1;32m     49\u001B[0m     logger\u001B[38;5;241m.\u001B[39mlog_success(\n",
       "\u001B[1;32m     50\u001B[0m         module_name, class_name, function_name, time\u001B[38;5;241m.\u001B[39mperf_counter() \u001B[38;5;241m-\u001B[39m start, signature\n",
       "\u001B[1;32m     51\u001B[0m     )\n",
       "\u001B[1;32m     52\u001B[0m     \u001B[38;5;28;01mreturn\u001B[39;00m res\n",
       "\n",
       "File \u001B[0;32m/databricks/spark/python/pyspark/sql/session.py:1387\u001B[0m, in \u001B[0;36mSparkSession.sql\u001B[0;34m(self, sqlQuery, args, **kwargs)\u001B[0m\n",
       "\u001B[1;32m   1385\u001B[0m \u001B[38;5;28;01mtry\u001B[39;00m:\n",
       "\u001B[1;32m   1386\u001B[0m     litArgs \u001B[38;5;241m=\u001B[39m {k: _to_java_column(lit(v)) \u001B[38;5;28;01mfor\u001B[39;00m k, v \u001B[38;5;129;01min\u001B[39;00m (args \u001B[38;5;129;01mor\u001B[39;00m {})\u001B[38;5;241m.\u001B[39mitems()}\n",
       "\u001B[0;32m-> 1387\u001B[0m     \u001B[38;5;28;01mreturn\u001B[39;00m DataFrame(\u001B[38;5;28;43mself\u001B[39;49m\u001B[38;5;241;43m.\u001B[39;49m\u001B[43m_jsparkSession\u001B[49m\u001B[38;5;241;43m.\u001B[39;49m\u001B[43msql\u001B[49m\u001B[43m(\u001B[49m\u001B[43msqlQuery\u001B[49m\u001B[43m,\u001B[49m\u001B[43m \u001B[49m\u001B[43mlitArgs\u001B[49m\u001B[43m)\u001B[49m, \u001B[38;5;28mself\u001B[39m)\n",
       "\u001B[1;32m   1388\u001B[0m \u001B[38;5;28;01mfinally\u001B[39;00m:\n",
       "\u001B[1;32m   1389\u001B[0m     \u001B[38;5;28;01mif\u001B[39;00m \u001B[38;5;28mlen\u001B[39m(kwargs) \u001B[38;5;241m>\u001B[39m \u001B[38;5;241m0\u001B[39m:\n",
       "\n",
       "File \u001B[0;32m/databricks/spark/python/lib/py4j-0.10.9.5-src.zip/py4j/java_gateway.py:1321\u001B[0m, in \u001B[0;36mJavaMember.__call__\u001B[0;34m(self, *args)\u001B[0m\n",
       "\u001B[1;32m   1315\u001B[0m command \u001B[38;5;241m=\u001B[39m proto\u001B[38;5;241m.\u001B[39mCALL_COMMAND_NAME \u001B[38;5;241m+\u001B[39m\\\n",
       "\u001B[1;32m   1316\u001B[0m     \u001B[38;5;28mself\u001B[39m\u001B[38;5;241m.\u001B[39mcommand_header \u001B[38;5;241m+\u001B[39m\\\n",
       "\u001B[1;32m   1317\u001B[0m     args_command \u001B[38;5;241m+\u001B[39m\\\n",
       "\u001B[1;32m   1318\u001B[0m     proto\u001B[38;5;241m.\u001B[39mEND_COMMAND_PART\n",
       "\u001B[1;32m   1320\u001B[0m answer \u001B[38;5;241m=\u001B[39m \u001B[38;5;28mself\u001B[39m\u001B[38;5;241m.\u001B[39mgateway_client\u001B[38;5;241m.\u001B[39msend_command(command)\n",
       "\u001B[0;32m-> 1321\u001B[0m return_value \u001B[38;5;241m=\u001B[39m \u001B[43mget_return_value\u001B[49m\u001B[43m(\u001B[49m\n",
       "\u001B[1;32m   1322\u001B[0m \u001B[43m    \u001B[49m\u001B[43manswer\u001B[49m\u001B[43m,\u001B[49m\u001B[43m \u001B[49m\u001B[38;5;28;43mself\u001B[39;49m\u001B[38;5;241;43m.\u001B[39;49m\u001B[43mgateway_client\u001B[49m\u001B[43m,\u001B[49m\u001B[43m \u001B[49m\u001B[38;5;28;43mself\u001B[39;49m\u001B[38;5;241;43m.\u001B[39;49m\u001B[43mtarget_id\u001B[49m\u001B[43m,\u001B[49m\u001B[43m \u001B[49m\u001B[38;5;28;43mself\u001B[39;49m\u001B[38;5;241;43m.\u001B[39;49m\u001B[43mname\u001B[49m\u001B[43m)\u001B[49m\n",
       "\u001B[1;32m   1324\u001B[0m \u001B[38;5;28;01mfor\u001B[39;00m temp_arg \u001B[38;5;129;01min\u001B[39;00m temp_args:\n",
       "\u001B[1;32m   1325\u001B[0m     temp_arg\u001B[38;5;241m.\u001B[39m_detach()\n",
       "\n",
       "File \u001B[0;32m/databricks/spark/python/pyspark/errors/exceptions.py:234\u001B[0m, in \u001B[0;36mcapture_sql_exception.<locals>.deco\u001B[0;34m(*a, **kw)\u001B[0m\n",
       "\u001B[1;32m    230\u001B[0m converted \u001B[38;5;241m=\u001B[39m convert_exception(e\u001B[38;5;241m.\u001B[39mjava_exception)\n",
       "\u001B[1;32m    231\u001B[0m \u001B[38;5;28;01mif\u001B[39;00m \u001B[38;5;129;01mnot\u001B[39;00m \u001B[38;5;28misinstance\u001B[39m(converted, UnknownException):\n",
       "\u001B[1;32m    232\u001B[0m     \u001B[38;5;66;03m# Hide where the exception came from that shows a non-Pythonic\u001B[39;00m\n",
       "\u001B[1;32m    233\u001B[0m     \u001B[38;5;66;03m# JVM exception message.\u001B[39;00m\n",
       "\u001B[0;32m--> 234\u001B[0m     \u001B[38;5;28;01mraise\u001B[39;00m converted \u001B[38;5;28;01mfrom\u001B[39;00m \u001B[38;5;28mNone\u001B[39m\n",
       "\u001B[1;32m    235\u001B[0m \u001B[38;5;28;01melse\u001B[39;00m:\n",
       "\u001B[1;32m    236\u001B[0m     \u001B[38;5;28;01mraise\u001B[39;00m\n",
       "\n",
       "\u001B[0;31mAnalysisException\u001B[0m: DROP COLUMN is not supported for your Delta table. \n",
       "Please enable Column Mapping on your Delta table with mapping mode 'name'.\n",
       "You can use one of the following commands.\n",
       "\n",
       "If your table is already on the required protocol version:\n",
       "ALTER TABLE table_name SET TBLPROPERTIES ('delta.columnMapping.mode' = 'name')\n",
       "\n",
       "If your table is not on the required protocol version and requires a protocol upgrade:\n",
       "ALTER TABLE table_name SET TBLPROPERTIES (\n",
       "   'delta.columnMapping.mode' = 'name',\n",
       "   'delta.minReaderVersion' = '2',\n",
       "   'delta.minWriterVersion' = '5')\n",
       "Refer to table versioning at https://docs.databricks.com/delta/versioning.html"
      ]
     },
     "metadata": {
      "application/vnd.databricks.v1+output": {
       "arguments": {},
       "data": "\u001B[0;31m---------------------------------------------------------------------------\u001B[0m\n\u001B[0;31mAnalysisException\u001B[0m                         Traceback (most recent call last)\nFile \u001B[0;32m<command-1262503834636818>:7\u001B[0m\n\u001B[1;32m      5\u001B[0m     display(df)\n\u001B[1;32m      6\u001B[0m     \u001B[38;5;28;01mreturn\u001B[39;00m df\n\u001B[0;32m----> 7\u001B[0m   _sqldf \u001B[38;5;241m=\u001B[39m \u001B[43m____databricks_percent_sql\u001B[49m\u001B[43m(\u001B[49m\u001B[43m)\u001B[49m\n\u001B[1;32m      8\u001B[0m \u001B[38;5;28;01mfinally\u001B[39;00m:\n\u001B[1;32m      9\u001B[0m   \u001B[38;5;28;01mdel\u001B[39;00m ____databricks_percent_sql\n\nFile \u001B[0;32m<command-1262503834636818>:4\u001B[0m, in \u001B[0;36m____databricks_percent_sql\u001B[0;34m()\u001B[0m\n\u001B[1;32m      2\u001B[0m \u001B[38;5;28;01mdef\u001B[39;00m \u001B[38;5;21m____databricks_percent_sql\u001B[39m():\n\u001B[1;32m      3\u001B[0m   \u001B[38;5;28;01mimport\u001B[39;00m \u001B[38;5;21;01mbase64\u001B[39;00m\n\u001B[0;32m----> 4\u001B[0m   df \u001B[38;5;241m=\u001B[39m \u001B[43mspark\u001B[49m\u001B[38;5;241;43m.\u001B[39;49m\u001B[43msql\u001B[49m\u001B[43m(\u001B[49m\u001B[43mbase64\u001B[49m\u001B[38;5;241;43m.\u001B[39;49m\u001B[43mstandard_b64decode\u001B[49m\u001B[43m(\u001B[49m\u001B[38;5;124;43m\"\u001B[39;49m\u001B[38;5;124;43mQUxURVIgVEFCTEUgYnJvbnplLm15X2RlbHRhX3RhYmxlMgpEUk9QIENPTFVNTiBmbGFn\u001B[39;49m\u001B[38;5;124;43m\"\u001B[39;49m\u001B[43m)\u001B[49m\u001B[38;5;241;43m.\u001B[39;49m\u001B[43mdecode\u001B[49m\u001B[43m(\u001B[49m\u001B[43m)\u001B[49m\u001B[43m)\u001B[49m\n\u001B[1;32m      5\u001B[0m   display(df)\n\u001B[1;32m      6\u001B[0m   \u001B[38;5;28;01mreturn\u001B[39;00m df\n\nFile \u001B[0;32m/databricks/spark/python/pyspark/instrumentation_utils.py:48\u001B[0m, in \u001B[0;36m_wrap_function.<locals>.wrapper\u001B[0;34m(*args, **kwargs)\u001B[0m\n\u001B[1;32m     46\u001B[0m start \u001B[38;5;241m=\u001B[39m time\u001B[38;5;241m.\u001B[39mperf_counter()\n\u001B[1;32m     47\u001B[0m \u001B[38;5;28;01mtry\u001B[39;00m:\n\u001B[0;32m---> 48\u001B[0m     res \u001B[38;5;241m=\u001B[39m \u001B[43mfunc\u001B[49m\u001B[43m(\u001B[49m\u001B[38;5;241;43m*\u001B[39;49m\u001B[43margs\u001B[49m\u001B[43m,\u001B[49m\u001B[43m \u001B[49m\u001B[38;5;241;43m*\u001B[39;49m\u001B[38;5;241;43m*\u001B[39;49m\u001B[43mkwargs\u001B[49m\u001B[43m)\u001B[49m\n\u001B[1;32m     49\u001B[0m     logger\u001B[38;5;241m.\u001B[39mlog_success(\n\u001B[1;32m     50\u001B[0m         module_name, class_name, function_name, time\u001B[38;5;241m.\u001B[39mperf_counter() \u001B[38;5;241m-\u001B[39m start, signature\n\u001B[1;32m     51\u001B[0m     )\n\u001B[1;32m     52\u001B[0m     \u001B[38;5;28;01mreturn\u001B[39;00m res\n\nFile \u001B[0;32m/databricks/spark/python/pyspark/sql/session.py:1387\u001B[0m, in \u001B[0;36mSparkSession.sql\u001B[0;34m(self, sqlQuery, args, **kwargs)\u001B[0m\n\u001B[1;32m   1385\u001B[0m \u001B[38;5;28;01mtry\u001B[39;00m:\n\u001B[1;32m   1386\u001B[0m     litArgs \u001B[38;5;241m=\u001B[39m {k: _to_java_column(lit(v)) \u001B[38;5;28;01mfor\u001B[39;00m k, v \u001B[38;5;129;01min\u001B[39;00m (args \u001B[38;5;129;01mor\u001B[39;00m {})\u001B[38;5;241m.\u001B[39mitems()}\n\u001B[0;32m-> 1387\u001B[0m     \u001B[38;5;28;01mreturn\u001B[39;00m DataFrame(\u001B[38;5;28;43mself\u001B[39;49m\u001B[38;5;241;43m.\u001B[39;49m\u001B[43m_jsparkSession\u001B[49m\u001B[38;5;241;43m.\u001B[39;49m\u001B[43msql\u001B[49m\u001B[43m(\u001B[49m\u001B[43msqlQuery\u001B[49m\u001B[43m,\u001B[49m\u001B[43m \u001B[49m\u001B[43mlitArgs\u001B[49m\u001B[43m)\u001B[49m, \u001B[38;5;28mself\u001B[39m)\n\u001B[1;32m   1388\u001B[0m \u001B[38;5;28;01mfinally\u001B[39;00m:\n\u001B[1;32m   1389\u001B[0m     \u001B[38;5;28;01mif\u001B[39;00m \u001B[38;5;28mlen\u001B[39m(kwargs) \u001B[38;5;241m>\u001B[39m \u001B[38;5;241m0\u001B[39m:\n\nFile \u001B[0;32m/databricks/spark/python/lib/py4j-0.10.9.5-src.zip/py4j/java_gateway.py:1321\u001B[0m, in \u001B[0;36mJavaMember.__call__\u001B[0;34m(self, *args)\u001B[0m\n\u001B[1;32m   1315\u001B[0m command \u001B[38;5;241m=\u001B[39m proto\u001B[38;5;241m.\u001B[39mCALL_COMMAND_NAME \u001B[38;5;241m+\u001B[39m\\\n\u001B[1;32m   1316\u001B[0m     \u001B[38;5;28mself\u001B[39m\u001B[38;5;241m.\u001B[39mcommand_header \u001B[38;5;241m+\u001B[39m\\\n\u001B[1;32m   1317\u001B[0m     args_command \u001B[38;5;241m+\u001B[39m\\\n\u001B[1;32m   1318\u001B[0m     proto\u001B[38;5;241m.\u001B[39mEND_COMMAND_PART\n\u001B[1;32m   1320\u001B[0m answer \u001B[38;5;241m=\u001B[39m \u001B[38;5;28mself\u001B[39m\u001B[38;5;241m.\u001B[39mgateway_client\u001B[38;5;241m.\u001B[39msend_command(command)\n\u001B[0;32m-> 1321\u001B[0m return_value \u001B[38;5;241m=\u001B[39m \u001B[43mget_return_value\u001B[49m\u001B[43m(\u001B[49m\n\u001B[1;32m   1322\u001B[0m \u001B[43m    \u001B[49m\u001B[43manswer\u001B[49m\u001B[43m,\u001B[49m\u001B[43m \u001B[49m\u001B[38;5;28;43mself\u001B[39;49m\u001B[38;5;241;43m.\u001B[39;49m\u001B[43mgateway_client\u001B[49m\u001B[43m,\u001B[49m\u001B[43m \u001B[49m\u001B[38;5;28;43mself\u001B[39;49m\u001B[38;5;241;43m.\u001B[39;49m\u001B[43mtarget_id\u001B[49m\u001B[43m,\u001B[49m\u001B[43m \u001B[49m\u001B[38;5;28;43mself\u001B[39;49m\u001B[38;5;241;43m.\u001B[39;49m\u001B[43mname\u001B[49m\u001B[43m)\u001B[49m\n\u001B[1;32m   1324\u001B[0m \u001B[38;5;28;01mfor\u001B[39;00m temp_arg \u001B[38;5;129;01min\u001B[39;00m temp_args:\n\u001B[1;32m   1325\u001B[0m     temp_arg\u001B[38;5;241m.\u001B[39m_detach()\n\nFile \u001B[0;32m/databricks/spark/python/pyspark/errors/exceptions.py:234\u001B[0m, in \u001B[0;36mcapture_sql_exception.<locals>.deco\u001B[0;34m(*a, **kw)\u001B[0m\n\u001B[1;32m    230\u001B[0m converted \u001B[38;5;241m=\u001B[39m convert_exception(e\u001B[38;5;241m.\u001B[39mjava_exception)\n\u001B[1;32m    231\u001B[0m \u001B[38;5;28;01mif\u001B[39;00m \u001B[38;5;129;01mnot\u001B[39;00m \u001B[38;5;28misinstance\u001B[39m(converted, UnknownException):\n\u001B[1;32m    232\u001B[0m     \u001B[38;5;66;03m# Hide where the exception came from that shows a non-Pythonic\u001B[39;00m\n\u001B[1;32m    233\u001B[0m     \u001B[38;5;66;03m# JVM exception message.\u001B[39;00m\n\u001B[0;32m--> 234\u001B[0m     \u001B[38;5;28;01mraise\u001B[39;00m converted \u001B[38;5;28;01mfrom\u001B[39;00m \u001B[38;5;28mNone\u001B[39m\n\u001B[1;32m    235\u001B[0m \u001B[38;5;28;01melse\u001B[39;00m:\n\u001B[1;32m    236\u001B[0m     \u001B[38;5;28;01mraise\u001B[39;00m\n\n\u001B[0;31mAnalysisException\u001B[0m: DROP COLUMN is not supported for your Delta table. \nPlease enable Column Mapping on your Delta table with mapping mode 'name'.\nYou can use one of the following commands.\n\nIf your table is already on the required protocol version:\nALTER TABLE table_name SET TBLPROPERTIES ('delta.columnMapping.mode' = 'name')\n\nIf your table is not on the required protocol version and requires a protocol upgrade:\nALTER TABLE table_name SET TBLPROPERTIES (\n   'delta.columnMapping.mode' = 'name',\n   'delta.minReaderVersion' = '2',\n   'delta.minWriterVersion' = '5')\nRefer to table versioning at https://docs.databricks.com/delta/versioning.html",
       "errorSummary": "<span class='ansi-red-fg'>AnalysisException</span>: DROP COLUMN is not supported for your Delta table. \nPlease enable Column Mapping on your Delta table with mapping mode 'name'.\nYou can use one of the following commands.\n\nIf your table is already on the required protocol version:\nALTER TABLE table_name SET TBLPROPERTIES ('delta.columnMapping.mode' = 'name')\n\nIf your table is not on the required protocol version and requires a protocol upgrade:\nALTER TABLE table_name SET TBLPROPERTIES (\n   'delta.columnMapping.mode' = 'name',\n   'delta.minReaderVersion' = '2',\n   'delta.minWriterVersion' = '5')\nRefer to table versioning at https://docs.databricks.com/delta/versioning.html",
       "errorTraceType": "ansi",
       "metadata": {},
       "type": "ipynbError"
      }
     },
     "output_type": "display_data"
    }
   ],
   "source": [
    "%sql\n",
    "ALTER TABLE bronze.my_delta_table2\n",
    "DROP COLUMN flag"
   ]
  },
  {
   "cell_type": "code",
   "execution_count": 0,
   "metadata": {
    "application/vnd.databricks.v1+cell": {
     "cellMetadata": {
      "byteLimit": 2048000,
      "implicitDf": true,
      "rowLimit": 10000
     },
     "inputWidgets": {},
     "nuid": "1b653190-daae-4258-8bb9-3a3e31a1a84a",
     "showTitle": false,
     "tableResultSettingsMap": {},
     "title": ""
    }
   },
   "outputs": [
    {
     "output_type": "display_data",
     "data": {
      "text/html": [
       "<style scoped>\n",
       "  .table-result-container {\n",
       "    max-height: 300px;\n",
       "    overflow: auto;\n",
       "  }\n",
       "  table, th, td {\n",
       "    border: 1px solid black;\n",
       "    border-collapse: collapse;\n",
       "  }\n",
       "  th, td {\n",
       "    padding: 5px;\n",
       "  }\n",
       "  th {\n",
       "    text-align: left;\n",
       "  }\n",
       "</style><div class='table-result-container'><table class='table-result'><thead style='background-color: white'><tr></tr></thead><tbody></tbody></table></div>"
      ]
     },
     "metadata": {
      "application/vnd.databricks.v1+output": {
       "addedWidgets": {},
       "aggData": [],
       "aggError": "",
       "aggOverflow": false,
       "aggSchema": [],
       "aggSeriesLimitReached": false,
       "aggType": "",
       "arguments": {},
       "columnCustomDisplayInfos": {},
       "data": [],
       "datasetInfos": [],
       "dbfsResultPath": null,
       "isJsonSchema": true,
       "metadata": {},
       "overflow": false,
       "plotOptions": {
        "customPlotOptions": {},
        "displayType": "table",
        "pivotAggregation": null,
        "pivotColumns": null,
        "xColumns": null,
        "yColumns": null
       },
       "removedWidgets": [],
       "schema": [],
       "type": "table"
      }
     },
     "output_type": "display_data"
    }
   ],
   "source": [
    "%sql\n",
    "ALTER TABLE bronze.my_delta_table2 SET TBLPROPERTIES (\n",
    "   'delta.columnMapping.mode' = 'name',\n",
    "   'delta.minReaderVersion' = '2',\n",
    "   'delta.minWriterVersion' = '5');"
   ]
  },
  {
   "cell_type": "code",
   "execution_count": 0,
   "metadata": {
    "application/vnd.databricks.v1+cell": {
     "cellMetadata": {
      "byteLimit": 2048000,
      "implicitDf": true,
      "rowLimit": 10000
     },
     "inputWidgets": {},
     "nuid": "1faccb91-7b70-4cfe-811a-330e74477991",
     "showTitle": false,
     "tableResultSettingsMap": {},
     "title": ""
    }
   },
   "outputs": [
    {
     "output_type": "display_data",
     "data": {
      "text/html": [
       "<style scoped>\n",
       "  .table-result-container {\n",
       "    max-height: 300px;\n",
       "    overflow: auto;\n",
       "  }\n",
       "  table, th, td {\n",
       "    border: 1px solid black;\n",
       "    border-collapse: collapse;\n",
       "  }\n",
       "  th, td {\n",
       "    padding: 5px;\n",
       "  }\n",
       "  th {\n",
       "    text-align: left;\n",
       "  }\n",
       "</style><div class='table-result-container'><table class='table-result'><thead style='background-color: white'><tr></tr></thead><tbody></tbody></table></div>"
      ]
     },
     "metadata": {
      "application/vnd.databricks.v1+output": {
       "addedWidgets": {},
       "aggData": [],
       "aggError": "",
       "aggOverflow": false,
       "aggSchema": [],
       "aggSeriesLimitReached": false,
       "aggType": "",
       "arguments": {},
       "columnCustomDisplayInfos": {},
       "data": [],
       "datasetInfos": [],
       "dbfsResultPath": null,
       "isJsonSchema": true,
       "metadata": {},
       "overflow": false,
       "plotOptions": {
        "customPlotOptions": {},
        "displayType": "table",
        "pivotAggregation": null,
        "pivotColumns": null,
        "xColumns": null,
        "yColumns": null
       },
       "removedWidgets": [],
       "schema": [],
       "type": "table"
      }
     },
     "output_type": "display_data"
    }
   ],
   "source": [
    "%sql\n",
    "ALTER TABLE bronze.my_delta_table2\n",
    "DROP COLUMN flag"
   ]
  },
  {
   "cell_type": "code",
   "execution_count": 0,
   "metadata": {
    "application/vnd.databricks.v1+cell": {
     "cellMetadata": {
      "byteLimit": 2048000,
      "rowLimit": 10000
     },
     "inputWidgets": {},
     "nuid": "8e9a727f-786a-4a95-acd3-84b357b97c8b",
     "showTitle": false,
     "tableResultSettingsMap": {},
     "title": ""
    }
   },
   "outputs": [
    {
     "output_type": "display_data",
     "data": {
      "text/html": [
       "<style scoped>\n",
       "  .table-result-container {\n",
       "    max-height: 300px;\n",
       "    overflow: auto;\n",
       "  }\n",
       "  table, th, td {\n",
       "    border: 1px solid black;\n",
       "    border-collapse: collapse;\n",
       "  }\n",
       "  th, td {\n",
       "    padding: 5px;\n",
       "  }\n",
       "  th {\n",
       "    text-align: left;\n",
       "  }\n",
       "</style><div class='table-result-container'><table class='table-result'><thead style='background-color: white'><tr><th>path</th><th>name</th><th>size</th><th>modificationTime</th></tr></thead><tbody><tr><td>dbfs:/FileStore/tables/OpentableFormat/sinkdata/my_delta_table2/_delta_log/.s3-optimization-0</td><td>.s3-optimization-0</td><td>0</td><td>1742971522000</td></tr><tr><td>dbfs:/FileStore/tables/OpentableFormat/sinkdata/my_delta_table2/_delta_log/.s3-optimization-1</td><td>.s3-optimization-1</td><td>0</td><td>1742971522000</td></tr><tr><td>dbfs:/FileStore/tables/OpentableFormat/sinkdata/my_delta_table2/_delta_log/.s3-optimization-2</td><td>.s3-optimization-2</td><td>0</td><td>1742971522000</td></tr><tr><td>dbfs:/FileStore/tables/OpentableFormat/sinkdata/my_delta_table2/_delta_log/00000000000000000000.crc</td><td>00000000000000000000.crc</td><td>2028</td><td>1742971524000</td></tr><tr><td>dbfs:/FileStore/tables/OpentableFormat/sinkdata/my_delta_table2/_delta_log/00000000000000000000.json</td><td>00000000000000000000.json</td><td>998</td><td>1742971522000</td></tr><tr><td>dbfs:/FileStore/tables/OpentableFormat/sinkdata/my_delta_table2/_delta_log/00000000000000000001.crc</td><td>00000000000000000001.crc</td><td>2065</td><td>1742971603000</td></tr><tr><td>dbfs:/FileStore/tables/OpentableFormat/sinkdata/my_delta_table2/_delta_log/00000000000000000001.json</td><td>00000000000000000001.json</td><td>982</td><td>1742971601000</td></tr><tr><td>dbfs:/FileStore/tables/OpentableFormat/sinkdata/my_delta_table2/_delta_log/00000000000000000002.crc</td><td>00000000000000000002.crc</td><td>2588</td><td>1742971677000</td></tr><tr><td>dbfs:/FileStore/tables/OpentableFormat/sinkdata/my_delta_table2/_delta_log/00000000000000000002.json</td><td>00000000000000000002.json</td><td>1044</td><td>1742971675000</td></tr><tr><td>dbfs:/FileStore/tables/OpentableFormat/sinkdata/my_delta_table2/_delta_log/00000000000000000003.crc</td><td>00000000000000000003.crc</td><td>2588</td><td>1742971891000</td></tr><tr><td>dbfs:/FileStore/tables/OpentableFormat/sinkdata/my_delta_table2/_delta_log/00000000000000000003.json</td><td>00000000000000000003.json</td><td>1637</td><td>1742971888000</td></tr><tr><td>dbfs:/FileStore/tables/OpentableFormat/sinkdata/my_delta_table2/_delta_log/00000000000000000004.crc</td><td>00000000000000000004.crc</td><td>2588</td><td>1742972728000</td></tr><tr><td>dbfs:/FileStore/tables/OpentableFormat/sinkdata/my_delta_table2/_delta_log/00000000000000000004.json</td><td>00000000000000000004.json</td><td>1636</td><td>1742972726000</td></tr><tr><td>dbfs:/FileStore/tables/OpentableFormat/sinkdata/my_delta_table2/_delta_log/00000000000000000005.crc</td><td>00000000000000000005.crc</td><td>2132</td><td>1742977573000</td></tr><tr><td>dbfs:/FileStore/tables/OpentableFormat/sinkdata/my_delta_table2/_delta_log/00000000000000000005.json</td><td>00000000000000000005.json</td><td>1094</td><td>1742977572000</td></tr><tr><td>dbfs:/FileStore/tables/OpentableFormat/sinkdata/my_delta_table2/_delta_log/00000000000000000006.crc</td><td>00000000000000000006.crc</td><td>2132</td><td>1742977829000</td></tr><tr><td>dbfs:/FileStore/tables/OpentableFormat/sinkdata/my_delta_table2/_delta_log/00000000000000000006.json</td><td>00000000000000000006.json</td><td>1102</td><td>1742977827000</td></tr><tr><td>dbfs:/FileStore/tables/OpentableFormat/sinkdata/my_delta_table2/_delta_log/00000000000000000007.crc</td><td>00000000000000000007.crc</td><td>2500</td><td>1742978038000</td></tr><tr><td>dbfs:/FileStore/tables/OpentableFormat/sinkdata/my_delta_table2/_delta_log/00000000000000000007.json</td><td>00000000000000000007.json</td><td>1544</td><td>1742978037000</td></tr><tr><td>dbfs:/FileStore/tables/OpentableFormat/sinkdata/my_delta_table2/_delta_log/00000000000000000008.crc</td><td>00000000000000000008.crc</td><td>2351</td><td>1742978049000</td></tr><tr><td>dbfs:/FileStore/tables/OpentableFormat/sinkdata/my_delta_table2/_delta_log/00000000000000000008.json</td><td>00000000000000000008.json</td><td>1235</td><td>1742978048000</td></tr></tbody></table></div>"
      ]
     },
     "metadata": {
      "application/vnd.databricks.v1+output": {
       "addedWidgets": {},
       "aggData": [],
       "aggError": "",
       "aggOverflow": false,
       "aggSchema": [],
       "aggSeriesLimitReached": false,
       "aggType": "",
       "arguments": {},
       "columnCustomDisplayInfos": {},
       "data": [
        [
         "dbfs:/FileStore/tables/OpentableFormat/sinkdata/my_delta_table2/_delta_log/.s3-optimization-0",
         ".s3-optimization-0",
         0,
         1742971522000
        ],
        [
         "dbfs:/FileStore/tables/OpentableFormat/sinkdata/my_delta_table2/_delta_log/.s3-optimization-1",
         ".s3-optimization-1",
         0,
         1742971522000
        ],
        [
         "dbfs:/FileStore/tables/OpentableFormat/sinkdata/my_delta_table2/_delta_log/.s3-optimization-2",
         ".s3-optimization-2",
         0,
         1742971522000
        ],
        [
         "dbfs:/FileStore/tables/OpentableFormat/sinkdata/my_delta_table2/_delta_log/00000000000000000000.crc",
         "00000000000000000000.crc",
         2028,
         1742971524000
        ],
        [
         "dbfs:/FileStore/tables/OpentableFormat/sinkdata/my_delta_table2/_delta_log/00000000000000000000.json",
         "00000000000000000000.json",
         998,
         1742971522000
        ],
        [
         "dbfs:/FileStore/tables/OpentableFormat/sinkdata/my_delta_table2/_delta_log/00000000000000000001.crc",
         "00000000000000000001.crc",
         2065,
         1742971603000
        ],
        [
         "dbfs:/FileStore/tables/OpentableFormat/sinkdata/my_delta_table2/_delta_log/00000000000000000001.json",
         "00000000000000000001.json",
         982,
         1742971601000
        ],
        [
         "dbfs:/FileStore/tables/OpentableFormat/sinkdata/my_delta_table2/_delta_log/00000000000000000002.crc",
         "00000000000000000002.crc",
         2588,
         1742971677000
        ],
        [
         "dbfs:/FileStore/tables/OpentableFormat/sinkdata/my_delta_table2/_delta_log/00000000000000000002.json",
         "00000000000000000002.json",
         1044,
         1742971675000
        ],
        [
         "dbfs:/FileStore/tables/OpentableFormat/sinkdata/my_delta_table2/_delta_log/00000000000000000003.crc",
         "00000000000000000003.crc",
         2588,
         1742971891000
        ],
        [
         "dbfs:/FileStore/tables/OpentableFormat/sinkdata/my_delta_table2/_delta_log/00000000000000000003.json",
         "00000000000000000003.json",
         1637,
         1742971888000
        ],
        [
         "dbfs:/FileStore/tables/OpentableFormat/sinkdata/my_delta_table2/_delta_log/00000000000000000004.crc",
         "00000000000000000004.crc",
         2588,
         1742972728000
        ],
        [
         "dbfs:/FileStore/tables/OpentableFormat/sinkdata/my_delta_table2/_delta_log/00000000000000000004.json",
         "00000000000000000004.json",
         1636,
         1742972726000
        ],
        [
         "dbfs:/FileStore/tables/OpentableFormat/sinkdata/my_delta_table2/_delta_log/00000000000000000005.crc",
         "00000000000000000005.crc",
         2132,
         1742977573000
        ],
        [
         "dbfs:/FileStore/tables/OpentableFormat/sinkdata/my_delta_table2/_delta_log/00000000000000000005.json",
         "00000000000000000005.json",
         1094,
         1742977572000
        ],
        [
         "dbfs:/FileStore/tables/OpentableFormat/sinkdata/my_delta_table2/_delta_log/00000000000000000006.crc",
         "00000000000000000006.crc",
         2132,
         1742977829000
        ],
        [
         "dbfs:/FileStore/tables/OpentableFormat/sinkdata/my_delta_table2/_delta_log/00000000000000000006.json",
         "00000000000000000006.json",
         1102,
         1742977827000
        ],
        [
         "dbfs:/FileStore/tables/OpentableFormat/sinkdata/my_delta_table2/_delta_log/00000000000000000007.crc",
         "00000000000000000007.crc",
         2500,
         1742978038000
        ],
        [
         "dbfs:/FileStore/tables/OpentableFormat/sinkdata/my_delta_table2/_delta_log/00000000000000000007.json",
         "00000000000000000007.json",
         1544,
         1742978037000
        ],
        [
         "dbfs:/FileStore/tables/OpentableFormat/sinkdata/my_delta_table2/_delta_log/00000000000000000008.crc",
         "00000000000000000008.crc",
         2351,
         1742978049000
        ],
        [
         "dbfs:/FileStore/tables/OpentableFormat/sinkdata/my_delta_table2/_delta_log/00000000000000000008.json",
         "00000000000000000008.json",
         1235,
         1742978048000
        ]
       ],
       "datasetInfos": [],
       "dbfsResultPath": null,
       "isJsonSchema": true,
       "metadata": {
        "isDbfsCommandResult": false
       },
       "overflow": false,
       "plotOptions": {
        "customPlotOptions": {},
        "displayType": "table",
        "pivotAggregation": null,
        "pivotColumns": null,
        "xColumns": null,
        "yColumns": null
       },
       "removedWidgets": [],
       "schema": [
        {
         "metadata": "{}",
         "name": "path",
         "type": "\"string\""
        },
        {
         "metadata": "{}",
         "name": "name",
         "type": "\"string\""
        },
        {
         "metadata": "{}",
         "name": "size",
         "type": "\"long\""
        },
        {
         "metadata": "{}",
         "name": "modificationTime",
         "type": "\"long\""
        }
       ],
       "type": "table"
      }
     },
     "output_type": "display_data"
    }
   ],
   "source": [
    "%fs\n",
    "ls dbfs:/FileStore/tables/OpentableFormat/sinkdata/my_delta_table2/_delta_log"
   ]
  },
  {
   "cell_type": "code",
   "execution_count": 0,
   "metadata": {
    "application/vnd.databricks.v1+cell": {
     "cellMetadata": {
      "byteLimit": 2048000,
      "implicitDf": true,
      "rowLimit": 10000
     },
     "inputWidgets": {},
     "nuid": "4cdb0792-b569-46be-b162-6527cdab3d0b",
     "showTitle": false,
     "tableResultSettingsMap": {},
     "title": ""
    }
   },
   "outputs": [
    {
     "output_type": "display_data",
     "data": {
      "text/html": [
       "<style scoped>\n",
       "  .table-result-container {\n",
       "    max-height: 300px;\n",
       "    overflow: auto;\n",
       "  }\n",
       "  table, th, td {\n",
       "    border: 1px solid black;\n",
       "    border-collapse: collapse;\n",
       "  }\n",
       "  th, td {\n",
       "    padding: 5px;\n",
       "  }\n",
       "  th {\n",
       "    text-align: left;\n",
       "  }\n",
       "</style><div class='table-result-container'><table class='table-result'><thead style='background-color: white'><tr></tr></thead><tbody></tbody></table></div>"
      ]
     },
     "metadata": {
      "application/vnd.databricks.v1+output": {
       "addedWidgets": {},
       "aggData": [],
       "aggError": "",
       "aggOverflow": false,
       "aggSchema": [],
       "aggSeriesLimitReached": false,
       "aggType": "",
       "arguments": {},
       "columnCustomDisplayInfos": {},
       "data": [],
       "datasetInfos": [],
       "dbfsResultPath": null,
       "isJsonSchema": true,
       "metadata": {},
       "overflow": false,
       "plotOptions": {
        "customPlotOptions": {},
        "displayType": "table",
        "pivotAggregation": null,
        "pivotColumns": null,
        "xColumns": null,
        "yColumns": null
       },
       "removedWidgets": [],
       "schema": [],
       "type": "table"
      }
     },
     "output_type": "display_data"
    }
   ],
   "source": [
    "%sql\n",
    "ALTER TABLE bronze.my_delta_table2\n",
    "RENAME COLUMN id TO cust_id"
   ]
  },
  {
   "cell_type": "code",
   "execution_count": 0,
   "metadata": {
    "application/vnd.databricks.v1+cell": {
     "cellMetadata": {
      "byteLimit": 2048000,
      "rowLimit": 10000
     },
     "inputWidgets": {},
     "nuid": "a14ccb6a-5c0e-4f58-8965-3e8bc11a2a78",
     "showTitle": false,
     "tableResultSettingsMap": {},
     "title": ""
    }
   },
   "outputs": [
    {
     "output_type": "display_data",
     "data": {
      "text/html": [
       "<style scoped>\n",
       "  .table-result-container {\n",
       "    max-height: 300px;\n",
       "    overflow: auto;\n",
       "  }\n",
       "  table, th, td {\n",
       "    border: 1px solid black;\n",
       "    border-collapse: collapse;\n",
       "  }\n",
       "  th, td {\n",
       "    padding: 5px;\n",
       "  }\n",
       "  th {\n",
       "    text-align: left;\n",
       "  }\n",
       "</style><div class='table-result-container'><table class='table-result'><thead style='background-color: white'><tr><th>path</th><th>name</th><th>size</th><th>modificationTime</th></tr></thead><tbody><tr><td>dbfs:/FileStore/tables/OpentableFormat/sinkdata/my_delta_table2/_delta_log/.s3-optimization-0</td><td>.s3-optimization-0</td><td>0</td><td>1742971522000</td></tr><tr><td>dbfs:/FileStore/tables/OpentableFormat/sinkdata/my_delta_table2/_delta_log/.s3-optimization-1</td><td>.s3-optimization-1</td><td>0</td><td>1742971522000</td></tr><tr><td>dbfs:/FileStore/tables/OpentableFormat/sinkdata/my_delta_table2/_delta_log/.s3-optimization-2</td><td>.s3-optimization-2</td><td>0</td><td>1742971522000</td></tr><tr><td>dbfs:/FileStore/tables/OpentableFormat/sinkdata/my_delta_table2/_delta_log/00000000000000000000.crc</td><td>00000000000000000000.crc</td><td>2028</td><td>1742971524000</td></tr><tr><td>dbfs:/FileStore/tables/OpentableFormat/sinkdata/my_delta_table2/_delta_log/00000000000000000000.json</td><td>00000000000000000000.json</td><td>998</td><td>1742971522000</td></tr><tr><td>dbfs:/FileStore/tables/OpentableFormat/sinkdata/my_delta_table2/_delta_log/00000000000000000001.crc</td><td>00000000000000000001.crc</td><td>2065</td><td>1742971603000</td></tr><tr><td>dbfs:/FileStore/tables/OpentableFormat/sinkdata/my_delta_table2/_delta_log/00000000000000000001.json</td><td>00000000000000000001.json</td><td>982</td><td>1742971601000</td></tr><tr><td>dbfs:/FileStore/tables/OpentableFormat/sinkdata/my_delta_table2/_delta_log/00000000000000000002.crc</td><td>00000000000000000002.crc</td><td>2588</td><td>1742971677000</td></tr><tr><td>dbfs:/FileStore/tables/OpentableFormat/sinkdata/my_delta_table2/_delta_log/00000000000000000002.json</td><td>00000000000000000002.json</td><td>1044</td><td>1742971675000</td></tr><tr><td>dbfs:/FileStore/tables/OpentableFormat/sinkdata/my_delta_table2/_delta_log/00000000000000000003.crc</td><td>00000000000000000003.crc</td><td>2588</td><td>1742971891000</td></tr><tr><td>dbfs:/FileStore/tables/OpentableFormat/sinkdata/my_delta_table2/_delta_log/00000000000000000003.json</td><td>00000000000000000003.json</td><td>1637</td><td>1742971888000</td></tr><tr><td>dbfs:/FileStore/tables/OpentableFormat/sinkdata/my_delta_table2/_delta_log/00000000000000000004.crc</td><td>00000000000000000004.crc</td><td>2588</td><td>1742972728000</td></tr><tr><td>dbfs:/FileStore/tables/OpentableFormat/sinkdata/my_delta_table2/_delta_log/00000000000000000004.json</td><td>00000000000000000004.json</td><td>1636</td><td>1742972726000</td></tr><tr><td>dbfs:/FileStore/tables/OpentableFormat/sinkdata/my_delta_table2/_delta_log/00000000000000000005.crc</td><td>00000000000000000005.crc</td><td>2132</td><td>1742977573000</td></tr><tr><td>dbfs:/FileStore/tables/OpentableFormat/sinkdata/my_delta_table2/_delta_log/00000000000000000005.json</td><td>00000000000000000005.json</td><td>1094</td><td>1742977572000</td></tr><tr><td>dbfs:/FileStore/tables/OpentableFormat/sinkdata/my_delta_table2/_delta_log/00000000000000000006.crc</td><td>00000000000000000006.crc</td><td>2132</td><td>1742977829000</td></tr><tr><td>dbfs:/FileStore/tables/OpentableFormat/sinkdata/my_delta_table2/_delta_log/00000000000000000006.json</td><td>00000000000000000006.json</td><td>1102</td><td>1742977827000</td></tr><tr><td>dbfs:/FileStore/tables/OpentableFormat/sinkdata/my_delta_table2/_delta_log/00000000000000000007.crc</td><td>00000000000000000007.crc</td><td>2500</td><td>1742978038000</td></tr><tr><td>dbfs:/FileStore/tables/OpentableFormat/sinkdata/my_delta_table2/_delta_log/00000000000000000007.json</td><td>00000000000000000007.json</td><td>1544</td><td>1742978037000</td></tr><tr><td>dbfs:/FileStore/tables/OpentableFormat/sinkdata/my_delta_table2/_delta_log/00000000000000000008.crc</td><td>00000000000000000008.crc</td><td>2351</td><td>1742978049000</td></tr><tr><td>dbfs:/FileStore/tables/OpentableFormat/sinkdata/my_delta_table2/_delta_log/00000000000000000008.json</td><td>00000000000000000008.json</td><td>1235</td><td>1742978048000</td></tr><tr><td>dbfs:/FileStore/tables/OpentableFormat/sinkdata/my_delta_table2/_delta_log/00000000000000000009.crc</td><td>00000000000000000009.crc</td><td>2356</td><td>1742978140000</td></tr><tr><td>dbfs:/FileStore/tables/OpentableFormat/sinkdata/my_delta_table2/_delta_log/00000000000000000009.json</td><td>00000000000000000009.json</td><td>1265</td><td>1742978138000</td></tr></tbody></table></div>"
      ]
     },
     "metadata": {
      "application/vnd.databricks.v1+output": {
       "addedWidgets": {},
       "aggData": [],
       "aggError": "",
       "aggOverflow": false,
       "aggSchema": [],
       "aggSeriesLimitReached": false,
       "aggType": "",
       "arguments": {},
       "columnCustomDisplayInfos": {},
       "data": [
        [
         "dbfs:/FileStore/tables/OpentableFormat/sinkdata/my_delta_table2/_delta_log/.s3-optimization-0",
         ".s3-optimization-0",
         0,
         1742971522000
        ],
        [
         "dbfs:/FileStore/tables/OpentableFormat/sinkdata/my_delta_table2/_delta_log/.s3-optimization-1",
         ".s3-optimization-1",
         0,
         1742971522000
        ],
        [
         "dbfs:/FileStore/tables/OpentableFormat/sinkdata/my_delta_table2/_delta_log/.s3-optimization-2",
         ".s3-optimization-2",
         0,
         1742971522000
        ],
        [
         "dbfs:/FileStore/tables/OpentableFormat/sinkdata/my_delta_table2/_delta_log/00000000000000000000.crc",
         "00000000000000000000.crc",
         2028,
         1742971524000
        ],
        [
         "dbfs:/FileStore/tables/OpentableFormat/sinkdata/my_delta_table2/_delta_log/00000000000000000000.json",
         "00000000000000000000.json",
         998,
         1742971522000
        ],
        [
         "dbfs:/FileStore/tables/OpentableFormat/sinkdata/my_delta_table2/_delta_log/00000000000000000001.crc",
         "00000000000000000001.crc",
         2065,
         1742971603000
        ],
        [
         "dbfs:/FileStore/tables/OpentableFormat/sinkdata/my_delta_table2/_delta_log/00000000000000000001.json",
         "00000000000000000001.json",
         982,
         1742971601000
        ],
        [
         "dbfs:/FileStore/tables/OpentableFormat/sinkdata/my_delta_table2/_delta_log/00000000000000000002.crc",
         "00000000000000000002.crc",
         2588,
         1742971677000
        ],
        [
         "dbfs:/FileStore/tables/OpentableFormat/sinkdata/my_delta_table2/_delta_log/00000000000000000002.json",
         "00000000000000000002.json",
         1044,
         1742971675000
        ],
        [
         "dbfs:/FileStore/tables/OpentableFormat/sinkdata/my_delta_table2/_delta_log/00000000000000000003.crc",
         "00000000000000000003.crc",
         2588,
         1742971891000
        ],
        [
         "dbfs:/FileStore/tables/OpentableFormat/sinkdata/my_delta_table2/_delta_log/00000000000000000003.json",
         "00000000000000000003.json",
         1637,
         1742971888000
        ],
        [
         "dbfs:/FileStore/tables/OpentableFormat/sinkdata/my_delta_table2/_delta_log/00000000000000000004.crc",
         "00000000000000000004.crc",
         2588,
         1742972728000
        ],
        [
         "dbfs:/FileStore/tables/OpentableFormat/sinkdata/my_delta_table2/_delta_log/00000000000000000004.json",
         "00000000000000000004.json",
         1636,
         1742972726000
        ],
        [
         "dbfs:/FileStore/tables/OpentableFormat/sinkdata/my_delta_table2/_delta_log/00000000000000000005.crc",
         "00000000000000000005.crc",
         2132,
         1742977573000
        ],
        [
         "dbfs:/FileStore/tables/OpentableFormat/sinkdata/my_delta_table2/_delta_log/00000000000000000005.json",
         "00000000000000000005.json",
         1094,
         1742977572000
        ],
        [
         "dbfs:/FileStore/tables/OpentableFormat/sinkdata/my_delta_table2/_delta_log/00000000000000000006.crc",
         "00000000000000000006.crc",
         2132,
         1742977829000
        ],
        [
         "dbfs:/FileStore/tables/OpentableFormat/sinkdata/my_delta_table2/_delta_log/00000000000000000006.json",
         "00000000000000000006.json",
         1102,
         1742977827000
        ],
        [
         "dbfs:/FileStore/tables/OpentableFormat/sinkdata/my_delta_table2/_delta_log/00000000000000000007.crc",
         "00000000000000000007.crc",
         2500,
         1742978038000
        ],
        [
         "dbfs:/FileStore/tables/OpentableFormat/sinkdata/my_delta_table2/_delta_log/00000000000000000007.json",
         "00000000000000000007.json",
         1544,
         1742978037000
        ],
        [
         "dbfs:/FileStore/tables/OpentableFormat/sinkdata/my_delta_table2/_delta_log/00000000000000000008.crc",
         "00000000000000000008.crc",
         2351,
         1742978049000
        ],
        [
         "dbfs:/FileStore/tables/OpentableFormat/sinkdata/my_delta_table2/_delta_log/00000000000000000008.json",
         "00000000000000000008.json",
         1235,
         1742978048000
        ],
        [
         "dbfs:/FileStore/tables/OpentableFormat/sinkdata/my_delta_table2/_delta_log/00000000000000000009.crc",
         "00000000000000000009.crc",
         2356,
         1742978140000
        ],
        [
         "dbfs:/FileStore/tables/OpentableFormat/sinkdata/my_delta_table2/_delta_log/00000000000000000009.json",
         "00000000000000000009.json",
         1265,
         1742978138000
        ]
       ],
       "datasetInfos": [],
       "dbfsResultPath": null,
       "isJsonSchema": true,
       "metadata": {
        "isDbfsCommandResult": false
       },
       "overflow": false,
       "plotOptions": {
        "customPlotOptions": {},
        "displayType": "table",
        "pivotAggregation": null,
        "pivotColumns": null,
        "xColumns": null,
        "yColumns": null
       },
       "removedWidgets": [],
       "schema": [
        {
         "metadata": "{}",
         "name": "path",
         "type": "\"string\""
        },
        {
         "metadata": "{}",
         "name": "name",
         "type": "\"string\""
        },
        {
         "metadata": "{}",
         "name": "size",
         "type": "\"long\""
        },
        {
         "metadata": "{}",
         "name": "modificationTime",
         "type": "\"long\""
        }
       ],
       "type": "table"
      }
     },
     "output_type": "display_data"
    }
   ],
   "source": [
    "%fs\n",
    "ls dbfs:/FileStore/tables/OpentableFormat/sinkdata/my_delta_table2/_delta_log"
   ]
  },
  {
   "cell_type": "code",
   "execution_count": 0,
   "metadata": {
    "application/vnd.databricks.v1+cell": {
     "cellMetadata": {
      "byteLimit": 2048000,
      "rowLimit": 10000
     },
     "inputWidgets": {},
     "nuid": "0c21fdfc-64d9-4992-b40d-595fdfa4518c",
     "showTitle": false,
     "tableResultSettingsMap": {},
     "title": ""
    }
   },
   "outputs": [
    {
     "output_type": "display_data",
     "data": {
      "text/html": [
       "<style scoped>\n",
       "  .table-result-container {\n",
       "    max-height: 300px;\n",
       "    overflow: auto;\n",
       "  }\n",
       "  table, th, td {\n",
       "    border: 1px solid black;\n",
       "    border-collapse: collapse;\n",
       "  }\n",
       "  th, td {\n",
       "    padding: 5px;\n",
       "  }\n",
       "  th {\n",
       "    text-align: left;\n",
       "  }\n",
       "</style><div class='table-result-container'><table class='table-result'><thead style='background-color: white'><tr><th>commitInfo</th><th>metaData</th></tr></thead><tbody><tr><td>List(0326-051930-d3czotdy, Databricks-Runtime/12.2.x-scala2.12, true, WriteSerializable, List(1262503834636755), RENAME COLUMN, List(cust_id, id), 8, 1742978137327, be41948f-456d-4a14-869c-e685e70704c3, 702181498026089, shankarwagh297@gmail.com)</td><td>null</td></tr><tr><td>null</td><td>List(List(4, name, false), 1742971521179, List(parquet), 8e21f8ce-a595-4209-93f4-1d14991759f5, List(), {\"type\":\"struct\",\"fields\":[{\"name\":\"name\",\"type\":\"string\",\"nullable\":true,\"metadata\":{\"delta.columnMapping.id\":1,\"delta.columnMapping.physicalName\":\"name\"}},{\"name\":\"cust_id\",\"type\":\"integer\",\"nullable\":true,\"metadata\":{\"delta.columnMapping.id\":2,\"delta.columnMapping.physicalName\":\"id\"}},{\"name\":\"salary\",\"type\":\"double\",\"nullable\":true,\"metadata\":{\"delta.columnMapping.id\":3,\"delta.columnMapping.physicalName\":\"salary\"}}]})</td></tr></tbody></table></div>"
      ]
     },
     "metadata": {
      "application/vnd.databricks.v1+output": {
       "addedWidgets": {},
       "aggData": [],
       "aggError": "",
       "aggOverflow": false,
       "aggSchema": [],
       "aggSeriesLimitReached": false,
       "aggType": "",
       "arguments": {},
       "columnCustomDisplayInfos": {},
       "data": [
        [
         [
          "0326-051930-d3czotdy",
          "Databricks-Runtime/12.2.x-scala2.12",
          true,
          "WriteSerializable",
          [
           "1262503834636755"
          ],
          "RENAME COLUMN",
          [
           "cust_id",
           "id"
          ],
          8,
          1742978137327,
          "be41948f-456d-4a14-869c-e685e70704c3",
          "702181498026089",
          "shankarwagh297@gmail.com"
         ],
         null
        ],
        [
         null,
         [
          [
           "4",
           "name",
           "false"
          ],
          1742971521179,
          [
           "parquet"
          ],
          "8e21f8ce-a595-4209-93f4-1d14991759f5",
          [],
          "{\"type\":\"struct\",\"fields\":[{\"name\":\"name\",\"type\":\"string\",\"nullable\":true,\"metadata\":{\"delta.columnMapping.id\":1,\"delta.columnMapping.physicalName\":\"name\"}},{\"name\":\"cust_id\",\"type\":\"integer\",\"nullable\":true,\"metadata\":{\"delta.columnMapping.id\":2,\"delta.columnMapping.physicalName\":\"id\"}},{\"name\":\"salary\",\"type\":\"double\",\"nullable\":true,\"metadata\":{\"delta.columnMapping.id\":3,\"delta.columnMapping.physicalName\":\"salary\"}}]}"
         ]
        ]
       ],
       "datasetInfos": [],
       "dbfsResultPath": null,
       "isJsonSchema": true,
       "metadata": {},
       "overflow": false,
       "plotOptions": {
        "customPlotOptions": {},
        "displayType": "table",
        "pivotAggregation": null,
        "pivotColumns": null,
        "xColumns": null,
        "yColumns": null
       },
       "removedWidgets": [],
       "schema": [
        {
         "metadata": "{}",
         "name": "commitInfo",
         "type": "{\"type\":\"struct\",\"fields\":[{\"name\":\"clusterId\",\"type\":\"string\",\"nullable\":true,\"metadata\":{}},{\"name\":\"engineInfo\",\"type\":\"string\",\"nullable\":true,\"metadata\":{}},{\"name\":\"isBlindAppend\",\"type\":\"boolean\",\"nullable\":true,\"metadata\":{}},{\"name\":\"isolationLevel\",\"type\":\"string\",\"nullable\":true,\"metadata\":{}},{\"name\":\"notebook\",\"type\":{\"type\":\"struct\",\"fields\":[{\"name\":\"notebookId\",\"type\":\"string\",\"nullable\":true,\"metadata\":{}}]},\"nullable\":true,\"metadata\":{}},{\"name\":\"operation\",\"type\":\"string\",\"nullable\":true,\"metadata\":{}},{\"name\":\"operationParameters\",\"type\":{\"type\":\"struct\",\"fields\":[{\"name\":\"newColumnPath\",\"type\":\"string\",\"nullable\":true,\"metadata\":{}},{\"name\":\"oldColumnPath\",\"type\":\"string\",\"nullable\":true,\"metadata\":{}}]},\"nullable\":true,\"metadata\":{}},{\"name\":\"readVersion\",\"type\":\"long\",\"nullable\":true,\"metadata\":{}},{\"name\":\"timestamp\",\"type\":\"long\",\"nullable\":true,\"metadata\":{}},{\"name\":\"txnId\",\"type\":\"string\",\"nullable\":true,\"metadata\":{}},{\"name\":\"userId\",\"type\":\"string\",\"nullable\":true,\"metadata\":{}},{\"name\":\"userName\",\"type\":\"string\",\"nullable\":true,\"metadata\":{}}]}"
        },
        {
         "metadata": "{}",
         "name": "metaData",
         "type": "{\"type\":\"struct\",\"fields\":[{\"name\":\"configuration\",\"type\":{\"type\":\"struct\",\"fields\":[{\"name\":\"delta.columnMapping.maxColumnId\",\"type\":\"string\",\"nullable\":true,\"metadata\":{}},{\"name\":\"delta.columnMapping.mode\",\"type\":\"string\",\"nullable\":true,\"metadata\":{}},{\"name\":\"delta.enableDeletionVectors\",\"type\":\"string\",\"nullable\":true,\"metadata\":{}}]},\"nullable\":true,\"metadata\":{}},{\"name\":\"createdTime\",\"type\":\"long\",\"nullable\":true,\"metadata\":{}},{\"name\":\"format\",\"type\":{\"type\":\"struct\",\"fields\":[{\"name\":\"provider\",\"type\":\"string\",\"nullable\":true,\"metadata\":{}}]},\"nullable\":true,\"metadata\":{}},{\"name\":\"id\",\"type\":\"string\",\"nullable\":true,\"metadata\":{}},{\"name\":\"partitionColumns\",\"type\":{\"type\":\"array\",\"elementType\":\"string\",\"containsNull\":true},\"nullable\":true,\"metadata\":{}},{\"name\":\"schemaString\",\"type\":\"string\",\"nullable\":true,\"metadata\":{}}]}"
        }
       ],
       "type": "table"
      }
     },
     "output_type": "display_data"
    }
   ],
   "source": [
    "df = spark.read.json(\"dbfs:/FileStore/tables/OpentableFormat/sinkdata/my_delta_table2/_delta_log/00000000000000000009.json\")\n",
    "display(df)"
   ]
  },
  {
   "cell_type": "code",
   "execution_count": 0,
   "metadata": {
    "application/vnd.databricks.v1+cell": {
     "cellMetadata": {
      "byteLimit": 2048000,
      "implicitDf": true,
      "rowLimit": 10000
     },
     "inputWidgets": {},
     "nuid": "f376e8b5-a8ce-458f-9a56-45b2e685960d",
     "showTitle": false,
     "tableResultSettingsMap": {},
     "title": ""
    }
   },
   "outputs": [
    {
     "output_type": "display_data",
     "data": {
      "text/html": [
       "<style scoped>\n",
       "  .table-result-container {\n",
       "    max-height: 300px;\n",
       "    overflow: auto;\n",
       "  }\n",
       "  table, th, td {\n",
       "    border: 1px solid black;\n",
       "    border-collapse: collapse;\n",
       "  }\n",
       "  th, td {\n",
       "    padding: 5px;\n",
       "  }\n",
       "  th {\n",
       "    text-align: left;\n",
       "  }\n",
       "</style><div class='table-result-container'><table class='table-result'><thead style='background-color: white'><tr><th>path</th><th>metrics</th></tr></thead><tbody><tr><td>dbfs:/FileStore/tables/OpentableFormat/sinkdata/my_delta_table2</td><td>List(0, 0, List(null, null, 0.0, 0, 0), List(null, null, 0.0, 0, 0), 0, List(minCubeSize(107374182400), List(0, 0), List(1, 1052), 0, List(0, 0), 0, null), 0, 1, 1, false, 0, 0, 1742979073400, 1742979075116, 8, 0, null, List(0, 0), 3, 3, 0)</td></tr></tbody></table></div>"
      ]
     },
     "metadata": {
      "application/vnd.databricks.v1+output": {
       "addedWidgets": {},
       "aggData": [],
       "aggError": "",
       "aggOverflow": false,
       "aggSchema": [],
       "aggSeriesLimitReached": false,
       "aggType": "",
       "arguments": {},
       "columnCustomDisplayInfos": {},
       "data": [
        [
         "dbfs:/FileStore/tables/OpentableFormat/sinkdata/my_delta_table2",
         [
          0,
          0,
          [
           null,
           null,
           0.0,
           0,
           0
          ],
          [
           null,
           null,
           0.0,
           0,
           0
          ],
          0,
          [
           "minCubeSize(107374182400)",
           [
            0,
            0
           ],
           [
            1,
            1052
           ],
           0,
           [
            0,
            0
           ],
           0,
           null
          ],
          0,
          1,
          1,
          false,
          0,
          0,
          1742979073400,
          1742979075116,
          8,
          0,
          null,
          [
           0,
           0
          ],
          3,
          3,
          0
         ]
        ]
       ],
       "datasetInfos": [],
       "dbfsResultPath": null,
       "isJsonSchema": true,
       "metadata": {},
       "overflow": false,
       "plotOptions": {
        "customPlotOptions": {},
        "displayType": "table",
        "pivotAggregation": null,
        "pivotColumns": null,
        "xColumns": null,
        "yColumns": null
       },
       "removedWidgets": [],
       "schema": [
        {
         "metadata": "{}",
         "name": "path",
         "type": "\"string\""
        },
        {
         "metadata": "{}",
         "name": "metrics",
         "type": "{\"type\":\"struct\",\"fields\":[{\"name\":\"numFilesAdded\",\"type\":\"long\",\"nullable\":false,\"metadata\":{}},{\"name\":\"numFilesRemoved\",\"type\":\"long\",\"nullable\":false,\"metadata\":{}},{\"name\":\"filesAdded\",\"type\":{\"type\":\"struct\",\"fields\":[{\"name\":\"min\",\"type\":\"long\",\"nullable\":true,\"metadata\":{}},{\"name\":\"max\",\"type\":\"long\",\"nullable\":true,\"metadata\":{}},{\"name\":\"avg\",\"type\":\"double\",\"nullable\":false,\"metadata\":{}},{\"name\":\"totalFiles\",\"type\":\"long\",\"nullable\":false,\"metadata\":{}},{\"name\":\"totalSize\",\"type\":\"long\",\"nullable\":false,\"metadata\":{}}]},\"nullable\":true,\"metadata\":{}},{\"name\":\"filesRemoved\",\"type\":{\"type\":\"struct\",\"fields\":[{\"name\":\"min\",\"type\":\"long\",\"nullable\":true,\"metadata\":{}},{\"name\":\"max\",\"type\":\"long\",\"nullable\":true,\"metadata\":{}},{\"name\":\"avg\",\"type\":\"double\",\"nullable\":false,\"metadata\":{}},{\"name\":\"totalFiles\",\"type\":\"long\",\"nullable\":false,\"metadata\":{}},{\"name\":\"totalSize\",\"type\":\"long\",\"nullable\":false,\"metadata\":{}}]},\"nullable\":true,\"metadata\":{}},{\"name\":\"partitionsOptimized\",\"type\":\"long\",\"nullable\":false,\"metadata\":{}},{\"name\":\"zOrderStats\",\"type\":{\"type\":\"struct\",\"fields\":[{\"name\":\"strategyName\",\"type\":\"string\",\"nullable\":true,\"metadata\":{}},{\"name\":\"inputCubeFiles\",\"type\":{\"type\":\"struct\",\"fields\":[{\"name\":\"num\",\"type\":\"long\",\"nullable\":false,\"metadata\":{}},{\"name\":\"size\",\"type\":\"long\",\"nullable\":false,\"metadata\":{}}]},\"nullable\":true,\"metadata\":{}},{\"name\":\"inputOtherFiles\",\"type\":{\"type\":\"struct\",\"fields\":[{\"name\":\"num\",\"type\":\"long\",\"nullable\":false,\"metadata\":{}},{\"name\":\"size\",\"type\":\"long\",\"nullable\":false,\"metadata\":{}}]},\"nullable\":true,\"metadata\":{}},{\"name\":\"inputNumCubes\",\"type\":\"long\",\"nullable\":false,\"metadata\":{}},{\"name\":\"mergedFiles\",\"type\":{\"type\":\"struct\",\"fields\":[{\"name\":\"num\",\"type\":\"long\",\"nullable\":false,\"metadata\":{}},{\"name\":\"size\",\"type\":\"long\",\"nullable\":false,\"metadata\":{}}]},\"nullable\":true,\"metadata\":{}},{\"name\":\"numOutputCubes\",\"type\":\"long\",\"nullable\":false,\"metadata\":{}},{\"name\":\"mergedNumCubes\",\"type\":\"long\",\"nullable\":true,\"metadata\":{}}]},\"nullable\":true,\"metadata\":{}},{\"name\":\"numBatches\",\"type\":\"long\",\"nullable\":false,\"metadata\":{}},{\"name\":\"totalConsideredFiles\",\"type\":\"long\",\"nullable\":false,\"metadata\":{}},{\"name\":\"totalFilesSkipped\",\"type\":\"long\",\"nullable\":false,\"metadata\":{}},{\"name\":\"preserveInsertionOrder\",\"type\":\"boolean\",\"nullable\":false,\"metadata\":{}},{\"name\":\"numFilesSkippedToReduceWriteAmplification\",\"type\":\"long\",\"nullable\":false,\"metadata\":{}},{\"name\":\"numBytesSkippedToReduceWriteAmplification\",\"type\":\"long\",\"nullable\":false,\"metadata\":{}},{\"name\":\"startTimeMs\",\"type\":\"long\",\"nullable\":false,\"metadata\":{}},{\"name\":\"endTimeMs\",\"type\":\"long\",\"nullable\":false,\"metadata\":{}},{\"name\":\"totalClusterParallelism\",\"type\":\"long\",\"nullable\":false,\"metadata\":{}},{\"name\":\"totalScheduledTasks\",\"type\":\"long\",\"nullable\":false,\"metadata\":{}},{\"name\":\"autoCompactParallelismStats\",\"type\":{\"type\":\"struct\",\"fields\":[{\"name\":\"maxClusterActiveParallelism\",\"type\":\"long\",\"nullable\":true,\"metadata\":{}},{\"name\":\"minClusterActiveParallelism\",\"type\":\"long\",\"nullable\":true,\"metadata\":{}},{\"name\":\"maxSessionActiveParallelism\",\"type\":\"long\",\"nullable\":true,\"metadata\":{}},{\"name\":\"minSessionActiveParallelism\",\"type\":\"long\",\"nullable\":true,\"metadata\":{}}]},\"nullable\":true,\"metadata\":{}},{\"name\":\"deletionVectorStats\",\"type\":{\"type\":\"struct\",\"fields\":[{\"name\":\"numDeletionVectorsRemoved\",\"type\":\"long\",\"nullable\":false,\"metadata\":{}},{\"name\":\"numDeletionVectorRowsRemoved\",\"type\":\"long\",\"nullable\":false,\"metadata\":{}}]},\"nullable\":true,\"metadata\":{}},{\"name\":\"numTableColumns\",\"type\":\"long\",\"nullable\":false,\"metadata\":{}},{\"name\":\"numTableColumnsWithStats\",\"type\":\"long\",\"nullable\":false,\"metadata\":{}},{\"name\":\"totalTaskExecutionTimeMs\",\"type\":\"long\",\"nullable\":false,\"metadata\":{}}]}"
        }
       ],
       "type": "table"
      }
     },
     "output_type": "display_data"
    }
   ],
   "source": [
    "%sql\n",
    "OPTIMIZE bronze.my_delta_table2 ZORDER BY (cust_id)"
   ]
  },
  {
   "cell_type": "code",
   "execution_count": 0,
   "metadata": {
    "application/vnd.databricks.v1+cell": {
     "cellMetadata": {
      "byteLimit": 2048000,
      "rowLimit": 10000
     },
     "inputWidgets": {},
     "nuid": "f0d0104b-acc1-458e-910c-f53f8babd687",
     "showTitle": false,
     "tableResultSettingsMap": {},
     "title": ""
    }
   },
   "outputs": [],
   "source": [
    "df = spark.read.table(\"bronze.my_delta_table2\")"
   ]
  },
  {
   "cell_type": "code",
   "execution_count": 0,
   "metadata": {
    "application/vnd.databricks.v1+cell": {
     "cellMetadata": {
      "byteLimit": 2048000,
      "rowLimit": 10000
     },
     "inputWidgets": {},
     "nuid": "93b2e46a-69db-49d8-9acf-99b24c340214",
     "showTitle": false,
     "tableResultSettingsMap": {},
     "title": ""
    }
   },
   "outputs": [
    {
     "output_type": "display_data",
     "data": {
      "text/html": [
       "<style scoped>\n",
       "  .table-result-container {\n",
       "    max-height: 300px;\n",
       "    overflow: auto;\n",
       "  }\n",
       "  table, th, td {\n",
       "    border: 1px solid black;\n",
       "    border-collapse: collapse;\n",
       "  }\n",
       "  th, td {\n",
       "    padding: 5px;\n",
       "  }\n",
       "  th {\n",
       "    text-align: left;\n",
       "  }\n",
       "</style><div class='table-result-container'><table class='table-result'><thead style='background-color: white'><tr><th>name</th><th>cust_id</th><th>salary</th></tr></thead><tbody><tr><td>AA</td><td>1</td><td>100.0</td></tr></tbody></table></div>"
      ]
     },
     "metadata": {
      "application/vnd.databricks.v1+output": {
       "addedWidgets": {},
       "aggData": [],
       "aggError": "",
       "aggOverflow": false,
       "aggSchema": [],
       "aggSeriesLimitReached": false,
       "aggType": "",
       "arguments": {},
       "columnCustomDisplayInfos": {},
       "data": [
        [
         "AA",
         1,
         100.0
        ]
       ],
       "datasetInfos": [],
       "dbfsResultPath": null,
       "isJsonSchema": true,
       "metadata": {},
       "overflow": false,
       "plotOptions": {
        "customPlotOptions": {},
        "displayType": "table",
        "pivotAggregation": null,
        "pivotColumns": null,
        "xColumns": null,
        "yColumns": null
       },
       "removedWidgets": [],
       "schema": [
        {
         "metadata": "{}",
         "name": "name",
         "type": "\"string\""
        },
        {
         "metadata": "{}",
         "name": "cust_id",
         "type": "\"integer\""
        },
        {
         "metadata": "{}",
         "name": "salary",
         "type": "\"double\""
        }
       ],
       "type": "table"
      }
     },
     "output_type": "display_data"
    }
   ],
   "source": [
    "display(df)"
   ]
  },
  {
   "cell_type": "code",
   "execution_count": 0,
   "metadata": {
    "application/vnd.databricks.v1+cell": {
     "cellMetadata": {
      "byteLimit": 2048000,
      "rowLimit": 10000
     },
     "inputWidgets": {},
     "nuid": "de89df08-dc77-49db-9fb8-28ddd8ca13e6",
     "showTitle": false,
     "tableResultSettingsMap": {},
     "title": ""
    }
   },
   "outputs": [],
   "source": [
    "df.write.format(\"delta\") \\\n",
    "    .mode(\"append\") \\\n",
    "    .option(\"path\", \"/FileStore/tables/OpentableFormat/sinkdata/my_delta_table2\") \\\n",
    "    .save()"
   ]
  },
  {
   "cell_type": "code",
   "execution_count": 0,
   "metadata": {
    "application/vnd.databricks.v1+cell": {
     "cellMetadata": {
      "byteLimit": 2048000,
      "rowLimit": 10000
     },
     "inputWidgets": {},
     "nuid": "86543af2-e5d1-4219-ad8d-33efc462bef7",
     "showTitle": false,
     "tableResultSettingsMap": {},
     "title": ""
    }
   },
   "outputs": [],
   "source": [
    "df.write.format(\"delta\") \\\n",
    "    .mode(\"append\") \\\n",
    "    .option(\"path\", \"/FileStore/tables/OpentableFormat/sinkdata/my_delta_table2\") \\\n",
    "    .option(\"optimizeWrite\", \"true\") \\\n",
    "    .save()"
   ]
  },
  {
   "cell_type": "code",
   "execution_count": 0,
   "metadata": {
    "application/vnd.databricks.v1+cell": {
     "cellMetadata": {
      "byteLimit": 2048000,
      "rowLimit": 10000
     },
     "inputWidgets": {},
     "nuid": "31425698-86e2-4139-9a6c-8797e2402988",
     "showTitle": false,
     "tableResultSettingsMap": {},
     "title": ""
    }
   },
   "outputs": [],
   "source": [
    "df.write.format(\"delta\") \\\n",
    "    .mode(\"append\") \\\n",
    "    .option(\"path\", \"/FileStore/tables/OpentableFormat/sinkdata/my_delta_table3\") \\\n",
    "    .save()"
   ]
  },
  {
   "cell_type": "code",
   "execution_count": 0,
   "metadata": {
    "application/vnd.databricks.v1+cell": {
     "cellMetadata": {
      "byteLimit": 2048000,
      "rowLimit": 10000
     },
     "inputWidgets": {},
     "nuid": "174db786-8160-43f1-a0b1-e3e5a39fb324",
     "showTitle": false,
     "tableResultSettingsMap": {},
     "title": ""
    }
   },
   "outputs": [
    {
     "output_type": "display_data",
     "data": {
      "text/html": [
       "<style scoped>\n",
       "  .table-result-container {\n",
       "    max-height: 300px;\n",
       "    overflow: auto;\n",
       "  }\n",
       "  table, th, td {\n",
       "    border: 1px solid black;\n",
       "    border-collapse: collapse;\n",
       "  }\n",
       "  th, td {\n",
       "    padding: 5px;\n",
       "  }\n",
       "  th {\n",
       "    text-align: left;\n",
       "  }\n",
       "</style><div class='table-result-container'><table class='table-result'><thead style='background-color: white'><tr><th>path</th><th>name</th><th>size</th><th>modificationTime</th></tr></thead><tbody><tr><td>dbfs:/FileStore/tables/OpentableFormat/sinkdata/my_delta_table3/_delta_log/</td><td>_delta_log/</td><td>0</td><td>0</td></tr><tr><td>dbfs:/FileStore/tables/OpentableFormat/sinkdata/my_delta_table3/part-00000-b6e792b9-21ba-4904-bc1c-15701722048e-c000.snappy.parquet</td><td>part-00000-b6e792b9-21ba-4904-bc1c-15701722048e-c000.snappy.parquet</td><td>1067</td><td>1742979816000</td></tr><tr><td>dbfs:/FileStore/tables/OpentableFormat/sinkdata/my_delta_table3/part-00001-2bf444fe-25ba-428a-994b-aae7ffee8f6c-c000.snappy.parquet</td><td>part-00001-2bf444fe-25ba-428a-994b-aae7ffee8f6c-c000.snappy.parquet</td><td>1067</td><td>1742979816000</td></tr><tr><td>dbfs:/FileStore/tables/OpentableFormat/sinkdata/my_delta_table3/part-00002-16a427a4-772d-46aa-9b0d-471bcf4af359-c000.snappy.parquet</td><td>part-00002-16a427a4-772d-46aa-9b0d-471bcf4af359-c000.snappy.parquet</td><td>1168</td><td>1742979816000</td></tr></tbody></table></div>"
      ]
     },
     "metadata": {
      "application/vnd.databricks.v1+output": {
       "addedWidgets": {},
       "aggData": [],
       "aggError": "",
       "aggOverflow": false,
       "aggSchema": [],
       "aggSeriesLimitReached": false,
       "aggType": "",
       "arguments": {},
       "columnCustomDisplayInfos": {},
       "data": [
        [
         "dbfs:/FileStore/tables/OpentableFormat/sinkdata/my_delta_table3/_delta_log/",
         "_delta_log/",
         0,
         0
        ],
        [
         "dbfs:/FileStore/tables/OpentableFormat/sinkdata/my_delta_table3/part-00000-b6e792b9-21ba-4904-bc1c-15701722048e-c000.snappy.parquet",
         "part-00000-b6e792b9-21ba-4904-bc1c-15701722048e-c000.snappy.parquet",
         1067,
         1742979816000
        ],
        [
         "dbfs:/FileStore/tables/OpentableFormat/sinkdata/my_delta_table3/part-00001-2bf444fe-25ba-428a-994b-aae7ffee8f6c-c000.snappy.parquet",
         "part-00001-2bf444fe-25ba-428a-994b-aae7ffee8f6c-c000.snappy.parquet",
         1067,
         1742979816000
        ],
        [
         "dbfs:/FileStore/tables/OpentableFormat/sinkdata/my_delta_table3/part-00002-16a427a4-772d-46aa-9b0d-471bcf4af359-c000.snappy.parquet",
         "part-00002-16a427a4-772d-46aa-9b0d-471bcf4af359-c000.snappy.parquet",
         1168,
         1742979816000
        ]
       ],
       "datasetInfos": [],
       "dbfsResultPath": null,
       "isJsonSchema": true,
       "metadata": {
        "isDbfsCommandResult": false
       },
       "overflow": false,
       "plotOptions": {
        "customPlotOptions": {},
        "displayType": "table",
        "pivotAggregation": null,
        "pivotColumns": null,
        "xColumns": null,
        "yColumns": null
       },
       "removedWidgets": [],
       "schema": [
        {
         "metadata": "{}",
         "name": "path",
         "type": "\"string\""
        },
        {
         "metadata": "{}",
         "name": "name",
         "type": "\"string\""
        },
        {
         "metadata": "{}",
         "name": "size",
         "type": "\"long\""
        },
        {
         "metadata": "{}",
         "name": "modificationTime",
         "type": "\"long\""
        }
       ],
       "type": "table"
      }
     },
     "output_type": "display_data"
    }
   ],
   "source": [
    "%fs\n",
    "ls /FileStore/tables/OpentableFormat/sinkdata/my_delta_table3"
   ]
  },
  {
   "cell_type": "code",
   "execution_count": 0,
   "metadata": {
    "application/vnd.databricks.v1+cell": {
     "cellMetadata": {
      "byteLimit": 2048000,
      "rowLimit": 10000
     },
     "inputWidgets": {},
     "nuid": "1b1f3ce4-bb58-4dc2-87f5-01c59db9c6c4",
     "showTitle": false,
     "tableResultSettingsMap": {},
     "title": ""
    }
   },
   "outputs": [],
   "source": [
    "df.write.format(\"delta\") \\\n",
    "    .mode(\"append\") \\\n",
    "    .option(\"path\", \"/FileStore/tables/OpentableFormat/sinkdata/my_delta_table4\") \\\n",
    "    .option(\"optimizeWrite\", \"true\") \\\n",
    "    .save()"
   ]
  },
  {
   "cell_type": "code",
   "execution_count": 0,
   "metadata": {
    "application/vnd.databricks.v1+cell": {
     "cellMetadata": {
      "byteLimit": 2048000,
      "rowLimit": 10000
     },
     "inputWidgets": {},
     "nuid": "02219534-96ff-49ed-aa40-ede34525538a",
     "showTitle": false,
     "tableResultSettingsMap": {},
     "title": ""
    }
   },
   "outputs": [
    {
     "output_type": "display_data",
     "data": {
      "text/html": [
       "<style scoped>\n",
       "  .table-result-container {\n",
       "    max-height: 300px;\n",
       "    overflow: auto;\n",
       "  }\n",
       "  table, th, td {\n",
       "    border: 1px solid black;\n",
       "    border-collapse: collapse;\n",
       "  }\n",
       "  th, td {\n",
       "    padding: 5px;\n",
       "  }\n",
       "  th {\n",
       "    text-align: left;\n",
       "  }\n",
       "</style><div class='table-result-container'><table class='table-result'><thead style='background-color: white'><tr><th>path</th><th>name</th><th>size</th><th>modificationTime</th></tr></thead><tbody><tr><td>dbfs:/FileStore/tables/OpentableFormat/sinkdata/my_delta_table4/_delta_log/</td><td>_delta_log/</td><td>0</td><td>0</td></tr><tr><td>dbfs:/FileStore/tables/OpentableFormat/sinkdata/my_delta_table4/part-00000-a4b5337a-b190-4b5e-9da2-0bc96be847b7-c000.snappy.parquet</td><td>part-00000-a4b5337a-b190-4b5e-9da2-0bc96be847b7-c000.snappy.parquet</td><td>1067</td><td>1742979856000</td></tr><tr><td>dbfs:/FileStore/tables/OpentableFormat/sinkdata/my_delta_table4/part-00000-a9c7d538-4e93-46fe-b670-00b701701ebd-c000.snappy.parquet</td><td>part-00000-a9c7d538-4e93-46fe-b670-00b701701ebd-c000.snappy.parquet</td><td>1168</td><td>1742979890000</td></tr><tr><td>dbfs:/FileStore/tables/OpentableFormat/sinkdata/my_delta_table4/part-00000-add95273-3a93-4694-822c-98c21bb49391-c000.snappy.parquet</td><td>part-00000-add95273-3a93-4694-822c-98c21bb49391-c000.snappy.parquet</td><td>1168</td><td>1742979862000</td></tr><tr><td>dbfs:/FileStore/tables/OpentableFormat/sinkdata/my_delta_table4/part-00001-69668399-2d4a-447b-a666-5a801e26347c-c000.snappy.parquet</td><td>part-00001-69668399-2d4a-447b-a666-5a801e26347c-c000.snappy.parquet</td><td>1067</td><td>1742979856000</td></tr><tr><td>dbfs:/FileStore/tables/OpentableFormat/sinkdata/my_delta_table4/part-00002-76519828-015b-4380-b607-200953883c1f-c000.snappy.parquet</td><td>part-00002-76519828-015b-4380-b607-200953883c1f-c000.snappy.parquet</td><td>1168</td><td>1742979856000</td></tr></tbody></table></div>"
      ]
     },
     "metadata": {
      "application/vnd.databricks.v1+output": {
       "addedWidgets": {},
       "aggData": [],
       "aggError": "",
       "aggOverflow": false,
       "aggSchema": [],
       "aggSeriesLimitReached": false,
       "aggType": "",
       "arguments": {},
       "columnCustomDisplayInfos": {},
       "data": [
        [
         "dbfs:/FileStore/tables/OpentableFormat/sinkdata/my_delta_table4/_delta_log/",
         "_delta_log/",
         0,
         0
        ],
        [
         "dbfs:/FileStore/tables/OpentableFormat/sinkdata/my_delta_table4/part-00000-a4b5337a-b190-4b5e-9da2-0bc96be847b7-c000.snappy.parquet",
         "part-00000-a4b5337a-b190-4b5e-9da2-0bc96be847b7-c000.snappy.parquet",
         1067,
         1742979856000
        ],
        [
         "dbfs:/FileStore/tables/OpentableFormat/sinkdata/my_delta_table4/part-00000-a9c7d538-4e93-46fe-b670-00b701701ebd-c000.snappy.parquet",
         "part-00000-a9c7d538-4e93-46fe-b670-00b701701ebd-c000.snappy.parquet",
         1168,
         1742979890000
        ],
        [
         "dbfs:/FileStore/tables/OpentableFormat/sinkdata/my_delta_table4/part-00000-add95273-3a93-4694-822c-98c21bb49391-c000.snappy.parquet",
         "part-00000-add95273-3a93-4694-822c-98c21bb49391-c000.snappy.parquet",
         1168,
         1742979862000
        ],
        [
         "dbfs:/FileStore/tables/OpentableFormat/sinkdata/my_delta_table4/part-00001-69668399-2d4a-447b-a666-5a801e26347c-c000.snappy.parquet",
         "part-00001-69668399-2d4a-447b-a666-5a801e26347c-c000.snappy.parquet",
         1067,
         1742979856000
        ],
        [
         "dbfs:/FileStore/tables/OpentableFormat/sinkdata/my_delta_table4/part-00002-76519828-015b-4380-b607-200953883c1f-c000.snappy.parquet",
         "part-00002-76519828-015b-4380-b607-200953883c1f-c000.snappy.parquet",
         1168,
         1742979856000
        ]
       ],
       "datasetInfos": [],
       "dbfsResultPath": null,
       "isJsonSchema": true,
       "metadata": {
        "isDbfsCommandResult": false
       },
       "overflow": false,
       "plotOptions": {
        "customPlotOptions": {},
        "displayType": "table",
        "pivotAggregation": null,
        "pivotColumns": null,
        "xColumns": null,
        "yColumns": null
       },
       "removedWidgets": [],
       "schema": [
        {
         "metadata": "{}",
         "name": "path",
         "type": "\"string\""
        },
        {
         "metadata": "{}",
         "name": "name",
         "type": "\"string\""
        },
        {
         "metadata": "{}",
         "name": "size",
         "type": "\"long\""
        },
        {
         "metadata": "{}",
         "name": "modificationTime",
         "type": "\"long\""
        }
       ],
       "type": "table"
      }
     },
     "output_type": "display_data"
    }
   ],
   "source": [
    "%fs\n",
    "ls /FileStore/tables/OpentableFormat/sinkdata/my_delta_table4"
   ]
  },
  {
   "cell_type": "code",
   "execution_count": 0,
   "metadata": {
    "application/vnd.databricks.v1+cell": {
     "cellMetadata": {
      "byteLimit": 2048000,
      "rowLimit": 10000
     },
     "inputWidgets": {},
     "nuid": "7fceb39f-4201-4be1-8b1c-cb1929f71c60",
     "showTitle": false,
     "tableResultSettingsMap": {},
     "title": ""
    }
   },
   "outputs": [],
   "source": [
    "df.write.format(\"delta\") \\\n",
    "    .mode(\"append\") \\\n",
    "    .option(\"path\", \"/FileStore/tables/OpentableFormat/sinkdata/my_delta_table5\") \\\n",
    "    .option(\"optimizeWrite\", True) \\\n",
    "    .save()"
   ]
  },
  {
   "cell_type": "code",
   "execution_count": 0,
   "metadata": {
    "application/vnd.databricks.v1+cell": {
     "cellMetadata": {
      "byteLimit": 2048000,
      "rowLimit": 10000
     },
     "inputWidgets": {},
     "nuid": "25bc3a09-2723-41a8-b20a-a28866804d8d",
     "showTitle": false,
     "tableResultSettingsMap": {},
     "title": ""
    }
   },
   "outputs": [
    {
     "output_type": "display_data",
     "data": {
      "text/html": [
       "<style scoped>\n",
       "  .table-result-container {\n",
       "    max-height: 300px;\n",
       "    overflow: auto;\n",
       "  }\n",
       "  table, th, td {\n",
       "    border: 1px solid black;\n",
       "    border-collapse: collapse;\n",
       "  }\n",
       "  th, td {\n",
       "    padding: 5px;\n",
       "  }\n",
       "  th {\n",
       "    text-align: left;\n",
       "  }\n",
       "</style><div class='table-result-container'><table class='table-result'><thead style='background-color: white'><tr><th>path</th><th>name</th><th>size</th><th>modificationTime</th></tr></thead><tbody><tr><td>dbfs:/FileStore/tables/OpentableFormat/sinkdata/my_delta_table5/_delta_log/</td><td>_delta_log/</td><td>0</td><td>0</td></tr><tr><td>dbfs:/FileStore/tables/OpentableFormat/sinkdata/my_delta_table5/part-00000-da507f77-ef86-4b06-b1e1-1384ad98459e-c000.snappy.parquet</td><td>part-00000-da507f77-ef86-4b06-b1e1-1384ad98459e-c000.snappy.parquet</td><td>1168</td><td>1742979987000</td></tr></tbody></table></div>"
      ]
     },
     "metadata": {
      "application/vnd.databricks.v1+output": {
       "addedWidgets": {},
       "aggData": [],
       "aggError": "",
       "aggOverflow": false,
       "aggSchema": [],
       "aggSeriesLimitReached": false,
       "aggType": "",
       "arguments": {},
       "columnCustomDisplayInfos": {},
       "data": [
        [
         "dbfs:/FileStore/tables/OpentableFormat/sinkdata/my_delta_table5/_delta_log/",
         "_delta_log/",
         0,
         0
        ],
        [
         "dbfs:/FileStore/tables/OpentableFormat/sinkdata/my_delta_table5/part-00000-da507f77-ef86-4b06-b1e1-1384ad98459e-c000.snappy.parquet",
         "part-00000-da507f77-ef86-4b06-b1e1-1384ad98459e-c000.snappy.parquet",
         1168,
         1742979987000
        ]
       ],
       "datasetInfos": [],
       "dbfsResultPath": null,
       "isJsonSchema": true,
       "metadata": {
        "isDbfsCommandResult": false
       },
       "overflow": false,
       "plotOptions": {
        "customPlotOptions": {},
        "displayType": "table",
        "pivotAggregation": null,
        "pivotColumns": null,
        "xColumns": null,
        "yColumns": null
       },
       "removedWidgets": [],
       "schema": [
        {
         "metadata": "{}",
         "name": "path",
         "type": "\"string\""
        },
        {
         "metadata": "{}",
         "name": "name",
         "type": "\"string\""
        },
        {
         "metadata": "{}",
         "name": "size",
         "type": "\"long\""
        },
        {
         "metadata": "{}",
         "name": "modificationTime",
         "type": "\"long\""
        }
       ],
       "type": "table"
      }
     },
     "output_type": "display_data"
    }
   ],
   "source": [
    "%fs\n",
    "ls /FileStore/tables/OpentableFormat/sinkdata/my_delta_table5"
   ]
  },
  {
   "cell_type": "code",
   "execution_count": 0,
   "metadata": {
    "application/vnd.databricks.v1+cell": {
     "cellMetadata": {},
     "inputWidgets": {},
     "nuid": "acdb8527-0a58-478c-b383-4fda636519ac",
     "showTitle": false,
     "tableResultSettingsMap": {},
     "title": ""
    }
   },
   "outputs": [],
   "source": []
  },
  {
   "cell_type": "code",
   "execution_count": 0,
   "metadata": {
    "application/vnd.databricks.v1+cell": {
     "cellMetadata": {
      "byteLimit": 2048000,
      "rowLimit": 10000
     },
     "inputWidgets": {},
     "nuid": "496a7008-2ec3-4b7e-85eb-831b3c7d6d52",
     "showTitle": false,
     "tableResultSettingsMap": {},
     "title": ""
    }
   },
   "outputs": [],
   "source": [
    "data = [(\"aa\", \"IT\", \"ABC\"), (\"bb\", \"HR\", \"XYZ\")]\n",
    "myschema = \"name STRING, dept STRING, company STRING\"\n",
    "df_new = spark.createDataFrame(data, myschema)"
   ]
  },
  {
   "cell_type": "code",
   "execution_count": 0,
   "metadata": {
    "application/vnd.databricks.v1+cell": {
     "cellMetadata": {
      "byteLimit": 2048000,
      "rowLimit": 10000
     },
     "inputWidgets": {},
     "nuid": "e38d46e3-3691-4036-81a4-e092d4894bf1",
     "showTitle": false,
     "tableResultSettingsMap": {},
     "title": ""
    }
   },
   "outputs": [
    {
     "output_type": "display_data",
     "data": {
      "text/html": [
       "<style scoped>\n",
       "  .table-result-container {\n",
       "    max-height: 300px;\n",
       "    overflow: auto;\n",
       "  }\n",
       "  table, th, td {\n",
       "    border: 1px solid black;\n",
       "    border-collapse: collapse;\n",
       "  }\n",
       "  th, td {\n",
       "    padding: 5px;\n",
       "  }\n",
       "  th {\n",
       "    text-align: left;\n",
       "  }\n",
       "</style><div class='table-result-container'><table class='table-result'><thead style='background-color: white'><tr><th>name</th><th>dept</th><th>company</th></tr></thead><tbody><tr><td>aa</td><td>IT</td><td>ABC</td></tr><tr><td>bb</td><td>HR</td><td>XYZ</td></tr></tbody></table></div>"
      ]
     },
     "metadata": {
      "application/vnd.databricks.v1+output": {
       "addedWidgets": {},
       "aggData": [],
       "aggError": "",
       "aggOverflow": false,
       "aggSchema": [],
       "aggSeriesLimitReached": false,
       "aggType": "",
       "arguments": {},
       "columnCustomDisplayInfos": {},
       "data": [
        [
         "aa",
         "IT",
         "ABC"
        ],
        [
         "bb",
         "HR",
         "XYZ"
        ]
       ],
       "datasetInfos": [],
       "dbfsResultPath": null,
       "isJsonSchema": true,
       "metadata": {},
       "overflow": false,
       "plotOptions": {
        "customPlotOptions": {},
        "displayType": "table",
        "pivotAggregation": null,
        "pivotColumns": null,
        "xColumns": null,
        "yColumns": null
       },
       "removedWidgets": [],
       "schema": [
        {
         "metadata": "{}",
         "name": "name",
         "type": "\"string\""
        },
        {
         "metadata": "{}",
         "name": "dept",
         "type": "\"string\""
        },
        {
         "metadata": "{}",
         "name": "company",
         "type": "\"string\""
        }
       ],
       "type": "table"
      }
     },
     "output_type": "display_data"
    }
   ],
   "source": [
    "display(df_new)"
   ]
  },
  {
   "cell_type": "code",
   "execution_count": 0,
   "metadata": {
    "application/vnd.databricks.v1+cell": {
     "cellMetadata": {
      "byteLimit": 2048000,
      "rowLimit": 10000
     },
     "inputWidgets": {},
     "nuid": "75715c07-2de2-4530-9a01-2cc0b8e84cc5",
     "showTitle": false,
     "tableResultSettingsMap": {},
     "title": ""
    }
   },
   "outputs": [
    {
     "output_type": "display_data",
     "data": {
      "text/plain": [
       "\u001B[0;31m---------------------------------------------------------------------------\u001B[0m\n",
       "\u001B[0;31mAnalysisException\u001B[0m                         Traceback (most recent call last)\n",
       "File \u001B[0;32m<command-1262503834636857>:1\u001B[0m\n",
       "\u001B[0;32m----> 1\u001B[0m \u001B[43mdf_new\u001B[49m\u001B[38;5;241;43m.\u001B[39;49m\u001B[43mwrite\u001B[49m\u001B[38;5;241;43m.\u001B[39;49m\u001B[43mformat\u001B[49m\u001B[43m(\u001B[49m\u001B[38;5;124;43m\"\u001B[39;49m\u001B[38;5;124;43mdelta\u001B[39;49m\u001B[38;5;124;43m\"\u001B[39;49m\u001B[43m)\u001B[49m\u001B[43m \u001B[49m\u001B[43m\\\u001B[49m\n",
       "\u001B[1;32m      2\u001B[0m \u001B[43m    \u001B[49m\u001B[38;5;241;43m.\u001B[39;49m\u001B[43mmode\u001B[49m\u001B[43m(\u001B[49m\u001B[38;5;124;43m\"\u001B[39;49m\u001B[38;5;124;43moverwrite\u001B[39;49m\u001B[38;5;124;43m\"\u001B[39;49m\u001B[43m)\u001B[49m\u001B[43m \u001B[49m\u001B[43m\\\u001B[49m\n",
       "\u001B[1;32m      3\u001B[0m \u001B[43m    \u001B[49m\u001B[38;5;241;43m.\u001B[39;49m\u001B[43moption\u001B[49m\u001B[43m(\u001B[49m\u001B[38;5;124;43m\"\u001B[39;49m\u001B[38;5;124;43mpath\u001B[39;49m\u001B[38;5;124;43m\"\u001B[39;49m\u001B[43m,\u001B[49m\u001B[43m \u001B[49m\u001B[38;5;124;43m\"\u001B[39;49m\u001B[38;5;124;43m/FileStore/tables/OpentableFormat/sinkdata/my_delta_table5\u001B[39;49m\u001B[38;5;124;43m\"\u001B[39;49m\u001B[43m)\u001B[49m\u001B[43m \u001B[49m\u001B[43m\\\u001B[49m\n",
       "\u001B[1;32m      4\u001B[0m \u001B[43m    \u001B[49m\u001B[38;5;241;43m.\u001B[39;49m\u001B[43moption\u001B[49m\u001B[43m(\u001B[49m\u001B[38;5;124;43m\"\u001B[39;49m\u001B[38;5;124;43moptimizeWrite\u001B[39;49m\u001B[38;5;124;43m\"\u001B[39;49m\u001B[43m,\u001B[49m\u001B[43m \u001B[49m\u001B[38;5;28;43;01mTrue\u001B[39;49;00m\u001B[43m)\u001B[49m\u001B[43m \u001B[49m\u001B[43m\\\u001B[49m\n",
       "\u001B[1;32m      5\u001B[0m \u001B[43m    \u001B[49m\u001B[38;5;241;43m.\u001B[39;49m\u001B[43msave\u001B[49m\u001B[43m(\u001B[49m\u001B[43m)\u001B[49m\n",
       "\n",
       "File \u001B[0;32m/databricks/spark/python/pyspark/instrumentation_utils.py:48\u001B[0m, in \u001B[0;36m_wrap_function.<locals>.wrapper\u001B[0;34m(*args, **kwargs)\u001B[0m\n",
       "\u001B[1;32m     46\u001B[0m start \u001B[38;5;241m=\u001B[39m time\u001B[38;5;241m.\u001B[39mperf_counter()\n",
       "\u001B[1;32m     47\u001B[0m \u001B[38;5;28;01mtry\u001B[39;00m:\n",
       "\u001B[0;32m---> 48\u001B[0m     res \u001B[38;5;241m=\u001B[39m \u001B[43mfunc\u001B[49m\u001B[43m(\u001B[49m\u001B[38;5;241;43m*\u001B[39;49m\u001B[43margs\u001B[49m\u001B[43m,\u001B[49m\u001B[43m \u001B[49m\u001B[38;5;241;43m*\u001B[39;49m\u001B[38;5;241;43m*\u001B[39;49m\u001B[43mkwargs\u001B[49m\u001B[43m)\u001B[49m\n",
       "\u001B[1;32m     49\u001B[0m     logger\u001B[38;5;241m.\u001B[39mlog_success(\n",
       "\u001B[1;32m     50\u001B[0m         module_name, class_name, function_name, time\u001B[38;5;241m.\u001B[39mperf_counter() \u001B[38;5;241m-\u001B[39m start, signature\n",
       "\u001B[1;32m     51\u001B[0m     )\n",
       "\u001B[1;32m     52\u001B[0m     \u001B[38;5;28;01mreturn\u001B[39;00m res\n",
       "\n",
       "File \u001B[0;32m/databricks/spark/python/pyspark/sql/readwriter.py:1395\u001B[0m, in \u001B[0;36mDataFrameWriter.save\u001B[0;34m(self, path, format, mode, partitionBy, **options)\u001B[0m\n",
       "\u001B[1;32m   1393\u001B[0m     \u001B[38;5;28mself\u001B[39m\u001B[38;5;241m.\u001B[39mformat(\u001B[38;5;28mformat\u001B[39m)\n",
       "\u001B[1;32m   1394\u001B[0m \u001B[38;5;28;01mif\u001B[39;00m path \u001B[38;5;129;01mis\u001B[39;00m \u001B[38;5;28;01mNone\u001B[39;00m:\n",
       "\u001B[0;32m-> 1395\u001B[0m     \u001B[38;5;28;43mself\u001B[39;49m\u001B[38;5;241;43m.\u001B[39;49m\u001B[43m_jwrite\u001B[49m\u001B[38;5;241;43m.\u001B[39;49m\u001B[43msave\u001B[49m\u001B[43m(\u001B[49m\u001B[43m)\u001B[49m\n",
       "\u001B[1;32m   1396\u001B[0m \u001B[38;5;28;01melse\u001B[39;00m:\n",
       "\u001B[1;32m   1397\u001B[0m     \u001B[38;5;28mself\u001B[39m\u001B[38;5;241m.\u001B[39m_jwrite\u001B[38;5;241m.\u001B[39msave(path)\n",
       "\n",
       "File \u001B[0;32m/databricks/spark/python/lib/py4j-0.10.9.5-src.zip/py4j/java_gateway.py:1321\u001B[0m, in \u001B[0;36mJavaMember.__call__\u001B[0;34m(self, *args)\u001B[0m\n",
       "\u001B[1;32m   1315\u001B[0m command \u001B[38;5;241m=\u001B[39m proto\u001B[38;5;241m.\u001B[39mCALL_COMMAND_NAME \u001B[38;5;241m+\u001B[39m\\\n",
       "\u001B[1;32m   1316\u001B[0m     \u001B[38;5;28mself\u001B[39m\u001B[38;5;241m.\u001B[39mcommand_header \u001B[38;5;241m+\u001B[39m\\\n",
       "\u001B[1;32m   1317\u001B[0m     args_command \u001B[38;5;241m+\u001B[39m\\\n",
       "\u001B[1;32m   1318\u001B[0m     proto\u001B[38;5;241m.\u001B[39mEND_COMMAND_PART\n",
       "\u001B[1;32m   1320\u001B[0m answer \u001B[38;5;241m=\u001B[39m \u001B[38;5;28mself\u001B[39m\u001B[38;5;241m.\u001B[39mgateway_client\u001B[38;5;241m.\u001B[39msend_command(command)\n",
       "\u001B[0;32m-> 1321\u001B[0m return_value \u001B[38;5;241m=\u001B[39m \u001B[43mget_return_value\u001B[49m\u001B[43m(\u001B[49m\n",
       "\u001B[1;32m   1322\u001B[0m \u001B[43m    \u001B[49m\u001B[43manswer\u001B[49m\u001B[43m,\u001B[49m\u001B[43m \u001B[49m\u001B[38;5;28;43mself\u001B[39;49m\u001B[38;5;241;43m.\u001B[39;49m\u001B[43mgateway_client\u001B[49m\u001B[43m,\u001B[49m\u001B[43m \u001B[49m\u001B[38;5;28;43mself\u001B[39;49m\u001B[38;5;241;43m.\u001B[39;49m\u001B[43mtarget_id\u001B[49m\u001B[43m,\u001B[49m\u001B[43m \u001B[49m\u001B[38;5;28;43mself\u001B[39;49m\u001B[38;5;241;43m.\u001B[39;49m\u001B[43mname\u001B[49m\u001B[43m)\u001B[49m\n",
       "\u001B[1;32m   1324\u001B[0m \u001B[38;5;28;01mfor\u001B[39;00m temp_arg \u001B[38;5;129;01min\u001B[39;00m temp_args:\n",
       "\u001B[1;32m   1325\u001B[0m     temp_arg\u001B[38;5;241m.\u001B[39m_detach()\n",
       "\n",
       "File \u001B[0;32m/databricks/spark/python/pyspark/errors/exceptions.py:234\u001B[0m, in \u001B[0;36mcapture_sql_exception.<locals>.deco\u001B[0;34m(*a, **kw)\u001B[0m\n",
       "\u001B[1;32m    230\u001B[0m converted \u001B[38;5;241m=\u001B[39m convert_exception(e\u001B[38;5;241m.\u001B[39mjava_exception)\n",
       "\u001B[1;32m    231\u001B[0m \u001B[38;5;28;01mif\u001B[39;00m \u001B[38;5;129;01mnot\u001B[39;00m \u001B[38;5;28misinstance\u001B[39m(converted, UnknownException):\n",
       "\u001B[1;32m    232\u001B[0m     \u001B[38;5;66;03m# Hide where the exception came from that shows a non-Pythonic\u001B[39;00m\n",
       "\u001B[1;32m    233\u001B[0m     \u001B[38;5;66;03m# JVM exception message.\u001B[39;00m\n",
       "\u001B[0;32m--> 234\u001B[0m     \u001B[38;5;28;01mraise\u001B[39;00m converted \u001B[38;5;28;01mfrom\u001B[39;00m \u001B[38;5;28mNone\u001B[39m\n",
       "\u001B[1;32m    235\u001B[0m \u001B[38;5;28;01melse\u001B[39;00m:\n",
       "\u001B[1;32m    236\u001B[0m     \u001B[38;5;28;01mraise\u001B[39;00m\n",
       "\n",
       "\u001B[0;31mAnalysisException\u001B[0m: A schema mismatch detected when writing to the Delta table (Table ID: 43d80d13-8d75-4fa0-96a3-799c3a457ab4).\n",
       "To enable schema migration using DataFrameWriter or DataStreamWriter, please set:\n",
       "'.option(\"mergeSchema\", \"true\")'.\n",
       "For other operations, set the session configuration\n",
       "spark.databricks.delta.schema.autoMerge.enabled to \"true\". See the documentation\n",
       "specific to the operation for details.\n",
       "\n",
       "Table schema:\n",
       "root\n",
       "-- name: string (nullable = true)\n",
       "-- cust_id: integer (nullable = true)\n",
       "-- salary: double (nullable = true)\n",
       "\n",
       "\n",
       "Data schema:\n",
       "root\n",
       "-- name: string (nullable = true)\n",
       "-- dept: string (nullable = true)\n",
       "-- company: string (nullable = true)\n",
       "\n",
       "         \n",
       "To overwrite your schema or change partitioning, please set:\n",
       "'.option(\"overwriteSchema\", \"true\")'.\n",
       "\n",
       "Note that the schema can't be overwritten when using\n",
       "'replaceWhere'.\n",
       "         "
      ]
     },
     "metadata": {
      "application/vnd.databricks.v1+output": {
       "arguments": {},
       "data": "\u001B[0;31m---------------------------------------------------------------------------\u001B[0m\n\u001B[0;31mAnalysisException\u001B[0m                         Traceback (most recent call last)\nFile \u001B[0;32m<command-1262503834636857>:1\u001B[0m\n\u001B[0;32m----> 1\u001B[0m \u001B[43mdf_new\u001B[49m\u001B[38;5;241;43m.\u001B[39;49m\u001B[43mwrite\u001B[49m\u001B[38;5;241;43m.\u001B[39;49m\u001B[43mformat\u001B[49m\u001B[43m(\u001B[49m\u001B[38;5;124;43m\"\u001B[39;49m\u001B[38;5;124;43mdelta\u001B[39;49m\u001B[38;5;124;43m\"\u001B[39;49m\u001B[43m)\u001B[49m\u001B[43m \u001B[49m\u001B[43m\\\u001B[49m\n\u001B[1;32m      2\u001B[0m \u001B[43m    \u001B[49m\u001B[38;5;241;43m.\u001B[39;49m\u001B[43mmode\u001B[49m\u001B[43m(\u001B[49m\u001B[38;5;124;43m\"\u001B[39;49m\u001B[38;5;124;43moverwrite\u001B[39;49m\u001B[38;5;124;43m\"\u001B[39;49m\u001B[43m)\u001B[49m\u001B[43m \u001B[49m\u001B[43m\\\u001B[49m\n\u001B[1;32m      3\u001B[0m \u001B[43m    \u001B[49m\u001B[38;5;241;43m.\u001B[39;49m\u001B[43moption\u001B[49m\u001B[43m(\u001B[49m\u001B[38;5;124;43m\"\u001B[39;49m\u001B[38;5;124;43mpath\u001B[39;49m\u001B[38;5;124;43m\"\u001B[39;49m\u001B[43m,\u001B[49m\u001B[43m \u001B[49m\u001B[38;5;124;43m\"\u001B[39;49m\u001B[38;5;124;43m/FileStore/tables/OpentableFormat/sinkdata/my_delta_table5\u001B[39;49m\u001B[38;5;124;43m\"\u001B[39;49m\u001B[43m)\u001B[49m\u001B[43m \u001B[49m\u001B[43m\\\u001B[49m\n\u001B[1;32m      4\u001B[0m \u001B[43m    \u001B[49m\u001B[38;5;241;43m.\u001B[39;49m\u001B[43moption\u001B[49m\u001B[43m(\u001B[49m\u001B[38;5;124;43m\"\u001B[39;49m\u001B[38;5;124;43moptimizeWrite\u001B[39;49m\u001B[38;5;124;43m\"\u001B[39;49m\u001B[43m,\u001B[49m\u001B[43m \u001B[49m\u001B[38;5;28;43;01mTrue\u001B[39;49;00m\u001B[43m)\u001B[49m\u001B[43m \u001B[49m\u001B[43m\\\u001B[49m\n\u001B[1;32m      5\u001B[0m \u001B[43m    \u001B[49m\u001B[38;5;241;43m.\u001B[39;49m\u001B[43msave\u001B[49m\u001B[43m(\u001B[49m\u001B[43m)\u001B[49m\n\nFile \u001B[0;32m/databricks/spark/python/pyspark/instrumentation_utils.py:48\u001B[0m, in \u001B[0;36m_wrap_function.<locals>.wrapper\u001B[0;34m(*args, **kwargs)\u001B[0m\n\u001B[1;32m     46\u001B[0m start \u001B[38;5;241m=\u001B[39m time\u001B[38;5;241m.\u001B[39mperf_counter()\n\u001B[1;32m     47\u001B[0m \u001B[38;5;28;01mtry\u001B[39;00m:\n\u001B[0;32m---> 48\u001B[0m     res \u001B[38;5;241m=\u001B[39m \u001B[43mfunc\u001B[49m\u001B[43m(\u001B[49m\u001B[38;5;241;43m*\u001B[39;49m\u001B[43margs\u001B[49m\u001B[43m,\u001B[49m\u001B[43m \u001B[49m\u001B[38;5;241;43m*\u001B[39;49m\u001B[38;5;241;43m*\u001B[39;49m\u001B[43mkwargs\u001B[49m\u001B[43m)\u001B[49m\n\u001B[1;32m     49\u001B[0m     logger\u001B[38;5;241m.\u001B[39mlog_success(\n\u001B[1;32m     50\u001B[0m         module_name, class_name, function_name, time\u001B[38;5;241m.\u001B[39mperf_counter() \u001B[38;5;241m-\u001B[39m start, signature\n\u001B[1;32m     51\u001B[0m     )\n\u001B[1;32m     52\u001B[0m     \u001B[38;5;28;01mreturn\u001B[39;00m res\n\nFile \u001B[0;32m/databricks/spark/python/pyspark/sql/readwriter.py:1395\u001B[0m, in \u001B[0;36mDataFrameWriter.save\u001B[0;34m(self, path, format, mode, partitionBy, **options)\u001B[0m\n\u001B[1;32m   1393\u001B[0m     \u001B[38;5;28mself\u001B[39m\u001B[38;5;241m.\u001B[39mformat(\u001B[38;5;28mformat\u001B[39m)\n\u001B[1;32m   1394\u001B[0m \u001B[38;5;28;01mif\u001B[39;00m path \u001B[38;5;129;01mis\u001B[39;00m \u001B[38;5;28;01mNone\u001B[39;00m:\n\u001B[0;32m-> 1395\u001B[0m     \u001B[38;5;28;43mself\u001B[39;49m\u001B[38;5;241;43m.\u001B[39;49m\u001B[43m_jwrite\u001B[49m\u001B[38;5;241;43m.\u001B[39;49m\u001B[43msave\u001B[49m\u001B[43m(\u001B[49m\u001B[43m)\u001B[49m\n\u001B[1;32m   1396\u001B[0m \u001B[38;5;28;01melse\u001B[39;00m:\n\u001B[1;32m   1397\u001B[0m     \u001B[38;5;28mself\u001B[39m\u001B[38;5;241m.\u001B[39m_jwrite\u001B[38;5;241m.\u001B[39msave(path)\n\nFile \u001B[0;32m/databricks/spark/python/lib/py4j-0.10.9.5-src.zip/py4j/java_gateway.py:1321\u001B[0m, in \u001B[0;36mJavaMember.__call__\u001B[0;34m(self, *args)\u001B[0m\n\u001B[1;32m   1315\u001B[0m command \u001B[38;5;241m=\u001B[39m proto\u001B[38;5;241m.\u001B[39mCALL_COMMAND_NAME \u001B[38;5;241m+\u001B[39m\\\n\u001B[1;32m   1316\u001B[0m     \u001B[38;5;28mself\u001B[39m\u001B[38;5;241m.\u001B[39mcommand_header \u001B[38;5;241m+\u001B[39m\\\n\u001B[1;32m   1317\u001B[0m     args_command \u001B[38;5;241m+\u001B[39m\\\n\u001B[1;32m   1318\u001B[0m     proto\u001B[38;5;241m.\u001B[39mEND_COMMAND_PART\n\u001B[1;32m   1320\u001B[0m answer \u001B[38;5;241m=\u001B[39m \u001B[38;5;28mself\u001B[39m\u001B[38;5;241m.\u001B[39mgateway_client\u001B[38;5;241m.\u001B[39msend_command(command)\n\u001B[0;32m-> 1321\u001B[0m return_value \u001B[38;5;241m=\u001B[39m \u001B[43mget_return_value\u001B[49m\u001B[43m(\u001B[49m\n\u001B[1;32m   1322\u001B[0m \u001B[43m    \u001B[49m\u001B[43manswer\u001B[49m\u001B[43m,\u001B[49m\u001B[43m \u001B[49m\u001B[38;5;28;43mself\u001B[39;49m\u001B[38;5;241;43m.\u001B[39;49m\u001B[43mgateway_client\u001B[49m\u001B[43m,\u001B[49m\u001B[43m \u001B[49m\u001B[38;5;28;43mself\u001B[39;49m\u001B[38;5;241;43m.\u001B[39;49m\u001B[43mtarget_id\u001B[49m\u001B[43m,\u001B[49m\u001B[43m \u001B[49m\u001B[38;5;28;43mself\u001B[39;49m\u001B[38;5;241;43m.\u001B[39;49m\u001B[43mname\u001B[49m\u001B[43m)\u001B[49m\n\u001B[1;32m   1324\u001B[0m \u001B[38;5;28;01mfor\u001B[39;00m temp_arg \u001B[38;5;129;01min\u001B[39;00m temp_args:\n\u001B[1;32m   1325\u001B[0m     temp_arg\u001B[38;5;241m.\u001B[39m_detach()\n\nFile \u001B[0;32m/databricks/spark/python/pyspark/errors/exceptions.py:234\u001B[0m, in \u001B[0;36mcapture_sql_exception.<locals>.deco\u001B[0;34m(*a, **kw)\u001B[0m\n\u001B[1;32m    230\u001B[0m converted \u001B[38;5;241m=\u001B[39m convert_exception(e\u001B[38;5;241m.\u001B[39mjava_exception)\n\u001B[1;32m    231\u001B[0m \u001B[38;5;28;01mif\u001B[39;00m \u001B[38;5;129;01mnot\u001B[39;00m \u001B[38;5;28misinstance\u001B[39m(converted, UnknownException):\n\u001B[1;32m    232\u001B[0m     \u001B[38;5;66;03m# Hide where the exception came from that shows a non-Pythonic\u001B[39;00m\n\u001B[1;32m    233\u001B[0m     \u001B[38;5;66;03m# JVM exception message.\u001B[39;00m\n\u001B[0;32m--> 234\u001B[0m     \u001B[38;5;28;01mraise\u001B[39;00m converted \u001B[38;5;28;01mfrom\u001B[39;00m \u001B[38;5;28mNone\u001B[39m\n\u001B[1;32m    235\u001B[0m \u001B[38;5;28;01melse\u001B[39;00m:\n\u001B[1;32m    236\u001B[0m     \u001B[38;5;28;01mraise\u001B[39;00m\n\n\u001B[0;31mAnalysisException\u001B[0m: A schema mismatch detected when writing to the Delta table (Table ID: 43d80d13-8d75-4fa0-96a3-799c3a457ab4).\nTo enable schema migration using DataFrameWriter or DataStreamWriter, please set:\n'.option(\"mergeSchema\", \"true\")'.\nFor other operations, set the session configuration\nspark.databricks.delta.schema.autoMerge.enabled to \"true\". See the documentation\nspecific to the operation for details.\n\nTable schema:\nroot\n-- name: string (nullable = true)\n-- cust_id: integer (nullable = true)\n-- salary: double (nullable = true)\n\n\nData schema:\nroot\n-- name: string (nullable = true)\n-- dept: string (nullable = true)\n-- company: string (nullable = true)\n\n         \nTo overwrite your schema or change partitioning, please set:\n'.option(\"overwriteSchema\", \"true\")'.\n\nNote that the schema can't be overwritten when using\n'replaceWhere'.\n         ",
       "errorSummary": "<span class='ansi-red-fg'>AnalysisException</span>: A schema mismatch detected when writing to the Delta table (Table ID: 43d80d13-8d75-4fa0-96a3-799c3a457ab4).\nTo enable schema migration using DataFrameWriter or DataStreamWriter, please set:\n'.option(\"mergeSchema\", \"true\")'.\nFor other operations, set the session configuration\nspark.databricks.delta.schema.autoMerge.enabled to \"true\". See the documentation\nspecific to the operation for details.\n\nTable schema:\nroot\n-- name: string (nullable = true)\n-- cust_id: integer (nullable = true)\n-- salary: double (nullable = true)\n\n\nData schema:\nroot\n-- name: string (nullable = true)\n-- dept: string (nullable = true)\n-- company: string (nullable = true)\n\n         \nTo overwrite your schema or change partitioning, please set:\n'.option(\"overwriteSchema\", \"true\")'.\n\nNote that the schema can't be overwritten when using\n'replaceWhere'.\n         ",
       "errorTraceType": "ansi",
       "metadata": {},
       "type": "ipynbError"
      }
     },
     "output_type": "display_data"
    }
   ],
   "source": [
    "df_new.write.format(\"delta\") \\\n",
    "    .mode(\"overwrite\") \\\n",
    "    .option(\"path\", \"/FileStore/tables/OpentableFormat/sinkdata/my_delta_table5\") \\\n",
    "    .option(\"optimizeWrite\", True) \\\n",
    "    .save()"
   ]
  },
  {
   "cell_type": "code",
   "execution_count": 0,
   "metadata": {
    "application/vnd.databricks.v1+cell": {
     "cellMetadata": {
      "byteLimit": 2048000,
      "rowLimit": 10000
     },
     "inputWidgets": {},
     "nuid": "04a41960-5e2c-4e8d-bff0-05d76a9c19ac",
     "showTitle": false,
     "tableResultSettingsMap": {},
     "title": ""
    }
   },
   "outputs": [],
   "source": [
    "df_new.write.format(\"delta\") \\\n",
    "    .mode(\"overwrite\") \\\n",
    "    .option(\"path\", \"/FileStore/tables/OpentableFormat/sinkdata/my_delta_table5\") \\\n",
    "    .option(\"optimizeWrite\", True) \\\n",
    "    .option(\"overwriteSchema\", \"true\") \\\n",
    "    .save()"
   ]
  },
  {
   "cell_type": "code",
   "execution_count": 0,
   "metadata": {
    "application/vnd.databricks.v1+cell": {
     "cellMetadata": {
      "byteLimit": 2048000,
      "rowLimit": 10000
     },
     "inputWidgets": {},
     "nuid": "4aecbe93-8f1b-485d-947c-1b4bc7426736",
     "showTitle": false,
     "tableResultSettingsMap": {},
     "title": ""
    }
   },
   "outputs": [
    {
     "output_type": "display_data",
     "data": {
      "text/html": [
       "<style scoped>\n",
       "  .table-result-container {\n",
       "    max-height: 300px;\n",
       "    overflow: auto;\n",
       "  }\n",
       "  table, th, td {\n",
       "    border: 1px solid black;\n",
       "    border-collapse: collapse;\n",
       "  }\n",
       "  th, td {\n",
       "    padding: 5px;\n",
       "  }\n",
       "  th {\n",
       "    text-align: left;\n",
       "  }\n",
       "</style><div class='table-result-container'><table class='table-result'><thead style='background-color: white'><tr><th>path</th><th>name</th><th>size</th><th>modificationTime</th></tr></thead><tbody><tr><td>dbfs:/FileStore/tables/OpentableFormat/sinkdata/my_delta_table5/_delta_log/</td><td>_delta_log/</td><td>0</td><td>0</td></tr><tr><td>dbfs:/FileStore/tables/OpentableFormat/sinkdata/my_delta_table5/part-00000-1f3d8b3a-ec91-4e5a-87f2-683a8fcf442d-c000.snappy.parquet</td><td>part-00000-1f3d8b3a-ec91-4e5a-87f2-683a8fcf442d-c000.snappy.parquet</td><td>1168</td><td>1742980638000</td></tr><tr><td>dbfs:/FileStore/tables/OpentableFormat/sinkdata/my_delta_table5/part-00000-d67b4721-917c-4882-866b-0af215b4b533-c000.snappy.parquet</td><td>part-00000-d67b4721-917c-4882-866b-0af215b4b533-c000.snappy.parquet</td><td>1024</td><td>1742980710000</td></tr><tr><td>dbfs:/FileStore/tables/OpentableFormat/sinkdata/my_delta_table5/part-00000-da507f77-ef86-4b06-b1e1-1384ad98459e-c000.snappy.parquet</td><td>part-00000-da507f77-ef86-4b06-b1e1-1384ad98459e-c000.snappy.parquet</td><td>1168</td><td>1742979987000</td></tr></tbody></table></div>"
      ]
     },
     "metadata": {
      "application/vnd.databricks.v1+output": {
       "addedWidgets": {},
       "aggData": [],
       "aggError": "",
       "aggOverflow": false,
       "aggSchema": [],
       "aggSeriesLimitReached": false,
       "aggType": "",
       "arguments": {},
       "columnCustomDisplayInfos": {},
       "data": [
        [
         "dbfs:/FileStore/tables/OpentableFormat/sinkdata/my_delta_table5/_delta_log/",
         "_delta_log/",
         0,
         0
        ],
        [
         "dbfs:/FileStore/tables/OpentableFormat/sinkdata/my_delta_table5/part-00000-1f3d8b3a-ec91-4e5a-87f2-683a8fcf442d-c000.snappy.parquet",
         "part-00000-1f3d8b3a-ec91-4e5a-87f2-683a8fcf442d-c000.snappy.parquet",
         1168,
         1742980638000
        ],
        [
         "dbfs:/FileStore/tables/OpentableFormat/sinkdata/my_delta_table5/part-00000-d67b4721-917c-4882-866b-0af215b4b533-c000.snappy.parquet",
         "part-00000-d67b4721-917c-4882-866b-0af215b4b533-c000.snappy.parquet",
         1024,
         1742980710000
        ],
        [
         "dbfs:/FileStore/tables/OpentableFormat/sinkdata/my_delta_table5/part-00000-da507f77-ef86-4b06-b1e1-1384ad98459e-c000.snappy.parquet",
         "part-00000-da507f77-ef86-4b06-b1e1-1384ad98459e-c000.snappy.parquet",
         1168,
         1742979987000
        ]
       ],
       "datasetInfos": [],
       "dbfsResultPath": null,
       "isJsonSchema": true,
       "metadata": {
        "isDbfsCommandResult": false
       },
       "overflow": false,
       "plotOptions": {
        "customPlotOptions": {},
        "displayType": "table",
        "pivotAggregation": null,
        "pivotColumns": null,
        "xColumns": null,
        "yColumns": null
       },
       "removedWidgets": [],
       "schema": [
        {
         "metadata": "{}",
         "name": "path",
         "type": "\"string\""
        },
        {
         "metadata": "{}",
         "name": "name",
         "type": "\"string\""
        },
        {
         "metadata": "{}",
         "name": "size",
         "type": "\"long\""
        },
        {
         "metadata": "{}",
         "name": "modificationTime",
         "type": "\"long\""
        }
       ],
       "type": "table"
      }
     },
     "output_type": "display_data"
    }
   ],
   "source": [
    "%fs\n",
    "ls /FileStore/tables/OpentableFormat/sinkdata/my_delta_table5"
   ]
  },
  {
   "cell_type": "code",
   "execution_count": 0,
   "metadata": {
    "application/vnd.databricks.v1+cell": {
     "cellMetadata": {
      "byteLimit": 2048000,
      "implicitDf": true,
      "rowLimit": 10000
     },
     "inputWidgets": {},
     "nuid": "6defef15-3a41-4160-8815-9f66f9ab83c1",
     "showTitle": false,
     "tableResultSettingsMap": {},
     "title": ""
    }
   },
   "outputs": [
    {
     "output_type": "display_data",
     "data": {
      "text/html": [
       "<style scoped>\n",
       "  .table-result-container {\n",
       "    max-height: 300px;\n",
       "    overflow: auto;\n",
       "  }\n",
       "  table, th, td {\n",
       "    border: 1px solid black;\n",
       "    border-collapse: collapse;\n",
       "  }\n",
       "  th, td {\n",
       "    padding: 5px;\n",
       "  }\n",
       "  th {\n",
       "    text-align: left;\n",
       "  }\n",
       "</style><div class='table-result-container'><table class='table-result'><thead style='background-color: white'><tr><th>name</th><th>cust_id</th><th>salary</th></tr></thead><tbody><tr><td>AA</td><td>1</td><td>100.0</td></tr><tr><td>AA</td><td>1</td><td>100.0</td></tr><tr><td>AA</td><td>1</td><td>100.0</td></tr><tr><td>AA</td><td>1</td><td>100.0</td></tr></tbody></table></div>"
      ]
     },
     "metadata": {
      "application/vnd.databricks.v1+output": {
       "addedWidgets": {},
       "aggData": [],
       "aggError": "",
       "aggOverflow": false,
       "aggSchema": [],
       "aggSeriesLimitReached": false,
       "aggType": "",
       "arguments": {},
       "columnCustomDisplayInfos": {},
       "data": [
        [
         "AA",
         1,
         100.0
        ],
        [
         "AA",
         1,
         100.0
        ],
        [
         "AA",
         1,
         100.0
        ],
        [
         "AA",
         1,
         100.0
        ]
       ],
       "datasetInfos": [],
       "dbfsResultPath": null,
       "isJsonSchema": true,
       "metadata": {},
       "overflow": false,
       "plotOptions": {
        "customPlotOptions": {},
        "displayType": "table",
        "pivotAggregation": null,
        "pivotColumns": null,
        "xColumns": null,
        "yColumns": null
       },
       "removedWidgets": [],
       "schema": [
        {
         "metadata": "{}",
         "name": "name",
         "type": "\"string\""
        },
        {
         "metadata": "{}",
         "name": "cust_id",
         "type": "\"integer\""
        },
        {
         "metadata": "{}",
         "name": "salary",
         "type": "\"double\""
        }
       ],
       "type": "table"
      }
     },
     "output_type": "display_data"
    }
   ],
   "source": [
    "%sql\n",
    "select * from delta.`/FileStore/tables/OpentableFormat/sinkdata/my_delta_table5` VERSION AS OF 0"
   ]
  },
  {
   "cell_type": "code",
   "execution_count": 0,
   "metadata": {
    "application/vnd.databricks.v1+cell": {
     "cellMetadata": {
      "byteLimit": 2048000,
      "implicitDf": true,
      "rowLimit": 10000
     },
     "inputWidgets": {},
     "nuid": "1fe9308f-e254-4058-b0cd-d72f9e69d68f",
     "showTitle": false,
     "tableResultSettingsMap": {},
     "title": ""
    }
   },
   "outputs": [
    {
     "output_type": "display_data",
     "data": {
      "text/html": [
       "<style scoped>\n",
       "  .table-result-container {\n",
       "    max-height: 300px;\n",
       "    overflow: auto;\n",
       "  }\n",
       "  table, th, td {\n",
       "    border: 1px solid black;\n",
       "    border-collapse: collapse;\n",
       "  }\n",
       "  th, td {\n",
       "    padding: 5px;\n",
       "  }\n",
       "  th {\n",
       "    text-align: left;\n",
       "  }\n",
       "</style><div class='table-result-container'><table class='table-result'><thead style='background-color: white'><tr><th>name</th><th>cust_id</th><th>salary</th></tr></thead><tbody><tr><td>AA</td><td>1</td><td>100.0</td></tr><tr><td>AA</td><td>1</td><td>100.0</td></tr><tr><td>AA</td><td>1</td><td>100.0</td></tr><tr><td>AA</td><td>1</td><td>100.0</td></tr></tbody></table></div>"
      ]
     },
     "metadata": {
      "application/vnd.databricks.v1+output": {
       "addedWidgets": {},
       "aggData": [],
       "aggError": "",
       "aggOverflow": false,
       "aggSchema": [],
       "aggSeriesLimitReached": false,
       "aggType": "",
       "arguments": {},
       "columnCustomDisplayInfos": {},
       "data": [
        [
         "AA",
         1,
         100.0
        ],
        [
         "AA",
         1,
         100.0
        ],
        [
         "AA",
         1,
         100.0
        ],
        [
         "AA",
         1,
         100.0
        ]
       ],
       "datasetInfos": [],
       "dbfsResultPath": null,
       "isJsonSchema": true,
       "metadata": {},
       "overflow": false,
       "plotOptions": {
        "customPlotOptions": {},
        "displayType": "table",
        "pivotAggregation": null,
        "pivotColumns": null,
        "xColumns": null,
        "yColumns": null
       },
       "removedWidgets": [],
       "schema": [
        {
         "metadata": "{}",
         "name": "name",
         "type": "\"string\""
        },
        {
         "metadata": "{}",
         "name": "cust_id",
         "type": "\"integer\""
        },
        {
         "metadata": "{}",
         "name": "salary",
         "type": "\"double\""
        }
       ],
       "type": "table"
      }
     },
     "output_type": "display_data"
    }
   ],
   "source": [
    "%sql\n",
    "select * from delta.`/FileStore/tables/OpentableFormat/sinkdata/my_delta_table5` VERSION AS OF 1"
   ]
  },
  {
   "cell_type": "code",
   "execution_count": 0,
   "metadata": {
    "application/vnd.databricks.v1+cell": {
     "cellMetadata": {
      "byteLimit": 2048000,
      "implicitDf": true,
      "rowLimit": 10000
     },
     "inputWidgets": {},
     "nuid": "06d1c5c0-0d3c-4fff-b6e7-1b7e9c3b2598",
     "showTitle": false,
     "tableResultSettingsMap": {},
     "title": ""
    }
   },
   "outputs": [
    {
     "output_type": "display_data",
     "data": {
      "text/html": [
       "<style scoped>\n",
       "  .table-result-container {\n",
       "    max-height: 300px;\n",
       "    overflow: auto;\n",
       "  }\n",
       "  table, th, td {\n",
       "    border: 1px solid black;\n",
       "    border-collapse: collapse;\n",
       "  }\n",
       "  th, td {\n",
       "    padding: 5px;\n",
       "  }\n",
       "  th {\n",
       "    text-align: left;\n",
       "  }\n",
       "</style><div class='table-result-container'><table class='table-result'><thead style='background-color: white'><tr><th>name</th><th>dept</th><th>company</th></tr></thead><tbody><tr><td>aa</td><td>IT</td><td>ABC</td></tr><tr><td>bb</td><td>HR</td><td>XYZ</td></tr></tbody></table></div>"
      ]
     },
     "metadata": {
      "application/vnd.databricks.v1+output": {
       "addedWidgets": {},
       "aggData": [],
       "aggError": "",
       "aggOverflow": false,
       "aggSchema": [],
       "aggSeriesLimitReached": false,
       "aggType": "",
       "arguments": {},
       "columnCustomDisplayInfos": {},
       "data": [
        [
         "aa",
         "IT",
         "ABC"
        ],
        [
         "bb",
         "HR",
         "XYZ"
        ]
       ],
       "datasetInfos": [],
       "dbfsResultPath": null,
       "isJsonSchema": true,
       "metadata": {},
       "overflow": false,
       "plotOptions": {
        "customPlotOptions": {},
        "displayType": "table",
        "pivotAggregation": null,
        "pivotColumns": null,
        "xColumns": null,
        "yColumns": null
       },
       "removedWidgets": [],
       "schema": [
        {
         "metadata": "{}",
         "name": "name",
         "type": "\"string\""
        },
        {
         "metadata": "{}",
         "name": "dept",
         "type": "\"string\""
        },
        {
         "metadata": "{}",
         "name": "company",
         "type": "\"string\""
        }
       ],
       "type": "table"
      }
     },
     "output_type": "display_data"
    }
   ],
   "source": [
    "%sql\n",
    "select * from delta.`/FileStore/tables/OpentableFormat/sinkdata/my_delta_table5` VERSION AS OF 2"
   ]
  },
  {
   "cell_type": "code",
   "execution_count": 0,
   "metadata": {
    "application/vnd.databricks.v1+cell": {
     "cellMetadata": {
      "byteLimit": 2048000,
      "implicitDf": true,
      "rowLimit": 10000
     },
     "inputWidgets": {},
     "nuid": "4be7c885-5513-4d0e-a193-5f389a4b75a8",
     "showTitle": false,
     "tableResultSettingsMap": {},
     "title": ""
    }
   },
   "outputs": [
    {
     "output_type": "display_data",
     "data": {
      "text/html": [
       "<style scoped>\n",
       "  .table-result-container {\n",
       "    max-height: 300px;\n",
       "    overflow: auto;\n",
       "  }\n",
       "  table, th, td {\n",
       "    border: 1px solid black;\n",
       "    border-collapse: collapse;\n",
       "  }\n",
       "  th, td {\n",
       "    padding: 5px;\n",
       "  }\n",
       "  th {\n",
       "    text-align: left;\n",
       "  }\n",
       "</style><div class='table-result-container'><table class='table-result'><thead style='background-color: white'><tr></tr></thead><tbody></tbody></table></div>"
      ]
     },
     "metadata": {
      "application/vnd.databricks.v1+output": {
       "addedWidgets": {},
       "aggData": [],
       "aggError": "",
       "aggOverflow": false,
       "aggSchema": [],
       "aggSeriesLimitReached": false,
       "aggType": "",
       "arguments": {},
       "columnCustomDisplayInfos": {},
       "data": [],
       "datasetInfos": [],
       "dbfsResultPath": null,
       "isJsonSchema": true,
       "metadata": {},
       "overflow": false,
       "plotOptions": {
        "customPlotOptions": {},
        "displayType": "table",
        "pivotAggregation": null,
        "pivotColumns": null,
        "xColumns": null,
        "yColumns": null
       },
       "removedWidgets": [],
       "schema": [],
       "type": "table"
      }
     },
     "output_type": "display_data"
    }
   ],
   "source": [
    "%sql\n",
    "CREATE TABLE bronze.new_table\n",
    "(\n",
    "  id INT,\n",
    "  name STRING\n",
    ")\n",
    "USING DELTA\n",
    "LOCATION '/FileStore/tables/OpentableFormat/sinkdata/new_table'\n"
   ]
  },
  {
   "cell_type": "code",
   "execution_count": 0,
   "metadata": {
    "application/vnd.databricks.v1+cell": {
     "cellMetadata": {
      "byteLimit": 2048000,
      "implicitDf": true,
      "rowLimit": 10000
     },
     "inputWidgets": {},
     "nuid": "86feabe4-9489-4d75-af76-695f2975cd32",
     "showTitle": false,
     "tableResultSettingsMap": {},
     "title": ""
    }
   },
   "outputs": [
    {
     "output_type": "display_data",
     "data": {
      "text/html": [
       "<style scoped>\n",
       "  .table-result-container {\n",
       "    max-height: 300px;\n",
       "    overflow: auto;\n",
       "  }\n",
       "  table, th, td {\n",
       "    border: 1px solid black;\n",
       "    border-collapse: collapse;\n",
       "  }\n",
       "  th, td {\n",
       "    padding: 5px;\n",
       "  }\n",
       "  th {\n",
       "    text-align: left;\n",
       "  }\n",
       "</style><div class='table-result-container'><table class='table-result'><thead style='background-color: white'><tr><th>num_affected_rows</th><th>num_inserted_rows</th></tr></thead><tbody><tr><td>3</td><td>3</td></tr></tbody></table></div>"
      ]
     },
     "metadata": {
      "application/vnd.databricks.v1+output": {
       "addedWidgets": {},
       "aggData": [],
       "aggError": "",
       "aggOverflow": false,
       "aggSchema": [],
       "aggSeriesLimitReached": false,
       "aggType": "",
       "arguments": {},
       "columnCustomDisplayInfos": {},
       "data": [
        [
         3,
         3
        ]
       ],
       "datasetInfos": [],
       "dbfsResultPath": null,
       "isJsonSchema": true,
       "metadata": {},
       "overflow": false,
       "plotOptions": {
        "customPlotOptions": {},
        "displayType": "table",
        "pivotAggregation": null,
        "pivotColumns": null,
        "xColumns": null,
        "yColumns": null
       },
       "removedWidgets": [],
       "schema": [
        {
         "metadata": "{}",
         "name": "num_affected_rows",
         "type": "\"long\""
        },
        {
         "metadata": "{}",
         "name": "num_inserted_rows",
         "type": "\"long\""
        }
       ],
       "type": "table"
      }
     },
     "output_type": "display_data"
    }
   ],
   "source": [
    "%sql\n",
    "INSERT INTO bronze.new_table\n",
    "VALUES (4, 'aa'), (5, 'bb'), (6, 'cc')"
   ]
  },
  {
   "cell_type": "code",
   "execution_count": 0,
   "metadata": {
    "application/vnd.databricks.v1+cell": {
     "cellMetadata": {
      "byteLimit": 2048000,
      "rowLimit": 10000
     },
     "inputWidgets": {},
     "nuid": "c8ab00a1-bbc9-45cb-bf0e-6df7114a8246",
     "showTitle": false,
     "tableResultSettingsMap": {},
     "title": ""
    }
   },
   "outputs": [
    {
     "output_type": "display_data",
     "data": {
      "text/html": [
       "<style scoped>\n",
       "  .table-result-container {\n",
       "    max-height: 300px;\n",
       "    overflow: auto;\n",
       "  }\n",
       "  table, th, td {\n",
       "    border: 1px solid black;\n",
       "    border-collapse: collapse;\n",
       "  }\n",
       "  th, td {\n",
       "    padding: 5px;\n",
       "  }\n",
       "  th {\n",
       "    text-align: left;\n",
       "  }\n",
       "</style><div class='table-result-container'><table class='table-result'><thead style='background-color: white'><tr><th>path</th><th>name</th><th>size</th><th>modificationTime</th></tr></thead><tbody><tr><td>dbfs:/FileStore/tables/OpentableFormat/sinkdata/new_table`/_delta_log/</td><td>_delta_log/</td><td>0</td><td>0</td></tr><tr><td>dbfs:/FileStore/tables/OpentableFormat/sinkdata/new_table`/part-00000-4300ac94-4560-4765-a0c0-182a948bd862-c000.snappy.parquet</td><td>part-00000-4300ac94-4560-4765-a0c0-182a948bd862-c000.snappy.parquet</td><td>806</td><td>1742981658000</td></tr><tr><td>dbfs:/FileStore/tables/OpentableFormat/sinkdata/new_table`/part-00000-5e59122b-9877-4605-8852-f4bb8c8e42f4-c000.snappy.parquet</td><td>part-00000-5e59122b-9877-4605-8852-f4bb8c8e42f4-c000.snappy.parquet</td><td>806</td><td>1742981628000</td></tr></tbody></table></div>"
      ]
     },
     "metadata": {
      "application/vnd.databricks.v1+output": {
       "addedWidgets": {},
       "aggData": [],
       "aggError": "",
       "aggOverflow": false,
       "aggSchema": [],
       "aggSeriesLimitReached": false,
       "aggType": "",
       "arguments": {},
       "columnCustomDisplayInfos": {},
       "data": [
        [
         "dbfs:/FileStore/tables/OpentableFormat/sinkdata/new_table`/_delta_log/",
         "_delta_log/",
         0,
         0
        ],
        [
         "dbfs:/FileStore/tables/OpentableFormat/sinkdata/new_table`/part-00000-4300ac94-4560-4765-a0c0-182a948bd862-c000.snappy.parquet",
         "part-00000-4300ac94-4560-4765-a0c0-182a948bd862-c000.snappy.parquet",
         806,
         1742981658000
        ],
        [
         "dbfs:/FileStore/tables/OpentableFormat/sinkdata/new_table`/part-00000-5e59122b-9877-4605-8852-f4bb8c8e42f4-c000.snappy.parquet",
         "part-00000-5e59122b-9877-4605-8852-f4bb8c8e42f4-c000.snappy.parquet",
         806,
         1742981628000
        ]
       ],
       "datasetInfos": [],
       "dbfsResultPath": null,
       "isJsonSchema": true,
       "metadata": {
        "isDbfsCommandResult": false
       },
       "overflow": false,
       "plotOptions": {
        "customPlotOptions": {},
        "displayType": "table",
        "pivotAggregation": null,
        "pivotColumns": null,
        "xColumns": null,
        "yColumns": null
       },
       "removedWidgets": [],
       "schema": [
        {
         "metadata": "{}",
         "name": "path",
         "type": "\"string\""
        },
        {
         "metadata": "{}",
         "name": "name",
         "type": "\"string\""
        },
        {
         "metadata": "{}",
         "name": "size",
         "type": "\"long\""
        },
        {
         "metadata": "{}",
         "name": "modificationTime",
         "type": "\"long\""
        }
       ],
       "type": "table"
      }
     },
     "output_type": "display_data"
    }
   ],
   "source": [
    "%fs\n",
    "ls /FileStore/tables/OpentableFormat/sinkdata/new_table`"
   ]
  },
  {
   "cell_type": "code",
   "execution_count": 0,
   "metadata": {
    "application/vnd.databricks.v1+cell": {
     "cellMetadata": {
      "byteLimit": 2048000,
      "implicitDf": true,
      "rowLimit": 10000
     },
     "inputWidgets": {},
     "nuid": "7f50a8cf-ddea-4da8-aa16-555b92cc345e",
     "showTitle": false,
     "tableResultSettingsMap": {},
     "title": ""
    }
   },
   "outputs": [
    {
     "output_type": "display_data",
     "data": {
      "text/html": [
       "<style scoped>\n",
       "  .table-result-container {\n",
       "    max-height: 300px;\n",
       "    overflow: auto;\n",
       "  }\n",
       "  table, th, td {\n",
       "    border: 1px solid black;\n",
       "    border-collapse: collapse;\n",
       "  }\n",
       "  th, td {\n",
       "    padding: 5px;\n",
       "  }\n",
       "  th {\n",
       "    text-align: left;\n",
       "  }\n",
       "</style><div class='table-result-container'><table class='table-result'><thead style='background-color: white'><tr><th>num_affected_rows</th></tr></thead><tbody><tr><td>1</td></tr></tbody></table></div>"
      ]
     },
     "metadata": {
      "application/vnd.databricks.v1+output": {
       "addedWidgets": {},
       "aggData": [],
       "aggError": "",
       "aggOverflow": false,
       "aggSchema": [],
       "aggSeriesLimitReached": false,
       "aggType": "",
       "arguments": {},
       "columnCustomDisplayInfos": {},
       "data": [
        [
         1
        ]
       ],
       "datasetInfos": [],
       "dbfsResultPath": null,
       "isJsonSchema": true,
       "metadata": {},
       "overflow": false,
       "plotOptions": {
        "customPlotOptions": {},
        "displayType": "table",
        "pivotAggregation": null,
        "pivotColumns": null,
        "xColumns": null,
        "yColumns": null
       },
       "removedWidgets": [],
       "schema": [
        {
         "metadata": "{}",
         "name": "num_affected_rows",
         "type": "\"long\""
        }
       ],
       "type": "table"
      }
     },
     "output_type": "display_data"
    }
   ],
   "source": [
    "%sql\n",
    "UPDATE bronze.new_table\n",
    "SET name = 'zz' where id = 6"
   ]
  },
  {
   "cell_type": "code",
   "execution_count": 0,
   "metadata": {
    "application/vnd.databricks.v1+cell": {
     "cellMetadata": {
      "byteLimit": 2048000,
      "rowLimit": 10000
     },
     "inputWidgets": {},
     "nuid": "064314e1-9f8a-4978-aa91-a854c4f5fc60",
     "showTitle": false,
     "tableResultSettingsMap": {},
     "title": ""
    }
   },
   "outputs": [
    {
     "output_type": "display_data",
     "data": {
      "text/html": [
       "<style scoped>\n",
       "  .table-result-container {\n",
       "    max-height: 300px;\n",
       "    overflow: auto;\n",
       "  }\n",
       "  table, th, td {\n",
       "    border: 1px solid black;\n",
       "    border-collapse: collapse;\n",
       "  }\n",
       "  th, td {\n",
       "    padding: 5px;\n",
       "  }\n",
       "  th {\n",
       "    text-align: left;\n",
       "  }\n",
       "</style><div class='table-result-container'><table class='table-result'><thead style='background-color: white'><tr><th>path</th><th>name</th><th>size</th><th>modificationTime</th></tr></thead><tbody><tr><td>dbfs:/FileStore/tables/OpentableFormat/sinkdata/new_table`/_delta_log/</td><td>_delta_log/</td><td>0</td><td>0</td></tr><tr><td>dbfs:/FileStore/tables/OpentableFormat/sinkdata/new_table`/part-00000-4300ac94-4560-4765-a0c0-182a948bd862-c000.snappy.parquet</td><td>part-00000-4300ac94-4560-4765-a0c0-182a948bd862-c000.snappy.parquet</td><td>806</td><td>1742981658000</td></tr><tr><td>dbfs:/FileStore/tables/OpentableFormat/sinkdata/new_table`/part-00000-5e59122b-9877-4605-8852-f4bb8c8e42f4-c000.snappy.parquet</td><td>part-00000-5e59122b-9877-4605-8852-f4bb8c8e42f4-c000.snappy.parquet</td><td>806</td><td>1742981628000</td></tr><tr><td>dbfs:/FileStore/tables/OpentableFormat/sinkdata/new_table`/part-00000-abc1b0c1-2fe9-4f41-8907-9c89f044f829-c000.snappy.parquet</td><td>part-00000-abc1b0c1-2fe9-4f41-8907-9c89f044f829-c000.snappy.parquet</td><td>806</td><td>1742981737000</td></tr></tbody></table></div>"
      ]
     },
     "metadata": {
      "application/vnd.databricks.v1+output": {
       "addedWidgets": {},
       "aggData": [],
       "aggError": "",
       "aggOverflow": false,
       "aggSchema": [],
       "aggSeriesLimitReached": false,
       "aggType": "",
       "arguments": {},
       "columnCustomDisplayInfos": {},
       "data": [
        [
         "dbfs:/FileStore/tables/OpentableFormat/sinkdata/new_table`/_delta_log/",
         "_delta_log/",
         0,
         0
        ],
        [
         "dbfs:/FileStore/tables/OpentableFormat/sinkdata/new_table`/part-00000-4300ac94-4560-4765-a0c0-182a948bd862-c000.snappy.parquet",
         "part-00000-4300ac94-4560-4765-a0c0-182a948bd862-c000.snappy.parquet",
         806,
         1742981658000
        ],
        [
         "dbfs:/FileStore/tables/OpentableFormat/sinkdata/new_table`/part-00000-5e59122b-9877-4605-8852-f4bb8c8e42f4-c000.snappy.parquet",
         "part-00000-5e59122b-9877-4605-8852-f4bb8c8e42f4-c000.snappy.parquet",
         806,
         1742981628000
        ],
        [
         "dbfs:/FileStore/tables/OpentableFormat/sinkdata/new_table`/part-00000-abc1b0c1-2fe9-4f41-8907-9c89f044f829-c000.snappy.parquet",
         "part-00000-abc1b0c1-2fe9-4f41-8907-9c89f044f829-c000.snappy.parquet",
         806,
         1742981737000
        ]
       ],
       "datasetInfos": [],
       "dbfsResultPath": null,
       "isJsonSchema": true,
       "metadata": {
        "isDbfsCommandResult": false
       },
       "overflow": false,
       "plotOptions": {
        "customPlotOptions": {},
        "displayType": "table",
        "pivotAggregation": null,
        "pivotColumns": null,
        "xColumns": null,
        "yColumns": null
       },
       "removedWidgets": [],
       "schema": [
        {
         "metadata": "{}",
         "name": "path",
         "type": "\"string\""
        },
        {
         "metadata": "{}",
         "name": "name",
         "type": "\"string\""
        },
        {
         "metadata": "{}",
         "name": "size",
         "type": "\"long\""
        },
        {
         "metadata": "{}",
         "name": "modificationTime",
         "type": "\"long\""
        }
       ],
       "type": "table"
      }
     },
     "output_type": "display_data"
    }
   ],
   "source": [
    "%fs\n",
    "ls /FileStore/tables/OpentableFormat/sinkdata/new_table`"
   ]
  },
  {
   "cell_type": "code",
   "execution_count": 0,
   "metadata": {
    "application/vnd.databricks.v1+cell": {
     "cellMetadata": {
      "byteLimit": 2048000,
      "implicitDf": true,
      "rowLimit": 10000
     },
     "inputWidgets": {},
     "nuid": "5a2e0dda-17d1-4657-845c-7898f74d825d",
     "showTitle": false,
     "tableResultSettingsMap": {},
     "title": ""
    }
   },
   "outputs": [
    {
     "output_type": "display_data",
     "data": {
      "text/html": [
       "<style scoped>\n",
       "  .table-result-container {\n",
       "    max-height: 300px;\n",
       "    overflow: auto;\n",
       "  }\n",
       "  table, th, td {\n",
       "    border: 1px solid black;\n",
       "    border-collapse: collapse;\n",
       "  }\n",
       "  th, td {\n",
       "    padding: 5px;\n",
       "  }\n",
       "  th {\n",
       "    text-align: left;\n",
       "  }\n",
       "</style><div class='table-result-container'><table class='table-result'><thead style='background-color: white'><tr></tr></thead><tbody></tbody></table></div>"
      ]
     },
     "metadata": {
      "application/vnd.databricks.v1+output": {
       "addedWidgets": {},
       "aggData": [],
       "aggError": "",
       "aggOverflow": false,
       "aggSchema": [],
       "aggSeriesLimitReached": false,
       "aggType": "",
       "arguments": {},
       "columnCustomDisplayInfos": {},
       "data": [],
       "datasetInfos": [],
       "dbfsResultPath": null,
       "isJsonSchema": true,
       "metadata": {},
       "overflow": false,
       "plotOptions": {
        "customPlotOptions": {},
        "displayType": "table",
        "pivotAggregation": null,
        "pivotColumns": null,
        "xColumns": null,
        "yColumns": null
       },
       "removedWidgets": [],
       "schema": [],
       "type": "table"
      }
     },
     "output_type": "display_data"
    }
   ],
   "source": [
    "%sql\n",
    "CREATE TABLE bronze.new_table2\n",
    "(\n",
    "  id INT,\n",
    "  name STRING\n",
    ")\n",
    "USING DELTA\n",
    "LOCATION '/FileStore/tables/OpentableFormat/sinkdata/new_table2'\n"
   ]
  },
  {
   "cell_type": "code",
   "execution_count": 0,
   "metadata": {
    "application/vnd.databricks.v1+cell": {
     "cellMetadata": {
      "byteLimit": 2048000,
      "implicitDf": true,
      "rowLimit": 10000
     },
     "inputWidgets": {},
     "nuid": "27f7d9ab-8cab-478f-b89f-db38050dccf6",
     "showTitle": false,
     "tableResultSettingsMap": {},
     "title": ""
    }
   },
   "outputs": [
    {
     "output_type": "display_data",
     "data": {
      "text/html": [
       "<style scoped>\n",
       "  .table-result-container {\n",
       "    max-height: 300px;\n",
       "    overflow: auto;\n",
       "  }\n",
       "  table, th, td {\n",
       "    border: 1px solid black;\n",
       "    border-collapse: collapse;\n",
       "  }\n",
       "  th, td {\n",
       "    padding: 5px;\n",
       "  }\n",
       "  th {\n",
       "    text-align: left;\n",
       "  }\n",
       "</style><div class='table-result-container'><table class='table-result'><thead style='background-color: white'><tr></tr></thead><tbody></tbody></table></div>"
      ]
     },
     "metadata": {
      "application/vnd.databricks.v1+output": {
       "addedWidgets": {},
       "aggData": [],
       "aggError": "",
       "aggOverflow": false,
       "aggSchema": [],
       "aggSeriesLimitReached": false,
       "aggType": "",
       "arguments": {},
       "columnCustomDisplayInfos": {},
       "data": [],
       "datasetInfos": [],
       "dbfsResultPath": null,
       "isJsonSchema": true,
       "metadata": {},
       "overflow": false,
       "plotOptions": {
        "customPlotOptions": {},
        "displayType": "table",
        "pivotAggregation": null,
        "pivotColumns": null,
        "xColumns": null,
        "yColumns": null
       },
       "removedWidgets": [],
       "schema": [],
       "type": "table"
      }
     },
     "output_type": "display_data"
    }
   ],
   "source": [
    "%sql\n",
    "ALTER TABLE bronze.new_table2 SET TBLPROPERTIES ('delta.enableDeletionVectors' = true);"
   ]
  },
  {
   "cell_type": "code",
   "execution_count": 0,
   "metadata": {
    "application/vnd.databricks.v1+cell": {
     "cellMetadata": {
      "byteLimit": 2048000,
      "implicitDf": true,
      "rowLimit": 10000
     },
     "inputWidgets": {},
     "nuid": "3236e187-7b8a-4fa4-8584-b1dd612fc903",
     "showTitle": false,
     "tableResultSettingsMap": {},
     "title": ""
    }
   },
   "outputs": [
    {
     "output_type": "display_data",
     "data": {
      "text/html": [
       "<style scoped>\n",
       "  .table-result-container {\n",
       "    max-height: 300px;\n",
       "    overflow: auto;\n",
       "  }\n",
       "  table, th, td {\n",
       "    border: 1px solid black;\n",
       "    border-collapse: collapse;\n",
       "  }\n",
       "  th, td {\n",
       "    padding: 5px;\n",
       "  }\n",
       "  th {\n",
       "    text-align: left;\n",
       "  }\n",
       "</style><div class='table-result-container'><table class='table-result'><thead style='background-color: white'><tr><th>num_affected_rows</th><th>num_inserted_rows</th></tr></thead><tbody><tr><td>3</td><td>3</td></tr></tbody></table></div>"
      ]
     },
     "metadata": {
      "application/vnd.databricks.v1+output": {
       "addedWidgets": {},
       "aggData": [],
       "aggError": "",
       "aggOverflow": false,
       "aggSchema": [],
       "aggSeriesLimitReached": false,
       "aggType": "",
       "arguments": {},
       "columnCustomDisplayInfos": {},
       "data": [
        [
         3,
         3
        ]
       ],
       "datasetInfos": [],
       "dbfsResultPath": null,
       "isJsonSchema": true,
       "metadata": {},
       "overflow": false,
       "plotOptions": {
        "customPlotOptions": {},
        "displayType": "table",
        "pivotAggregation": null,
        "pivotColumns": null,
        "xColumns": null,
        "yColumns": null
       },
       "removedWidgets": [],
       "schema": [
        {
         "metadata": "{}",
         "name": "num_affected_rows",
         "type": "\"long\""
        },
        {
         "metadata": "{}",
         "name": "num_inserted_rows",
         "type": "\"long\""
        }
       ],
       "type": "table"
      }
     },
     "output_type": "display_data"
    }
   ],
   "source": [
    "%sql\n",
    "INSERT INTO bronze.new_table2\n",
    "VALUES (1, 'aa'), (2, 'bb'), (3, 'cc')"
   ]
  },
  {
   "cell_type": "code",
   "execution_count": 0,
   "metadata": {
    "application/vnd.databricks.v1+cell": {
     "cellMetadata": {
      "byteLimit": 2048000,
      "implicitDf": true,
      "rowLimit": 10000
     },
     "inputWidgets": {},
     "nuid": "2cf7ea6c-9c14-4493-b5b3-9fbadd94ab95",
     "showTitle": false,
     "tableResultSettingsMap": {},
     "title": ""
    }
   },
   "outputs": [
    {
     "output_type": "display_data",
     "data": {
      "text/html": [
       "<style scoped>\n",
       "  .table-result-container {\n",
       "    max-height: 300px;\n",
       "    overflow: auto;\n",
       "  }\n",
       "  table, th, td {\n",
       "    border: 1px solid black;\n",
       "    border-collapse: collapse;\n",
       "  }\n",
       "  th, td {\n",
       "    padding: 5px;\n",
       "  }\n",
       "  th {\n",
       "    text-align: left;\n",
       "  }\n",
       "</style><div class='table-result-container'><table class='table-result'><thead style='background-color: white'><tr><th>num_affected_rows</th><th>num_inserted_rows</th></tr></thead><tbody><tr><td>3</td><td>3</td></tr></tbody></table></div>"
      ]
     },
     "metadata": {
      "application/vnd.databricks.v1+output": {
       "addedWidgets": {},
       "aggData": [],
       "aggError": "",
       "aggOverflow": false,
       "aggSchema": [],
       "aggSeriesLimitReached": false,
       "aggType": "",
       "arguments": {},
       "columnCustomDisplayInfos": {},
       "data": [
        [
         3,
         3
        ]
       ],
       "datasetInfos": [],
       "dbfsResultPath": null,
       "isJsonSchema": true,
       "metadata": {},
       "overflow": false,
       "plotOptions": {
        "customPlotOptions": {},
        "displayType": "table",
        "pivotAggregation": null,
        "pivotColumns": null,
        "xColumns": null,
        "yColumns": null
       },
       "removedWidgets": [],
       "schema": [
        {
         "metadata": "{}",
         "name": "num_affected_rows",
         "type": "\"long\""
        },
        {
         "metadata": "{}",
         "name": "num_inserted_rows",
         "type": "\"long\""
        }
       ],
       "type": "table"
      }
     },
     "output_type": "display_data"
    }
   ],
   "source": [
    "%sql\n",
    "INSERT INTO bronze.new_table2\n",
    "VALUES (7, 'aa'), (8, 'bb'), (9, 'cc')"
   ]
  },
  {
   "cell_type": "code",
   "execution_count": 0,
   "metadata": {
    "application/vnd.databricks.v1+cell": {
     "cellMetadata": {
      "byteLimit": 2048000,
      "implicitDf": true,
      "rowLimit": 10000
     },
     "inputWidgets": {},
     "nuid": "d7bb0fa1-137e-43bc-a973-0bc20374fc8a",
     "showTitle": false,
     "tableResultSettingsMap": {},
     "title": ""
    }
   },
   "outputs": [
    {
     "output_type": "display_data",
     "data": {
      "text/html": [
       "<style scoped>\n",
       "  .table-result-container {\n",
       "    max-height: 300px;\n",
       "    overflow: auto;\n",
       "  }\n",
       "  table, th, td {\n",
       "    border: 1px solid black;\n",
       "    border-collapse: collapse;\n",
       "  }\n",
       "  th, td {\n",
       "    padding: 5px;\n",
       "  }\n",
       "  th {\n",
       "    text-align: left;\n",
       "  }\n",
       "</style><div class='table-result-container'><table class='table-result'><thead style='background-color: white'><tr><th>num_affected_rows</th></tr></thead><tbody><tr><td>1</td></tr></tbody></table></div>"
      ]
     },
     "metadata": {
      "application/vnd.databricks.v1+output": {
       "addedWidgets": {},
       "aggData": [],
       "aggError": "",
       "aggOverflow": false,
       "aggSchema": [],
       "aggSeriesLimitReached": false,
       "aggType": "",
       "arguments": {},
       "columnCustomDisplayInfos": {},
       "data": [
        [
         1
        ]
       ],
       "datasetInfos": [],
       "dbfsResultPath": null,
       "isJsonSchema": true,
       "metadata": {},
       "overflow": false,
       "plotOptions": {
        "customPlotOptions": {},
        "displayType": "table",
        "pivotAggregation": null,
        "pivotColumns": null,
        "xColumns": null,
        "yColumns": null
       },
       "removedWidgets": [],
       "schema": [
        {
         "metadata": "{}",
         "name": "num_affected_rows",
         "type": "\"long\""
        }
       ],
       "type": "table"
      }
     },
     "output_type": "display_data"
    }
   ],
   "source": [
    "%sql\n",
    "UPDATE bronze.new_table2\n",
    "SET name = 'zz' where id = 6"
   ]
  },
  {
   "cell_type": "code",
   "execution_count": 0,
   "metadata": {
    "application/vnd.databricks.v1+cell": {
     "cellMetadata": {
      "byteLimit": 2048000,
      "rowLimit": 10000
     },
     "inputWidgets": {},
     "nuid": "68c00711-d171-43b7-b73a-af7abd324e1d",
     "showTitle": false,
     "tableResultSettingsMap": {},
     "title": ""
    }
   },
   "outputs": [
    {
     "output_type": "display_data",
     "data": {
      "text/html": [
       "<style scoped>\n",
       "  .table-result-container {\n",
       "    max-height: 300px;\n",
       "    overflow: auto;\n",
       "  }\n",
       "  table, th, td {\n",
       "    border: 1px solid black;\n",
       "    border-collapse: collapse;\n",
       "  }\n",
       "  th, td {\n",
       "    padding: 5px;\n",
       "  }\n",
       "  th {\n",
       "    text-align: left;\n",
       "  }\n",
       "</style><div class='table-result-container'><table class='table-result'><thead style='background-color: white'><tr><th>path</th><th>name</th><th>size</th><th>modificationTime</th></tr></thead><tbody><tr><td>dbfs:/FileStore/tables/OpentableFormat/sinkdata/new_table2/_delta_log/</td><td>_delta_log/</td><td>0</td><td>0</td></tr><tr><td>dbfs:/FileStore/tables/OpentableFormat/sinkdata/new_table2/part-00000-0cea3bbf-b479-40d7-bd2c-75ebe8c3fac8-c000.snappy.parquet</td><td>part-00000-0cea3bbf-b479-40d7-bd2c-75ebe8c3fac8-c000.snappy.parquet</td><td>806</td><td>1742982002000</td></tr><tr><td>dbfs:/FileStore/tables/OpentableFormat/sinkdata/new_table2/part-00000-9295fb1e-11cc-46f6-bbe5-120a1a49b757-c000.snappy.parquet</td><td>part-00000-9295fb1e-11cc-46f6-bbe5-120a1a49b757-c000.snappy.parquet</td><td>806</td><td>1742982025000</td></tr><tr><td>dbfs:/FileStore/tables/OpentableFormat/sinkdata/new_table2/part-00000-fbd1f7a2-2180-43ea-be17-58a65232dc43-c000.snappy.parquet</td><td>part-00000-fbd1f7a2-2180-43ea-be17-58a65232dc43-c000.snappy.parquet</td><td>806</td><td>1742982013000</td></tr></tbody></table></div>"
      ]
     },
     "metadata": {
      "application/vnd.databricks.v1+output": {
       "addedWidgets": {},
       "aggData": [],
       "aggError": "",
       "aggOverflow": false,
       "aggSchema": [],
       "aggSeriesLimitReached": false,
       "aggType": "",
       "arguments": {},
       "columnCustomDisplayInfos": {},
       "data": [
        [
         "dbfs:/FileStore/tables/OpentableFormat/sinkdata/new_table2/_delta_log/",
         "_delta_log/",
         0,
         0
        ],
        [
         "dbfs:/FileStore/tables/OpentableFormat/sinkdata/new_table2/part-00000-0cea3bbf-b479-40d7-bd2c-75ebe8c3fac8-c000.snappy.parquet",
         "part-00000-0cea3bbf-b479-40d7-bd2c-75ebe8c3fac8-c000.snappy.parquet",
         806,
         1742982002000
        ],
        [
         "dbfs:/FileStore/tables/OpentableFormat/sinkdata/new_table2/part-00000-9295fb1e-11cc-46f6-bbe5-120a1a49b757-c000.snappy.parquet",
         "part-00000-9295fb1e-11cc-46f6-bbe5-120a1a49b757-c000.snappy.parquet",
         806,
         1742982025000
        ],
        [
         "dbfs:/FileStore/tables/OpentableFormat/sinkdata/new_table2/part-00000-fbd1f7a2-2180-43ea-be17-58a65232dc43-c000.snappy.parquet",
         "part-00000-fbd1f7a2-2180-43ea-be17-58a65232dc43-c000.snappy.parquet",
         806,
         1742982013000
        ]
       ],
       "datasetInfos": [],
       "dbfsResultPath": null,
       "isJsonSchema": true,
       "metadata": {
        "isDbfsCommandResult": false
       },
       "overflow": false,
       "plotOptions": {
        "customPlotOptions": {},
        "displayType": "table",
        "pivotAggregation": null,
        "pivotColumns": null,
        "xColumns": null,
        "yColumns": null
       },
       "removedWidgets": [],
       "schema": [
        {
         "metadata": "{}",
         "name": "path",
         "type": "\"string\""
        },
        {
         "metadata": "{}",
         "name": "name",
         "type": "\"string\""
        },
        {
         "metadata": "{}",
         "name": "size",
         "type": "\"long\""
        },
        {
         "metadata": "{}",
         "name": "modificationTime",
         "type": "\"long\""
        }
       ],
       "type": "table"
      }
     },
     "output_type": "display_data"
    }
   ],
   "source": [
    "%fs\n",
    "ls /FileStore/tables/OpentableFormat/sinkdata/new_table2"
   ]
  },
  {
   "cell_type": "markdown",
   "metadata": {
    "application/vnd.databricks.v1+cell": {
     "cellMetadata": {},
     "inputWidgets": {},
     "nuid": "baf394d5-189f-40b2-974f-374f06af9925",
     "showTitle": false,
     "tableResultSettingsMap": {},
     "title": ""
    }
   },
   "source": [
    "# STRUCTURED STREAMING IN OPEN TABLE FORMAT"
   ]
  },
  {
   "cell_type": "code",
   "execution_count": 0,
   "metadata": {
    "application/vnd.databricks.v1+cell": {
     "cellMetadata": {
      "byteLimit": 2048000,
      "rowLimit": 10000
     },
     "inputWidgets": {},
     "nuid": "564da994-3d9c-4512-9b65-1c995b5ace8d",
     "showTitle": false,
     "tableResultSettingsMap": {},
     "title": ""
    }
   },
   "outputs": [],
   "source": [
    "df = spark.readStream.table(\"bronze.new_table2\")"
   ]
  },
  {
   "cell_type": "code",
   "execution_count": 0,
   "metadata": {
    "application/vnd.databricks.v1+cell": {
     "cellMetadata": {
      "byteLimit": 2048000,
      "rowLimit": 10000
     },
     "inputWidgets": {},
     "nuid": "9c07df74-7e4a-428f-85da-a621e3edee49",
     "showTitle": false,
     "tableResultSettingsMap": {},
     "title": ""
    }
   },
   "outputs": [
    {
     "output_type": "stream",
     "name": "stdout",
     "output_type": "stream",
     "text": [
      "Out[124]: <pyspark.sql.streaming.query.StreamingQuery at 0x72694c127760>"
     ]
    }
   ],
   "source": [
    "df.writeStream.format(\"delta\") \\\n",
    "    .option(\"checkpointLocation\", \"/FileStore/tables/OpentableFormat/sinkdata/stream_table/checkpoint\") \\\n",
    "    .trigger(processingTime = \"10 seconds\") \\\n",
    "    .option(\"path\", \"/FileStore/tables/OpentableFormat/sinkdata/stream_table\") \\\n",
    "    .toTable(\"bronze.stream_table\")"
   ]
  },
  {
   "cell_type": "code",
   "execution_count": 0,
   "metadata": {
    "application/vnd.databricks.v1+cell": {
     "cellMetadata": {
      "byteLimit": 2048000,
      "implicitDf": true,
      "rowLimit": 10000
     },
     "inputWidgets": {},
     "nuid": "dfe406b9-4673-4b6b-b41d-a23f65e72d36",
     "showTitle": false,
     "tableResultSettingsMap": {},
     "title": ""
    }
   },
   "outputs": [
    {
     "output_type": "display_data",
     "data": {
      "text/html": [
       "<style scoped>\n",
       "  .table-result-container {\n",
       "    max-height: 300px;\n",
       "    overflow: auto;\n",
       "  }\n",
       "  table, th, td {\n",
       "    border: 1px solid black;\n",
       "    border-collapse: collapse;\n",
       "  }\n",
       "  th, td {\n",
       "    padding: 5px;\n",
       "  }\n",
       "  th {\n",
       "    text-align: left;\n",
       "  }\n",
       "</style><div class='table-result-container'><table class='table-result'><thead style='background-color: white'><tr><th>id</th><th>name</th></tr></thead><tbody><tr><td>1</td><td>aa</td></tr><tr><td>2</td><td>bb</td></tr><tr><td>3</td><td>cc</td></tr><tr><td>4</td><td>aa</td></tr><tr><td>5</td><td>bb</td></tr><tr><td>6</td><td>zz</td></tr><tr><td>7</td><td>aa</td></tr><tr><td>8</td><td>bb</td></tr><tr><td>9</td><td>cc</td></tr></tbody></table></div>"
      ]
     },
     "metadata": {
      "application/vnd.databricks.v1+output": {
       "addedWidgets": {},
       "aggData": [],
       "aggError": "",
       "aggOverflow": false,
       "aggSchema": [],
       "aggSeriesLimitReached": false,
       "aggType": "",
       "arguments": {},
       "columnCustomDisplayInfos": {},
       "data": [
        [
         1,
         "aa"
        ],
        [
         2,
         "bb"
        ],
        [
         3,
         "cc"
        ],
        [
         4,
         "aa"
        ],
        [
         5,
         "bb"
        ],
        [
         6,
         "zz"
        ],
        [
         7,
         "aa"
        ],
        [
         8,
         "bb"
        ],
        [
         9,
         "cc"
        ]
       ],
       "datasetInfos": [],
       "dbfsResultPath": null,
       "isJsonSchema": true,
       "metadata": {},
       "overflow": false,
       "plotOptions": {
        "customPlotOptions": {},
        "displayType": "table",
        "pivotAggregation": null,
        "pivotColumns": null,
        "xColumns": null,
        "yColumns": null
       },
       "removedWidgets": [],
       "schema": [
        {
         "metadata": "{}",
         "name": "id",
         "type": "\"integer\""
        },
        {
         "metadata": "{}",
         "name": "name",
         "type": "\"string\""
        }
       ],
       "type": "table"
      }
     },
     "output_type": "display_data"
    }
   ],
   "source": [
    "%sql\n",
    "select * from bronze.stream_table"
   ]
  },
  {
   "cell_type": "code",
   "execution_count": 0,
   "metadata": {
    "application/vnd.databricks.v1+cell": {
     "cellMetadata": {},
     "inputWidgets": {},
     "nuid": "4ebc496f-48c4-4b28-b312-abc0f9c6852b",
     "showTitle": false,
     "tableResultSettingsMap": {},
     "title": ""
    }
   },
   "outputs": [],
   "source": []
  },
  {
   "cell_type": "code",
   "execution_count": 0,
   "metadata": {
    "application/vnd.databricks.v1+cell": {
     "cellMetadata": {},
     "inputWidgets": {},
     "nuid": "473a1f98-9402-4e55-8013-7101a3e4ebd5",
     "showTitle": false,
     "tableResultSettingsMap": {},
     "title": ""
    }
   },
   "outputs": [],
   "source": []
  },
  {
   "cell_type": "code",
   "execution_count": 0,
   "metadata": {
    "application/vnd.databricks.v1+cell": {
     "cellMetadata": {},
     "inputWidgets": {},
     "nuid": "f42b1f09-3673-4138-b57d-3724298f496f",
     "showTitle": false,
     "tableResultSettingsMap": {},
     "title": ""
    }
   },
   "outputs": [],
   "source": []
  },
  {
   "cell_type": "code",
   "execution_count": 0,
   "metadata": {
    "application/vnd.databricks.v1+cell": {
     "cellMetadata": {},
     "inputWidgets": {},
     "nuid": "73d6a18e-f74f-4375-b4b2-bfd65728550d",
     "showTitle": false,
     "tableResultSettingsMap": {},
     "title": ""
    }
   },
   "outputs": [],
   "source": []
  },
  {
   "cell_type": "markdown",
   "metadata": {
    "application/vnd.databricks.v1+cell": {
     "cellMetadata": {},
     "inputWidgets": {},
     "nuid": "96816ed7-b08a-4ca3-abb9-f99880c3535d",
     "showTitle": false,
     "tableResultSettingsMap": {},
     "title": ""
    }
   },
   "source": [
    "\n",
    "## Overview\n",
    "\n",
    "This notebook will show you how to create and query a table or DataFrame that you uploaded to DBFS. [DBFS](https://docs.databricks.com/user-guide/dbfs-databricks-file-system.html) is a Databricks File System that allows you to store data for querying inside of Databricks. This notebook assumes that you have a file already inside of DBFS that you would like to read from.\n",
    "\n",
    "This notebook is written in **Python** so the default cell type is Python. However, you can use different languages by using the `%LANGUAGE` syntax. Python, Scala, SQL, and R are all supported."
   ]
  },
  {
   "cell_type": "code",
   "execution_count": 0,
   "metadata": {
    "application/vnd.databricks.v1+cell": {
     "cellMetadata": {},
     "inputWidgets": {},
     "nuid": "6482be4c-f067-47c9-b0ac-35c938b94601",
     "showTitle": false,
     "tableResultSettingsMap": {},
     "title": ""
    }
   },
   "outputs": [
    {
     "output_type": "display_data",
     "data": {
      "text/html": [
       "<style scoped>\n",
       "  .ansiout {\n",
       "    display: block;\n",
       "    unicode-bidi: embed;\n",
       "    white-space: pre-wrap;\n",
       "    word-wrap: break-word;\n",
       "    word-break: break-all;\n",
       "    font-family: \"Menlo\", \"Monaco\", \"Consolas\", \"Ubuntu Mono\", \"Source Code Pro\", monospace;\n",
       "    font-size: 13px;\n",
       "    color: #555;\n",
       "    margin-left: 4px;\n",
       "    line-height: 19px;\n",
       "  }\n",
       "</style>"
      ]
     },
     "metadata": {
      "application/vnd.databricks.v1+output": {
       "arguments": {},
       "data": "",
       "errorSummary": "",
       "errorTraceType": null,
       "metadata": {},
       "type": "ipynbError"
      }
     },
     "output_type": "display_data"
    }
   ],
   "source": [
    "# File location and type\n",
    "file_location = \"/FileStore/tables/OpentableFormat/rawdata/sales_data_third.csv\"\n",
    "file_type = \"csv\"\n",
    "\n",
    "# CSV options\n",
    "infer_schema = \"false\"\n",
    "first_row_is_header = \"false\"\n",
    "delimiter = \",\"\n",
    "\n",
    "# The applied options are for CSV files. For other file types, these will be ignored.\n",
    "df = spark.read.format(file_type) \\\n",
    "  .option(\"inferSchema\", infer_schema) \\\n",
    "  .option(\"header\", first_row_is_header) \\\n",
    "  .option(\"sep\", delimiter) \\\n",
    "  .load(file_location)\n",
    "\n",
    "display(df)"
   ]
  },
  {
   "cell_type": "code",
   "execution_count": 0,
   "metadata": {
    "application/vnd.databricks.v1+cell": {
     "cellMetadata": {},
     "inputWidgets": {},
     "nuid": "bd82bb99-1479-4d5c-be10-8c36df0f1d44",
     "showTitle": false,
     "tableResultSettingsMap": {},
     "title": ""
    }
   },
   "outputs": [
    {
     "output_type": "display_data",
     "data": {
      "text/html": [
       "<style scoped>\n",
       "  .ansiout {\n",
       "    display: block;\n",
       "    unicode-bidi: embed;\n",
       "    white-space: pre-wrap;\n",
       "    word-wrap: break-word;\n",
       "    word-break: break-all;\n",
       "    font-family: \"Menlo\", \"Monaco\", \"Consolas\", \"Ubuntu Mono\", \"Source Code Pro\", monospace;\n",
       "    font-size: 13px;\n",
       "    color: #555;\n",
       "    margin-left: 4px;\n",
       "    line-height: 19px;\n",
       "  }\n",
       "</style>"
      ]
     },
     "metadata": {
      "application/vnd.databricks.v1+output": {
       "arguments": {},
       "data": "",
       "errorSummary": "",
       "errorTraceType": null,
       "metadata": {},
       "type": "ipynbError"
      }
     },
     "output_type": "display_data"
    }
   ],
   "source": [
    "# Create a view or table\n",
    "\n",
    "temp_table_name = \"sales_data_third_csv\"\n",
    "\n",
    "df.createOrReplaceTempView(temp_table_name)"
   ]
  },
  {
   "cell_type": "code",
   "execution_count": 0,
   "metadata": {
    "application/vnd.databricks.v1+cell": {
     "cellMetadata": {},
     "inputWidgets": {},
     "nuid": "b5f66379-6f7f-42ec-8e82-d0e0926a1721",
     "showTitle": false,
     "tableResultSettingsMap": {},
     "title": ""
    }
   },
   "outputs": [
    {
     "output_type": "display_data",
     "data": {
      "text/html": [
       "<style scoped>\n",
       "  .ansiout {\n",
       "    display: block;\n",
       "    unicode-bidi: embed;\n",
       "    white-space: pre-wrap;\n",
       "    word-wrap: break-word;\n",
       "    word-break: break-all;\n",
       "    font-family: \"Menlo\", \"Monaco\", \"Consolas\", \"Ubuntu Mono\", \"Source Code Pro\", monospace;\n",
       "    font-size: 13px;\n",
       "    color: #555;\n",
       "    margin-left: 4px;\n",
       "    line-height: 19px;\n",
       "  }\n",
       "</style>"
      ]
     },
     "metadata": {
      "application/vnd.databricks.v1+output": {
       "arguments": {},
       "data": "",
       "errorSummary": "",
       "errorTraceType": null,
       "metadata": {},
       "type": "ipynbError"
      }
     },
     "output_type": "display_data"
    }
   ],
   "source": [
    "%sql\n",
    "\n",
    "/* Query the created temp table in a SQL cell */\n",
    "\n",
    "select * from `sales_data_third_csv`"
   ]
  },
  {
   "cell_type": "code",
   "execution_count": 0,
   "metadata": {
    "application/vnd.databricks.v1+cell": {
     "cellMetadata": {},
     "inputWidgets": {},
     "nuid": "db9631f6-bb4a-42ca-8a3c-0d48af932331",
     "showTitle": false,
     "tableResultSettingsMap": {},
     "title": ""
    }
   },
   "outputs": [
    {
     "output_type": "display_data",
     "data": {
      "text/html": [
       "<style scoped>\n",
       "  .ansiout {\n",
       "    display: block;\n",
       "    unicode-bidi: embed;\n",
       "    white-space: pre-wrap;\n",
       "    word-wrap: break-word;\n",
       "    word-break: break-all;\n",
       "    font-family: \"Menlo\", \"Monaco\", \"Consolas\", \"Ubuntu Mono\", \"Source Code Pro\", monospace;\n",
       "    font-size: 13px;\n",
       "    color: #555;\n",
       "    margin-left: 4px;\n",
       "    line-height: 19px;\n",
       "  }\n",
       "</style>"
      ]
     },
     "metadata": {
      "application/vnd.databricks.v1+output": {
       "arguments": {},
       "data": "",
       "errorSummary": "",
       "errorTraceType": null,
       "metadata": {},
       "type": "ipynbError"
      }
     },
     "output_type": "display_data"
    }
   ],
   "source": [
    "# With this registered as a temp view, it will only be available to this particular notebook. If you'd like other users to be able to query this table, you can also create a table from the DataFrame.\n",
    "# Once saved, this table will persist across cluster restarts as well as allow various users across different notebooks to query this data.\n",
    "# To do so, choose your table name and uncomment the bottom line.\n",
    "\n",
    "permanent_table_name = \"sales_data_third_csv\"\n",
    "\n",
    "# df.write.format(\"parquet\").saveAsTable(permanent_table_name)"
   ]
  }
 ],
 "metadata": {
  "application/vnd.databricks.v1+notebook": {
   "computePreferences": null,
   "dashboards": [],
   "environmentMetadata": null,
   "inputWidgetPreferences": null,
   "language": "python",
   "notebookMetadata": {
    "mostRecentlyExecutedCommandWithImplicitDF": {
     "commandId": 1262503834636838,
     "dataframes": [
      "_sqldf"
     ]
    },
    "pythonIndentUnit": 4
   },
   "notebookName": "2025-03-26 - DBFS Example",
   "widgets": {}
  }
 },
 "nbformat": 4,
 "nbformat_minor": 0
}